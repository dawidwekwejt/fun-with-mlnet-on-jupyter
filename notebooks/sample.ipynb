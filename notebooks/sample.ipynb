{
 "cells": [
  {
   "cell_type": "markdown",
   "metadata": {},
   "source": [
    "Install the NuGet packages you use in the notebook"
   ]
  },
  {
   "cell_type": "code",
   "execution_count": 1,
   "metadata": {},
   "source": [
    "// ML.NET Nuget packages installation\n",
    "#r \"nuget:Microsoft.ML,1.4.0\"\n",
    "    \n",
    "//Install XPlot package\n",
    "#r \"nuget:XPlot.Plotly,2.0.0\"\n",
    "\n",
    "using Microsoft.ML;\n",
    "using Microsoft.ML.Data;\n",
    "using XPlot.Plotly;\n",
    "\n",
    "#pragma warning disable 0649\n",
    "#pragma warning disable 1701"
   ],
   "outputs": [
    {
     "output_type": "execute_result",
     "data": {
      "text/html": "\r\n<div>\r\n    <div id='dotnet-interactive-this-cell-13008.Microsoft.DotNet.Interactive.Http.HttpPort' style='display: none'>\r\n        The below script needs to be able to find the current output cell; this is an easy method to get it.\r\n    </div>\r\n    <script type='text/javascript'>\r\nasync function probeAddresses(probingAddresses) {\r\n    function timeout(ms, promise) {\r\n        return new Promise(function (resolve, reject) {\r\n            setTimeout(function () {\r\n                reject(new Error('timeout'))\r\n            }, ms)\r\n            promise.then(resolve, reject)\r\n        })\r\n    }\r\n\r\n    if (Array.isArray(probingAddresses)) {\r\n        for (let i = 0; i < probingAddresses.length; i++) {\r\n\r\n            let rootUrl = probingAddresses[i];\r\n\r\n            if (!rootUrl.endsWith('/')) {\r\n                rootUrl = `${rootUrl}/`;\r\n            }\r\n\r\n            try {\r\n                let response = await timeout(1000, fetch(`${rootUrl}discovery`, {\r\n                    method: 'POST',\r\n                    cache: 'no-cache',\r\n                    mode: 'cors',\r\n                    timeout: 1000,\r\n                    headers: {\r\n                        'Content-Type': 'text/plain'\r\n                    },\r\n                    body: probingAddresses[i]\r\n                }));\r\n\r\n                if (response.status == 200) {\r\n                    return rootUrl;\r\n                }\r\n            }\r\n            catch (e) { }\r\n        }\r\n    }\r\n}\r\n\r\nfunction loadDotnetInteractiveApi() {\r\n    probeAddresses([\"http://192.168.128.146:1000/\", \"http://169.254.6.18:1000/\", \"http://192.168.1.15:1000/\", \"http://127.0.0.1:1000/\"])\r\n        .then((root) => {\r\n        // use probing to find host url and api resources\r\n        // load interactive helpers and language services\r\n        let dotnetInteractiveRequire = require.config({\r\n        context: '13008.Microsoft.DotNet.Interactive.Http.HttpPort',\r\n                paths:\r\n            {\r\n                'dotnet-interactive': `${root}resources`\r\n                }\r\n        }) || require;\r\n\r\n            window.dotnetInteractiveRequire = dotnetInteractiveRequire;\r\n\r\n            window.configureRequireFromExtension = function(extensionName, extensionCacheBuster) {\r\n                let paths = {};\r\n                paths[extensionName] = `${root}extensions/${extensionName}/resources/`;\r\n                \r\n                let internalRequire = require.config({\r\n                    context: extensionCacheBuster,\r\n                    paths: paths,\r\n                    urlArgs: `cacheBuster=${extensionCacheBuster}`\r\n                    }) || require;\r\n\r\n                return internalRequire\r\n            };\r\n        \r\n            dotnetInteractiveRequire([\r\n                    'dotnet-interactive/dotnet-interactive'\r\n                ],\r\n                function (dotnet) {\r\n                    dotnet.init(window);\r\n                },\r\n                function (error) {\r\n                    console.log(error);\r\n                }\r\n            );\r\n        })\r\n        .catch(error => {console.log(error);});\r\n    }\r\n\r\n// ensure `require` is available globally\r\nif ((typeof(require) !==  typeof(Function)) || (typeof(require.config) !== typeof(Function))) {\r\n    let require_script = document.createElement('script');\r\n    require_script.setAttribute('src', 'https://cdnjs.cloudflare.com/ajax/libs/require.js/2.3.6/require.min.js');\r\n    require_script.setAttribute('type', 'text/javascript');\r\n    \r\n    \r\n    require_script.onload = function() {\r\n        loadDotnetInteractiveApi();\r\n    };\r\n\r\n    document.getElementsByTagName('head')[0].appendChild(require_script);\r\n}\r\nelse {\r\n    loadDotnetInteractiveApi();\r\n}\r\n\r\n    </script>\r\n</div>"
     },
     "execution_count": 1,
     "metadata": {}
    },
    {
     "output_type": "execute_result",
     "data": {
      "text/plain": "Installed package XPlot.Plotly version 2.0.0"
     },
     "execution_count": 1,
     "metadata": {}
    },
    {
     "output_type": "execute_result",
     "data": {
      "text/plain": "Installed package Microsoft.ML version 1.4.0"
     },
     "execution_count": 1,
     "metadata": {}
    }
   ]
  },
  {
   "cell_type": "markdown",
   "metadata": {},
   "source": [
    "Declare data-classes for input data and predictions"
   ]
  },
  {
   "cell_type": "code",
   "execution_count": 1,
   "metadata": {},
   "source": [
    "public class TaxiTrip\n",
    "{\n",
    "    [LoadColumn(0)]\n",
    "    public string VendorId;\n",
    "\n",
    "    [LoadColumn(1)]\n",
    "    public string RateCode;\n",
    "\n",
    "    [LoadColumn(2)]\n",
    "    public float PassengerCount;\n",
    "\n",
    "    [LoadColumn(3)]\n",
    "    public float TripTime;\n",
    "\n",
    "    [LoadColumn(4)]\n",
    "    public float TripDistance;\n",
    "\n",
    "    [LoadColumn(5)]\n",
    "    public string PaymentType;\n",
    "\n",
    "    [LoadColumn(6)]\n",
    "    public float FareAmount;\n",
    "}\n",
    "\n",
    "public class TaxiTripFarePrediction\n",
    "{\n",
    "    [ColumnName(\"Score\")]\n",
    "    public float Score;\n",
    "}"
   ],
   "outputs": []
  },
  {
   "cell_type": "markdown",
   "metadata": {},
   "source": [
    "Load datasets into IDataView and display the schema"
   ]
  },
  {
   "cell_type": "code",
   "execution_count": 1,
   "metadata": {},
   "source": [
    "display(h1(\"Code for loading the data into IDataViews: training dataset and test dataset\"));\n",
    "\n",
    "MLContext mlContext = new MLContext(seed: 0);\n",
    "\n",
    "string TrainDataPath = \"./taxi-fare-train.csv\";\n",
    "string TestDataPath = \"./taxi-fare-test.csv\";\n",
    "\n",
    "IDataView trainDataView = mlContext.Data.LoadFromTextFile<TaxiTrip>(TrainDataPath, hasHeader: true, separatorChar: ',');\n",
    "IDataView testDataView = mlContext.Data.LoadFromTextFile<TaxiTrip>(TestDataPath, hasHeader: true, separatorChar: ',');\n",
    "\n",
    "display(h4(\"Schema of training DataView:\"));\n",
    "display(trainDataView.Schema);"
   ],
   "outputs": [
    {
     "output_type": "execute_result",
     "data": {
      "text/html": "<h1>Code for loading the data into IDataViews: training dataset and test dataset</h1>"
     },
     "execution_count": 1,
     "metadata": {}
    },
    {
     "output_type": "execute_result",
     "data": {
      "text/html": "<h4>Schema of training DataView:</h4>"
     },
     "execution_count": 1,
     "metadata": {}
    },
    {
     "output_type": "execute_result",
     "data": {
      "text/html": "<table><thead><tr><th><i>index</i></th><th>Name</th><th>Index</th><th>IsHidden</th><th>Type</th><th>Annotations</th></tr></thead><tbody><tr><td>0</td><td><div class=\"dni-plaintext\">VendorId</div></td><td><div class=\"dni-plaintext\">0</div></td><td><div class=\"dni-plaintext\">False</div></td><td><div class=\"dni-plaintext\">String</div></td><td></td></tr><tr><td>1</td><td><div class=\"dni-plaintext\">RateCode</div></td><td><div class=\"dni-plaintext\">1</div></td><td><div class=\"dni-plaintext\">False</div></td><td><div class=\"dni-plaintext\">String</div></td><td></td></tr><tr><td>2</td><td><div class=\"dni-plaintext\">PassengerCount</div></td><td><div class=\"dni-plaintext\">2</div></td><td><div class=\"dni-plaintext\">False</div></td><td><div class=\"dni-plaintext\">Single</div></td><td></td></tr><tr><td>3</td><td><div class=\"dni-plaintext\">TripTime</div></td><td><div class=\"dni-plaintext\">3</div></td><td><div class=\"dni-plaintext\">False</div></td><td><div class=\"dni-plaintext\">Single</div></td><td></td></tr><tr><td>4</td><td><div class=\"dni-plaintext\">TripDistance</div></td><td><div class=\"dni-plaintext\">4</div></td><td><div class=\"dni-plaintext\">False</div></td><td><div class=\"dni-plaintext\">Single</div></td><td></td></tr><tr><td>5</td><td><div class=\"dni-plaintext\">PaymentType</div></td><td><div class=\"dni-plaintext\">5</div></td><td><div class=\"dni-plaintext\">False</div></td><td><div class=\"dni-plaintext\">String</div></td><td></td></tr><tr><td>6</td><td><div class=\"dni-plaintext\">FareAmount</div></td><td><div class=\"dni-plaintext\">6</div></td><td><div class=\"dni-plaintext\">False</div></td><td><div class=\"dni-plaintext\">Single</div></td><td></td></tr></tbody></table>"
     },
     "execution_count": 1,
     "metadata": {}
    }
   ]
  },
  {
   "cell_type": "markdown",
   "metadata": {},
   "source": [
    "Show a few rows of loaded data"
   ]
  },
  {
   "cell_type": "code",
   "execution_count": 1,
   "metadata": {},
   "source": [
    "public static List<TaxiTrip> Head(MLContext mlContext, IDataView dataView, int numberOfRows = 4)\n",
    "{\n",
    "    string msg = string.Format(\"DataView: Showing {0} rows with the columns\", numberOfRows.ToString());\n",
    "    display(msg);\n",
    "          \n",
    "    var rows = mlContext.Data.CreateEnumerable<TaxiTrip>(dataView, reuseRowObject: false)\n",
    "                    .Take(numberOfRows)\n",
    "                    .ToList();\n",
    "    \n",
    "    return rows;\n",
    "}\n",
    "\n",
    "display(h4(\"Showing a few rows from training DataView:\"));\n",
    "\n",
    "var fewRows = Head(mlContext, trainDataView, 5);\n",
    "display(fewRows);"
   ],
   "outputs": [
    {
     "output_type": "execute_result",
     "data": {
      "text/html": "<h4>Showing a few rows from training DataView:</h4>"
     },
     "execution_count": 1,
     "metadata": {}
    },
    {
     "output_type": "execute_result",
     "data": {
      "text/plain": "DataView: Showing 5 rows with the columns"
     },
     "execution_count": 1,
     "metadata": {}
    },
    {
     "output_type": "execute_result",
     "data": {
      "text/html": "<table><thead><tr><th><i>index</i></th><th>VendorId</th><th>RateCode</th><th>PassengerCount</th><th>TripTime</th><th>TripDistance</th><th>PaymentType</th><th>FareAmount</th></tr></thead><tbody><tr><td>0</td><td><div class=\"dni-plaintext\">CMT</div></td><td><div class=\"dni-plaintext\">1</div></td><td><div class=\"dni-plaintext\">1</div></td><td><div class=\"dni-plaintext\">1271</div></td><td><div class=\"dni-plaintext\">3.8</div></td><td><div class=\"dni-plaintext\">CRD</div></td><td><div class=\"dni-plaintext\">17.5</div></td></tr><tr><td>1</td><td><div class=\"dni-plaintext\">CMT</div></td><td><div class=\"dni-plaintext\">1</div></td><td><div class=\"dni-plaintext\">1</div></td><td><div class=\"dni-plaintext\">474</div></td><td><div class=\"dni-plaintext\">1.5</div></td><td><div class=\"dni-plaintext\">CRD</div></td><td><div class=\"dni-plaintext\">8</div></td></tr><tr><td>2</td><td><div class=\"dni-plaintext\">CMT</div></td><td><div class=\"dni-plaintext\">1</div></td><td><div class=\"dni-plaintext\">1</div></td><td><div class=\"dni-plaintext\">637</div></td><td><div class=\"dni-plaintext\">1.4</div></td><td><div class=\"dni-plaintext\">CRD</div></td><td><div class=\"dni-plaintext\">8.5</div></td></tr><tr><td>3</td><td><div class=\"dni-plaintext\">CMT</div></td><td><div class=\"dni-plaintext\">1</div></td><td><div class=\"dni-plaintext\">1</div></td><td><div class=\"dni-plaintext\">181</div></td><td><div class=\"dni-plaintext\">0.6</div></td><td><div class=\"dni-plaintext\">CSH</div></td><td><div class=\"dni-plaintext\">4.5</div></td></tr><tr><td>4</td><td><div class=\"dni-plaintext\">CMT</div></td><td><div class=\"dni-plaintext\">1</div></td><td><div class=\"dni-plaintext\">1</div></td><td><div class=\"dni-plaintext\">661</div></td><td><div class=\"dni-plaintext\">1.1</div></td><td><div class=\"dni-plaintext\">CRD</div></td><td><div class=\"dni-plaintext\">8.5</div></td></tr></tbody></table>"
     },
     "execution_count": 1,
     "metadata": {}
    }
   ]
  },
  {
   "cell_type": "markdown",
   "metadata": {},
   "source": [
    "Extract important input variables as arrays to be used for plotting"
   ]
  },
  {
   "cell_type": "code",
   "execution_count": 1,
   "metadata": {},
   "source": [
    "//Extract some data into arrays for plotting:\n",
    "\n",
    "int numberOfRows = 1000;\n",
    "float[] fares = trainDataView.GetColumn<float>(\"FareAmount\").Take(numberOfRows).ToArray();\n",
    "float[] distances = trainDataView.GetColumn<float>(\"TripDistance\").Take(numberOfRows).ToArray();\n",
    "float[] times = trainDataView.GetColumn<float>(\"TripTime\").Take(numberOfRows).ToArray();\n",
    "float[] passengerCounts = trainDataView.GetColumn<float>(\"PassengerCount\").Take(numberOfRows).ToArray();"
   ],
   "outputs": []
  },
  {
   "cell_type": "markdown",
   "metadata": {},
   "source": [
    "Show a histogram: Distribution of taxi trips per fare cost"
   ]
  },
  {
   "cell_type": "code",
   "execution_count": 1,
   "metadata": {},
   "source": [
    "// Distribution of taxi trips per cost\n",
    "//XPlot Histogram reference: http://tpetricek.github.io/XPlot/reference/xplot-plotly-graph-histogram.html\n",
    "\n",
    "var faresHistogram = Chart.Plot(new Graph.Histogram(){x = fares, autobinx = false, nbinsx = 20});\n",
    "var layout = new Layout.Layout(){title=\"Distribution of taxi trips per cost\"};\n",
    "faresHistogram.WithLayout(layout);\n",
    "faresHistogram.WithXTitle(\"Fare ranges\");\n",
    "faresHistogram.WithYTitle(\"Number of trips\");\n",
    "display(faresHistogram);"
   ],
   "outputs": [
    {
     "output_type": "execute_result",
     "data": {
      "text/html": "<div id=\"1b0feeea-6578-4b5c-89bd-831b2849dfcf\" style=\"width: 900px; height: 500px;\"></div>\r\n<script type=\"text/javascript\">\r\n\r\nvar renderPlotly = function() {\r\n    var xplotRequire = require.config({context:'xplot-3.0.1',paths:{plotly:'https://cdn.plot.ly/plotly-1.49.2.min'}}) || require;\r\n    xplotRequire(['plotly'], function(Plotly) {\r\n\n            var data = [{\"type\":\"histogram\",\"x\":[17.5,8.0,8.5,4.5,8.5,27.5,11.5,7.5,7.5,5.0,6.0,7.0,7.0,5.5,7.0,19.0,6.0,6.5,9.0,4.5,52.0,6.5,3.5,4.5,8.5,5.5,32.0,8.5,8.5,9.0,4.0,7.0,16.0,7.5,11.5,8.0,5.5,5.0,7.0,19.5,52.0,10.0,7.0,5.0,24.5,9.5,12.5,4.0,7.0,5.5,17.5,7.0,33.5,5.5,7.0,23.0,11.5,6.5,6.5,11.5,13.0,9.0,10.5,18.5,11.0,5.5,6.5,7.0,4.5,7.5,13.0,8.0,6.5,52.0,8.5,12.0,10.0,4.0,20.0,7.0,16.0,4.5,10.0,17.5,4.5,4.5,5.5,5.0,8.0,15.0,6.0,13.0,23.5,7.0,4.5,4.0,6.5,8.0,6.5,7.5,10.5,7.0,11.5,5.5,8.5,6.0,21.0,5.5,19.0,3.5,5.5,31.0,12.0,11.0,17.0,7.0,5.0,8.5,12.0,5.0,11.5,7.0,11.5,15.0,4.0,12.5,15.5,28.5,6.5,31.5,13.5,6.0,8.0,5.5,6.5,7.5,5.5,9.0,20.5,12.0,8.0,7.5,16.0,9.5,15.0,7.0,3.5,8.0,7.0,12.5,13.5,14.0,4.5,7.5,5.0,6.0,9.0,8.5,4.0,22.0,5.0,9.5,7.0,4.5,8.5,7.5,5.0,4.0,5.5,10.5,7.0,8.0,4.0,8.5,14.5,5.0,3.0,29.5,11.5,10.0,6.0,7.0,10.0,16.0,9.5,6.5,7.5,11.5,5.0,11.0,9.0,11.0,11.0,4.5,6.5,16.5,2.5,5.5,6.5,15.0,9.0,10.5,10.0,52.0,11.0,11.5,6.0,8.5,9.0,7.0,4.5,13.0,5.0,5.5,5.5,7.0,17.0,8.5,71.0,5.0,6.5,9.5,8.5,11.5,13.5,6.5,34.0,4.0,8.5,8.0,9.5,9.0,5.0,8.0,7.5,52.0,22.0,8.5,7.0,15.5,10.0,8.5,9.0,17.0,5.5,20.5,8.5,10.0,10.0,4.0,7.5,3.0,20.5,8.5,6.5,14.5,8.0,11.0,7.5,11.0,12.0,7.5,13.0,6.5,9.0,5.0,10.5,11.5,6.5,7.0,6.5,12.0,62.0,5.0,11.5,16.0,6.5,12.0,11.0,7.5,5.0,8.5,10.5,6.0,6.0,9.5,13.0,3.5,11.5,12.5,13.0,6.0,17.0,9.0,52.0,14.5,6.5,6.0,5.0,29.5,3.5,19.5,5.5,5.0,13.5,11.0,5.0,8.5,8.5,11.0,10.0,6.5,6.5,16.5,8.0,10.0,13.5,20.0,15.5,4.5,10.5,8.5,8.0,3.0,8.5,14.5,8.5,4.5,9.0,5.5,7.5,8.0,6.5,4.0,9.5,9.0,15.5,19.5,18.0,6.0,14.0,6.0,9.5,4.0,5.0,4.0,5.5,3.5,6.5,52.0,20.5,17.0,8.0,7.5,8.0,13.0,7.0,10.0,23.5,4.5,8.5,14.0,4.5,8.5,13.5,9.5,4.0,11.0,5.5,6.5,6.5,5.5,7.0,12.5,25.5,9.0,6.0,5.5,7.0,7.0,6.5,8.5,11.5,4.5,13.0,13.5,5.5,8.5,7.5,7.5,12.0,6.5,11.0,2.5,9.0,5.0,11.0,7.0,5.0,18.0,5.0,6.0,10.5,5.5,10.0,17.0,8.0,4.5,9.5,11.0,31.5,6.5,8.0,7.0,7.5,11.0,11.0,27.0,8.0,12.5,7.0,11.5,7.0,7.0,11.5,3.5,18.5,6.0,8.0,5.0,7.5,8.0,12.5,13.5,10.0,6.5,9.0,6.0,6.0,4.0,8.0,7.5,9.0,5.0,7.0,7.0,7.0,4.0,4.0,5.5,22.0,8.5,11.5,7.0,10.0,5.5,10.5,8.0,13.0,9.0,9.0,15.5,6.5,7.0,4.0,6.0,6.0,9.0,9.0,9.5,6.5,12.5,11.5,8.0,5.5,8.5,9.5,5.0,5.0,8.0,7.0,7.0,9.5,7.0,8.5,7.5,17.5,12.0,4.0,8.0,8.0,10.5,7.5,16.0,8.5,8.5,23.0,5.5,10.0,8.0,9.0,4.0,8.0,7.0,8.5,9.0,19.5,9.0,9.5,9.0,52.0,7.0,7.5,11.5,8.5,6.0,4.5,8.0,8.0,24.0,7.5,6.0,9.0,6.0,7.5,7.0,18.0,32.5,3.5,8.5,6.5,7.0,3.5,7.0,7.0,10.5,4.5,19.5,7.5,9.5,12.5,7.5,6.0,6.0,11.0,6.5,4.5,6.5,6.5,8.5,9.5,10.0,8.0,9.5,12.5,10.5,12.5,10.5,13.0,13.5,15.5,5.5,7.5,7.0,9.5,3.0,8.5,17.5,8.0,5.5,12.0,12.5,4.0,9.5,7.0,13.0,5.0,10.0,4.0,5.0,12.0,10.0,9.5,4.5,7.0,4.0,10.5,9.5,4.0,14.0,7.5,4.0,11.5,4.5,24.0,29.5,9.5,17.5,13.5,10.5,6.0,8.0,13.0,6.0,7.5,5.0,3.5,10.0,6.0,6.5,11.5,35.0,5.5,11.5,12.0,8.0,17.5,5.0,6.5,6.5,5.0,13.0,11.0,32.5,12.0,11.0,7.5,8.0,11.5,6.0,11.0,15.0,13.0,9.5,25.0,9.5,7.0,4.5,6.5,10.0,7.0,7.0,26.5,7.5,10.0,7.0,10.0,11.5,4.0,8.0,12.0,4.0,5.5,9.5,15.5,7.0,15.5,3.5,2.5,9.0,5.0,6.0,5.5,30.5,3.0,16.0,7.0,5.5,39.5,35.0,5.5,3.5,8.5,12.0,8.0,7.0,7.5,7.5,14.5,7.0,20.5,21.5,6.0,6.5,6.5,8.0,13.5,5.5,39.0,6.0,17.0,12.5,24.5,11.0,10.0,7.0,15.5,9.5,22.0,17.0,8.0,22.0,7.0,8.0,15.5,12.0,3.0,9.0,14.5,16.5,6.5,13.5,7.5,25.5,13.0,14.0,15.5,5.5,5.0,14.5,9.0,5.0,6.5,4.5,8.5,14.0,40.0,5.0,10.5,6.0,8.0,34.0,11.0,6.5,6.0,9.0,7.0,10.5,15.0,8.0,4.5,11.0,6.0,10.5,12.0,17.0,5.0,5.0,11.5,24.5,52.0,4.5,4.0,6.0,14.0,5.0,8.0,12.0,5.0,14.0,7.0,14.0,7.0,9.5,9.5,12.0,20.0,6.0,12.5,7.5,4.5,25.5,4.5,14.0,10.0,12.5,7.5,9.0,6.5,8.5,4.0,8.5,4.0,7.0,37.5,20.0,15.5,5.0,8.5,7.5,15.5,13.5,6.5,8.5,3.5,8.5,7.5,6.5,5.5,18.0,7.0,16.0,28.0,9.5,15.0,6.5,31.5,5.0,30.5,5.5,11.0,14.5,10.5,7.0,34.0,10.0,9.0,11.5,5.0,2.5,5.0,8.5,4.5,11.0,6.0,23.5,11.5,2.5,9.5,11.5,24.5,25.0,14.0,11.5,9.0,10.5,15.5,26.5,15.0,6.0,11.5,9.5,25.0,9.5,6.0,6.5,6.5,4.0,6.5,13.5,10.5,9.0,9.0,4.0,4.5,8.5,13.5,5.0,19.0,15.5,9.0,4.5,17.5,7.0,34.5,10.0,21.0,11.0,10.0,19.5,15.5,7.5,5.0,7.5,5.5,13.5,8.5,15.0,5.5,5.0,11.0,6.5,4.0,4.0,8.5,8.0,6.0,8.5,17.0,9.5,26.5,4.0,5.0,6.5,7.0,8.5,28.5,5.0,7.0,7.0,4.5,10.5,13.5,8.0,4.5,15.0,7.5,11.0,5.5,6.5,19.5,5.0,6.5,4.5,8.0,14.0,9.0,24.0,6.5,13.0,5.0,12.0,4.5,8.0,32.5,21.5,6.5,5.0,2.5,16.5,9.5,8.5,8.5,10.5,7.0,13.0,15.0,6.5,13.0,5.5,13.0,8.0,24.5,12.0,7.5,8.0,7.5,11.0,11.0,9.5,7.0,4.0,6.5,14.5,10.0,8.5,7.0,6.5,5.5,14.0,3.5,11.0,8.0,7.0,12.0,5.0,6.5,8.5,14.0,6.0,10.0,14.0,11.0,12.0,4.5,6.0,16.0,19.0,16.0,8.0,6.0,7.0,22.5,3.5,7.5,7.0,5.5,11.5,4.0,8.5,14.5,11.5,5.5,11.5,6.0,11.0,9.5,19.5,9.5,8.5],\"autobinx\":false,\"nbinsx\":20}];\n            var layout = {\"title\":\"Distribution of taxi trips per cost\",\"xaxis\":{\"title\":\"Fare ranges\",\"_isSubplotObj\":true},\"yaxis\":{\"title\":\"Number of trips\",\"_isSubplotObj\":true}};\n            Plotly.newPlot('1b0feeea-6578-4b5c-89bd-831b2849dfcf', data, layout);\n        \r\n});\r\n};\r\n// ensure `require` is available globally\r\nif ((typeof(require) !==  typeof(Function)) || (typeof(require.config) !== typeof(Function))) {\r\n    let require_script = document.createElement('script');\r\n    require_script.setAttribute('src', 'https://cdnjs.cloudflare.com/ajax/libs/require.js/2.3.6/require.min.js');\r\n    require_script.setAttribute('type', 'text/javascript');\r\n    \r\n    \r\n    require_script.onload = function() {\r\n        renderPlotly();\r\n    };\r\n\r\n    document.getElementsByTagName('head')[0].appendChild(require_script);\r\n}\r\nelse {\r\n    renderPlotly();\r\n}\r\n\r\n</script>\r\n"
     },
     "execution_count": 1,
     "metadata": {}
    }
   ]
  },
  {
   "cell_type": "markdown",
   "metadata": {},
   "source": [
    "Plot Time vs. Distance with different color on Fares cost-frame"
   ]
  },
  {
   "cell_type": "code",
   "execution_count": 1,
   "metadata": {},
   "source": [
    "// Plot Time vs. Distance with different color on Fares cost-frame\n",
    "\n",
    "var chart = Chart.Plot(\n",
    "    new Graph.Scatter()\n",
    "    {\n",
    "        x = times,\n",
    "        y = distances,\n",
    "        mode = \"markers\",\n",
    "        marker = new Graph.Marker()\n",
    "        {\n",
    "            color = fares,\n",
    "            colorscale = \"Jet\"\n",
    "        }\n",
    "    }\n",
    ");\n",
    "\n",
    "var layout = new Layout.Layout(){title=\"Plot Time vs. Distance & color scale on Fares\"};\n",
    "chart.WithLayout(layout);\n",
    "chart.Width = 500;\n",
    "chart.Height = 500;\n",
    "chart.WithXTitle(\"Time\");\n",
    "chart.WithYTitle(\"Distance\");\n",
    "chart.WithLegend(false);\n",
    "\n",
    "display(chart);"
   ],
   "outputs": [
    {
     "output_type": "execute_result",
     "data": {
      "text/html": "<div id=\"74062340-7611-4357-acf0-39550c786eb1\" style=\"width: 500px; height: 500px;\"></div>\r\n<script type=\"text/javascript\">\r\n\r\nvar renderPlotly = function() {\r\n    var xplotRequire = require.config({context:'xplot-3.0.1',paths:{plotly:'https://cdn.plot.ly/plotly-1.49.2.min'}}) || require;\r\n    xplotRequire(['plotly'], function(Plotly) {\r\n\n            var data = [{\"type\":\"scatter\",\"x\":[1271.0,474.0,637.0,181.0,661.0,935.0,869.0,454.0,366.0,252.0,314.0,480.0,386.0,351.0,407.0,970.0,371.0,367.0,621.0,243.0,3.0,485.0,88.0,160.0,596.0,270.0,1728.0,493.0,655.0,571.0,144.0,453.0,1074.0,470.0,821.0,539.0,397.0,223.0,457.0,1527.0,1785.0,612.0,467.0,262.0,1603.0,659.0,1069.0,139.0,411.0,340.0,1439.0,425.0,2561.0,308.0,385.0,1267.0,829.0,319.0,390.0,820.0,702.0,771.0,850.0,846.0,697.0,244.0,299.0,338.0,177.0,356.0,778.0,514.0,372.0,2104.0,489.0,1000.0,840.0,123.0,1070.0,427.0,1120.0,241.0,677.0,1151.0,176.0,133.0,302.0,284.0,543.0,668.0,402.0,887.0,1906.0,357.0,143.0,135.0,332.0,460.0,421.0,482.0,765.0,543.0,879.0,384.0,633.0,348.0,736.0,257.0,1600.0,74.0,275.0,1531.0,902.0,813.0,1357.0,433.0,194.0,453.0,979.0,233.0,715.0,433.0,934.0,1047.0,186.0,1086.0,910.0,1220.0,462.0,1931.0,731.0,381.0,542.0,254.0,408.0,569.0,325.0,629.0,1603.0,572.0,485.0,415.0,1445.0,721.0,1149.0,386.0,65.0,525.0,355.0,775.0,1029.0,972.0,214.0,552.0,235.0,341.0,574.0,549.0,205.0,1605.0,210.0,696.0,397.0,224.0,632.0,529.0,208.0,177.0,377.0,859.0,361.0,320.0,162.0,386.0,1461.0,289.0,95.0,2129.0,893.0,876.0,371.0,430.0,491.0,981.0,591.0,377.0,554.0,865.0,374.0,945.0,615.0,758.0,668.0,128.0,429.0,1023.0,1789.0,214.0,370.0,1055.0,593.0,681.0,665.0,2638.0,562.0,1005.0,373.0,587.0,682.0,380.0,248.0,878.0,271.0,307.0,303.0,397.0,1393.0,671.0,2528.0,249.0,378.0,666.0,553.0,966.0,850.0,369.0,1775.0,173.0,539.0,483.0,720.0,674.0,208.0,263.0,417.0,1218.0,1315.0,448.0,497.0,1151.0,815.0,599.0,516.0,1273.0,332.0,1524.0,670.0,816.0,822.0,180.0,462.0,65.0,1338.0,621.0,387.0,1029.0,537.0,764.0,510.0,805.0,1006.0,403.0,890.0,499.0,741.0,263.0,731.0,879.0,396.0,361.0,289.0,701.0,1369.0,272.0,886.0,1033.0,345.0,893.0,876.0,581.0,299.0,655.0,883.0,363.0,363.0,724.0,999.0,90.0,813.0,934.0,1006.0,368.0,1431.0,691.0,3633.0,867.0,446.0,304.0,217.0,1535.0,107.0,1102.0,395.0,229.0,1101.0,759.0,250.0,599.0,523.0,596.0,594.0,397.0,443.0,1164.0,511.0,638.0,1093.0,1504.0,1309.0,183.0,749.0,661.0,537.0,84.0,688.0,1054.0,549.0,193.0,689.0,369.0,495.0,581.0,329.0,147.0,686.0,493.0,1018.0,918.0,1667.0,396.0,801.0,362.0,733.0,153.0,188.0,167.0,198.0,137.0,443.0,2962.0,874.0,1147.0,577.0,566.0,648.0,1016.0,502.0,822.0,886.0,196.0,476.0,971.0,241.0,605.0,1034.0,794.0,198.0,959.0,331.0,374.0,390.0,333.0,443.0,991.0,1263.0,598.0,313.0,285.0,487.0,464.0,340.0,457.0,612.0,155.0,869.0,1117.0,234.0,471.0,483.0,570.0,826.0,670.0,852.0,2.0,646.0,180.0,655.0,404.0,264.0,1492.0,261.0,343.0,812.0,271.0,680.0,1645.0,497.0,169.0,689.0,828.0,1788.0,274.0,553.0,469.0,385.0,745.0,825.0,1815.0,524.0,1037.0,358.0,837.0,490.0,479.0,863.0,117.0,863.0,294.0,505.0,282.0,494.0,453.0,992.0,1124.0,598.0,375.0,740.0,400.0,321.0,95.0,513.0,477.0,725.0,296.0,542.0,392.0,451.0,116.0,122.0,233.0,1231.0,594.0,827.0,461.0,883.0,290.0,695.0,643.0,1015.0,656.0,734.0,1187.0,332.0,435.0,202.0,302.0,252.0,597.0,566.0,553.0,350.0,955.0,961.0,592.0,301.0,376.0,670.0,220.0,273.0,651.0,397.0,397.0,564.0,515.0,535.0,491.0,1448.0,838.0,156.0,368.0,610.0,742.0,352.0,1090.0,530.0,621.0,1249.0,349.0,592.0,511.0,656.0,186.0,472.0,461.0,547.0,553.0,1467.0,564.0,720.0,673.0,3847.0,458.0,375.0,960.0,608.0,368.0,188.0,560.0,463.0,931.0,487.0,439.0,724.0,321.0,587.0,420.0,1108.0,1740.0,113.0,618.0,331.0,489.0,99.0,419.0,367.0,686.0,234.0,985.0,418.0,775.0,1161.0,491.0,340.0,315.0,756.0,353.0,223.0,320.0,437.0,609.0,726.0,758.0,586.0,608.0,728.0,592.0,965.0,794.0,1034.0,1086.0,1277.0,261.0,544.0,413.0,628.0,55.0,496.0,1279.0,516.0,339.0,609.0,922.0,131.0,681.0,478.0,959.0,169.0,845.0,197.0,187.0,988.0,831.0,732.0,145.0,457.0,89.0,731.0,413.0,143.0,1128.0,529.0,134.0,1024.0,219.0,1141.0,1512.0,738.0,1396.0,1102.0,649.0,349.0,673.0,911.0,310.0,533.0,232.0,89.0,707.0,354.0,477.0,745.0,1799.0,267.0,836.0,871.0,545.0,1430.0,230.0,346.0,426.0,257.0,1167.0,681.0,1412.0,689.0,644.0,526.0,550.0,782.0,219.0,633.0,1282.0,1020.0,541.0,1106.0,566.0,443.0,172.0,300.0,604.0,339.0,487.0,1510.0,449.0,805.0,299.0,594.0,668.0,194.0,411.0,931.0,157.0,283.0,664.0,1340.0,435.0,1435.0,114.0,33.0,473.0,215.0,272.0,302.0,1471.0,68.0,905.0,467.0,290.0,2471.0,1511.0,237.0,116.0,581.0,759.0,536.0,336.0,302.0,510.0,1052.0,463.0,1212.0,1095.0,330.0,442.0,383.0,537.0,644.0,287.0,2087.0,271.0,1312.0,816.0,900.0,673.0,439.0,380.0,1045.0,784.0,1396.0,861.0,330.0,694.0,397.0,527.0,1447.0,1150.0,54.0,526.0,1043.0,952.0,396.0,828.0,317.0,817.0,999.0,875.0,1156.0,276.0,197.0,1225.0,443.0,283.0,374.0,267.0,539.0,916.0,1848.0,230.0,600.0,301.0,569.0,2245.0,723.0,447.0,437.0,769.0,413.0,906.0,1203.0,646.0,221.0,857.0,211.0,537.0,766.0,1210.0,203.0,149.0,708.0,771.0,526.0,203.0,125.0,326.0,1014.0,266.0,654.0,992.0,289.0,1023.0,290.0,872.0,430.0,501.0,375.0,774.0,1256.0,337.0,847.0,415.0,171.0,1790.0,185.0,1183.0,679.0,621.0,405.0,607.0,313.0,525.0,165.0,592.0,158.0,395.0,1858.0,1208.0,1344.0,266.0,422.0,515.0,1310.0,1223.0,409.0,651.0,99.0,650.0,405.0,381.0,324.0,1404.0,377.0,744.0,1180.0,579.0,1224.0,251.0,1364.0,334.0,1594.0,302.0,749.0,1126.0,856.0,413.0,1958.0,815.0,760.0,789.0,373.0,11.0,209.0,473.0,185.0,663.0,276.0,1133.0,580.0,7.0,768.0,888.0,858.0,1190.0,752.0,725.0,713.0,767.0,1345.0,1894.0,1122.0,228.0,731.0,641.0,2300.0,709.0,390.0,320.0,356.0,180.0,384.0,1133.0,670.0,507.0,532.0,152.0,214.0,542.0,994.0,252.0,1280.0,921.0,566.0,220.0,920.0,408.0,2323.0,487.0,1142.0,665.0,669.0,1066.0,1036.0,496.0,265.0,498.0,306.0,757.0,417.0,747.0,186.0,229.0,489.0,417.0,170.0,142.0,615.0,431.0,276.0,464.0,1055.0,553.0,1314.0,158.0,194.0,212.0,414.0,549.0,1628.0,216.0,469.0,421.0,167.0,765.0,860.0,461.0,172.0,852.0,409.0,641.0,243.0,315.0,1213.0,208.0,392.0,206.0,517.0,854.0,380.0,1349.0,387.0,689.0,203.0,834.0,219.0,575.0,1680.0,1386.0,390.0,204.0,9.0,1249.0,545.0,637.0,591.0,696.0,369.0,916.0,1166.0,405.0,750.0,293.0,912.0,596.0,1165.0,821.0,414.0,472.0,470.0,646.0,510.0,540.0,285.0,197.0,353.0,762.0,562.0,617.0,341.0,390.0,318.0,999.0,103.0,669.0,503.0,470.0,826.0,233.0,529.0,512.0,698.0,292.0,534.0,1002.0,727.0,796.0,167.0,283.0,1346.0,1224.0,1403.0,592.0,359.0,336.0,1178.0,120.0,500.0,304.0,227.0,697.0,97.0,413.0,872.0,652.0,292.0,516.0,301.0,586.0,571.0,717.0,426.0,313.0],\"y\":[3.8,1.5,1.4,0.6,1.1,9.6,2.3,1.4,1.5,0.6,1.2,0.7,1.3,0.8,1.1,5.6,0.6,1.3,1.7,0.6,0.0,0.8,0.4,0.6,1.4,0.8,9.8,1.4,1.4,2.0,0.5,1.3,3.8,1.4,2.5,1.4,0.4,0.8,1.0,4.7,16.4,2.1,1.3,0.6,6.5,1.7,2.4,0.4,1.1,0.5,3.6,1.1,9.3,0.9,1.3,6.9,2.6,1.1,0.9,2.6,3.7,0.9,2.0,6.3,2.4,1.1,1.4,1.6,0.8,1.5,3.4,1.6,1.1,18.8,1.6,1.8,1.0,0.7,5.9,1.2,3.7,0.4,1.8,4.5,0.6,0.8,0.8,0.6,1.3,4.2,0.8,3.3,5.2,1.6,0.9,0.4,1.3,1.7,1.0,1.5,1.9,0.8,2.1,0.6,1.2,1.0,7.2,1.0,3.6,0.4,0.9,10.8,2.4,2.4,3.8,1.2,0.9,2.1,2.0,0.7,2.8,1.3,1.9,3.2,0.3,2.0,4.0,9.2,0.6,10.2,3.6,0.8,1.4,0.9,1.1,1.0,0.8,1.8,5.0,3.0,1.8,1.5,2.5,1.3,3.6,1.3,0.3,1.5,1.3,3.2,2.8,3.5,0.6,1.1,0.7,0.8,1.8,1.5,0.3,5.7,0.9,1.7,1.3,0.6,1.1,1.0,0.8,0.5,0.4,1.5,1.3,2.1,0.6,2.2,1.4,0.5,0.3,8.7,2.3,1.0,0.8,1.1,2.4,4.3,2.0,1.2,1.1,2.4,0.5,1.6,1.6,2.3,2.7,0.9,1.0,4.5,0.0,0.9,1.2,3.8,1.9,2.0,2.4,17.7,3.2,1.6,0.9,1.6,1.5,1.2,0.6,3.4,0.5,0.7,0.9,1.4,3.6,1.1,18.1,0.8,1.2,1.6,1.5,1.8,3.6,1.1,10.4,0.6,1.7,1.5,1.5,1.1,0.8,2.2,1.5,17.3,6.1,1.9,0.9,3.8,1.6,1.6,2.1,4.3,0.5,5.2,1.2,1.4,1.1,0.3,1.5,0.2,5.5,1.2,1.0,3.1,1.5,2.3,1.3,2.2,2.0,1.5,3.2,0.7,0.8,0.6,2.0,2.1,1.1,1.3,1.4,3.2,16.6,0.7,2.3,4.2,1.5,2.7,1.6,0.8,0.7,1.4,1.2,0.8,1.0,1.8,2.4,0.4,2.4,2.5,2.8,0.8,3.2,1.2,18.7,4.0,0.8,1.1,0.8,9.2,0.5,5.2,0.5,0.7,2.7,2.5,0.6,1.6,1.7,3.0,2.5,1.0,1.0,3.8,1.4,2.0,2.7,5.3,3.2,0.7,2.1,1.0,1.5,0.3,1.1,3.5,1.7,0.5,1.5,0.7,1.3,1.1,1.3,0.5,1.5,2.0,3.8,5.8,2.7,0.5,4.0,1.0,1.5,0.7,0.9,0.3,1.2,0.3,0.9,17.0,6.6,4.4,1.5,0.8,0.8,2.7,1.2,1.6,7.9,0.7,1.8,3.2,0.5,1.2,3.2,1.5,0.5,1.4,1.0,1.2,1.1,0.6,1.2,2.4,8.6,2.0,1.0,0.9,0.9,1.2,1.4,1.9,3.2,0.7,3.1,2.2,0.8,2.0,1.2,1.1,2.6,0.5,1.9,0.0,1.6,0.9,2.6,1.3,0.5,3.7,0.7,1.2,2.0,0.9,2.0,1.7,1.4,0.8,1.7,2.1,10.3,1.3,1.2,0.9,1.4,2.1,2.1,7.2,1.5,2.2,1.4,2.0,0.9,0.9,2.4,0.1,5.7,1.0,1.6,0.7,1.2,1.7,2.4,2.4,2.1,0.9,1.1,0.6,1.1,0.6,1.5,1.4,1.3,0.6,0.8,1.3,1.0,0.4,0.6,1.1,6.5,1.7,2.4,1.2,1.5,0.8,2.3,0.9,2.7,1.7,1.2,3.9,1.2,1.3,0.3,1.2,1.2,2.0,1.9,2.2,1.2,2.5,2.0,1.3,0.7,2.2,1.6,0.9,0.7,0.9,1.1,1.2,2.0,0.9,1.7,1.2,4.0,2.8,0.4,2.1,1.1,2.1,1.7,4.4,1.8,1.6,6.5,0.7,2.3,1.4,1.5,0.3,1.6,1.1,1.8,2.0,4.8,1.8,1.3,1.4,22.9,1.3,1.6,1.7,1.5,0.9,0.7,1.3,1.5,8.3,1.2,0.6,1.4,1.0,0.8,1.5,4.6,9.8,0.4,1.3,1.2,1.0,0.4,1.1,1.5,2.5,0.5,5.8,1.4,1.4,1.4,1.1,0.9,1.0,2.4,1.3,0.3,1.1,1.0,1.5,1.8,1.8,1.0,2.1,3.5,2.6,2.4,2.3,2.7,2.8,3.3,1.1,1.1,1.5,1.8,0.2,1.7,4.3,1.6,0.8,3.4,2.9,0.6,1.4,0.7,2.9,1.1,1.9,0.7,1.1,1.8,1.3,1.7,0.9,1.3,0.6,2.2,2.6,0.5,2.6,1.3,0.6,1.0,0.6,7.5,9.3,1.5,3.9,2.3,2.8,0.9,0.8,2.8,1.1,1.1,0.7,0.5,1.9,0.7,0.8,2.9,11.1,0.9,2.3,2.5,1.4,3.8,0.6,1.1,0.9,0.7,1.6,2.7,10.6,3.1,2.6,1.1,1.1,2.8,1.3,2.6,2.5,2.7,2.2,8.4,2.1,1.3,0.6,1.3,2.5,1.4,0.8,7.8,1.6,1.5,1.9,2.4,2.7,0.5,1.9,2.3,0.5,1.0,1.5,2.7,1.2,2.2,0.4,0.0,2.3,0.7,1.2,0.9,9.8,0.1,4.4,1.1,1.0,11.7,11.8,0.9,0.3,1.7,3.0,1.1,1.7,1.9,1.2,3.4,1.2,5.6,6.8,0.9,0.6,1.0,1.6,3.6,0.8,13.2,1.3,4.1,3.0,8.4,2.8,2.7,1.5,3.7,1.4,6.0,4.7,2.0,7.3,1.5,1.5,2.3,1.3,1.0,1.9,3.3,4.4,1.0,3.4,2.1,8.9,2.6,3.4,3.4,1.0,0.9,2.7,2.2,0.7,1.1,0.5,1.9,3.5,14.2,0.8,2.6,1.1,1.2,9.4,2.3,1.0,0.5,0.9,1.3,1.2,3.0,1.1,0.5,1.9,1.3,2.7,2.5,3.8,0.8,1.0,2.3,8.5,7.4,0.7,0.4,1.0,3.1,0.8,1.0,2.0,0.7,3.0,1.6,3.2,1.2,2.7,2.5,3.0,6.0,1.2,3.0,1.5,0.7,6.7,0.7,2.2,2.0,3.1,1.5,1.8,1.4,1.8,0.7,1.4,0.5,1.3,12.2,5.3,2.8,0.7,1.7,1.3,3.1,1.9,1.0,1.0,0.4,1.3,1.8,1.1,0.7,4.0,1.3,5.3,9.5,2.2,3.0,1.4,10.9,0.1,9.9,0.9,2.2,2.8,1.5,1.1,10.2,1.5,1.2,2.1,0.8,0.0,0.9,2.0,0.5,2.7,1.2,7.3,3.0,0.0,1.2,2.1,8.5,7.8,4.0,2.5,1.1,1.9,2.8,6.7,3.4,1.4,2.7,2.1,4.2,2.0,0.7,1.1,1.3,0.3,1.0,2.7,2.3,2.2,1.9,0.6,0.6,1.8,3.3,0.8,5.3,4.2,1.8,0.5,5.2,1.3,10.0,2.6,6.0,2.6,2.4,5.4,4.0,1.3,0.8,1.1,0.8,3.8,2.2,4.6,1.1,0.8,3.1,0.8,0.5,0.6,1.5,1.7,1.3,2.0,4.2,2.0,8.8,0.4,0.9,1.7,1.2,1.7,9.0,0.8,1.2,1.3,0.5,2.2,3.4,1.7,0.7,3.9,1.6,2.8,0.8,1.3,5.3,0.8,1.4,0.6,1.6,3.5,2.5,7.5,1.1,3.4,0.8,2.5,0.5,1.4,10.6,6.1,1.0,0.9,0.0,3.7,2.0,1.3,1.3,2.1,1.3,3.0,3.1,0.8,3.4,0.9,3.0,1.3,7.9,2.4,1.6,1.7,1.4,2.8,2.7,2.3,1.7,0.3,1.3,4.1,2.3,1.4,1.5,1.3,0.7,2.9,0.2,2.5,1.5,1.1,2.8,0.6,0.5,1.6,4.1,1.3,2.5,3.4,2.5,3.0,0.8,1.2,3.3,5.5,3.2,1.2,0.9,1.5,6.9,0.3,1.3,1.7,1.3,3.0,0.5,2.1,3.6,3.0,0.6,3.1,1.2,3.0,2.4,6.5,2.7,2.3],\"mode\":\"markers\",\"marker\":{\"color\":[17.5,8.0,8.5,4.5,8.5,27.5,11.5,7.5,7.5,5.0,6.0,7.0,7.0,5.5,7.0,19.0,6.0,6.5,9.0,4.5,52.0,6.5,3.5,4.5,8.5,5.5,32.0,8.5,8.5,9.0,4.0,7.0,16.0,7.5,11.5,8.0,5.5,5.0,7.0,19.5,52.0,10.0,7.0,5.0,24.5,9.5,12.5,4.0,7.0,5.5,17.5,7.0,33.5,5.5,7.0,23.0,11.5,6.5,6.5,11.5,13.0,9.0,10.5,18.5,11.0,5.5,6.5,7.0,4.5,7.5,13.0,8.0,6.5,52.0,8.5,12.0,10.0,4.0,20.0,7.0,16.0,4.5,10.0,17.5,4.5,4.5,5.5,5.0,8.0,15.0,6.0,13.0,23.5,7.0,4.5,4.0,6.5,8.0,6.5,7.5,10.5,7.0,11.5,5.5,8.5,6.0,21.0,5.5,19.0,3.5,5.5,31.0,12.0,11.0,17.0,7.0,5.0,8.5,12.0,5.0,11.5,7.0,11.5,15.0,4.0,12.5,15.5,28.5,6.5,31.5,13.5,6.0,8.0,5.5,6.5,7.5,5.5,9.0,20.5,12.0,8.0,7.5,16.0,9.5,15.0,7.0,3.5,8.0,7.0,12.5,13.5,14.0,4.5,7.5,5.0,6.0,9.0,8.5,4.0,22.0,5.0,9.5,7.0,4.5,8.5,7.5,5.0,4.0,5.5,10.5,7.0,8.0,4.0,8.5,14.5,5.0,3.0,29.5,11.5,10.0,6.0,7.0,10.0,16.0,9.5,6.5,7.5,11.5,5.0,11.0,9.0,11.0,11.0,4.5,6.5,16.5,2.5,5.5,6.5,15.0,9.0,10.5,10.0,52.0,11.0,11.5,6.0,8.5,9.0,7.0,4.5,13.0,5.0,5.5,5.5,7.0,17.0,8.5,71.0,5.0,6.5,9.5,8.5,11.5,13.5,6.5,34.0,4.0,8.5,8.0,9.5,9.0,5.0,8.0,7.5,52.0,22.0,8.5,7.0,15.5,10.0,8.5,9.0,17.0,5.5,20.5,8.5,10.0,10.0,4.0,7.5,3.0,20.5,8.5,6.5,14.5,8.0,11.0,7.5,11.0,12.0,7.5,13.0,6.5,9.0,5.0,10.5,11.5,6.5,7.0,6.5,12.0,62.0,5.0,11.5,16.0,6.5,12.0,11.0,7.5,5.0,8.5,10.5,6.0,6.0,9.5,13.0,3.5,11.5,12.5,13.0,6.0,17.0,9.0,52.0,14.5,6.5,6.0,5.0,29.5,3.5,19.5,5.5,5.0,13.5,11.0,5.0,8.5,8.5,11.0,10.0,6.5,6.5,16.5,8.0,10.0,13.5,20.0,15.5,4.5,10.5,8.5,8.0,3.0,8.5,14.5,8.5,4.5,9.0,5.5,7.5,8.0,6.5,4.0,9.5,9.0,15.5,19.5,18.0,6.0,14.0,6.0,9.5,4.0,5.0,4.0,5.5,3.5,6.5,52.0,20.5,17.0,8.0,7.5,8.0,13.0,7.0,10.0,23.5,4.5,8.5,14.0,4.5,8.5,13.5,9.5,4.0,11.0,5.5,6.5,6.5,5.5,7.0,12.5,25.5,9.0,6.0,5.5,7.0,7.0,6.5,8.5,11.5,4.5,13.0,13.5,5.5,8.5,7.5,7.5,12.0,6.5,11.0,2.5,9.0,5.0,11.0,7.0,5.0,18.0,5.0,6.0,10.5,5.5,10.0,17.0,8.0,4.5,9.5,11.0,31.5,6.5,8.0,7.0,7.5,11.0,11.0,27.0,8.0,12.5,7.0,11.5,7.0,7.0,11.5,3.5,18.5,6.0,8.0,5.0,7.5,8.0,12.5,13.5,10.0,6.5,9.0,6.0,6.0,4.0,8.0,7.5,9.0,5.0,7.0,7.0,7.0,4.0,4.0,5.5,22.0,8.5,11.5,7.0,10.0,5.5,10.5,8.0,13.0,9.0,9.0,15.5,6.5,7.0,4.0,6.0,6.0,9.0,9.0,9.5,6.5,12.5,11.5,8.0,5.5,8.5,9.5,5.0,5.0,8.0,7.0,7.0,9.5,7.0,8.5,7.5,17.5,12.0,4.0,8.0,8.0,10.5,7.5,16.0,8.5,8.5,23.0,5.5,10.0,8.0,9.0,4.0,8.0,7.0,8.5,9.0,19.5,9.0,9.5,9.0,52.0,7.0,7.5,11.5,8.5,6.0,4.5,8.0,8.0,24.0,7.5,6.0,9.0,6.0,7.5,7.0,18.0,32.5,3.5,8.5,6.5,7.0,3.5,7.0,7.0,10.5,4.5,19.5,7.5,9.5,12.5,7.5,6.0,6.0,11.0,6.5,4.5,6.5,6.5,8.5,9.5,10.0,8.0,9.5,12.5,10.5,12.5,10.5,13.0,13.5,15.5,5.5,7.5,7.0,9.5,3.0,8.5,17.5,8.0,5.5,12.0,12.5,4.0,9.5,7.0,13.0,5.0,10.0,4.0,5.0,12.0,10.0,9.5,4.5,7.0,4.0,10.5,9.5,4.0,14.0,7.5,4.0,11.5,4.5,24.0,29.5,9.5,17.5,13.5,10.5,6.0,8.0,13.0,6.0,7.5,5.0,3.5,10.0,6.0,6.5,11.5,35.0,5.5,11.5,12.0,8.0,17.5,5.0,6.5,6.5,5.0,13.0,11.0,32.5,12.0,11.0,7.5,8.0,11.5,6.0,11.0,15.0,13.0,9.5,25.0,9.5,7.0,4.5,6.5,10.0,7.0,7.0,26.5,7.5,10.0,7.0,10.0,11.5,4.0,8.0,12.0,4.0,5.5,9.5,15.5,7.0,15.5,3.5,2.5,9.0,5.0,6.0,5.5,30.5,3.0,16.0,7.0,5.5,39.5,35.0,5.5,3.5,8.5,12.0,8.0,7.0,7.5,7.5,14.5,7.0,20.5,21.5,6.0,6.5,6.5,8.0,13.5,5.5,39.0,6.0,17.0,12.5,24.5,11.0,10.0,7.0,15.5,9.5,22.0,17.0,8.0,22.0,7.0,8.0,15.5,12.0,3.0,9.0,14.5,16.5,6.5,13.5,7.5,25.5,13.0,14.0,15.5,5.5,5.0,14.5,9.0,5.0,6.5,4.5,8.5,14.0,40.0,5.0,10.5,6.0,8.0,34.0,11.0,6.5,6.0,9.0,7.0,10.5,15.0,8.0,4.5,11.0,6.0,10.5,12.0,17.0,5.0,5.0,11.5,24.5,52.0,4.5,4.0,6.0,14.0,5.0,8.0,12.0,5.0,14.0,7.0,14.0,7.0,9.5,9.5,12.0,20.0,6.0,12.5,7.5,4.5,25.5,4.5,14.0,10.0,12.5,7.5,9.0,6.5,8.5,4.0,8.5,4.0,7.0,37.5,20.0,15.5,5.0,8.5,7.5,15.5,13.5,6.5,8.5,3.5,8.5,7.5,6.5,5.5,18.0,7.0,16.0,28.0,9.5,15.0,6.5,31.5,5.0,30.5,5.5,11.0,14.5,10.5,7.0,34.0,10.0,9.0,11.5,5.0,2.5,5.0,8.5,4.5,11.0,6.0,23.5,11.5,2.5,9.5,11.5,24.5,25.0,14.0,11.5,9.0,10.5,15.5,26.5,15.0,6.0,11.5,9.5,25.0,9.5,6.0,6.5,6.5,4.0,6.5,13.5,10.5,9.0,9.0,4.0,4.5,8.5,13.5,5.0,19.0,15.5,9.0,4.5,17.5,7.0,34.5,10.0,21.0,11.0,10.0,19.5,15.5,7.5,5.0,7.5,5.5,13.5,8.5,15.0,5.5,5.0,11.0,6.5,4.0,4.0,8.5,8.0,6.0,8.5,17.0,9.5,26.5,4.0,5.0,6.5,7.0,8.5,28.5,5.0,7.0,7.0,4.5,10.5,13.5,8.0,4.5,15.0,7.5,11.0,5.5,6.5,19.5,5.0,6.5,4.5,8.0,14.0,9.0,24.0,6.5,13.0,5.0,12.0,4.5,8.0,32.5,21.5,6.5,5.0,2.5,16.5,9.5,8.5,8.5,10.5,7.0,13.0,15.0,6.5,13.0,5.5,13.0,8.0,24.5,12.0,7.5,8.0,7.5,11.0,11.0,9.5,7.0,4.0,6.5,14.5,10.0,8.5,7.0,6.5,5.5,14.0,3.5,11.0,8.0,7.0,12.0,5.0,6.5,8.5,14.0,6.0,10.0,14.0,11.0,12.0,4.5,6.0,16.0,19.0,16.0,8.0,6.0,7.0,22.5,3.5,7.5,7.0,5.5,11.5,4.0,8.5,14.5,11.5,5.5,11.5,6.0,11.0,9.5,19.5,9.5,8.5],\"colorscale\":\"Jet\"}}];\n            var layout = {\"title\":\"Plot Time vs. Distance & color scale on Fares\",\"showlegend\":false,\"xaxis\":{\"title\":\"Time\",\"_isSubplotObj\":true},\"yaxis\":{\"title\":\"Distance\",\"_isSubplotObj\":true}};\n            Plotly.newPlot('74062340-7611-4357-acf0-39550c786eb1', data, layout);\n        \r\n});\r\n};\r\n// ensure `require` is available globally\r\nif ((typeof(require) !==  typeof(Function)) || (typeof(require.config) !== typeof(Function))) {\r\n    let require_script = document.createElement('script');\r\n    require_script.setAttribute('src', 'https://cdnjs.cloudflare.com/ajax/libs/require.js/2.3.6/require.min.js');\r\n    require_script.setAttribute('type', 'text/javascript');\r\n    \r\n    \r\n    require_script.onload = function() {\r\n        renderPlotly();\r\n    };\r\n\r\n    document.getElementsByTagName('head')[0].appendChild(require_script);\r\n}\r\nelse {\r\n    renderPlotly();\r\n}\r\n\r\n</script>\r\n"
     },
     "execution_count": 1,
     "metadata": {}
    }
   ]
  },
  {
   "cell_type": "markdown",
   "metadata": {},
   "source": [
    "Plot Fares depending on trip's Time"
   ]
  },
  {
   "cell_type": "code",
   "execution_count": 1,
   "metadata": {},
   "source": [
    "// Plot Fare depending on Time\n",
    "\n",
    "var chartFareVsTime = Chart.Plot(\n",
    "    new Graph.Scatter()\n",
    "    {\n",
    "        x = times,\n",
    "        y = fares,\n",
    "        mode = \"markers\",\n",
    "        marker = new Graph.Marker()\n",
    "        {\n",
    "            color = distances,\n",
    "            colorscale = \"Jet\"\n",
    "        }\n",
    "    }\n",
    ");\n",
    "\n",
    "var layout = new Layout.Layout(){title=\"Plot Fare depending on Time\"};\n",
    "chartFareVsTime.WithLayout(layout);\n",
    "chartFareVsTime.Width = 500;\n",
    "chartFareVsTime.Height = 500;\n",
    "chartFareVsTime.WithXTitle(\"Time\");\n",
    "chartFareVsTime.WithYTitle(\"Fares\");\n",
    "chartFareVsTime.WithLegend(false);\n",
    "\n",
    "display(chartFareVsTime);"
   ],
   "outputs": [
    {
     "output_type": "execute_result",
     "data": {
      "text/html": "<div id=\"3d04cd0e-68df-412c-b1c0-765d40339fe6\" style=\"width: 500px; height: 500px;\"></div>\r\n<script type=\"text/javascript\">\r\n\r\nvar renderPlotly = function() {\r\n    var xplotRequire = require.config({context:'xplot-3.0.1',paths:{plotly:'https://cdn.plot.ly/plotly-1.49.2.min'}}) || require;\r\n    xplotRequire(['plotly'], function(Plotly) {\r\n\n            var data = [{\"type\":\"scatter\",\"x\":[1271.0,474.0,637.0,181.0,661.0,935.0,869.0,454.0,366.0,252.0,314.0,480.0,386.0,351.0,407.0,970.0,371.0,367.0,621.0,243.0,3.0,485.0,88.0,160.0,596.0,270.0,1728.0,493.0,655.0,571.0,144.0,453.0,1074.0,470.0,821.0,539.0,397.0,223.0,457.0,1527.0,1785.0,612.0,467.0,262.0,1603.0,659.0,1069.0,139.0,411.0,340.0,1439.0,425.0,2561.0,308.0,385.0,1267.0,829.0,319.0,390.0,820.0,702.0,771.0,850.0,846.0,697.0,244.0,299.0,338.0,177.0,356.0,778.0,514.0,372.0,2104.0,489.0,1000.0,840.0,123.0,1070.0,427.0,1120.0,241.0,677.0,1151.0,176.0,133.0,302.0,284.0,543.0,668.0,402.0,887.0,1906.0,357.0,143.0,135.0,332.0,460.0,421.0,482.0,765.0,543.0,879.0,384.0,633.0,348.0,736.0,257.0,1600.0,74.0,275.0,1531.0,902.0,813.0,1357.0,433.0,194.0,453.0,979.0,233.0,715.0,433.0,934.0,1047.0,186.0,1086.0,910.0,1220.0,462.0,1931.0,731.0,381.0,542.0,254.0,408.0,569.0,325.0,629.0,1603.0,572.0,485.0,415.0,1445.0,721.0,1149.0,386.0,65.0,525.0,355.0,775.0,1029.0,972.0,214.0,552.0,235.0,341.0,574.0,549.0,205.0,1605.0,210.0,696.0,397.0,224.0,632.0,529.0,208.0,177.0,377.0,859.0,361.0,320.0,162.0,386.0,1461.0,289.0,95.0,2129.0,893.0,876.0,371.0,430.0,491.0,981.0,591.0,377.0,554.0,865.0,374.0,945.0,615.0,758.0,668.0,128.0,429.0,1023.0,1789.0,214.0,370.0,1055.0,593.0,681.0,665.0,2638.0,562.0,1005.0,373.0,587.0,682.0,380.0,248.0,878.0,271.0,307.0,303.0,397.0,1393.0,671.0,2528.0,249.0,378.0,666.0,553.0,966.0,850.0,369.0,1775.0,173.0,539.0,483.0,720.0,674.0,208.0,263.0,417.0,1218.0,1315.0,448.0,497.0,1151.0,815.0,599.0,516.0,1273.0,332.0,1524.0,670.0,816.0,822.0,180.0,462.0,65.0,1338.0,621.0,387.0,1029.0,537.0,764.0,510.0,805.0,1006.0,403.0,890.0,499.0,741.0,263.0,731.0,879.0,396.0,361.0,289.0,701.0,1369.0,272.0,886.0,1033.0,345.0,893.0,876.0,581.0,299.0,655.0,883.0,363.0,363.0,724.0,999.0,90.0,813.0,934.0,1006.0,368.0,1431.0,691.0,3633.0,867.0,446.0,304.0,217.0,1535.0,107.0,1102.0,395.0,229.0,1101.0,759.0,250.0,599.0,523.0,596.0,594.0,397.0,443.0,1164.0,511.0,638.0,1093.0,1504.0,1309.0,183.0,749.0,661.0,537.0,84.0,688.0,1054.0,549.0,193.0,689.0,369.0,495.0,581.0,329.0,147.0,686.0,493.0,1018.0,918.0,1667.0,396.0,801.0,362.0,733.0,153.0,188.0,167.0,198.0,137.0,443.0,2962.0,874.0,1147.0,577.0,566.0,648.0,1016.0,502.0,822.0,886.0,196.0,476.0,971.0,241.0,605.0,1034.0,794.0,198.0,959.0,331.0,374.0,390.0,333.0,443.0,991.0,1263.0,598.0,313.0,285.0,487.0,464.0,340.0,457.0,612.0,155.0,869.0,1117.0,234.0,471.0,483.0,570.0,826.0,670.0,852.0,2.0,646.0,180.0,655.0,404.0,264.0,1492.0,261.0,343.0,812.0,271.0,680.0,1645.0,497.0,169.0,689.0,828.0,1788.0,274.0,553.0,469.0,385.0,745.0,825.0,1815.0,524.0,1037.0,358.0,837.0,490.0,479.0,863.0,117.0,863.0,294.0,505.0,282.0,494.0,453.0,992.0,1124.0,598.0,375.0,740.0,400.0,321.0,95.0,513.0,477.0,725.0,296.0,542.0,392.0,451.0,116.0,122.0,233.0,1231.0,594.0,827.0,461.0,883.0,290.0,695.0,643.0,1015.0,656.0,734.0,1187.0,332.0,435.0,202.0,302.0,252.0,597.0,566.0,553.0,350.0,955.0,961.0,592.0,301.0,376.0,670.0,220.0,273.0,651.0,397.0,397.0,564.0,515.0,535.0,491.0,1448.0,838.0,156.0,368.0,610.0,742.0,352.0,1090.0,530.0,621.0,1249.0,349.0,592.0,511.0,656.0,186.0,472.0,461.0,547.0,553.0,1467.0,564.0,720.0,673.0,3847.0,458.0,375.0,960.0,608.0,368.0,188.0,560.0,463.0,931.0,487.0,439.0,724.0,321.0,587.0,420.0,1108.0,1740.0,113.0,618.0,331.0,489.0,99.0,419.0,367.0,686.0,234.0,985.0,418.0,775.0,1161.0,491.0,340.0,315.0,756.0,353.0,223.0,320.0,437.0,609.0,726.0,758.0,586.0,608.0,728.0,592.0,965.0,794.0,1034.0,1086.0,1277.0,261.0,544.0,413.0,628.0,55.0,496.0,1279.0,516.0,339.0,609.0,922.0,131.0,681.0,478.0,959.0,169.0,845.0,197.0,187.0,988.0,831.0,732.0,145.0,457.0,89.0,731.0,413.0,143.0,1128.0,529.0,134.0,1024.0,219.0,1141.0,1512.0,738.0,1396.0,1102.0,649.0,349.0,673.0,911.0,310.0,533.0,232.0,89.0,707.0,354.0,477.0,745.0,1799.0,267.0,836.0,871.0,545.0,1430.0,230.0,346.0,426.0,257.0,1167.0,681.0,1412.0,689.0,644.0,526.0,550.0,782.0,219.0,633.0,1282.0,1020.0,541.0,1106.0,566.0,443.0,172.0,300.0,604.0,339.0,487.0,1510.0,449.0,805.0,299.0,594.0,668.0,194.0,411.0,931.0,157.0,283.0,664.0,1340.0,435.0,1435.0,114.0,33.0,473.0,215.0,272.0,302.0,1471.0,68.0,905.0,467.0,290.0,2471.0,1511.0,237.0,116.0,581.0,759.0,536.0,336.0,302.0,510.0,1052.0,463.0,1212.0,1095.0,330.0,442.0,383.0,537.0,644.0,287.0,2087.0,271.0,1312.0,816.0,900.0,673.0,439.0,380.0,1045.0,784.0,1396.0,861.0,330.0,694.0,397.0,527.0,1447.0,1150.0,54.0,526.0,1043.0,952.0,396.0,828.0,317.0,817.0,999.0,875.0,1156.0,276.0,197.0,1225.0,443.0,283.0,374.0,267.0,539.0,916.0,1848.0,230.0,600.0,301.0,569.0,2245.0,723.0,447.0,437.0,769.0,413.0,906.0,1203.0,646.0,221.0,857.0,211.0,537.0,766.0,1210.0,203.0,149.0,708.0,771.0,526.0,203.0,125.0,326.0,1014.0,266.0,654.0,992.0,289.0,1023.0,290.0,872.0,430.0,501.0,375.0,774.0,1256.0,337.0,847.0,415.0,171.0,1790.0,185.0,1183.0,679.0,621.0,405.0,607.0,313.0,525.0,165.0,592.0,158.0,395.0,1858.0,1208.0,1344.0,266.0,422.0,515.0,1310.0,1223.0,409.0,651.0,99.0,650.0,405.0,381.0,324.0,1404.0,377.0,744.0,1180.0,579.0,1224.0,251.0,1364.0,334.0,1594.0,302.0,749.0,1126.0,856.0,413.0,1958.0,815.0,760.0,789.0,373.0,11.0,209.0,473.0,185.0,663.0,276.0,1133.0,580.0,7.0,768.0,888.0,858.0,1190.0,752.0,725.0,713.0,767.0,1345.0,1894.0,1122.0,228.0,731.0,641.0,2300.0,709.0,390.0,320.0,356.0,180.0,384.0,1133.0,670.0,507.0,532.0,152.0,214.0,542.0,994.0,252.0,1280.0,921.0,566.0,220.0,920.0,408.0,2323.0,487.0,1142.0,665.0,669.0,1066.0,1036.0,496.0,265.0,498.0,306.0,757.0,417.0,747.0,186.0,229.0,489.0,417.0,170.0,142.0,615.0,431.0,276.0,464.0,1055.0,553.0,1314.0,158.0,194.0,212.0,414.0,549.0,1628.0,216.0,469.0,421.0,167.0,765.0,860.0,461.0,172.0,852.0,409.0,641.0,243.0,315.0,1213.0,208.0,392.0,206.0,517.0,854.0,380.0,1349.0,387.0,689.0,203.0,834.0,219.0,575.0,1680.0,1386.0,390.0,204.0,9.0,1249.0,545.0,637.0,591.0,696.0,369.0,916.0,1166.0,405.0,750.0,293.0,912.0,596.0,1165.0,821.0,414.0,472.0,470.0,646.0,510.0,540.0,285.0,197.0,353.0,762.0,562.0,617.0,341.0,390.0,318.0,999.0,103.0,669.0,503.0,470.0,826.0,233.0,529.0,512.0,698.0,292.0,534.0,1002.0,727.0,796.0,167.0,283.0,1346.0,1224.0,1403.0,592.0,359.0,336.0,1178.0,120.0,500.0,304.0,227.0,697.0,97.0,413.0,872.0,652.0,292.0,516.0,301.0,586.0,571.0,717.0,426.0,313.0],\"y\":[17.5,8.0,8.5,4.5,8.5,27.5,11.5,7.5,7.5,5.0,6.0,7.0,7.0,5.5,7.0,19.0,6.0,6.5,9.0,4.5,52.0,6.5,3.5,4.5,8.5,5.5,32.0,8.5,8.5,9.0,4.0,7.0,16.0,7.5,11.5,8.0,5.5,5.0,7.0,19.5,52.0,10.0,7.0,5.0,24.5,9.5,12.5,4.0,7.0,5.5,17.5,7.0,33.5,5.5,7.0,23.0,11.5,6.5,6.5,11.5,13.0,9.0,10.5,18.5,11.0,5.5,6.5,7.0,4.5,7.5,13.0,8.0,6.5,52.0,8.5,12.0,10.0,4.0,20.0,7.0,16.0,4.5,10.0,17.5,4.5,4.5,5.5,5.0,8.0,15.0,6.0,13.0,23.5,7.0,4.5,4.0,6.5,8.0,6.5,7.5,10.5,7.0,11.5,5.5,8.5,6.0,21.0,5.5,19.0,3.5,5.5,31.0,12.0,11.0,17.0,7.0,5.0,8.5,12.0,5.0,11.5,7.0,11.5,15.0,4.0,12.5,15.5,28.5,6.5,31.5,13.5,6.0,8.0,5.5,6.5,7.5,5.5,9.0,20.5,12.0,8.0,7.5,16.0,9.5,15.0,7.0,3.5,8.0,7.0,12.5,13.5,14.0,4.5,7.5,5.0,6.0,9.0,8.5,4.0,22.0,5.0,9.5,7.0,4.5,8.5,7.5,5.0,4.0,5.5,10.5,7.0,8.0,4.0,8.5,14.5,5.0,3.0,29.5,11.5,10.0,6.0,7.0,10.0,16.0,9.5,6.5,7.5,11.5,5.0,11.0,9.0,11.0,11.0,4.5,6.5,16.5,2.5,5.5,6.5,15.0,9.0,10.5,10.0,52.0,11.0,11.5,6.0,8.5,9.0,7.0,4.5,13.0,5.0,5.5,5.5,7.0,17.0,8.5,71.0,5.0,6.5,9.5,8.5,11.5,13.5,6.5,34.0,4.0,8.5,8.0,9.5,9.0,5.0,8.0,7.5,52.0,22.0,8.5,7.0,15.5,10.0,8.5,9.0,17.0,5.5,20.5,8.5,10.0,10.0,4.0,7.5,3.0,20.5,8.5,6.5,14.5,8.0,11.0,7.5,11.0,12.0,7.5,13.0,6.5,9.0,5.0,10.5,11.5,6.5,7.0,6.5,12.0,62.0,5.0,11.5,16.0,6.5,12.0,11.0,7.5,5.0,8.5,10.5,6.0,6.0,9.5,13.0,3.5,11.5,12.5,13.0,6.0,17.0,9.0,52.0,14.5,6.5,6.0,5.0,29.5,3.5,19.5,5.5,5.0,13.5,11.0,5.0,8.5,8.5,11.0,10.0,6.5,6.5,16.5,8.0,10.0,13.5,20.0,15.5,4.5,10.5,8.5,8.0,3.0,8.5,14.5,8.5,4.5,9.0,5.5,7.5,8.0,6.5,4.0,9.5,9.0,15.5,19.5,18.0,6.0,14.0,6.0,9.5,4.0,5.0,4.0,5.5,3.5,6.5,52.0,20.5,17.0,8.0,7.5,8.0,13.0,7.0,10.0,23.5,4.5,8.5,14.0,4.5,8.5,13.5,9.5,4.0,11.0,5.5,6.5,6.5,5.5,7.0,12.5,25.5,9.0,6.0,5.5,7.0,7.0,6.5,8.5,11.5,4.5,13.0,13.5,5.5,8.5,7.5,7.5,12.0,6.5,11.0,2.5,9.0,5.0,11.0,7.0,5.0,18.0,5.0,6.0,10.5,5.5,10.0,17.0,8.0,4.5,9.5,11.0,31.5,6.5,8.0,7.0,7.5,11.0,11.0,27.0,8.0,12.5,7.0,11.5,7.0,7.0,11.5,3.5,18.5,6.0,8.0,5.0,7.5,8.0,12.5,13.5,10.0,6.5,9.0,6.0,6.0,4.0,8.0,7.5,9.0,5.0,7.0,7.0,7.0,4.0,4.0,5.5,22.0,8.5,11.5,7.0,10.0,5.5,10.5,8.0,13.0,9.0,9.0,15.5,6.5,7.0,4.0,6.0,6.0,9.0,9.0,9.5,6.5,12.5,11.5,8.0,5.5,8.5,9.5,5.0,5.0,8.0,7.0,7.0,9.5,7.0,8.5,7.5,17.5,12.0,4.0,8.0,8.0,10.5,7.5,16.0,8.5,8.5,23.0,5.5,10.0,8.0,9.0,4.0,8.0,7.0,8.5,9.0,19.5,9.0,9.5,9.0,52.0,7.0,7.5,11.5,8.5,6.0,4.5,8.0,8.0,24.0,7.5,6.0,9.0,6.0,7.5,7.0,18.0,32.5,3.5,8.5,6.5,7.0,3.5,7.0,7.0,10.5,4.5,19.5,7.5,9.5,12.5,7.5,6.0,6.0,11.0,6.5,4.5,6.5,6.5,8.5,9.5,10.0,8.0,9.5,12.5,10.5,12.5,10.5,13.0,13.5,15.5,5.5,7.5,7.0,9.5,3.0,8.5,17.5,8.0,5.5,12.0,12.5,4.0,9.5,7.0,13.0,5.0,10.0,4.0,5.0,12.0,10.0,9.5,4.5,7.0,4.0,10.5,9.5,4.0,14.0,7.5,4.0,11.5,4.5,24.0,29.5,9.5,17.5,13.5,10.5,6.0,8.0,13.0,6.0,7.5,5.0,3.5,10.0,6.0,6.5,11.5,35.0,5.5,11.5,12.0,8.0,17.5,5.0,6.5,6.5,5.0,13.0,11.0,32.5,12.0,11.0,7.5,8.0,11.5,6.0,11.0,15.0,13.0,9.5,25.0,9.5,7.0,4.5,6.5,10.0,7.0,7.0,26.5,7.5,10.0,7.0,10.0,11.5,4.0,8.0,12.0,4.0,5.5,9.5,15.5,7.0,15.5,3.5,2.5,9.0,5.0,6.0,5.5,30.5,3.0,16.0,7.0,5.5,39.5,35.0,5.5,3.5,8.5,12.0,8.0,7.0,7.5,7.5,14.5,7.0,20.5,21.5,6.0,6.5,6.5,8.0,13.5,5.5,39.0,6.0,17.0,12.5,24.5,11.0,10.0,7.0,15.5,9.5,22.0,17.0,8.0,22.0,7.0,8.0,15.5,12.0,3.0,9.0,14.5,16.5,6.5,13.5,7.5,25.5,13.0,14.0,15.5,5.5,5.0,14.5,9.0,5.0,6.5,4.5,8.5,14.0,40.0,5.0,10.5,6.0,8.0,34.0,11.0,6.5,6.0,9.0,7.0,10.5,15.0,8.0,4.5,11.0,6.0,10.5,12.0,17.0,5.0,5.0,11.5,24.5,52.0,4.5,4.0,6.0,14.0,5.0,8.0,12.0,5.0,14.0,7.0,14.0,7.0,9.5,9.5,12.0,20.0,6.0,12.5,7.5,4.5,25.5,4.5,14.0,10.0,12.5,7.5,9.0,6.5,8.5,4.0,8.5,4.0,7.0,37.5,20.0,15.5,5.0,8.5,7.5,15.5,13.5,6.5,8.5,3.5,8.5,7.5,6.5,5.5,18.0,7.0,16.0,28.0,9.5,15.0,6.5,31.5,5.0,30.5,5.5,11.0,14.5,10.5,7.0,34.0,10.0,9.0,11.5,5.0,2.5,5.0,8.5,4.5,11.0,6.0,23.5,11.5,2.5,9.5,11.5,24.5,25.0,14.0,11.5,9.0,10.5,15.5,26.5,15.0,6.0,11.5,9.5,25.0,9.5,6.0,6.5,6.5,4.0,6.5,13.5,10.5,9.0,9.0,4.0,4.5,8.5,13.5,5.0,19.0,15.5,9.0,4.5,17.5,7.0,34.5,10.0,21.0,11.0,10.0,19.5,15.5,7.5,5.0,7.5,5.5,13.5,8.5,15.0,5.5,5.0,11.0,6.5,4.0,4.0,8.5,8.0,6.0,8.5,17.0,9.5,26.5,4.0,5.0,6.5,7.0,8.5,28.5,5.0,7.0,7.0,4.5,10.5,13.5,8.0,4.5,15.0,7.5,11.0,5.5,6.5,19.5,5.0,6.5,4.5,8.0,14.0,9.0,24.0,6.5,13.0,5.0,12.0,4.5,8.0,32.5,21.5,6.5,5.0,2.5,16.5,9.5,8.5,8.5,10.5,7.0,13.0,15.0,6.5,13.0,5.5,13.0,8.0,24.5,12.0,7.5,8.0,7.5,11.0,11.0,9.5,7.0,4.0,6.5,14.5,10.0,8.5,7.0,6.5,5.5,14.0,3.5,11.0,8.0,7.0,12.0,5.0,6.5,8.5,14.0,6.0,10.0,14.0,11.0,12.0,4.5,6.0,16.0,19.0,16.0,8.0,6.0,7.0,22.5,3.5,7.5,7.0,5.5,11.5,4.0,8.5,14.5,11.5,5.5,11.5,6.0,11.0,9.5,19.5,9.5,8.5],\"mode\":\"markers\",\"marker\":{\"color\":[3.8,1.5,1.4,0.6,1.1,9.6,2.3,1.4,1.5,0.6,1.2,0.7,1.3,0.8,1.1,5.6,0.6,1.3,1.7,0.6,0.0,0.8,0.4,0.6,1.4,0.8,9.8,1.4,1.4,2.0,0.5,1.3,3.8,1.4,2.5,1.4,0.4,0.8,1.0,4.7,16.4,2.1,1.3,0.6,6.5,1.7,2.4,0.4,1.1,0.5,3.6,1.1,9.3,0.9,1.3,6.9,2.6,1.1,0.9,2.6,3.7,0.9,2.0,6.3,2.4,1.1,1.4,1.6,0.8,1.5,3.4,1.6,1.1,18.8,1.6,1.8,1.0,0.7,5.9,1.2,3.7,0.4,1.8,4.5,0.6,0.8,0.8,0.6,1.3,4.2,0.8,3.3,5.2,1.6,0.9,0.4,1.3,1.7,1.0,1.5,1.9,0.8,2.1,0.6,1.2,1.0,7.2,1.0,3.6,0.4,0.9,10.8,2.4,2.4,3.8,1.2,0.9,2.1,2.0,0.7,2.8,1.3,1.9,3.2,0.3,2.0,4.0,9.2,0.6,10.2,3.6,0.8,1.4,0.9,1.1,1.0,0.8,1.8,5.0,3.0,1.8,1.5,2.5,1.3,3.6,1.3,0.3,1.5,1.3,3.2,2.8,3.5,0.6,1.1,0.7,0.8,1.8,1.5,0.3,5.7,0.9,1.7,1.3,0.6,1.1,1.0,0.8,0.5,0.4,1.5,1.3,2.1,0.6,2.2,1.4,0.5,0.3,8.7,2.3,1.0,0.8,1.1,2.4,4.3,2.0,1.2,1.1,2.4,0.5,1.6,1.6,2.3,2.7,0.9,1.0,4.5,0.0,0.9,1.2,3.8,1.9,2.0,2.4,17.7,3.2,1.6,0.9,1.6,1.5,1.2,0.6,3.4,0.5,0.7,0.9,1.4,3.6,1.1,18.1,0.8,1.2,1.6,1.5,1.8,3.6,1.1,10.4,0.6,1.7,1.5,1.5,1.1,0.8,2.2,1.5,17.3,6.1,1.9,0.9,3.8,1.6,1.6,2.1,4.3,0.5,5.2,1.2,1.4,1.1,0.3,1.5,0.2,5.5,1.2,1.0,3.1,1.5,2.3,1.3,2.2,2.0,1.5,3.2,0.7,0.8,0.6,2.0,2.1,1.1,1.3,1.4,3.2,16.6,0.7,2.3,4.2,1.5,2.7,1.6,0.8,0.7,1.4,1.2,0.8,1.0,1.8,2.4,0.4,2.4,2.5,2.8,0.8,3.2,1.2,18.7,4.0,0.8,1.1,0.8,9.2,0.5,5.2,0.5,0.7,2.7,2.5,0.6,1.6,1.7,3.0,2.5,1.0,1.0,3.8,1.4,2.0,2.7,5.3,3.2,0.7,2.1,1.0,1.5,0.3,1.1,3.5,1.7,0.5,1.5,0.7,1.3,1.1,1.3,0.5,1.5,2.0,3.8,5.8,2.7,0.5,4.0,1.0,1.5,0.7,0.9,0.3,1.2,0.3,0.9,17.0,6.6,4.4,1.5,0.8,0.8,2.7,1.2,1.6,7.9,0.7,1.8,3.2,0.5,1.2,3.2,1.5,0.5,1.4,1.0,1.2,1.1,0.6,1.2,2.4,8.6,2.0,1.0,0.9,0.9,1.2,1.4,1.9,3.2,0.7,3.1,2.2,0.8,2.0,1.2,1.1,2.6,0.5,1.9,0.0,1.6,0.9,2.6,1.3,0.5,3.7,0.7,1.2,2.0,0.9,2.0,1.7,1.4,0.8,1.7,2.1,10.3,1.3,1.2,0.9,1.4,2.1,2.1,7.2,1.5,2.2,1.4,2.0,0.9,0.9,2.4,0.1,5.7,1.0,1.6,0.7,1.2,1.7,2.4,2.4,2.1,0.9,1.1,0.6,1.1,0.6,1.5,1.4,1.3,0.6,0.8,1.3,1.0,0.4,0.6,1.1,6.5,1.7,2.4,1.2,1.5,0.8,2.3,0.9,2.7,1.7,1.2,3.9,1.2,1.3,0.3,1.2,1.2,2.0,1.9,2.2,1.2,2.5,2.0,1.3,0.7,2.2,1.6,0.9,0.7,0.9,1.1,1.2,2.0,0.9,1.7,1.2,4.0,2.8,0.4,2.1,1.1,2.1,1.7,4.4,1.8,1.6,6.5,0.7,2.3,1.4,1.5,0.3,1.6,1.1,1.8,2.0,4.8,1.8,1.3,1.4,22.9,1.3,1.6,1.7,1.5,0.9,0.7,1.3,1.5,8.3,1.2,0.6,1.4,1.0,0.8,1.5,4.6,9.8,0.4,1.3,1.2,1.0,0.4,1.1,1.5,2.5,0.5,5.8,1.4,1.4,1.4,1.1,0.9,1.0,2.4,1.3,0.3,1.1,1.0,1.5,1.8,1.8,1.0,2.1,3.5,2.6,2.4,2.3,2.7,2.8,3.3,1.1,1.1,1.5,1.8,0.2,1.7,4.3,1.6,0.8,3.4,2.9,0.6,1.4,0.7,2.9,1.1,1.9,0.7,1.1,1.8,1.3,1.7,0.9,1.3,0.6,2.2,2.6,0.5,2.6,1.3,0.6,1.0,0.6,7.5,9.3,1.5,3.9,2.3,2.8,0.9,0.8,2.8,1.1,1.1,0.7,0.5,1.9,0.7,0.8,2.9,11.1,0.9,2.3,2.5,1.4,3.8,0.6,1.1,0.9,0.7,1.6,2.7,10.6,3.1,2.6,1.1,1.1,2.8,1.3,2.6,2.5,2.7,2.2,8.4,2.1,1.3,0.6,1.3,2.5,1.4,0.8,7.8,1.6,1.5,1.9,2.4,2.7,0.5,1.9,2.3,0.5,1.0,1.5,2.7,1.2,2.2,0.4,0.0,2.3,0.7,1.2,0.9,9.8,0.1,4.4,1.1,1.0,11.7,11.8,0.9,0.3,1.7,3.0,1.1,1.7,1.9,1.2,3.4,1.2,5.6,6.8,0.9,0.6,1.0,1.6,3.6,0.8,13.2,1.3,4.1,3.0,8.4,2.8,2.7,1.5,3.7,1.4,6.0,4.7,2.0,7.3,1.5,1.5,2.3,1.3,1.0,1.9,3.3,4.4,1.0,3.4,2.1,8.9,2.6,3.4,3.4,1.0,0.9,2.7,2.2,0.7,1.1,0.5,1.9,3.5,14.2,0.8,2.6,1.1,1.2,9.4,2.3,1.0,0.5,0.9,1.3,1.2,3.0,1.1,0.5,1.9,1.3,2.7,2.5,3.8,0.8,1.0,2.3,8.5,7.4,0.7,0.4,1.0,3.1,0.8,1.0,2.0,0.7,3.0,1.6,3.2,1.2,2.7,2.5,3.0,6.0,1.2,3.0,1.5,0.7,6.7,0.7,2.2,2.0,3.1,1.5,1.8,1.4,1.8,0.7,1.4,0.5,1.3,12.2,5.3,2.8,0.7,1.7,1.3,3.1,1.9,1.0,1.0,0.4,1.3,1.8,1.1,0.7,4.0,1.3,5.3,9.5,2.2,3.0,1.4,10.9,0.1,9.9,0.9,2.2,2.8,1.5,1.1,10.2,1.5,1.2,2.1,0.8,0.0,0.9,2.0,0.5,2.7,1.2,7.3,3.0,0.0,1.2,2.1,8.5,7.8,4.0,2.5,1.1,1.9,2.8,6.7,3.4,1.4,2.7,2.1,4.2,2.0,0.7,1.1,1.3,0.3,1.0,2.7,2.3,2.2,1.9,0.6,0.6,1.8,3.3,0.8,5.3,4.2,1.8,0.5,5.2,1.3,10.0,2.6,6.0,2.6,2.4,5.4,4.0,1.3,0.8,1.1,0.8,3.8,2.2,4.6,1.1,0.8,3.1,0.8,0.5,0.6,1.5,1.7,1.3,2.0,4.2,2.0,8.8,0.4,0.9,1.7,1.2,1.7,9.0,0.8,1.2,1.3,0.5,2.2,3.4,1.7,0.7,3.9,1.6,2.8,0.8,1.3,5.3,0.8,1.4,0.6,1.6,3.5,2.5,7.5,1.1,3.4,0.8,2.5,0.5,1.4,10.6,6.1,1.0,0.9,0.0,3.7,2.0,1.3,1.3,2.1,1.3,3.0,3.1,0.8,3.4,0.9,3.0,1.3,7.9,2.4,1.6,1.7,1.4,2.8,2.7,2.3,1.7,0.3,1.3,4.1,2.3,1.4,1.5,1.3,0.7,2.9,0.2,2.5,1.5,1.1,2.8,0.6,0.5,1.6,4.1,1.3,2.5,3.4,2.5,3.0,0.8,1.2,3.3,5.5,3.2,1.2,0.9,1.5,6.9,0.3,1.3,1.7,1.3,3.0,0.5,2.1,3.6,3.0,0.6,3.1,1.2,3.0,2.4,6.5,2.7,2.3],\"colorscale\":\"Jet\"}}];\n            var layout = {\"title\":\"Plot Fare depending on Time\",\"showlegend\":false,\"xaxis\":{\"title\":\"Time\",\"_isSubplotObj\":true},\"yaxis\":{\"title\":\"Fares\",\"_isSubplotObj\":true}};\n            Plotly.newPlot('3d04cd0e-68df-412c-b1c0-765d40339fe6', data, layout);\n        \r\n});\r\n};\r\n// ensure `require` is available globally\r\nif ((typeof(require) !==  typeof(Function)) || (typeof(require.config) !== typeof(Function))) {\r\n    let require_script = document.createElement('script');\r\n    require_script.setAttribute('src', 'https://cdnjs.cloudflare.com/ajax/libs/require.js/2.3.6/require.min.js');\r\n    require_script.setAttribute('type', 'text/javascript');\r\n    \r\n    \r\n    require_script.onload = function() {\r\n        renderPlotly();\r\n    };\r\n\r\n    document.getElementsByTagName('head')[0].appendChild(require_script);\r\n}\r\nelse {\r\n    renderPlotly();\r\n}\r\n\r\n</script>\r\n"
     },
     "execution_count": 1,
     "metadata": {}
    }
   ]
  },
  {
   "cell_type": "code",
   "execution_count": 1,
   "metadata": {},
   "source": [
    "// Plot Fare depending on Distance \n",
    "var chartFareVsDist = Chart.Plot(\n",
    "    new Graph.Scatter()\n",
    "    {\n",
    "        x = distances,\n",
    "        y = fares,\n",
    "        mode = \"markers\",\n",
    "        marker = new Graph.Marker()\n",
    "        {\n",
    "            color = times,\n",
    "            colorscale = \"Jet\"\n",
    "        }\n",
    "    }\n",
    ");\n",
    "var layout = new Layout.Layout(){title=\"Plot Fare depending on Distance\"};\n",
    "chartFareVsDist.WithLayout(layout);\n",
    "chartFareVsDist.Width = 500;\n",
    "chartFareVsDist.Height = 500;\n",
    "chartFareVsDist.WithXTitle(\"Distance\");\n",
    "chartFareVsDist.WithYTitle(\"Fares\");\n",
    "chartFareVsDist.WithLegend(false);\n",
    "display(chartFareVsDist);"
   ],
   "outputs": [
    {
     "output_type": "execute_result",
     "data": {
      "text/html": "<div id=\"c5b5c628-5be0-4c84-8e99-0fdbf63f6008\" style=\"width: 500px; height: 500px;\"></div>\r\n<script type=\"text/javascript\">\r\n\r\nvar renderPlotly = function() {\r\n    var xplotRequire = require.config({context:'xplot-3.0.1',paths:{plotly:'https://cdn.plot.ly/plotly-1.49.2.min'}}) || require;\r\n    xplotRequire(['plotly'], function(Plotly) {\r\n\n            var data = [{\"type\":\"scatter\",\"x\":[3.8,1.5,1.4,0.6,1.1,9.6,2.3,1.4,1.5,0.6,1.2,0.7,1.3,0.8,1.1,5.6,0.6,1.3,1.7,0.6,0.0,0.8,0.4,0.6,1.4,0.8,9.8,1.4,1.4,2.0,0.5,1.3,3.8,1.4,2.5,1.4,0.4,0.8,1.0,4.7,16.4,2.1,1.3,0.6,6.5,1.7,2.4,0.4,1.1,0.5,3.6,1.1,9.3,0.9,1.3,6.9,2.6,1.1,0.9,2.6,3.7,0.9,2.0,6.3,2.4,1.1,1.4,1.6,0.8,1.5,3.4,1.6,1.1,18.8,1.6,1.8,1.0,0.7,5.9,1.2,3.7,0.4,1.8,4.5,0.6,0.8,0.8,0.6,1.3,4.2,0.8,3.3,5.2,1.6,0.9,0.4,1.3,1.7,1.0,1.5,1.9,0.8,2.1,0.6,1.2,1.0,7.2,1.0,3.6,0.4,0.9,10.8,2.4,2.4,3.8,1.2,0.9,2.1,2.0,0.7,2.8,1.3,1.9,3.2,0.3,2.0,4.0,9.2,0.6,10.2,3.6,0.8,1.4,0.9,1.1,1.0,0.8,1.8,5.0,3.0,1.8,1.5,2.5,1.3,3.6,1.3,0.3,1.5,1.3,3.2,2.8,3.5,0.6,1.1,0.7,0.8,1.8,1.5,0.3,5.7,0.9,1.7,1.3,0.6,1.1,1.0,0.8,0.5,0.4,1.5,1.3,2.1,0.6,2.2,1.4,0.5,0.3,8.7,2.3,1.0,0.8,1.1,2.4,4.3,2.0,1.2,1.1,2.4,0.5,1.6,1.6,2.3,2.7,0.9,1.0,4.5,0.0,0.9,1.2,3.8,1.9,2.0,2.4,17.7,3.2,1.6,0.9,1.6,1.5,1.2,0.6,3.4,0.5,0.7,0.9,1.4,3.6,1.1,18.1,0.8,1.2,1.6,1.5,1.8,3.6,1.1,10.4,0.6,1.7,1.5,1.5,1.1,0.8,2.2,1.5,17.3,6.1,1.9,0.9,3.8,1.6,1.6,2.1,4.3,0.5,5.2,1.2,1.4,1.1,0.3,1.5,0.2,5.5,1.2,1.0,3.1,1.5,2.3,1.3,2.2,2.0,1.5,3.2,0.7,0.8,0.6,2.0,2.1,1.1,1.3,1.4,3.2,16.6,0.7,2.3,4.2,1.5,2.7,1.6,0.8,0.7,1.4,1.2,0.8,1.0,1.8,2.4,0.4,2.4,2.5,2.8,0.8,3.2,1.2,18.7,4.0,0.8,1.1,0.8,9.2,0.5,5.2,0.5,0.7,2.7,2.5,0.6,1.6,1.7,3.0,2.5,1.0,1.0,3.8,1.4,2.0,2.7,5.3,3.2,0.7,2.1,1.0,1.5,0.3,1.1,3.5,1.7,0.5,1.5,0.7,1.3,1.1,1.3,0.5,1.5,2.0,3.8,5.8,2.7,0.5,4.0,1.0,1.5,0.7,0.9,0.3,1.2,0.3,0.9,17.0,6.6,4.4,1.5,0.8,0.8,2.7,1.2,1.6,7.9,0.7,1.8,3.2,0.5,1.2,3.2,1.5,0.5,1.4,1.0,1.2,1.1,0.6,1.2,2.4,8.6,2.0,1.0,0.9,0.9,1.2,1.4,1.9,3.2,0.7,3.1,2.2,0.8,2.0,1.2,1.1,2.6,0.5,1.9,0.0,1.6,0.9,2.6,1.3,0.5,3.7,0.7,1.2,2.0,0.9,2.0,1.7,1.4,0.8,1.7,2.1,10.3,1.3,1.2,0.9,1.4,2.1,2.1,7.2,1.5,2.2,1.4,2.0,0.9,0.9,2.4,0.1,5.7,1.0,1.6,0.7,1.2,1.7,2.4,2.4,2.1,0.9,1.1,0.6,1.1,0.6,1.5,1.4,1.3,0.6,0.8,1.3,1.0,0.4,0.6,1.1,6.5,1.7,2.4,1.2,1.5,0.8,2.3,0.9,2.7,1.7,1.2,3.9,1.2,1.3,0.3,1.2,1.2,2.0,1.9,2.2,1.2,2.5,2.0,1.3,0.7,2.2,1.6,0.9,0.7,0.9,1.1,1.2,2.0,0.9,1.7,1.2,4.0,2.8,0.4,2.1,1.1,2.1,1.7,4.4,1.8,1.6,6.5,0.7,2.3,1.4,1.5,0.3,1.6,1.1,1.8,2.0,4.8,1.8,1.3,1.4,22.9,1.3,1.6,1.7,1.5,0.9,0.7,1.3,1.5,8.3,1.2,0.6,1.4,1.0,0.8,1.5,4.6,9.8,0.4,1.3,1.2,1.0,0.4,1.1,1.5,2.5,0.5,5.8,1.4,1.4,1.4,1.1,0.9,1.0,2.4,1.3,0.3,1.1,1.0,1.5,1.8,1.8,1.0,2.1,3.5,2.6,2.4,2.3,2.7,2.8,3.3,1.1,1.1,1.5,1.8,0.2,1.7,4.3,1.6,0.8,3.4,2.9,0.6,1.4,0.7,2.9,1.1,1.9,0.7,1.1,1.8,1.3,1.7,0.9,1.3,0.6,2.2,2.6,0.5,2.6,1.3,0.6,1.0,0.6,7.5,9.3,1.5,3.9,2.3,2.8,0.9,0.8,2.8,1.1,1.1,0.7,0.5,1.9,0.7,0.8,2.9,11.1,0.9,2.3,2.5,1.4,3.8,0.6,1.1,0.9,0.7,1.6,2.7,10.6,3.1,2.6,1.1,1.1,2.8,1.3,2.6,2.5,2.7,2.2,8.4,2.1,1.3,0.6,1.3,2.5,1.4,0.8,7.8,1.6,1.5,1.9,2.4,2.7,0.5,1.9,2.3,0.5,1.0,1.5,2.7,1.2,2.2,0.4,0.0,2.3,0.7,1.2,0.9,9.8,0.1,4.4,1.1,1.0,11.7,11.8,0.9,0.3,1.7,3.0,1.1,1.7,1.9,1.2,3.4,1.2,5.6,6.8,0.9,0.6,1.0,1.6,3.6,0.8,13.2,1.3,4.1,3.0,8.4,2.8,2.7,1.5,3.7,1.4,6.0,4.7,2.0,7.3,1.5,1.5,2.3,1.3,1.0,1.9,3.3,4.4,1.0,3.4,2.1,8.9,2.6,3.4,3.4,1.0,0.9,2.7,2.2,0.7,1.1,0.5,1.9,3.5,14.2,0.8,2.6,1.1,1.2,9.4,2.3,1.0,0.5,0.9,1.3,1.2,3.0,1.1,0.5,1.9,1.3,2.7,2.5,3.8,0.8,1.0,2.3,8.5,7.4,0.7,0.4,1.0,3.1,0.8,1.0,2.0,0.7,3.0,1.6,3.2,1.2,2.7,2.5,3.0,6.0,1.2,3.0,1.5,0.7,6.7,0.7,2.2,2.0,3.1,1.5,1.8,1.4,1.8,0.7,1.4,0.5,1.3,12.2,5.3,2.8,0.7,1.7,1.3,3.1,1.9,1.0,1.0,0.4,1.3,1.8,1.1,0.7,4.0,1.3,5.3,9.5,2.2,3.0,1.4,10.9,0.1,9.9,0.9,2.2,2.8,1.5,1.1,10.2,1.5,1.2,2.1,0.8,0.0,0.9,2.0,0.5,2.7,1.2,7.3,3.0,0.0,1.2,2.1,8.5,7.8,4.0,2.5,1.1,1.9,2.8,6.7,3.4,1.4,2.7,2.1,4.2,2.0,0.7,1.1,1.3,0.3,1.0,2.7,2.3,2.2,1.9,0.6,0.6,1.8,3.3,0.8,5.3,4.2,1.8,0.5,5.2,1.3,10.0,2.6,6.0,2.6,2.4,5.4,4.0,1.3,0.8,1.1,0.8,3.8,2.2,4.6,1.1,0.8,3.1,0.8,0.5,0.6,1.5,1.7,1.3,2.0,4.2,2.0,8.8,0.4,0.9,1.7,1.2,1.7,9.0,0.8,1.2,1.3,0.5,2.2,3.4,1.7,0.7,3.9,1.6,2.8,0.8,1.3,5.3,0.8,1.4,0.6,1.6,3.5,2.5,7.5,1.1,3.4,0.8,2.5,0.5,1.4,10.6,6.1,1.0,0.9,0.0,3.7,2.0,1.3,1.3,2.1,1.3,3.0,3.1,0.8,3.4,0.9,3.0,1.3,7.9,2.4,1.6,1.7,1.4,2.8,2.7,2.3,1.7,0.3,1.3,4.1,2.3,1.4,1.5,1.3,0.7,2.9,0.2,2.5,1.5,1.1,2.8,0.6,0.5,1.6,4.1,1.3,2.5,3.4,2.5,3.0,0.8,1.2,3.3,5.5,3.2,1.2,0.9,1.5,6.9,0.3,1.3,1.7,1.3,3.0,0.5,2.1,3.6,3.0,0.6,3.1,1.2,3.0,2.4,6.5,2.7,2.3],\"y\":[17.5,8.0,8.5,4.5,8.5,27.5,11.5,7.5,7.5,5.0,6.0,7.0,7.0,5.5,7.0,19.0,6.0,6.5,9.0,4.5,52.0,6.5,3.5,4.5,8.5,5.5,32.0,8.5,8.5,9.0,4.0,7.0,16.0,7.5,11.5,8.0,5.5,5.0,7.0,19.5,52.0,10.0,7.0,5.0,24.5,9.5,12.5,4.0,7.0,5.5,17.5,7.0,33.5,5.5,7.0,23.0,11.5,6.5,6.5,11.5,13.0,9.0,10.5,18.5,11.0,5.5,6.5,7.0,4.5,7.5,13.0,8.0,6.5,52.0,8.5,12.0,10.0,4.0,20.0,7.0,16.0,4.5,10.0,17.5,4.5,4.5,5.5,5.0,8.0,15.0,6.0,13.0,23.5,7.0,4.5,4.0,6.5,8.0,6.5,7.5,10.5,7.0,11.5,5.5,8.5,6.0,21.0,5.5,19.0,3.5,5.5,31.0,12.0,11.0,17.0,7.0,5.0,8.5,12.0,5.0,11.5,7.0,11.5,15.0,4.0,12.5,15.5,28.5,6.5,31.5,13.5,6.0,8.0,5.5,6.5,7.5,5.5,9.0,20.5,12.0,8.0,7.5,16.0,9.5,15.0,7.0,3.5,8.0,7.0,12.5,13.5,14.0,4.5,7.5,5.0,6.0,9.0,8.5,4.0,22.0,5.0,9.5,7.0,4.5,8.5,7.5,5.0,4.0,5.5,10.5,7.0,8.0,4.0,8.5,14.5,5.0,3.0,29.5,11.5,10.0,6.0,7.0,10.0,16.0,9.5,6.5,7.5,11.5,5.0,11.0,9.0,11.0,11.0,4.5,6.5,16.5,2.5,5.5,6.5,15.0,9.0,10.5,10.0,52.0,11.0,11.5,6.0,8.5,9.0,7.0,4.5,13.0,5.0,5.5,5.5,7.0,17.0,8.5,71.0,5.0,6.5,9.5,8.5,11.5,13.5,6.5,34.0,4.0,8.5,8.0,9.5,9.0,5.0,8.0,7.5,52.0,22.0,8.5,7.0,15.5,10.0,8.5,9.0,17.0,5.5,20.5,8.5,10.0,10.0,4.0,7.5,3.0,20.5,8.5,6.5,14.5,8.0,11.0,7.5,11.0,12.0,7.5,13.0,6.5,9.0,5.0,10.5,11.5,6.5,7.0,6.5,12.0,62.0,5.0,11.5,16.0,6.5,12.0,11.0,7.5,5.0,8.5,10.5,6.0,6.0,9.5,13.0,3.5,11.5,12.5,13.0,6.0,17.0,9.0,52.0,14.5,6.5,6.0,5.0,29.5,3.5,19.5,5.5,5.0,13.5,11.0,5.0,8.5,8.5,11.0,10.0,6.5,6.5,16.5,8.0,10.0,13.5,20.0,15.5,4.5,10.5,8.5,8.0,3.0,8.5,14.5,8.5,4.5,9.0,5.5,7.5,8.0,6.5,4.0,9.5,9.0,15.5,19.5,18.0,6.0,14.0,6.0,9.5,4.0,5.0,4.0,5.5,3.5,6.5,52.0,20.5,17.0,8.0,7.5,8.0,13.0,7.0,10.0,23.5,4.5,8.5,14.0,4.5,8.5,13.5,9.5,4.0,11.0,5.5,6.5,6.5,5.5,7.0,12.5,25.5,9.0,6.0,5.5,7.0,7.0,6.5,8.5,11.5,4.5,13.0,13.5,5.5,8.5,7.5,7.5,12.0,6.5,11.0,2.5,9.0,5.0,11.0,7.0,5.0,18.0,5.0,6.0,10.5,5.5,10.0,17.0,8.0,4.5,9.5,11.0,31.5,6.5,8.0,7.0,7.5,11.0,11.0,27.0,8.0,12.5,7.0,11.5,7.0,7.0,11.5,3.5,18.5,6.0,8.0,5.0,7.5,8.0,12.5,13.5,10.0,6.5,9.0,6.0,6.0,4.0,8.0,7.5,9.0,5.0,7.0,7.0,7.0,4.0,4.0,5.5,22.0,8.5,11.5,7.0,10.0,5.5,10.5,8.0,13.0,9.0,9.0,15.5,6.5,7.0,4.0,6.0,6.0,9.0,9.0,9.5,6.5,12.5,11.5,8.0,5.5,8.5,9.5,5.0,5.0,8.0,7.0,7.0,9.5,7.0,8.5,7.5,17.5,12.0,4.0,8.0,8.0,10.5,7.5,16.0,8.5,8.5,23.0,5.5,10.0,8.0,9.0,4.0,8.0,7.0,8.5,9.0,19.5,9.0,9.5,9.0,52.0,7.0,7.5,11.5,8.5,6.0,4.5,8.0,8.0,24.0,7.5,6.0,9.0,6.0,7.5,7.0,18.0,32.5,3.5,8.5,6.5,7.0,3.5,7.0,7.0,10.5,4.5,19.5,7.5,9.5,12.5,7.5,6.0,6.0,11.0,6.5,4.5,6.5,6.5,8.5,9.5,10.0,8.0,9.5,12.5,10.5,12.5,10.5,13.0,13.5,15.5,5.5,7.5,7.0,9.5,3.0,8.5,17.5,8.0,5.5,12.0,12.5,4.0,9.5,7.0,13.0,5.0,10.0,4.0,5.0,12.0,10.0,9.5,4.5,7.0,4.0,10.5,9.5,4.0,14.0,7.5,4.0,11.5,4.5,24.0,29.5,9.5,17.5,13.5,10.5,6.0,8.0,13.0,6.0,7.5,5.0,3.5,10.0,6.0,6.5,11.5,35.0,5.5,11.5,12.0,8.0,17.5,5.0,6.5,6.5,5.0,13.0,11.0,32.5,12.0,11.0,7.5,8.0,11.5,6.0,11.0,15.0,13.0,9.5,25.0,9.5,7.0,4.5,6.5,10.0,7.0,7.0,26.5,7.5,10.0,7.0,10.0,11.5,4.0,8.0,12.0,4.0,5.5,9.5,15.5,7.0,15.5,3.5,2.5,9.0,5.0,6.0,5.5,30.5,3.0,16.0,7.0,5.5,39.5,35.0,5.5,3.5,8.5,12.0,8.0,7.0,7.5,7.5,14.5,7.0,20.5,21.5,6.0,6.5,6.5,8.0,13.5,5.5,39.0,6.0,17.0,12.5,24.5,11.0,10.0,7.0,15.5,9.5,22.0,17.0,8.0,22.0,7.0,8.0,15.5,12.0,3.0,9.0,14.5,16.5,6.5,13.5,7.5,25.5,13.0,14.0,15.5,5.5,5.0,14.5,9.0,5.0,6.5,4.5,8.5,14.0,40.0,5.0,10.5,6.0,8.0,34.0,11.0,6.5,6.0,9.0,7.0,10.5,15.0,8.0,4.5,11.0,6.0,10.5,12.0,17.0,5.0,5.0,11.5,24.5,52.0,4.5,4.0,6.0,14.0,5.0,8.0,12.0,5.0,14.0,7.0,14.0,7.0,9.5,9.5,12.0,20.0,6.0,12.5,7.5,4.5,25.5,4.5,14.0,10.0,12.5,7.5,9.0,6.5,8.5,4.0,8.5,4.0,7.0,37.5,20.0,15.5,5.0,8.5,7.5,15.5,13.5,6.5,8.5,3.5,8.5,7.5,6.5,5.5,18.0,7.0,16.0,28.0,9.5,15.0,6.5,31.5,5.0,30.5,5.5,11.0,14.5,10.5,7.0,34.0,10.0,9.0,11.5,5.0,2.5,5.0,8.5,4.5,11.0,6.0,23.5,11.5,2.5,9.5,11.5,24.5,25.0,14.0,11.5,9.0,10.5,15.5,26.5,15.0,6.0,11.5,9.5,25.0,9.5,6.0,6.5,6.5,4.0,6.5,13.5,10.5,9.0,9.0,4.0,4.5,8.5,13.5,5.0,19.0,15.5,9.0,4.5,17.5,7.0,34.5,10.0,21.0,11.0,10.0,19.5,15.5,7.5,5.0,7.5,5.5,13.5,8.5,15.0,5.5,5.0,11.0,6.5,4.0,4.0,8.5,8.0,6.0,8.5,17.0,9.5,26.5,4.0,5.0,6.5,7.0,8.5,28.5,5.0,7.0,7.0,4.5,10.5,13.5,8.0,4.5,15.0,7.5,11.0,5.5,6.5,19.5,5.0,6.5,4.5,8.0,14.0,9.0,24.0,6.5,13.0,5.0,12.0,4.5,8.0,32.5,21.5,6.5,5.0,2.5,16.5,9.5,8.5,8.5,10.5,7.0,13.0,15.0,6.5,13.0,5.5,13.0,8.0,24.5,12.0,7.5,8.0,7.5,11.0,11.0,9.5,7.0,4.0,6.5,14.5,10.0,8.5,7.0,6.5,5.5,14.0,3.5,11.0,8.0,7.0,12.0,5.0,6.5,8.5,14.0,6.0,10.0,14.0,11.0,12.0,4.5,6.0,16.0,19.0,16.0,8.0,6.0,7.0,22.5,3.5,7.5,7.0,5.5,11.5,4.0,8.5,14.5,11.5,5.5,11.5,6.0,11.0,9.5,19.5,9.5,8.5],\"mode\":\"markers\",\"marker\":{\"color\":[1271.0,474.0,637.0,181.0,661.0,935.0,869.0,454.0,366.0,252.0,314.0,480.0,386.0,351.0,407.0,970.0,371.0,367.0,621.0,243.0,3.0,485.0,88.0,160.0,596.0,270.0,1728.0,493.0,655.0,571.0,144.0,453.0,1074.0,470.0,821.0,539.0,397.0,223.0,457.0,1527.0,1785.0,612.0,467.0,262.0,1603.0,659.0,1069.0,139.0,411.0,340.0,1439.0,425.0,2561.0,308.0,385.0,1267.0,829.0,319.0,390.0,820.0,702.0,771.0,850.0,846.0,697.0,244.0,299.0,338.0,177.0,356.0,778.0,514.0,372.0,2104.0,489.0,1000.0,840.0,123.0,1070.0,427.0,1120.0,241.0,677.0,1151.0,176.0,133.0,302.0,284.0,543.0,668.0,402.0,887.0,1906.0,357.0,143.0,135.0,332.0,460.0,421.0,482.0,765.0,543.0,879.0,384.0,633.0,348.0,736.0,257.0,1600.0,74.0,275.0,1531.0,902.0,813.0,1357.0,433.0,194.0,453.0,979.0,233.0,715.0,433.0,934.0,1047.0,186.0,1086.0,910.0,1220.0,462.0,1931.0,731.0,381.0,542.0,254.0,408.0,569.0,325.0,629.0,1603.0,572.0,485.0,415.0,1445.0,721.0,1149.0,386.0,65.0,525.0,355.0,775.0,1029.0,972.0,214.0,552.0,235.0,341.0,574.0,549.0,205.0,1605.0,210.0,696.0,397.0,224.0,632.0,529.0,208.0,177.0,377.0,859.0,361.0,320.0,162.0,386.0,1461.0,289.0,95.0,2129.0,893.0,876.0,371.0,430.0,491.0,981.0,591.0,377.0,554.0,865.0,374.0,945.0,615.0,758.0,668.0,128.0,429.0,1023.0,1789.0,214.0,370.0,1055.0,593.0,681.0,665.0,2638.0,562.0,1005.0,373.0,587.0,682.0,380.0,248.0,878.0,271.0,307.0,303.0,397.0,1393.0,671.0,2528.0,249.0,378.0,666.0,553.0,966.0,850.0,369.0,1775.0,173.0,539.0,483.0,720.0,674.0,208.0,263.0,417.0,1218.0,1315.0,448.0,497.0,1151.0,815.0,599.0,516.0,1273.0,332.0,1524.0,670.0,816.0,822.0,180.0,462.0,65.0,1338.0,621.0,387.0,1029.0,537.0,764.0,510.0,805.0,1006.0,403.0,890.0,499.0,741.0,263.0,731.0,879.0,396.0,361.0,289.0,701.0,1369.0,272.0,886.0,1033.0,345.0,893.0,876.0,581.0,299.0,655.0,883.0,363.0,363.0,724.0,999.0,90.0,813.0,934.0,1006.0,368.0,1431.0,691.0,3633.0,867.0,446.0,304.0,217.0,1535.0,107.0,1102.0,395.0,229.0,1101.0,759.0,250.0,599.0,523.0,596.0,594.0,397.0,443.0,1164.0,511.0,638.0,1093.0,1504.0,1309.0,183.0,749.0,661.0,537.0,84.0,688.0,1054.0,549.0,193.0,689.0,369.0,495.0,581.0,329.0,147.0,686.0,493.0,1018.0,918.0,1667.0,396.0,801.0,362.0,733.0,153.0,188.0,167.0,198.0,137.0,443.0,2962.0,874.0,1147.0,577.0,566.0,648.0,1016.0,502.0,822.0,886.0,196.0,476.0,971.0,241.0,605.0,1034.0,794.0,198.0,959.0,331.0,374.0,390.0,333.0,443.0,991.0,1263.0,598.0,313.0,285.0,487.0,464.0,340.0,457.0,612.0,155.0,869.0,1117.0,234.0,471.0,483.0,570.0,826.0,670.0,852.0,2.0,646.0,180.0,655.0,404.0,264.0,1492.0,261.0,343.0,812.0,271.0,680.0,1645.0,497.0,169.0,689.0,828.0,1788.0,274.0,553.0,469.0,385.0,745.0,825.0,1815.0,524.0,1037.0,358.0,837.0,490.0,479.0,863.0,117.0,863.0,294.0,505.0,282.0,494.0,453.0,992.0,1124.0,598.0,375.0,740.0,400.0,321.0,95.0,513.0,477.0,725.0,296.0,542.0,392.0,451.0,116.0,122.0,233.0,1231.0,594.0,827.0,461.0,883.0,290.0,695.0,643.0,1015.0,656.0,734.0,1187.0,332.0,435.0,202.0,302.0,252.0,597.0,566.0,553.0,350.0,955.0,961.0,592.0,301.0,376.0,670.0,220.0,273.0,651.0,397.0,397.0,564.0,515.0,535.0,491.0,1448.0,838.0,156.0,368.0,610.0,742.0,352.0,1090.0,530.0,621.0,1249.0,349.0,592.0,511.0,656.0,186.0,472.0,461.0,547.0,553.0,1467.0,564.0,720.0,673.0,3847.0,458.0,375.0,960.0,608.0,368.0,188.0,560.0,463.0,931.0,487.0,439.0,724.0,321.0,587.0,420.0,1108.0,1740.0,113.0,618.0,331.0,489.0,99.0,419.0,367.0,686.0,234.0,985.0,418.0,775.0,1161.0,491.0,340.0,315.0,756.0,353.0,223.0,320.0,437.0,609.0,726.0,758.0,586.0,608.0,728.0,592.0,965.0,794.0,1034.0,1086.0,1277.0,261.0,544.0,413.0,628.0,55.0,496.0,1279.0,516.0,339.0,609.0,922.0,131.0,681.0,478.0,959.0,169.0,845.0,197.0,187.0,988.0,831.0,732.0,145.0,457.0,89.0,731.0,413.0,143.0,1128.0,529.0,134.0,1024.0,219.0,1141.0,1512.0,738.0,1396.0,1102.0,649.0,349.0,673.0,911.0,310.0,533.0,232.0,89.0,707.0,354.0,477.0,745.0,1799.0,267.0,836.0,871.0,545.0,1430.0,230.0,346.0,426.0,257.0,1167.0,681.0,1412.0,689.0,644.0,526.0,550.0,782.0,219.0,633.0,1282.0,1020.0,541.0,1106.0,566.0,443.0,172.0,300.0,604.0,339.0,487.0,1510.0,449.0,805.0,299.0,594.0,668.0,194.0,411.0,931.0,157.0,283.0,664.0,1340.0,435.0,1435.0,114.0,33.0,473.0,215.0,272.0,302.0,1471.0,68.0,905.0,467.0,290.0,2471.0,1511.0,237.0,116.0,581.0,759.0,536.0,336.0,302.0,510.0,1052.0,463.0,1212.0,1095.0,330.0,442.0,383.0,537.0,644.0,287.0,2087.0,271.0,1312.0,816.0,900.0,673.0,439.0,380.0,1045.0,784.0,1396.0,861.0,330.0,694.0,397.0,527.0,1447.0,1150.0,54.0,526.0,1043.0,952.0,396.0,828.0,317.0,817.0,999.0,875.0,1156.0,276.0,197.0,1225.0,443.0,283.0,374.0,267.0,539.0,916.0,1848.0,230.0,600.0,301.0,569.0,2245.0,723.0,447.0,437.0,769.0,413.0,906.0,1203.0,646.0,221.0,857.0,211.0,537.0,766.0,1210.0,203.0,149.0,708.0,771.0,526.0,203.0,125.0,326.0,1014.0,266.0,654.0,992.0,289.0,1023.0,290.0,872.0,430.0,501.0,375.0,774.0,1256.0,337.0,847.0,415.0,171.0,1790.0,185.0,1183.0,679.0,621.0,405.0,607.0,313.0,525.0,165.0,592.0,158.0,395.0,1858.0,1208.0,1344.0,266.0,422.0,515.0,1310.0,1223.0,409.0,651.0,99.0,650.0,405.0,381.0,324.0,1404.0,377.0,744.0,1180.0,579.0,1224.0,251.0,1364.0,334.0,1594.0,302.0,749.0,1126.0,856.0,413.0,1958.0,815.0,760.0,789.0,373.0,11.0,209.0,473.0,185.0,663.0,276.0,1133.0,580.0,7.0,768.0,888.0,858.0,1190.0,752.0,725.0,713.0,767.0,1345.0,1894.0,1122.0,228.0,731.0,641.0,2300.0,709.0,390.0,320.0,356.0,180.0,384.0,1133.0,670.0,507.0,532.0,152.0,214.0,542.0,994.0,252.0,1280.0,921.0,566.0,220.0,920.0,408.0,2323.0,487.0,1142.0,665.0,669.0,1066.0,1036.0,496.0,265.0,498.0,306.0,757.0,417.0,747.0,186.0,229.0,489.0,417.0,170.0,142.0,615.0,431.0,276.0,464.0,1055.0,553.0,1314.0,158.0,194.0,212.0,414.0,549.0,1628.0,216.0,469.0,421.0,167.0,765.0,860.0,461.0,172.0,852.0,409.0,641.0,243.0,315.0,1213.0,208.0,392.0,206.0,517.0,854.0,380.0,1349.0,387.0,689.0,203.0,834.0,219.0,575.0,1680.0,1386.0,390.0,204.0,9.0,1249.0,545.0,637.0,591.0,696.0,369.0,916.0,1166.0,405.0,750.0,293.0,912.0,596.0,1165.0,821.0,414.0,472.0,470.0,646.0,510.0,540.0,285.0,197.0,353.0,762.0,562.0,617.0,341.0,390.0,318.0,999.0,103.0,669.0,503.0,470.0,826.0,233.0,529.0,512.0,698.0,292.0,534.0,1002.0,727.0,796.0,167.0,283.0,1346.0,1224.0,1403.0,592.0,359.0,336.0,1178.0,120.0,500.0,304.0,227.0,697.0,97.0,413.0,872.0,652.0,292.0,516.0,301.0,586.0,571.0,717.0,426.0,313.0],\"colorscale\":\"Jet\"}}];\n            var layout = {\"title\":\"Plot Fare depending on Distance\",\"showlegend\":false,\"xaxis\":{\"title\":\"Distance\",\"_isSubplotObj\":true},\"yaxis\":{\"title\":\"Fares\",\"_isSubplotObj\":true}};\n            Plotly.newPlot('c5b5c628-5be0-4c84-8e99-0fdbf63f6008', data, layout);\n        \r\n});\r\n};\r\n// ensure `require` is available globally\r\nif ((typeof(require) !==  typeof(Function)) || (typeof(require.config) !== typeof(Function))) {\r\n    let require_script = document.createElement('script');\r\n    require_script.setAttribute('src', 'https://cdnjs.cloudflare.com/ajax/libs/require.js/2.3.6/require.min.js');\r\n    require_script.setAttribute('type', 'text/javascript');\r\n    \r\n    \r\n    require_script.onload = function() {\r\n        renderPlotly();\r\n    };\r\n\r\n    document.getElementsByTagName('head')[0].appendChild(require_script);\r\n}\r\nelse {\r\n    renderPlotly();\r\n}\r\n\r\n</script>\r\n"
     },
     "execution_count": 1,
     "metadata": {}
    }
   ]
  },
  {
   "cell_type": "code",
   "execution_count": 1,
   "metadata": {},
   "source": [
    "// Plot Fare depending on Passengers\n",
    "\n",
    "int numberOfRows = 2000;\n",
    "float[] fares = trainDataView.GetColumn<float>(\"FareAmount\").Take(numberOfRows).ToArray();\n",
    "float[] passengerCounts = trainDataView.GetColumn<float>(\"PassengerCount\").Take(numberOfRows).ToArray();\n",
    "\n",
    "float[] distances = trainDataView.GetColumn<float>(\"TripDistance\").Take(numberOfRows).ToArray();\n",
    "float[] times = trainDataView.GetColumn<float>(\"TripTime\").Take(numberOfRows).ToArray();\n",
    "\n",
    "var chartFareVsPassengers = Chart.Plot(\n",
    "    new Graph.Scatter()\n",
    "    {\n",
    "        x = passengerCounts,\n",
    "        y = fares,\n",
    "        mode = \"markers\",\n",
    "    }\n",
    ");\n",
    "\n",
    "var layout = new Layout.Layout(){title=\"Plot Fare depending on Passengers\"};\n",
    "chartFareVsPassengers.WithLayout(layout);\n",
    "chartFareVsPassengers.Width = 500;\n",
    "chartFareVsPassengers.Height = 500;\n",
    "chartFareVsPassengers.WithXTitle(\"Passengers\");\n",
    "chartFareVsPassengers.WithYTitle(\"Fares\");\n",
    "chartFareVsPassengers.WithLegend(false);\n",
    "\n",
    "display(chartFareVsPassengers);"
   ],
   "outputs": [
    {
     "output_type": "execute_result",
     "data": {
      "text/html": "<div id=\"051c8d6a-626c-4c0e-81f1-aec3ce9a505d\" style=\"width: 500px; height: 500px;\"></div>\r\n<script type=\"text/javascript\">\r\n\r\nvar renderPlotly = function() {\r\n    var xplotRequire = require.config({context:'xplot-3.0.1',paths:{plotly:'https://cdn.plot.ly/plotly-1.49.2.min'}}) || require;\r\n    xplotRequire(['plotly'], function(Plotly) {\r\n\n            var data = [{\"type\":\"scatter\",\"x\":[1.0,1.0,1.0,1.0,1.0,1.0,1.0,1.0,1.0,1.0,1.0,1.0,1.0,2.0,1.0,2.0,3.0,2.0,1.0,1.0,1.0,3.0,1.0,2.0,2.0,1.0,1.0,1.0,1.0,1.0,2.0,1.0,2.0,1.0,1.0,2.0,1.0,1.0,1.0,1.0,1.0,2.0,2.0,2.0,1.0,1.0,4.0,1.0,1.0,1.0,1.0,2.0,1.0,1.0,2.0,1.0,1.0,1.0,1.0,3.0,1.0,1.0,1.0,1.0,1.0,1.0,1.0,2.0,1.0,1.0,1.0,1.0,1.0,2.0,1.0,1.0,1.0,1.0,2.0,1.0,1.0,1.0,1.0,1.0,1.0,1.0,2.0,2.0,1.0,1.0,1.0,2.0,1.0,1.0,1.0,1.0,1.0,1.0,1.0,2.0,1.0,1.0,1.0,2.0,1.0,1.0,1.0,3.0,2.0,1.0,1.0,1.0,1.0,1.0,1.0,2.0,1.0,2.0,1.0,2.0,1.0,1.0,1.0,1.0,1.0,2.0,2.0,1.0,1.0,1.0,1.0,2.0,1.0,1.0,1.0,4.0,2.0,3.0,1.0,1.0,1.0,1.0,1.0,1.0,1.0,2.0,1.0,2.0,2.0,1.0,1.0,1.0,1.0,1.0,1.0,1.0,1.0,1.0,1.0,1.0,2.0,1.0,1.0,1.0,1.0,2.0,1.0,1.0,1.0,2.0,2.0,2.0,1.0,1.0,1.0,1.0,1.0,1.0,1.0,1.0,2.0,2.0,1.0,1.0,2.0,1.0,1.0,1.0,1.0,2.0,2.0,3.0,1.0,1.0,1.0,1.0,1.0,1.0,3.0,1.0,2.0,2.0,1.0,2.0,1.0,1.0,1.0,1.0,1.0,1.0,1.0,1.0,1.0,1.0,1.0,1.0,1.0,2.0,1.0,1.0,1.0,1.0,2.0,1.0,1.0,1.0,2.0,2.0,1.0,2.0,1.0,2.0,1.0,2.0,1.0,1.0,1.0,1.0,1.0,1.0,1.0,1.0,1.0,1.0,1.0,1.0,1.0,1.0,3.0,1.0,2.0,1.0,1.0,1.0,1.0,1.0,3.0,1.0,2.0,2.0,1.0,1.0,1.0,1.0,2.0,1.0,1.0,1.0,1.0,1.0,1.0,1.0,2.0,1.0,1.0,1.0,1.0,1.0,1.0,1.0,2.0,1.0,1.0,1.0,1.0,1.0,1.0,1.0,1.0,2.0,1.0,1.0,1.0,1.0,1.0,1.0,2.0,2.0,1.0,2.0,1.0,1.0,1.0,1.0,1.0,2.0,1.0,3.0,1.0,1.0,1.0,1.0,1.0,1.0,1.0,2.0,2.0,1.0,2.0,1.0,1.0,1.0,1.0,1.0,2.0,1.0,2.0,1.0,1.0,1.0,1.0,1.0,1.0,1.0,3.0,1.0,1.0,1.0,1.0,1.0,1.0,3.0,1.0,1.0,2.0,1.0,2.0,2.0,1.0,1.0,2.0,1.0,2.0,1.0,1.0,1.0,4.0,2.0,1.0,1.0,2.0,1.0,1.0,4.0,2.0,1.0,2.0,1.0,1.0,2.0,1.0,1.0,1.0,1.0,1.0,1.0,1.0,2.0,1.0,3.0,2.0,2.0,2.0,2.0,1.0,2.0,1.0,1.0,1.0,1.0,1.0,1.0,1.0,1.0,2.0,1.0,1.0,2.0,1.0,1.0,2.0,2.0,1.0,1.0,1.0,1.0,1.0,1.0,1.0,1.0,1.0,1.0,1.0,1.0,1.0,1.0,1.0,1.0,2.0,2.0,1.0,1.0,1.0,1.0,1.0,1.0,1.0,1.0,1.0,1.0,1.0,3.0,1.0,1.0,2.0,1.0,1.0,1.0,1.0,1.0,1.0,1.0,1.0,1.0,1.0,2.0,2.0,2.0,1.0,1.0,1.0,1.0,1.0,2.0,2.0,1.0,1.0,1.0,1.0,2.0,2.0,1.0,2.0,2.0,2.0,1.0,1.0,2.0,1.0,1.0,1.0,1.0,1.0,1.0,1.0,1.0,1.0,1.0,1.0,2.0,2.0,1.0,1.0,1.0,1.0,2.0,2.0,1.0,1.0,1.0,1.0,1.0,1.0,1.0,1.0,2.0,1.0,1.0,1.0,1.0,1.0,1.0,1.0,2.0,2.0,1.0,1.0,1.0,1.0,1.0,1.0,2.0,1.0,1.0,2.0,1.0,1.0,1.0,1.0,1.0,1.0,1.0,1.0,1.0,1.0,1.0,1.0,1.0,1.0,2.0,1.0,1.0,1.0,1.0,2.0,1.0,1.0,1.0,1.0,1.0,1.0,2.0,1.0,1.0,1.0,2.0,3.0,1.0,1.0,1.0,1.0,1.0,1.0,1.0,1.0,1.0,1.0,4.0,4.0,2.0,2.0,1.0,2.0,1.0,1.0,1.0,1.0,2.0,2.0,2.0,2.0,1.0,1.0,1.0,1.0,1.0,1.0,1.0,1.0,1.0,1.0,1.0,2.0,1.0,1.0,2.0,1.0,1.0,3.0,3.0,1.0,1.0,1.0,2.0,1.0,1.0,2.0,1.0,1.0,4.0,1.0,1.0,1.0,1.0,1.0,1.0,1.0,2.0,3.0,2.0,3.0,2.0,1.0,2.0,2.0,2.0,1.0,1.0,1.0,1.0,1.0,1.0,1.0,1.0,1.0,1.0,1.0,1.0,2.0,1.0,1.0,1.0,2.0,1.0,1.0,1.0,2.0,1.0,1.0,1.0,1.0,1.0,1.0,1.0,1.0,1.0,4.0,2.0,1.0,2.0,1.0,1.0,1.0,1.0,1.0,1.0,1.0,1.0,1.0,1.0,1.0,1.0,1.0,1.0,1.0,1.0,1.0,1.0,1.0,1.0,2.0,1.0,1.0,2.0,1.0,1.0,1.0,1.0,1.0,1.0,1.0,1.0,1.0,1.0,1.0,3.0,1.0,2.0,1.0,1.0,1.0,1.0,1.0,1.0,1.0,2.0,1.0,1.0,1.0,1.0,2.0,2.0,2.0,1.0,1.0,1.0,1.0,1.0,1.0,1.0,2.0,2.0,2.0,1.0,1.0,1.0,1.0,1.0,1.0,1.0,1.0,1.0,2.0,1.0,1.0,1.0,1.0,1.0,2.0,1.0,1.0,1.0,1.0,1.0,1.0,2.0,1.0,1.0,1.0,1.0,1.0,1.0,1.0,1.0,1.0,1.0,2.0,1.0,1.0,2.0,1.0,1.0,1.0,1.0,1.0,1.0,1.0,1.0,1.0,1.0,1.0,1.0,1.0,1.0,1.0,2.0,2.0,1.0,1.0,2.0,2.0,1.0,1.0,2.0,2.0,2.0,2.0,1.0,2.0,1.0,1.0,1.0,1.0,1.0,1.0,1.0,1.0,2.0,1.0,1.0,1.0,2.0,1.0,1.0,1.0,1.0,1.0,1.0,2.0,3.0,2.0,1.0,1.0,2.0,1.0,1.0,1.0,2.0,3.0,1.0,1.0,1.0,1.0,1.0,2.0,1.0,1.0,2.0,1.0,2.0,1.0,1.0,4.0,2.0,1.0,2.0,1.0,1.0,1.0,1.0,1.0,1.0,1.0,1.0,1.0,1.0,1.0,2.0,2.0,1.0,1.0,2.0,1.0,2.0,1.0,1.0,2.0,1.0,1.0,3.0,2.0,1.0,1.0,1.0,2.0,1.0,2.0,2.0,3.0,1.0,1.0,1.0,1.0,1.0,2.0,1.0,2.0,4.0,4.0,2.0,1.0,1.0,1.0,1.0,2.0,1.0,1.0,2.0,1.0,1.0,2.0,2.0,1.0,2.0,1.0,1.0,1.0,1.0,1.0,1.0,1.0,1.0,2.0,1.0,1.0,1.0,1.0,1.0,1.0,3.0,2.0,3.0,2.0,1.0,2.0,2.0,1.0,1.0,2.0,1.0,1.0,1.0,1.0,1.0,3.0,2.0,1.0,1.0,1.0,2.0,2.0,1.0,1.0,1.0,2.0,2.0,1.0,1.0,1.0,2.0,1.0,1.0,3.0,3.0,1.0,4.0,1.0,1.0,4.0,1.0,2.0,1.0,1.0,4.0,1.0,2.0,2.0,2.0,2.0,2.0,2.0,1.0,1.0,2.0,2.0,1.0,1.0,2.0,3.0,1.0,1.0,2.0,1.0,1.0,2.0,1.0,2.0,3.0,2.0,1.0,2.0,2.0,1.0,1.0,1.0,3.0,2.0,1.0,1.0,1.0,1.0,2.0,1.0,1.0,1.0,1.0,1.0,1.0,1.0,2.0,1.0,2.0,2.0,2.0,3.0,3.0,1.0,1.0,1.0,1.0,1.0,1.0,1.0,1.0,2.0,2.0,1.0,1.0,1.0,1.0,3.0,1.0,1.0,1.0,1.0,2.0,3.0,2.0,1.0,1.0,1.0,2.0,1.0,1.0,1.0,1.0,2.0,1.0,1.0,1.0,2.0,2.0,1.0,1.0,2.0,1.0,1.0,1.0,2.0,1.0,1.0,1.0,1.0,1.0,1.0,1.0,1.0,1.0,1.0,2.0,2.0,2.0,1.0,2.0,1.0,2.0,3.0,2.0,3.0,1.0,2.0,1.0,1.0,1.0,2.0,1.0,1.0,2.0,1.0,1.0,1.0,1.0,3.0,1.0,1.0,1.0,1.0,1.0,2.0,3.0,1.0,1.0,1.0,1.0,2.0,3.0,1.0,2.0,2.0,1.0,3.0,1.0,2.0,1.0,1.0,1.0,1.0,1.0,3.0,1.0,3.0,1.0,2.0,1.0,4.0,2.0,1.0,2.0,3.0,1.0,2.0,2.0,3.0,2.0,1.0,2.0,1.0,1.0,1.0,2.0,1.0,2.0,1.0,1.0,1.0,2.0,1.0,1.0,1.0,1.0,1.0,1.0,1.0,1.0,1.0,1.0,1.0,1.0,1.0,2.0,2.0,1.0,1.0,1.0,1.0,1.0,1.0,1.0,1.0,1.0,1.0,1.0,2.0,1.0,2.0,1.0,2.0,4.0,2.0,2.0,3.0,1.0,2.0,1.0,1.0,1.0,2.0,1.0,3.0,1.0,1.0,2.0,1.0,1.0,1.0,1.0,1.0,2.0,2.0,1.0,1.0,2.0,3.0,1.0,2.0,1.0,1.0,1.0,1.0,1.0,1.0,2.0,1.0,1.0,2.0,1.0,2.0,1.0,3.0,1.0,1.0,1.0,1.0,2.0,1.0,1.0,4.0,2.0,1.0,2.0,1.0,1.0,1.0,1.0,1.0,3.0,1.0,2.0,1.0,1.0,1.0,1.0,1.0,1.0,1.0,2.0,2.0,1.0,1.0,3.0,2.0,1.0,1.0,1.0,1.0,1.0,2.0,2.0,2.0,1.0,1.0,2.0,1.0,1.0,2.0,1.0,2.0,2.0,2.0,1.0,3.0,1.0,1.0,1.0,2.0,2.0,1.0,1.0,1.0,1.0,1.0,1.0,1.0,1.0,1.0,1.0,3.0,1.0,1.0,1.0,1.0,1.0,2.0,3.0,2.0,1.0,1.0,1.0,3.0,1.0,1.0,1.0,1.0,1.0,2.0,1.0,4.0,2.0,1.0,1.0,1.0,1.0,1.0,2.0,1.0,1.0,1.0,1.0,1.0,1.0,1.0,2.0,1.0,1.0,1.0,1.0,1.0,1.0,1.0,1.0,1.0,1.0,1.0,1.0,1.0,2.0,1.0,1.0,1.0,1.0,1.0,6.0,6.0,6.0,6.0,6.0,6.0,1.0,1.0,2.0,1.0,1.0,1.0,2.0,2.0,2.0,1.0,1.0,1.0,2.0,1.0,2.0,1.0,1.0,1.0,1.0,1.0,2.0,2.0,1.0,1.0,1.0,1.0,6.0,1.0,1.0,1.0,1.0,2.0,1.0,2.0,2.0,1.0,1.0,1.0,1.0,1.0,1.0,2.0,2.0,1.0,1.0,1.0,2.0,1.0,1.0,3.0,2.0,1.0,2.0,1.0,1.0,1.0,1.0,2.0,1.0,1.0,2.0,1.0,1.0,1.0,1.0,1.0,2.0,1.0,1.0,2.0,1.0,1.0,1.0,1.0,1.0,2.0,1.0,6.0,6.0,2.0,2.0,1.0,1.0,3.0,4.0,2.0,2.0,1.0,1.0,2.0,1.0,2.0,1.0,1.0,2.0,1.0,1.0,2.0,2.0,1.0,1.0,1.0,1.0,1.0,1.0,2.0,1.0,1.0,1.0,2.0,1.0,1.0,1.0,1.0,1.0,1.0,1.0,2.0,2.0,1.0,1.0,2.0,1.0,2.0,1.0,1.0,1.0,1.0,1.0,1.0,1.0,1.0,1.0,1.0,1.0,1.0,1.0,4.0,1.0,1.0,1.0,1.0,3.0,1.0,1.0,2.0,1.0,1.0,2.0,2.0,2.0,2.0,1.0,2.0,3.0,1.0,2.0,1.0,1.0,1.0,1.0,1.0,1.0,1.0,1.0,2.0,1.0,1.0,1.0,1.0,1.0,2.0,1.0,1.0,3.0,1.0,1.0,1.0,1.0,1.0,1.0,4.0,1.0,1.0,1.0,1.0,1.0,1.0,1.0,3.0,1.0,1.0,1.0,6.0,6.0,6.0,6.0,6.0,6.0,6.0,6.0,6.0,6.0,6.0,6.0,6.0,6.0,6.0,6.0,5.0,6.0,1.0,1.0,3.0,2.0,2.0,6.0,6.0,6.0,6.0,6.0,6.0,6.0,6.0,6.0,6.0,6.0,6.0,6.0,6.0,6.0,6.0,6.0,6.0,6.0,6.0,6.0,6.0,3.0,2.0,1.0,1.0,1.0,6.0,6.0,6.0,6.0,6.0,6.0,6.0,6.0,6.0,6.0,6.0,6.0,6.0,6.0,6.0,6.0,6.0,6.0,6.0,6.0,6.0,6.0,6.0,6.0,6.0,6.0,6.0,6.0,6.0,6.0,6.0,6.0,6.0,6.0,6.0,6.0,6.0,6.0,6.0,6.0,6.0,6.0,6.0,6.0,6.0,6.0,6.0,6.0,6.0,6.0,6.0,6.0,6.0,6.0,6.0,6.0,6.0,6.0,6.0,6.0,6.0,6.0,6.0,6.0,6.0,6.0,6.0,6.0,6.0,6.0,6.0,6.0,6.0,6.0,6.0,6.0,6.0,6.0,1.0,1.0,6.0,6.0,6.0,6.0,6.0,6.0,6.0,6.0,6.0,6.0,6.0,6.0,6.0,6.0,6.0,6.0,6.0,6.0,6.0,6.0,6.0,6.0,6.0,6.0,6.0,6.0,6.0,6.0,6.0,6.0,6.0,6.0,6.0,6.0,6.0,6.0,6.0,6.0,6.0,6.0,6.0,6.0,6.0,6.0,6.0,6.0,6.0,5.0,6.0,6.0,6.0,6.0,6.0,1.0,6.0,6.0,6.0,6.0,6.0,6.0,6.0,6.0,6.0,6.0,6.0,6.0,6.0,6.0,6.0,6.0,6.0,6.0,6.0,6.0,6.0,6.0,6.0,6.0,6.0,6.0,6.0,6.0,6.0,6.0,6.0,6.0,6.0,6.0,6.0,6.0,6.0,6.0,6.0,6.0,6.0,6.0,6.0,6.0,6.0,6.0,6.0,6.0,6.0,6.0,6.0,6.0,1.0,1.0,6.0,6.0,6.0,6.0,6.0,6.0,6.0,6.0,6.0,6.0,6.0,6.0,6.0,6.0,6.0,6.0,6.0,6.0,6.0,6.0,6.0,6.0,6.0,6.0,6.0,6.0,6.0,6.0,6.0,6.0,6.0,6.0,6.0,6.0,6.0,6.0,6.0,6.0,6.0,6.0,6.0,6.0,6.0,6.0,6.0,6.0,6.0,6.0,6.0,6.0,6.0,6.0,1.0,1.0,1.0,1.0,6.0,6.0,6.0,6.0,6.0,6.0,6.0,6.0,6.0,6.0,6.0,6.0,6.0,6.0,6.0,6.0,6.0,6.0,1.0,1.0,1.0,1.0,1.0,1.0,2.0,1.0,1.0,1.0,2.0,1.0,2.0,2.0,1.0,1.0,3.0,2.0,1.0,2.0,1.0,1.0,1.0,1.0,1.0,2.0,1.0,1.0,1.0,1.0,2.0,1.0,1.0,1.0,1.0,1.0,6.0,6.0,6.0,6.0,6.0,6.0,6.0,6.0,6.0,6.0,1.0,1.0,1.0,1.0,1.0,1.0,1.0,1.0,1.0,1.0,1.0,1.0,1.0,1.0,1.0,1.0,1.0,5.0,6.0,6.0,6.0,6.0,6.0,6.0,6.0,6.0,6.0,6.0,6.0,6.0,6.0,6.0,6.0,6.0,6.0,6.0,6.0,6.0,1.0,1.0,1.0,1.0,1.0,1.0,1.0,1.0,1.0,2.0,2.0,5.0,5.0,5.0,5.0,5.0,5.0,5.0,5.0,1.0,1.0,1.0,1.0,1.0,1.0,1.0,1.0,5.0,5.0,5.0,5.0,5.0,6.0,6.0,6.0,6.0,1.0,2.0,1.0,1.0,1.0,1.0,1.0,2.0,2.0,2.0,1.0,5.0,5.0,5.0,5.0,5.0,5.0,5.0,5.0,5.0,5.0,1.0,1.0,1.0,1.0,1.0,1.0,1.0,1.0,1.0,1.0,1.0,3.0,1.0,1.0,1.0,1.0,6.0,6.0,6.0,6.0,6.0,6.0,6.0,6.0,6.0,6.0,6.0],\"y\":[17.5,8.0,8.5,4.5,8.5,27.5,11.5,7.5,7.5,5.0,6.0,7.0,7.0,5.5,7.0,19.0,6.0,6.5,9.0,4.5,52.0,6.5,3.5,4.5,8.5,5.5,32.0,8.5,8.5,9.0,4.0,7.0,16.0,7.5,11.5,8.0,5.5,5.0,7.0,19.5,52.0,10.0,7.0,5.0,24.5,9.5,12.5,4.0,7.0,5.5,17.5,7.0,33.5,5.5,7.0,23.0,11.5,6.5,6.5,11.5,13.0,9.0,10.5,18.5,11.0,5.5,6.5,7.0,4.5,7.5,13.0,8.0,6.5,52.0,8.5,12.0,10.0,4.0,20.0,7.0,16.0,4.5,10.0,17.5,4.5,4.5,5.5,5.0,8.0,15.0,6.0,13.0,23.5,7.0,4.5,4.0,6.5,8.0,6.5,7.5,10.5,7.0,11.5,5.5,8.5,6.0,21.0,5.5,19.0,3.5,5.5,31.0,12.0,11.0,17.0,7.0,5.0,8.5,12.0,5.0,11.5,7.0,11.5,15.0,4.0,12.5,15.5,28.5,6.5,31.5,13.5,6.0,8.0,5.5,6.5,7.5,5.5,9.0,20.5,12.0,8.0,7.5,16.0,9.5,15.0,7.0,3.5,8.0,7.0,12.5,13.5,14.0,4.5,7.5,5.0,6.0,9.0,8.5,4.0,22.0,5.0,9.5,7.0,4.5,8.5,7.5,5.0,4.0,5.5,10.5,7.0,8.0,4.0,8.5,14.5,5.0,3.0,29.5,11.5,10.0,6.0,7.0,10.0,16.0,9.5,6.5,7.5,11.5,5.0,11.0,9.0,11.0,11.0,4.5,6.5,16.5,2.5,5.5,6.5,15.0,9.0,10.5,10.0,52.0,11.0,11.5,6.0,8.5,9.0,7.0,4.5,13.0,5.0,5.5,5.5,7.0,17.0,8.5,71.0,5.0,6.5,9.5,8.5,11.5,13.5,6.5,34.0,4.0,8.5,8.0,9.5,9.0,5.0,8.0,7.5,52.0,22.0,8.5,7.0,15.5,10.0,8.5,9.0,17.0,5.5,20.5,8.5,10.0,10.0,4.0,7.5,3.0,20.5,8.5,6.5,14.5,8.0,11.0,7.5,11.0,12.0,7.5,13.0,6.5,9.0,5.0,10.5,11.5,6.5,7.0,6.5,12.0,62.0,5.0,11.5,16.0,6.5,12.0,11.0,7.5,5.0,8.5,10.5,6.0,6.0,9.5,13.0,3.5,11.5,12.5,13.0,6.0,17.0,9.0,52.0,14.5,6.5,6.0,5.0,29.5,3.5,19.5,5.5,5.0,13.5,11.0,5.0,8.5,8.5,11.0,10.0,6.5,6.5,16.5,8.0,10.0,13.5,20.0,15.5,4.5,10.5,8.5,8.0,3.0,8.5,14.5,8.5,4.5,9.0,5.5,7.5,8.0,6.5,4.0,9.5,9.0,15.5,19.5,18.0,6.0,14.0,6.0,9.5,4.0,5.0,4.0,5.5,3.5,6.5,52.0,20.5,17.0,8.0,7.5,8.0,13.0,7.0,10.0,23.5,4.5,8.5,14.0,4.5,8.5,13.5,9.5,4.0,11.0,5.5,6.5,6.5,5.5,7.0,12.5,25.5,9.0,6.0,5.5,7.0,7.0,6.5,8.5,11.5,4.5,13.0,13.5,5.5,8.5,7.5,7.5,12.0,6.5,11.0,2.5,9.0,5.0,11.0,7.0,5.0,18.0,5.0,6.0,10.5,5.5,10.0,17.0,8.0,4.5,9.5,11.0,31.5,6.5,8.0,7.0,7.5,11.0,11.0,27.0,8.0,12.5,7.0,11.5,7.0,7.0,11.5,3.5,18.5,6.0,8.0,5.0,7.5,8.0,12.5,13.5,10.0,6.5,9.0,6.0,6.0,4.0,8.0,7.5,9.0,5.0,7.0,7.0,7.0,4.0,4.0,5.5,22.0,8.5,11.5,7.0,10.0,5.5,10.5,8.0,13.0,9.0,9.0,15.5,6.5,7.0,4.0,6.0,6.0,9.0,9.0,9.5,6.5,12.5,11.5,8.0,5.5,8.5,9.5,5.0,5.0,8.0,7.0,7.0,9.5,7.0,8.5,7.5,17.5,12.0,4.0,8.0,8.0,10.5,7.5,16.0,8.5,8.5,23.0,5.5,10.0,8.0,9.0,4.0,8.0,7.0,8.5,9.0,19.5,9.0,9.5,9.0,52.0,7.0,7.5,11.5,8.5,6.0,4.5,8.0,8.0,24.0,7.5,6.0,9.0,6.0,7.5,7.0,18.0,32.5,3.5,8.5,6.5,7.0,3.5,7.0,7.0,10.5,4.5,19.5,7.5,9.5,12.5,7.5,6.0,6.0,11.0,6.5,4.5,6.5,6.5,8.5,9.5,10.0,8.0,9.5,12.5,10.5,12.5,10.5,13.0,13.5,15.5,5.5,7.5,7.0,9.5,3.0,8.5,17.5,8.0,5.5,12.0,12.5,4.0,9.5,7.0,13.0,5.0,10.0,4.0,5.0,12.0,10.0,9.5,4.5,7.0,4.0,10.5,9.5,4.0,14.0,7.5,4.0,11.5,4.5,24.0,29.5,9.5,17.5,13.5,10.5,6.0,8.0,13.0,6.0,7.5,5.0,3.5,10.0,6.0,6.5,11.5,35.0,5.5,11.5,12.0,8.0,17.5,5.0,6.5,6.5,5.0,13.0,11.0,32.5,12.0,11.0,7.5,8.0,11.5,6.0,11.0,15.0,13.0,9.5,25.0,9.5,7.0,4.5,6.5,10.0,7.0,7.0,26.5,7.5,10.0,7.0,10.0,11.5,4.0,8.0,12.0,4.0,5.5,9.5,15.5,7.0,15.5,3.5,2.5,9.0,5.0,6.0,5.5,30.5,3.0,16.0,7.0,5.5,39.5,35.0,5.5,3.5,8.5,12.0,8.0,7.0,7.5,7.5,14.5,7.0,20.5,21.5,6.0,6.5,6.5,8.0,13.5,5.5,39.0,6.0,17.0,12.5,24.5,11.0,10.0,7.0,15.5,9.5,22.0,17.0,8.0,22.0,7.0,8.0,15.5,12.0,3.0,9.0,14.5,16.5,6.5,13.5,7.5,25.5,13.0,14.0,15.5,5.5,5.0,14.5,9.0,5.0,6.5,4.5,8.5,14.0,40.0,5.0,10.5,6.0,8.0,34.0,11.0,6.5,6.0,9.0,7.0,10.5,15.0,8.0,4.5,11.0,6.0,10.5,12.0,17.0,5.0,5.0,11.5,24.5,52.0,4.5,4.0,6.0,14.0,5.0,8.0,12.0,5.0,14.0,7.0,14.0,7.0,9.5,9.5,12.0,20.0,6.0,12.5,7.5,4.5,25.5,4.5,14.0,10.0,12.5,7.5,9.0,6.5,8.5,4.0,8.5,4.0,7.0,37.5,20.0,15.5,5.0,8.5,7.5,15.5,13.5,6.5,8.5,3.5,8.5,7.5,6.5,5.5,18.0,7.0,16.0,28.0,9.5,15.0,6.5,31.5,5.0,30.5,5.5,11.0,14.5,10.5,7.0,34.0,10.0,9.0,11.5,5.0,2.5,5.0,8.5,4.5,11.0,6.0,23.5,11.5,2.5,9.5,11.5,24.5,25.0,14.0,11.5,9.0,10.5,15.5,26.5,15.0,6.0,11.5,9.5,25.0,9.5,6.0,6.5,6.5,4.0,6.5,13.5,10.5,9.0,9.0,4.0,4.5,8.5,13.5,5.0,19.0,15.5,9.0,4.5,17.5,7.0,34.5,10.0,21.0,11.0,10.0,19.5,15.5,7.5,5.0,7.5,5.5,13.5,8.5,15.0,5.5,5.0,11.0,6.5,4.0,4.0,8.5,8.0,6.0,8.5,17.0,9.5,26.5,4.0,5.0,6.5,7.0,8.5,28.5,5.0,7.0,7.0,4.5,10.5,13.5,8.0,4.5,15.0,7.5,11.0,5.5,6.5,19.5,5.0,6.5,4.5,8.0,14.0,9.0,24.0,6.5,13.0,5.0,12.0,4.5,8.0,32.5,21.5,6.5,5.0,2.5,16.5,9.5,8.5,8.5,10.5,7.0,13.0,15.0,6.5,13.0,5.5,13.0,8.0,24.5,12.0,7.5,8.0,7.5,11.0,11.0,9.5,7.0,4.0,6.5,14.5,10.0,8.5,7.0,6.5,5.5,14.0,3.5,11.0,8.0,7.0,12.0,5.0,6.5,8.5,14.0,6.0,10.0,14.0,11.0,12.0,4.5,6.0,16.0,19.0,16.0,8.0,6.0,7.0,22.5,3.5,7.5,7.0,5.5,11.5,4.0,8.5,14.5,11.5,5.5,11.5,6.0,11.0,9.5,19.5,9.5,8.5,8.0,6.5,9.5,10.5,6.5,22.0,14.5,13.0,10.0,11.0,7.5,10.0,32.0,11.0,14.0,10.5,22.5,10.5,23.0,5.0,20.5,6.5,5.5,13.5,11.5,4.5,12.0,8.5,5.5,7.5,12.5,17.5,3.5,5.5,11.0,6.0,5.0,17.5,8.5,19.5,5.0,6.0,4.0,9.5,7.0,23.0,8.5,8.5,9.5,9.5,5.0,8.5,7.5,9.0,4.5,21.5,6.0,6.5,13.0,6.0,20.5,9.0,12.0,10.0,7.5,4.5,18.0,8.0,6.0,7.5,9.0,15.5,5.5,10.5,7.5,8.5,7.0,14.5,8.5,6.5,11.0,14.5,10.5,5.0,5.5,7.0,12.5,6.5,5.5,4.0,22.0,4.5,8.0,11.5,8.5,4.0,10.5,26.5,31.5,6.5,3.5,7.0,10.0,4.5,10.0,7.5,9.5,15.0,8.5,11.5,10.0,21.0,11.5,10.0,3.5,17.0,13.0,6.0,31.0,18.0,6.0,9.0,5.0,5.0,8.0,6.0,13.5,7.0,9.0,8.0,6.0,7.5,7.0,3.5,8.5,5.0,7.0,10.0,5.5,7.0,5.0,7.5,9.0,6.0,13.5,13.0,5.0,5.5,5.0,9.5,4.0,5.5,8.5,6.0,8.0,23.5,13.0,27.0,9.5,13.0,7.5,10.0,5.5,6.5,19.5,8.0,22.0,9.0,6.0,13.0,3.0,9.5,4.0,6.0,7.5,19.5,6.0,9.5,19.5,5.0,13.0,12.0,9.5,9.0,6.5,4.0,13.0,12.0,9.0,6.0,19.5,20.5,6.0,14.5,10.5,7.5,4.5,6.5,9.5,27.5,9.0,5.5,5.5,6.5,2.5,21.0,11.5,18.0,11.5,17.5,3.5,13.5,8.0,31.0,10.0,5.0,12.5,7.5,29.5,13.5,5.5,7.5,8.5,8.5,18.0,17.5,15.0,8.0,12.0,6.5,12.5,4.0,9.5,15.5,9.0,7.5,6.5,3.5,5.5,7.5,10.5,15.0,23.5,5.0,11.5,5.5,8.5,5.5,14.0,7.5,10.5,8.0,10.5,12.0,13.0,7.5,5.0,7.5,6.5,8.5,8.5,10.5,5.5,9.5,7.5,4.5,11.5,7.0,7.0,12.0,10.0,7.5,13.0,9.0,17.5,5.0,4.0,7.0,7.0,6.0,6.0,5.5,16.5,5.5,17.5,3.0,6.5,8.0,13.5,7.0,6.5,9.5,6.0,8.0,6.5,12.0,8.0,7.0,7.5,5.0,4.0,9.0,52.5,4.0,49.0,13.0,5.0,8.5,6.5,8.5,9.0,10.0,5.5,13.5,4.5,7.5,14.5,7.5,4.5,5.0,13.5,13.0,16.0,11.5,7.0,19.5,52.0,4.5,7.5,6.5,3.5,5.5,12.0,8.0,6.0,23.0,12.0,10.5,17.5,12.5,52.0,38.0,6.5,7.5,14.5,6.5,8.5,8.0,17.5,10.5,3.5,68.0,5.0,16.0,8.5,8.0,15.0,8.5,5.5,11.0,20.0,8.5,12.5,8.0,6.0,6.5,4.0,17.5,6.5,8.0,12.5,10.5,30.0,10.0,4.0,19.0,4.5,52.0,7.5,19.0,5.5,6.0,8.5,11.5,13.0,21.0,3.5,8.0,8.5,12.5,6.5,7.5,11.0,53.0,5.5,11.0,5.0,7.0,9.5,31.0,11.0,15.5,4.5,12.0,7.0,4.0,9.5,5.5,10.0,13.5,6.0,22.5,5.5,13.0,20.5,6.0,7.0,15.0,8.5,27.5,7.0,12.0,10.5,6.0,8.0,15.5,22.0,10.5,7.0,7.0,6.5,6.5,11.5,16.0,13.5,6.0,12.0,7.0,8.0,17.5,31.0,8.5,8.0,7.5,4.0,10.0,7.0,6.5,6.5,8.5,6.0,9.5,11.5,3.5,14.0,5.0,10.5,14.0,11.5,5.5,3.5,52.0,7.5,9.5,11.5,17.5,8.0,14.0,6.0,16.5,4.0,10.5,5.5,4.0,18.5,10.0,5.0,7.0,10.5,13.0,21.5,8.5,10.0,7.5,23.0,16.0,7.0,9.0,19.0,8.5,6.0,7.5,6.5,8.0,5.5,13.0,6.0,8.0,8.0,15.5,10.0,24.0,5.5,10.0,4.0,9.5,9.5,6.0,6.0,5.0,32.0,8.5,17.5,5.0,7.5,7.0,9.0,10.5,21.0,8.5,10.0,5.5,10.0,5.0,6.0,25.0,41.5,28.5,20.0,7.5,6.0,13.5,14.0,13.5,8.5,3.5,10.0,15.0,5.0,14.0,5.0,7.0,12.5,12.0,18.5,12.5,10.5,23.0,5.0,12.5,5.5,9.5,19.0,20.0,16.5,4.0,16.0,3.5,15.5,5.0,12.5,14.5,10.5,5.5,12.5,11.0,10.0,7.0,9.0,4.5,9.5,13.5,6.0,6.0,5.0,19.0,24.0,5.0,10.0,8.5,7.5,17.5,14.0,8.5,19.0,20.0,4.5,7.0,6.0,7.5,4.5,25.0,10.5,10.5,25.0,11.5,4.0,12.0,23.5,6.5,3.5,11.5,11.5,31.5,10.5,6.0,4.5,9.0,19.5,10.5,7.0,36.5,12.5,6.5,7.0,6.0,9.0,13.0,10.0,5.5,8.0,13.5,29.0,11.5,29.5,5.0,22.0,13.0,37.5,7.5,8.5,11.5,26.5,18.5,19.0,6.5,9.0,7.5,7.0,26.5,8.5,6.0,9.0,20.0,4.0,21.0,7.0,10.0,15.0,14.0,13.5,16.0,13.0,14.5,13.0,8.5,6.0,28.0,13.5,8.0,11.5,8.5,8.0,5.0,6.5,8.0,6.0,8.0,12.0,6.5,6.5,13.5,14.0,8.0,10.0,11.0,11.5,4.5,8.0,6.0,8.5,17.0,13.5,11.5,4.0,17.0,13.0,11.5,16.0,16.5,19.5,15.0,4.0,15.0,12.5,7.5,18.0,8.0,5.0,8.0,8.5,9.5,12.5,2.5,9.0,27.0,9.0,3.0,9.0,17.0,6.5,8.0,51.5,50.5,12.0,12.0,11.0,9.5,3.0,8.0,4.5,5.5,30.0,7.5,15.0,4.0,4.5,5.0,5.5,18.0,7.0,10.5,7.5,22.5,6.0,3.5,8.0,9.0,14.0,12.0,12.0,4.5,6.0,9.0,6.0,22.0,38.0,20.5,5.5,13.5,5.0,12.5,5.5,7.5,5.0,4.5,28.0,17.0,7.5,9.0,10.0,10.0,9.5,8.0,10.5,8.5,7.0,22.0,7.5,11.5,6.0,9.5,5.0,6.0,18.5,5.0,5.5,7.5,5.5,17.0,11.5,11.5,10.0,5.5,11.5,12.0,4.5,23.0,10.5,5.5,6.5,6.5,10.0,8.5,13.5,6.5,7.0,7.0,5.0,6.0,4.0,11.0,30.5,11.5,6.5,9.5,17.0,22.0,6.5,10.0,4.5,7.0,13.0,5.5,7.0,9.0,8.5,22.0,7.0,13.5,7.0,9.5,19.5,6.5,6.0,10.5,6.5,6.0,23.5,22.0,17.5,18.0,12.0,10.5,14.0,7.0,7.0,8.0,4.5,10.5,10.0,13.5,18.0,10.5,7.5,5.0,9.0,3.5,7.5,10.0,13.0,5.0,6.0,8.5,6.5,52.0,13.5,15.5,10.5,15.5,7.5,4.5,7.5,12.0,9.0,13.0,15.5,20.0,4.5,5.5,13.5,31.5,6.0,4.5,19.5,4.5,16.5,5.0,19.5,5.5,40.0,18.0,10.5,6.5,7.0,18.0,8.5,17.0,11.0,9.5,13.0,7.5,3.0,22.0,4.0,9.5,7.5,10.5,9.5,5.0,24.5,4.0,15.0,6.5,4.0,16.0,16.0,3.5,11.0,12.5,13.0,9.0,4.0,4.0,8.5,5.5,6.5,8.0,8.5,8.5,72.5,4.0,10.5,14.0,12.5,14.5,8.5,12.0,10.5,8.0,11.5,3.0,36.5,7.5,17.5,6.5,5.5,18.0,7.5,4.5,5.0,4.0,6.5,7.5,30.5,7.0,13.0,32.5,15.0,19.0,19.0,7.5,11.5,52.0,52.0,10.0,5.5,13.0,11.5,8.0,9.0,5.0,3.0,11.0,5.0,8.0,10.5,16.5,14.5,6.5,7.5,8.5,5.0,11.5,10.5,6.5,7.0,7.5,6.5,19.5,6.0,6.0,6.5,6.5,16.0,4.0,20.5,5.0,18.0,11.5,10.5,11.5,6.0,4.5,21.5,11.0,11.0,4.5,29.0,6.5],\"mode\":\"markers\"}];\n            var layout = {\"title\":\"Plot Fare depending on Passengers\",\"showlegend\":false,\"xaxis\":{\"title\":\"Passengers\",\"_isSubplotObj\":true},\"yaxis\":{\"title\":\"Fares\",\"_isSubplotObj\":true}};\n            Plotly.newPlot('051c8d6a-626c-4c0e-81f1-aec3ce9a505d', data, layout);\n        \r\n});\r\n};\r\n// ensure `require` is available globally\r\nif ((typeof(require) !==  typeof(Function)) || (typeof(require.config) !== typeof(Function))) {\r\n    let require_script = document.createElement('script');\r\n    require_script.setAttribute('src', 'https://cdnjs.cloudflare.com/ajax/libs/require.js/2.3.6/require.min.js');\r\n    require_script.setAttribute('type', 'text/javascript');\r\n    \r\n    \r\n    require_script.onload = function() {\r\n        renderPlotly();\r\n    };\r\n\r\n    document.getElementsByTagName('head')[0].appendChild(require_script);\r\n}\r\nelse {\r\n    renderPlotly();\r\n}\r\n\r\n</script>\r\n"
     },
     "execution_count": 1,
     "metadata": {}
    }
   ]
  },
  {
   "cell_type": "markdown",
   "metadata": {},
   "source": [
    "Implementation of PeekTransformedData() function"
   ]
  },
  {
   "cell_type": "code",
   "execution_count": 1,
   "metadata": {},
   "source": [
    "// Util method to show transformed data in IDataView\n",
    "public static void PeekTransformedData(MLContext mlContext, IDataView dataView, IEstimator<ITransformer> pipeline, int numberOfRows = 4)\n",
    "{\n",
    "    string msg = string.Format(\"Peek data in DataView: Showing {0} rows with the columns\", numberOfRows.ToString());\n",
    "    display(msg);\n",
    "    \n",
    "    var transformer = pipeline.Fit(dataView);\n",
    "    var transformedData = transformer.Transform(dataView);\n",
    "    \n",
    "    // 'transformedData' is a 'promise' of data, lazy-loading. call Preview  \n",
    "    //and iterate through the returned collection from preview.\n",
    "    var preViewTransformedData = transformedData.Preview(maxRows: numberOfRows);\n",
    "    \n",
    "    //display(preViewTransformedData.RowView);\n",
    "                \n",
    "    foreach (var row in preViewTransformedData.RowView)\n",
    "    {\n",
    "        var ColumnCollection = row.Values;\n",
    "        string lineToPrint = \"Row--> \";\n",
    "        foreach (KeyValuePair<string, object> column in ColumnCollection)\n",
    "        {\n",
    "            lineToPrint += $\"| {column.Key}:{column.Value}\";\n",
    "        }\n",
    "        display(lineToPrint + \"\\n\");\n",
    "    }   \n",
    "}"
   ],
   "outputs": [
    {
     "output_type": "stream",
     "name": "stdout",
     "text": "\nwarning CS1701: Przyjęto, że odwołanie do zestawu „System.Collections.Immutable, Version=1.2.3.0, Culture=neutral, PublicKeyToken=b03f5f7f11d50a3a” używane przez element „Microsoft.ML.Data” jest zgodne z tożsamością „System.Collections.Immutable, Version=5.0.0.0, Culture=neutral, PublicKeyToken=b03f5f7f11d50a3a” elementu „System.Collections.Immutable” — może być konieczne określenie zasad wykonywania\n"
    }
   ]
  },
  {
   "cell_type": "markdown",
   "metadata": {},
   "source": [
    "Data transformations pipeline for ML.NET model"
   ]
  },
  {
   "cell_type": "code",
   "execution_count": 1,
   "metadata": {},
   "source": [
    "display(h1(\"Apply Data Transformations pipeline\"));\n",
    "\n",
    "// STEP 2: Common data process configuration with pipeline data transformations\n",
    "var dataProcessPipeline = mlContext.Transforms.Categorical.OneHotEncoding(outputColumnName: \"VendorIdEncoded\", inputColumnName: nameof(TaxiTrip.VendorId))\n",
    "                  .Append(mlContext.Transforms.Categorical.OneHotEncoding(outputColumnName: \"RateCodeEncoded\", inputColumnName: nameof(TaxiTrip.RateCode)))\n",
    "                  .Append(mlContext.Transforms.Categorical.OneHotEncoding(outputColumnName: \"PaymentTypeEncoded\",inputColumnName: nameof(TaxiTrip.PaymentType)))\n",
    "                  .Append(mlContext.Transforms.NormalizeMeanVariance(outputColumnName: nameof(TaxiTrip.PassengerCount)))\n",
    "                  .Append(mlContext.Transforms.NormalizeMeanVariance(outputColumnName: nameof(TaxiTrip.TripTime)))\n",
    "                  .Append(mlContext.Transforms.NormalizeMeanVariance(outputColumnName: nameof(TaxiTrip.TripDistance)))\n",
    "                  .Append(mlContext.Transforms.Concatenate(\"Features\", \"VendorIdEncoded\", \"RateCodeEncoded\", \"PaymentTypeEncoded\", \n",
    "                                                           nameof(TaxiTrip.PassengerCount), nameof(TaxiTrip.TripTime), nameof(TaxiTrip.TripDistance)));\n",
    "\n",
    "display(h3(\"Show transformed data...\"));\n",
    "\n",
    "PeekTransformedData(mlContext, trainDataView, dataProcessPipeline, 5);"
   ],
   "outputs": [
    {
     "output_type": "execute_result",
     "data": {
      "text/html": "<h1>Apply Data Transformations pipeline</h1>"
     },
     "execution_count": 1,
     "metadata": {}
    },
    {
     "output_type": "execute_result",
     "data": {
      "text/html": "<h3>Show transformed data...</h3>"
     },
     "execution_count": 1,
     "metadata": {}
    },
    {
     "output_type": "execute_result",
     "data": {
      "text/plain": "Peek data in DataView: Showing 5 rows with the columns"
     },
     "execution_count": 1,
     "metadata": {}
    },
    {
     "output_type": "execute_result",
     "data": {
      "text/plain": "Row--> | VendorId:CMT| RateCode:1| PassengerCount:1| PassengerCount:0,42661828| TripTime:1271| TripTime:1,514717| TripDistance:3,8| TripDistance:0,87563246| PaymentType:CRD| FareAmount:17,5| VendorIdEncoded:1| VendorIdEncoded:Sparse vector of size 2, 1 explicit values| RateCodeEncoded:1| RateCodeEncoded:Sparse vector of size 6, 1 explicit values| PaymentTypeEncoded:1| PaymentTypeEncoded:Sparse vector of size 5, 1 explicit values| Features:Sparse vector of size 16, 6 explicit values\n"
     },
     "execution_count": 1,
     "metadata": {}
    },
    {
     "output_type": "execute_result",
     "data": {
      "text/plain": "Row--> | VendorId:CMT| RateCode:1| PassengerCount:1| PassengerCount:0,42661828| TripTime:474| TripTime:0,5648905| TripDistance:1,5| TripDistance:0,3456444| PaymentType:CRD| FareAmount:8| VendorIdEncoded:1| VendorIdEncoded:Sparse vector of size 2, 1 explicit values| RateCodeEncoded:1| RateCodeEncoded:Sparse vector of size 6, 1 explicit values| PaymentTypeEncoded:1| PaymentTypeEncoded:Sparse vector of size 5, 1 explicit values| Features:Sparse vector of size 16, 6 explicit values\n"
     },
     "execution_count": 1,
     "metadata": {}
    },
    {
     "output_type": "execute_result",
     "data": {
      "text/plain": "Row--> | VendorId:CMT| RateCode:1| PassengerCount:1| PassengerCount:0,42661828| TripTime:637| TripTime:0,7591461| TripDistance:1,4| TripDistance:0,32260144| PaymentType:CRD| FareAmount:8,5| VendorIdEncoded:1| VendorIdEncoded:Sparse vector of size 2, 1 explicit values| RateCodeEncoded:1| RateCodeEncoded:Sparse vector of size 6, 1 explicit values| PaymentTypeEncoded:1| PaymentTypeEncoded:Sparse vector of size 5, 1 explicit values| Features:Sparse vector of size 16, 6 explicit values\n"
     },
     "execution_count": 1,
     "metadata": {}
    },
    {
     "output_type": "execute_result",
     "data": {
      "text/plain": "Row--> | VendorId:CMT| RateCode:1| PassengerCount:1| PassengerCount:0,42661828| TripTime:181| TripTime:0,21570714| TripDistance:0,6| TripDistance:0,13825777| PaymentType:CSH| FareAmount:4,5| VendorIdEncoded:1| VendorIdEncoded:Sparse vector of size 2, 1 explicit values| RateCodeEncoded:1| RateCodeEncoded:Sparse vector of size 6, 1 explicit values| PaymentTypeEncoded:2| PaymentTypeEncoded:Sparse vector of size 5, 1 explicit values| Features:Sparse vector of size 16, 6 explicit values\n"
     },
     "execution_count": 1,
     "metadata": {}
    },
    {
     "output_type": "execute_result",
     "data": {
      "text/plain": "Row--> | VendorId:CMT| RateCode:1| PassengerCount:1| PassengerCount:0,42661828| TripTime:661| TripTime:0,78774816| TripDistance:1,1| TripDistance:0,25347257| PaymentType:CRD| FareAmount:8,5| VendorIdEncoded:1| VendorIdEncoded:Sparse vector of size 2, 1 explicit values| RateCodeEncoded:1| RateCodeEncoded:Sparse vector of size 6, 1 explicit values| PaymentTypeEncoded:1| PaymentTypeEncoded:Sparse vector of size 5, 1 explicit values| Features:Sparse vector of size 16, 6 explicit values\n"
     },
     "execution_count": 1,
     "metadata": {}
    },
    {
     "output_type": "stream",
     "name": "stdout",
     "text": "\n(4,27): warning CS1701: Przyjęto, że odwołanie do zestawu „Microsoft.AspNetCore.Html.Abstractions, Version=2.2.0.0, Culture=neutral, PublicKeyToken=adb9793829ddae60” używane przez element „Microsoft.DotNet.Interactive.Formatting” jest zgodne z tożsamością „Microsoft.AspNetCore.Html.Abstractions, Version=3.1.10.0, Culture=neutral, PublicKeyToken=adb9793829ddae60” elementu „Microsoft.AspNetCore.Html.Abstractions” — może być konieczne określenie zasad wykonywania\n"
    }
   ]
  },
  {
   "cell_type": "markdown",
   "metadata": {},
   "source": [
    "Append the trainer/algorithm to pipeline and train the model"
   ]
  },
  {
   "cell_type": "code",
   "execution_count": 1,
   "metadata": {},
   "source": [
    "#!time\n",
    "\n",
    "display(h1(\"Build Training Pipeline and Train the model\"));\n",
    "display(h4(\"Creating the Training Pipeline with trainer/algorithm\"));\n",
    "\n",
    "// STEP 3: Set the training algorithm - Selected Trainer (SDCA Regression algorithm)                            \n",
    "var trainer = mlContext.Regression.Trainers.Sdca(labelColumnName: \"FareAmount\", featureColumnName: \"Features\");\n",
    "var trainingPipeline = dataProcessPipeline.Append(trainer);\n",
    "\n",
    "// STEP 4: Train the model fitting to the DataSet\n",
    "//The pipeline is trained on the dataset that has been loaded and transformed.\n",
    "display(\"=============== Training the model ===============\");\n",
    "var trainedModel = trainingPipeline.Fit(trainDataView);"
   ],
   "outputs": [
    {
     "output_type": "execute_result",
     "data": {
      "text/html": "<h1>Build Training Pipeline and Train the model</h1>"
     },
     "execution_count": 1,
     "metadata": {}
    },
    {
     "output_type": "execute_result",
     "data": {
      "text/html": "<h4>Creating the Training Pipeline with trainer/algorithm</h4>"
     },
     "execution_count": 1,
     "metadata": {}
    },
    {
     "output_type": "execute_result",
     "data": {
      "text/plain": "=============== Training the model ==============="
     },
     "execution_count": 1,
     "metadata": {}
    },
    {
     "output_type": "execute_result",
     "data": {
      "text/plain": "Wall time: 3839,6071ms"
     },
     "execution_count": 1,
     "metadata": {}
    }
   ]
  },
  {
   "cell_type": "markdown",
   "metadata": {},
   "source": [
    "Make predictions in bulk from the TestDataset to be used for the metrics"
   ]
  },
  {
   "cell_type": "code",
   "execution_count": 1,
   "metadata": {},
   "source": [
    "// Make predictions to plot agaist actual values\n",
    "display(h3(\"===== Making predictions in bulk for the whole Test Dataset =====\"));\n",
    "// Make predictions in bulk (Transformed IDataView will have the predictions plus the actual/true values)\n",
    "IDataView predictionsDataView = trainedModel.Transform(testDataView);"
   ],
   "outputs": [
    {
     "output_type": "execute_result",
     "data": {
      "text/html": "<h3>===== Making predictions in bulk for the whole Test Dataset =====</h3>"
     },
     "execution_count": 1,
     "metadata": {}
    }
   ]
  },
  {
   "cell_type": "markdown",
   "metadata": {},
   "source": [
    "Display the metrics (Model quality evaluation)"
   ]
  },
  {
   "cell_type": "code",
   "execution_count": 1,
   "metadata": {},
   "source": [
    "display(h3(\"===== Evaluating Model's accuracy with Test dataset =====\"));\n",
    "\n",
    "var metrics = mlContext.Regression.Evaluate(predictionsDataView, labelColumnName: \"FareAmount\", scoreColumnName: \"Score\");\n",
    "display(metrics);"
   ],
   "outputs": [
    {
     "output_type": "execute_result",
     "data": {
      "text/html": "<h3>===== Evaluating Model&#39;s accuracy with Test dataset =====</h3>"
     },
     "execution_count": 1,
     "metadata": {}
    },
    {
     "output_type": "execute_result",
     "data": {
      "text/html": "<table><thead><tr><th>MeanAbsoluteError</th><th>MeanSquaredError</th><th>RootMeanSquaredError</th><th>LossFunction</th><th>RSquared</th></tr></thead><tbody><tr><td><div class=\"dni-plaintext\">0.821961670999527</div></td><td><div class=\"dni-plaintext\">35.3322206525105</div></td><td><div class=\"dni-plaintext\">5.94409123857554</div></td><td><div class=\"dni-plaintext\">35.332220513247485</div></td><td><div class=\"dni-plaintext\">0.6982934583920347</div></td></tr></tbody></table>"
     },
     "execution_count": 1,
     "metadata": {}
    }
   ]
  },
  {
   "cell_type": "markdown",
   "metadata": {},
   "source": [
    "Bar chart showing 'Actual fares vs. Predicted fares Comparison'"
   ]
  },
  {
   "cell_type": "code",
   "execution_count": 1,
   "metadata": {},
   "source": [
    "// Number of rows to use for Bar chart\n",
    "int totalNumberForBarChart  = 20;\n",
    "\n",
    "float[] actualFares = predictionsDataView.GetColumn<float>(\"FareAmount\").Take(totalNumberForBarChart).ToArray();\n",
    "float[] predictionFares = predictionsDataView.GetColumn<float>(\"Score\").Take(totalNumberForBarChart).ToArray();\n",
    "int[] elements = Enumerable.Range(0, totalNumberForBarChart).ToArray();\n",
    "\n",
    "// Define group for Actual values \n",
    "var ActualValuesGroupBarGraph = new Graph.Bar()\n",
    "{\n",
    "    x = elements,\n",
    "    y = actualFares,\n",
    "    name = \"Actual\"\n",
    "};\n",
    "\n",
    "// Define group for Prediction values \n",
    "var PredictionValuesGroupBarGraph = new Graph.Bar()\n",
    "{\n",
    "    x = elements,\n",
    "    y = predictionFares,\n",
    "    name = \"Predicted\"\n",
    "};\n",
    "\n",
    "var chart = Chart.Plot(new[] {ActualValuesGroupBarGraph, PredictionValuesGroupBarGraph});\n",
    "\n",
    "var layout = new Layout.Layout(){barmode = \"group\", title=\"Actual fares vs. Predicted fares Comparison\"};\n",
    "chart.WithLayout(layout);\n",
    "chart.WithXTitle(\"Cases\");\n",
    "chart.WithYTitle(\"Fare\");\n",
    "chart.WithLegend(true);\n",
    "chart.Width = 700;\n",
    "chart.Height = 400;\n",
    "\n",
    "display(chart);"
   ],
   "outputs": [
    {
     "output_type": "execute_result",
     "data": {
      "text/html": "<div id=\"fe391fd6-7a52-4b6a-9780-5f933cad8b75\" style=\"width: 700px; height: 400px;\"></div>\r\n<script type=\"text/javascript\">\r\n\r\nvar renderPlotly = function() {\r\n    var xplotRequire = require.config({context:'xplot-3.0.1',paths:{plotly:'https://cdn.plot.ly/plotly-1.49.2.min'}}) || require;\r\n    xplotRequire(['plotly'], function(Plotly) {\r\n\n            var data = [{\"type\":\"bar\",\"x\":[0,1,2,3,4,5,6,7,8,9,10,11,12,13,14,15,16,17,18,19],\"y\":[15.5,10.0,26.5,14.5,9.5,29.5,9.0,7.5,10.5,6.0,10.0,9.0,10.5,10.0,19.0,8.5,12.5,5.0,8.5,13.0],\"name\":\"Actual\"},{\"type\":\"bar\",\"x\":[0,1,2,3,4,5,6,7,8,9,10,11,12,13,14,15,16,17,18,19],\"y\":[15.73863,10.14016,26.0795,14.4609785,9.8672495,28.170605,9.63333,7.974818,10.828028,6.632597,10.096836,8.711544,10.735789,10.263254,19.168518,8.731332,12.959911,5.355838,8.731332,12.652704],\"name\":\"Predicted\"}];\n            var layout = {\"title\":\"Actual fares vs. Predicted fares Comparison\",\"showlegend\":true,\"xaxis\":{\"title\":\"Cases\",\"_isSubplotObj\":true},\"yaxis\":{\"title\":\"Fare\",\"_isSubplotObj\":true},\"barmode\":\"group\"};\n            Plotly.newPlot('fe391fd6-7a52-4b6a-9780-5f933cad8b75', data, layout);\n        \r\n});\r\n};\r\n// ensure `require` is available globally\r\nif ((typeof(require) !==  typeof(Function)) || (typeof(require.config) !== typeof(Function))) {\r\n    let require_script = document.createElement('script');\r\n    require_script.setAttribute('src', 'https://cdnjs.cloudflare.com/ajax/libs/require.js/2.3.6/require.min.js');\r\n    require_script.setAttribute('type', 'text/javascript');\r\n    \r\n    \r\n    require_script.onload = function() {\r\n        renderPlotly();\r\n    };\r\n\r\n    document.getElementsByTagName('head')[0].appendChild(require_script);\r\n}\r\nelse {\r\n    renderPlotly();\r\n}\r\n\r\n</script>\r\n"
     },
     "execution_count": 1,
     "metadata": {}
    }
   ]
  },
  {
   "cell_type": "markdown",
   "metadata": {},
   "source": [
    "Implementation of CalculateRegressionLine() function"
   ]
  },
  {
   "cell_type": "code",
   "execution_count": 1,
   "metadata": {},
   "source": [
    "// Function to calculate the regression line \n",
    "// (This function could be substituted by a pre-built Math function from a NuGet such as Math.NET)\n",
    "\n",
    "public static (double[], double[]) CalculateRegressionLine(float[] actualFares, float[] predictionFares, int totalNumber)\n",
    "{   \n",
    "    // Regression Line calculation explanation:\n",
    "    // https://www.khanacademy.org/math/statistics-probability/describing-relationships-quantitative-data/more-on-regression/v/regression-line-example\n",
    "    // Generic function for Y for the regression line\n",
    "    // y = (m * x) + b;\n",
    "    // Similar code: https://gist.github.com/tansey/1375526 \n",
    "\n",
    "    double yTotal = 0;\n",
    "    double xTotal = 0;\n",
    "    double xyMultiTotal = 0;\n",
    "    double xSquareTotal = 0;\n",
    "\n",
    "    for (int i = 0; i < (actualFares.Length); i++)\n",
    "    {\n",
    "        var x = actualFares[i];\n",
    "        var y = predictionFares[i];\n",
    "\n",
    "        xTotal += x;\n",
    "        yTotal += y;\n",
    "\n",
    "        double multi = x * y;\n",
    "        xyMultiTotal += multi;\n",
    "\n",
    "        double xSquare = x * x;\n",
    "        xSquareTotal += xSquare;\n",
    "\n",
    "        double ySquare = y * y;\n",
    "\n",
    "        //display($\"-------------------------------------------------\");\n",
    "        //display($\"Predicted : {y}\");\n",
    "        //display($\"Actual:    {x}\");\n",
    "        //display($\"-------------------------------------------------\");\n",
    "    }\n",
    "\n",
    "    double minY = yTotal / totalNumber;\n",
    "    double minX = xTotal / totalNumber;\n",
    "    double minXY = xyMultiTotal / totalNumber;\n",
    "    double minXsquare = xSquareTotal / totalNumber;\n",
    "\n",
    "    double m = ((minX * minY) - minXY) / ((minX * minX) - minXsquare);\n",
    "\n",
    "    double b = minY - (m * minX);\n",
    "\n",
    "    //Generic function for Y for the regression line\n",
    "    // y = (m * x) + b;\n",
    "\n",
    "    // Start x on 0\n",
    "    double x1 = 0;\n",
    "    //Function for Y1 in the line\n",
    "    double y1 = (m * x1) + b;\n",
    "\n",
    "    // Get the max val of X or Y for our X in the line so the line is long enough for outliers\n",
    "    var maxValueForX = Math.Max(actualFares.Max(), predictionFares.Max());\n",
    "\n",
    "    double x2 = maxValueForX;\n",
    "    //Function for Y2 in the line\n",
    "    double y2 = (m * x2) + b;\n",
    "\n",
    "    // Extract/create two simple arrays for the line coordinates\n",
    "    var xArray = new double[2];\n",
    "    var yArray = new double[2];\n",
    "    xArray[0] = x1;\n",
    "    yArray[0] = y1;\n",
    "    xArray[1] = x2;\n",
    "    yArray[1] = y2;\n",
    "            \n",
    "    return(xArray, yArray);\n",
    "}"
   ],
   "outputs": []
  },
  {
   "cell_type": "markdown",
   "metadata": {},
   "source": [
    "Plotting Regression line and Predictions vs. Actual values"
   ]
  },
  {
   "cell_type": "code",
   "execution_count": 1,
   "metadata": {},
   "source": [
    "using XPlot.Plotly;\n",
    "\n",
    "// Number of rows to use for Plotting the Regression chart\n",
    "int totalNumber  = 500;\n",
    "\n",
    "float[] actualFares = predictionsDataView.GetColumn<float>(\"FareAmount\").Take(totalNumber).ToArray();\n",
    "float[] predictionFares = predictionsDataView.GetColumn<float>(\"Score\").Take(totalNumber).ToArray();\n",
    "\n",
    "// Display the Best Bit Regression Line \n",
    "\n",
    "// Define scatter plot grapgh (dots) \n",
    "var ActualVsPredictedGraph = new Graph.Scatter()\n",
    "{\n",
    "    x = actualFares,\n",
    "    y = predictionFares,\n",
    "    mode = \"markers\",\n",
    "    marker = new Graph.Marker() { color = \"purple\"} //\"rgb(142, 124, 195)\"             \n",
    "};\n",
    "\n",
    "// Calculate Regression line\n",
    "// Get a touple with the two X and two Y values determining the regression line\n",
    "(double[] xArray, double[] yArray) = CalculateRegressionLine(actualFares, predictionFares, totalNumber);\n",
    "\n",
    "//display(\"Display values defining the regression line\");\n",
    "//display(xArray);\n",
    "//display(yArray);\n",
    "\n",
    "// Define grapgh for the line \n",
    "var regressionLine = new Graph.Scatter()\n",
    "{\n",
    "    x = xArray,\n",
    "    y = yArray,\n",
    "    mode = \"lines\"\n",
    "};\n",
    "\n",
    "\n",
    "// 'Perfect' line, 45 degrees (Predicted values equal to actual values)\n",
    "var maximumValue = Math.Max(actualFares.Max(), predictionFares.Max());\n",
    "\n",
    "var perfectLine = new Graph.Scatter()\n",
    "{\n",
    "    x = new[] {0, maximumValue},\n",
    "    y = new[] {0, maximumValue},\n",
    "    mode = \"lines\",\n",
    "    line = new Graph.Line(){color = \"grey\"}\n",
    "};\n",
    "//////\n",
    "\n",
    "// XPlot Charp samples: https://fslab.org/XPlot/chart/plotly-line-scatter-plots.html \n",
    "//Display the chart's figures\n",
    "var chart = Chart.Plot(new[] {ActualVsPredictedGraph, regressionLine, perfectLine });\n",
    "chart.WithXTitle(\"Actual Values\");\n",
    "chart.WithYTitle(\"Predicted Values\");\n",
    "chart.WithLegend(true);\n",
    "chart.WithLabels(new[]{\"Prediction vs. Actual\", \"Regression Line\", \"Perfect Regression Line\"});\n",
    "chart.Width = 700;\n",
    "chart.Height = 600;\n",
    "\n",
    "display(chart);"
   ],
   "outputs": [
    {
     "output_type": "execute_result",
     "data": {
      "text/html": "<div id=\"d72a6ac9-b6cc-4812-b7e0-17a5cc3d12f6\" style=\"width: 700px; height: 600px;\"></div>\r\n<script type=\"text/javascript\">\r\n\r\nvar renderPlotly = function() {\r\n    var xplotRequire = require.config({context:'xplot-3.0.1',paths:{plotly:'https://cdn.plot.ly/plotly-1.49.2.min'}}) || require;\r\n    xplotRequire(['plotly'], function(Plotly) {\r\n\n            var data = [{\"type\":\"scatter\",\"x\":[15.5,10.0,26.5,14.5,9.5,29.5,9.0,7.5,10.5,6.0,10.0,9.0,10.5,10.0,19.0,8.5,12.5,5.0,8.5,13.0,6.5,11.5,10.0,7.0,12.5,3.0,8.0,16.0,13.0,6.0,10.0,7.0,7.0,12.5,7.0,11.5,7.0,14.0,4.5,8.5,7.5,15.5,11.5,6.0,14.5,5.5,5.5,4.5,16.0,3.5,4.5,12.0,11.0,8.0,9.0,7.5,12.5,10.0,8.0,8.5,5.5,11.5,5.0,4.5,8.5,7.5,11.0,22.5,8.5,15.0,4.0,8.5,7.0,6.5,11.5,4.0,10.0,10.0,5.5,8.0,13.0,5.5,7.0,9.5,4.5,4.0,6.0,5.5,7.0,10.5,10.0,9.5,7.5,9.5,5.5,57.0,9.5,12.0,5.0,9.5,18.0,8.0,5.5,11.5,24.0,19.5,9.5,6.5,6.5,6.0,11.5,7.0,13.5,6.5,5.0,8.5,20.0,8.0,13.5,6.5,25.5,6.5,5.5,4.5,12.5,8.0,15.0,19.0,6.0,9.0,5.5,14.5,10.5,5.5,9.5,3.5,7.5,7.5,8.0,4.5,5.0,12.0,7.0,51.5,3.5,9.5,9.0,5.0,9.5,12.5,11.5,8.0,9.0,9.0,10.0,19.5,9.0,7.0,6.0,8.0,10.0,10.0,13.0,5.5,12.5,7.5,5.0,15.0,31.0,18.0,6.0,4.5,32.0,6.5,19.0,14.0,23.5,5.0,13.0,7.0,4.5,11.0,23.0,5.5,5.0,4.5,6.0,6.0,11.0,34.5,6.0,8.0,16.0,9.0,6.0,4.0,9.0,8.5,7.5,4.0,5.0,5.0,5.5,7.0,5.5,8.5,7.0,7.5,8.0,7.5,8.5,7.5,9.5,5.5,7.0,15.5,5.5,8.0,13.0,5.5,12.5,9.5,7.0,5.5,6.5,5.5,19.5,7.5,33.5,19.0,25.0,7.5,9.0,3.5,7.5,11.5,11.5,12.0,17.5,7.5,11.5,8.0,20.5,11.5,9.5,8.5,15.0,3.5,6.0,4.5,6.5,9.0,12.0,5.5,4.0,6.5,7.5,7.5,14.5,9.0,4.5,5.0,7.5,5.0,7.5,5.5,6.0,16.0,8.0,8.5,6.0,15.0,40.0,8.0,15.5,8.0,3.5,13.0,43.0,13.5,11.5,8.0,9.5,9.5,4.5,4.0,6.5,8.5,13.0,6.5,7.0,10.0,6.0,4.5,15.5,4.5,5.5,9.5,11.0,6.0,9.5,3.5,8.5,10.5,52.0,10.0,6.5,9.0,4.5,4.5,9.0,8.0,11.5,3.0,17.0,8.5,11.0,10.5,6.0,7.5,15.5,9.0,8.5,13.0,10.0,7.0,8.5,14.0,4.5,21.5,5.5,8.5,11.5,7.5,5.5,11.0,5.5,18.5,5.5,4.5,8.0,5.5,21.0,6.5,21.0,5.0,13.5,4.5,4.5,8.5,15.0,6.0,20.0,4.5,7.0,9.5,11.0,7.0,12.0,5.5,7.5,9.0,7.0,15.5,8.5,6.0,8.5,7.5,5.0,5.5,5.5,17.0,10.0,6.0,5.0,7.0,11.0,13.0,13.0,7.5,18.5,9.0,9.0,11.0,4.5,6.5,7.0,7.5,11.0,11.5,4.0,7.0,9.5,8.0,4.5,6.5,54.5,10.5,21.5,26.0,6.0,6.0,10.0,23.5,17.5,16.0,11.0,9.5,4.5,6.5,12.0,21.0,25.0,14.5,7.5,5.5,5.0,9.0,8.5,12.5,28.0,14.5,4.5,8.5,10.5,12.5,20.5,8.5,14.5,6.5,8.0,6.5,3.5,22.0,10.0,4.5,20.0,5.5,19.0,29.0,34.5,6.0,8.0,29.5,5.5,4.5,12.0,4.0,5.5,5.0,9.0,21.5,16.0,13.5,13.5,10.0,4.5,7.0,19.5,3.5,8.5,16.0,13.0,17.5,7.5,11.0,13.5,4.5,5.0,5.5,8.0,11.5,34.0,33.5,13.5,11.0,6.0,18.5,7.5,8.0,14.5,20.5,8.0,6.5,8.0,7.5,29.5,9.5,14.0,19.0,8.0,7.0,17.0,11.5,10.5,8.5,19.0,15.0,2.5,15.5],\"y\":[15.73863,10.14016,26.0795,14.4609785,9.8672495,28.170605,9.63333,7.974818,10.828028,6.632597,10.096836,8.711544,10.735789,10.263254,19.168518,8.731332,12.959911,5.355838,8.731332,12.652704,6.767906,11.4346695,10.333103,6.9808903,12.286607,3.9272213,8.292255,16.606277,13.071938,6.4286413,10.591761,7.593376,7.126375,12.273245,7.4723206,11.746319,7.3425446,13.159534,4.8434734,8.246582,7.6620216,15.276017,12.063755,6.505171,13.874124,6.248806,6.061454,5.0509243,15.423796,4.2289495,5.0331755,11.8417425,11.549044,8.407467,9.057489,7.8540726,12.528408,9.979275,7.8229628,7.742939,5.9494267,11.352606,5.175165,5.086421,8.887885,8.102554,11.711968,21.58793,8.390921,14.6437435,4.49518,8.695835,7.2494698,6.923258,11.15069,4.3563766,9.683081,9.434599,5.8993664,8.324259,12.553984,5.7786207,7.019884,9.769787,5.125105,4.196638,6.3099356,6.289838,6.905508,10.615043,9.902746,9.479126,8.314392,9.709859,5.6476984,58.647858,9.334788,12.558371,5.3992167,9.13522,17.945004,8.580624,5.6476984,11.108512,22.577415,18.593878,9.470097,6.9843864,7.0108547,6.526105,11.693072,7.055381,13.180777,6.440857,5.530139,8.390921,19.303825,8.516309,13.111822,7.3038626,23.028961,6.6649094,5.6354847,5.109704,12.773207,8.321073,15.054258,19.210697,6.611664,9.364751,6.124566,13.683221,11.127407,5.766406,9.353683,4.1402063,7.715268,8.054842,8.012665,4.8379393,5.3049393,11.752999,7.190689,46.621178,4.2466984,9.714191,9.169516,5.665447,9.831752,12.18017,11.8417425,7.8994913,9.1506195,9.246044,10.7992115,18.249025,9.831752,7.7085876,5.582238,8.308858,10.124761,9.931562,13.327101,6.1300993,13.046616,8.27336,5.7186937,14.663787,28.43569,17.629913,6.25434,4.731447,31.29094,6.9843864,18.870285,14.155754,22.801468,5.2426643,13.252918,7.3626423,4.9743958,10.946734,22.747131,5.638669,5.151882,5.0896072,6.44639,6.1178846,11.115192,32.159424,6.2476597,7.764183,15.879727,9.719725,6.082387,4.640356,8.928916,8.995523,8.367639,4.44512,5.32034,5.766406,5.3282223,7.165058,5.8760834,9.013272,7.1796217,8.145625,8.019344,7.439171,8.830252,7.7109365,9.938244,5.739628,7.2572975,15.537861,5.659914,8.495064,13.199673,5.677662,12.27878,10.278964,7.037632,5.8374004,6.911042,5.485612,19.352686,7.486883,29.989693,17.591175,23.60804,7.289299,8.885536,3.9126587,7.6044445,11.564444,11.551083,12.346588,17.754154,7.6797705,11.554578,8.0248785,18.909222,11.729717,8.813395,8.218967,14.965515,4.1611404,5.9048996,4.7168846,6.419613,9.589951,11.950528,5.46233,4.663638,6.715807,7.7298317,7.953884,14.444122,9.636516,4.098027,5.2516937,7.841858,5.4201508,7.9416695,5.6508846,6.2921867,16.426441,8.2765465,8.992028,6.401864,14.733634,38.95035,8.152306,15.450264,7.6099777,4.175704,13.652111,40.409134,13.325954,11.932835,8.763643,9.553307,9.8206835,5.231597,4.409622,6.783615,8.381891,13.441475,6.425147,7.2672186,10.030482,6.3332176,4.766945,14.736875,4.749196,5.822838,9.683081,11.265064,6.076853,10.032521,3.7441998,8.738012,10.714853,53.82786,10.437555,6.4783936,9.009777,5.000864,4.427371,9.169516,7.787465,12.065796,3.1762419,16.408749,8.947811,10.907742,10.750351,6.109165,7.989381,15.797409,8.861107,8.708049,12.499646,10.576051,7.403674,8.923382,13.83748,4.96218,21.090912,5.7364426,8.633869,11.303747,7.880541,5.8816175,11.11754,6.0736675,18.21562,5.32034,4.7523813,8.129023,5.5179243,19.553709,6.44639,19.84526,5.2016335,13.63003,4.6959496,5.000864,9.080771,14.754879,6.384115,18.90458,4.468402,7.165058,8.977775,11.465834,7.099598,12.025909,5.801903,7.2171574,9.222761,7.0053196,15.465719,9.066519,6.2598743,8.800287,7.9783134,5.659914,6.0082073,5.6453505,16.640629,10.572865,6.355299,5.23713,6.7114744,11.595609,13.063217,13.062071,7.86514,17.924015,8.979815,9.46571,10.68369,4.8911858,7.0076685,7.099598,7.800827,11.560112,11.693072,4.5393972,6.782469,8.985348,8.123487,4.896719,6.7513037,57.58294,10.736937,20.504059,24.306868,6.3253345,6.2921867,10.680504,23.296139,17.3925,16.081388,11.300561,9.479126,4.681387,6.4495754,12.181316,20.222427,23.723507,14.83574,7.5989094,5.89618,5.125105,9.22715,8.252117,12.569439,25.764355,14.64724,4.7579155,8.744747,10.51059,13.060869,19.189507,8.648122,14.941086,6.700407,8.093525,6.9011765,4.1402063,21.64551,10.336597,4.8379393,19.236273,5.7719393,18.365438,27.01674,31.063644,6.1856947,8.200018,26.945944,6.043705,5.231597,12.312237,4.5007143,5.4768925,5.4114323,9.162835,21.305042,16.01593,13.439126,13.286068,10.518416,5.018612,7.0498466,18.8825,4.1433916,8.324259,15.583279,13.163029,17.055275,7.9006376,10.949921,13.207245,4.6959496,5.2670937,6.1979084,8.796792,11.9249525,31.83441,30.553318,13.887231,11.11754,5.9849243,18.398895,7.9183865,8.104593,14.663787,20.819147,8.293148,6.7280216,8.418535,7.930601,28.655102,9.624301,14.179039,18.365438,8.261147,7.3271446,16.37873,11.348273,10.333103,8.591691,18.76259,15.137468,2.6382465,14.4752865],\"mode\":\"markers\",\"marker\":{\"color\":\"purple\"},\"name\":\"Prediction vs. Actual\"},{\"type\":\"scatter\",\"x\":[0.0,58.647857666015625],\"y\":[0.6020062223176801,56.28418331198705],\"mode\":\"lines\",\"name\":\"Regression Line\"},{\"type\":\"scatter\",\"x\":[0.0,58.647858],\"y\":[0.0,58.647858],\"mode\":\"lines\",\"line\":{\"color\":\"grey\"},\"name\":\"Perfect Regression Line\"}];\n            var layout = {\"showlegend\":true,\"xaxis\":{\"title\":\"Actual Values\",\"_isSubplotObj\":true},\"yaxis\":{\"title\":\"Predicted Values\",\"_isSubplotObj\":true}};\n            Plotly.newPlot('d72a6ac9-b6cc-4812-b7e0-17a5cc3d12f6', data, layout);\n        \r\n});\r\n};\r\n// ensure `require` is available globally\r\nif ((typeof(require) !==  typeof(Function)) || (typeof(require.config) !== typeof(Function))) {\r\n    let require_script = document.createElement('script');\r\n    require_script.setAttribute('src', 'https://cdnjs.cloudflare.com/ajax/libs/require.js/2.3.6/require.min.js');\r\n    require_script.setAttribute('type', 'text/javascript');\r\n    \r\n    \r\n    require_script.onload = function() {\r\n        renderPlotly();\r\n    };\r\n\r\n    document.getElementsByTagName('head')[0].appendChild(require_script);\r\n}\r\nelse {\r\n    renderPlotly();\r\n}\r\n\r\n</script>\r\n"
     },
     "execution_count": 1,
     "metadata": {}
    }
   ]
  },
  {
   "cell_type": "markdown",
   "metadata": {},
   "source": [
    "Save the ML model as a file"
   ]
  },
  {
   "cell_type": "code",
   "execution_count": 1,
   "metadata": {},
   "source": [
    "display(h1(\"Saving the ML.NET Model as a file...\"));\n",
    "\n",
    "string modelFilePath = \"./MLRegressionModel.zip\";\n",
    "\n",
    "// GetAbsolutePath(modelRelativePath)\n",
    "mlContext.Model.Save(trainedModel, trainDataView.Schema, modelFilePath);\n",
    "\n",
    "display(h3($\"The model was saved to: {modelFilePath}\"));"
   ],
   "outputs": [
    {
     "output_type": "execute_result",
     "data": {
      "text/html": "<h1>Saving the ML.NET Model as a file...</h1>"
     },
     "execution_count": 1,
     "metadata": {}
    },
    {
     "output_type": "execute_result",
     "data": {
      "text/html": "<h3>The model was saved to: ./MLRegressionModel.zip</h3>"
     },
     "execution_count": 1,
     "metadata": {}
    }
   ]
  }
 ],
 "metadata": {
  "kernelspec": {
   "display_name": ".NET (C#)",
   "language": "C#",
   "name": ".net-csharp"
  },
  "language_info": {
   "file_extension": ".cs",
   "mimetype": "text/x-csharp",
   "name": "C#",
   "pygments_lexer": "csharp",
   "version": "8.0"
  }
 },
 "nbformat": 4,
 "nbformat_minor": 4
}