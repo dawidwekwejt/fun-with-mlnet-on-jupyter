{
 "cells": [
  {
   "cell_type": "markdown",
   "metadata": {},
   "source": [
    "Install the NuGet packages you use in the notebook"
   ]
  },
  {
   "cell_type": "code",
   "execution_count": 1,
   "metadata": {},
   "outputs": [
    {
     "data": {
      "text/html": "\r\n<div>\r\n    <div id='dotnet-interactive-this-cell-22920.Microsoft.DotNet.Interactive.Http.HttpPort' style='display: none'>\r\n        The below script needs to be able to find the current output cell; this is an easy method to get it.\r\n    </div>\r\n    <script type='text/javascript'>\r\nasync function probeAddresses(probingAddresses) {\r\n    function timeout(ms, promise) {\r\n        return new Promise(function (resolve, reject) {\r\n            setTimeout(function () {\r\n                reject(new Error('timeout'))\r\n            }, ms)\r\n            promise.then(resolve, reject)\r\n        })\r\n    }\r\n\r\n    if (Array.isArray(probingAddresses)) {\r\n        for (let i = 0; i < probingAddresses.length; i++) {\r\n\r\n            let rootUrl = probingAddresses[i];\r\n\r\n            if (!rootUrl.endsWith('/')) {\r\n                rootUrl = `${rootUrl}/`;\r\n            }\r\n\r\n            try {\r\n                let response = await timeout(1000, fetch(`${rootUrl}discovery`, {\r\n                    method: 'POST',\r\n                    cache: 'no-cache',\r\n                    mode: 'cors',\r\n                    timeout: 1000,\r\n                    headers: {\r\n                        'Content-Type': 'text/plain'\r\n                    },\r\n                    body: probingAddresses[i]\r\n                }));\r\n\r\n                if (response.status == 200) {\r\n                    return rootUrl;\r\n                }\r\n            }\r\n            catch (e) { }\r\n        }\r\n    }\r\n}\r\n\r\nfunction loadDotnetInteractiveApi() {\r\n    probeAddresses([\"http://192.168.128.146:1000/\", \"http://169.254.6.18:1000/\", \"http://192.168.1.15:1000/\", \"http://127.0.0.1:1000/\"])\r\n        .then((root) => {\r\n        // use probing to find host url and api resources\r\n        // load interactive helpers and language services\r\n        let dotnetInteractiveRequire = require.config({\r\n        context: '22920.Microsoft.DotNet.Interactive.Http.HttpPort',\r\n                paths:\r\n            {\r\n                'dotnet-interactive': `${root}resources`\r\n                }\r\n        }) || require;\r\n\r\n            window.dotnetInteractiveRequire = dotnetInteractiveRequire;\r\n\r\n            window.configureRequireFromExtension = function(extensionName, extensionCacheBuster) {\r\n                let paths = {};\r\n                paths[extensionName] = `${root}extensions/${extensionName}/resources/`;\r\n                \r\n                let internalRequire = require.config({\r\n                    context: extensionCacheBuster,\r\n                    paths: paths,\r\n                    urlArgs: `cacheBuster=${extensionCacheBuster}`\r\n                    }) || require;\r\n\r\n                return internalRequire\r\n            };\r\n        \r\n            dotnetInteractiveRequire([\r\n                    'dotnet-interactive/dotnet-interactive'\r\n                ],\r\n                function (dotnet) {\r\n                    dotnet.init(window);\r\n                },\r\n                function (error) {\r\n                    console.log(error);\r\n                }\r\n            );\r\n        })\r\n        .catch(error => {console.log(error);});\r\n    }\r\n\r\n// ensure `require` is available globally\r\nif ((typeof(require) !==  typeof(Function)) || (typeof(require.config) !== typeof(Function))) {\r\n    let require_script = document.createElement('script');\r\n    require_script.setAttribute('src', 'https://cdnjs.cloudflare.com/ajax/libs/require.js/2.3.6/require.min.js');\r\n    require_script.setAttribute('type', 'text/javascript');\r\n    \r\n    \r\n    require_script.onload = function() {\r\n        loadDotnetInteractiveApi();\r\n    };\r\n\r\n    document.getElementsByTagName('head')[0].appendChild(require_script);\r\n}\r\nelse {\r\n    loadDotnetInteractiveApi();\r\n}\r\n\r\n    </script>\r\n</div>"
     },
     "metadata": {
      "transient": {
       "display_id": "0b163597-d156-4fa6-9e82-1a30868f72e9"
      }
     },
     "output_type": "display_data"
    },
    {
     "data": {
      "text/plain": "Installed package Microsoft.ML version 1.4.0"
     },
     "metadata": {
      "transient": {
       "display_id": "0cbb1d13-8183-4ba3-a63b-d891444c5fb7"
      }
     },
     "output_type": "display_data"
    },
    {
     "data": {
      "text/plain": "Installed package XPlot.Plotly version 2.0.0"
     },
     "metadata": {
      "transient": {
       "display_id": "07826506-88d5-41b5-9366-41d9970c3d98"
      }
     },
     "output_type": "display_data"
    }
   ],
   "source": [
    "// ML.NET Nuget packages installation\r\n",
    "#r \"nuget:Microsoft.ML,1.4.0\"\r\n",
    "    \r\n",
    "//Install XPlot package\r\n",
    "#r \"nuget:XPlot.Plotly,2.0.0\"\r\n",
    "\r\n",
    "using Microsoft.ML;\r\n",
    "using Microsoft.ML.Data;\r\n",
    "using XPlot.Plotly;"
   ]
  },
  {
   "cell_type": "markdown",
   "metadata": {},
   "source": [
    "Declare data-classes for input data and predictions"
   ]
  },
  {
   "cell_type": "code",
   "execution_count": 2,
   "metadata": {},
   "outputs": [
    {
     "name": "stderr",
     "output_type": "stream",
     "text": [
      "\n",
      "(19,19): warning CS0649: Do pola „TaxiTrip.PaymentType” nigdy nie jest przypisywana wartość i będzie ono mieć zawsze wartość domyślną null\n",
      "\n",
      "(13,18): warning CS0649: Do pola „TaxiTrip.TripTime” nigdy nie jest przypisywana wartość i będzie ono mieć zawsze wartość domyślną 0\n",
      "\n",
      "(7,19): warning CS0649: Do pola „TaxiTrip.RateCode” nigdy nie jest przypisywana wartość i będzie ono mieć zawsze wartość domyślną null\n",
      "\n",
      "(10,18): warning CS0649: Do pola „TaxiTrip.PassengerCount” nigdy nie jest przypisywana wartość i będzie ono mieć zawsze wartość domyślną 0\n",
      "\n",
      "(16,18): warning CS0649: Do pola „TaxiTrip.TripDistance” nigdy nie jest przypisywana wartość i będzie ono mieć zawsze wartość domyślną 0\n",
      "\n",
      "(28,18): warning CS0649: Do pola „TaxiTripFarePrediction.Score” nigdy nie jest przypisywana wartość i będzie ono mieć zawsze wartość domyślną 0\n",
      "\n",
      "(4,19): warning CS0649: Do pola „TaxiTrip.VendorId” nigdy nie jest przypisywana wartość i będzie ono mieć zawsze wartość domyślną null\n",
      "\n",
      "(22,18): warning CS0649: Do pola „TaxiTrip.FareAmount” nigdy nie jest przypisywana wartość i będzie ono mieć zawsze wartość domyślną 0\n",
      "\n"
     ]
    }
   ],
   "source": [
    "public class TaxiTrip\r\n",
    "{\r\n",
    "    [LoadColumn(0)]\r\n",
    "    public string VendorId;\r\n",
    "\r\n",
    "    [LoadColumn(1)]\r\n",
    "    public string RateCode;\r\n",
    "\r\n",
    "    [LoadColumn(2)]\r\n",
    "    public float PassengerCount;\r\n",
    "\r\n",
    "    [LoadColumn(3)]\r\n",
    "    public float TripTime;\r\n",
    "\r\n",
    "    [LoadColumn(4)]\r\n",
    "    public float TripDistance;\r\n",
    "\r\n",
    "    [LoadColumn(5)]\r\n",
    "    public string PaymentType;\r\n",
    "\r\n",
    "    [LoadColumn(6)]\r\n",
    "    public float FareAmount;\r\n",
    "}\r\n",
    "\r\n",
    "public class TaxiTripFarePrediction\r\n",
    "{\r\n",
    "    [ColumnName(\"Score\")]\r\n",
    "    public float Score;\r\n",
    "}"
   ]
  },
  {
   "cell_type": "markdown",
   "metadata": {},
   "source": [
    "Load datasets into IDataView and display the schema"
   ]
  },
  {
   "cell_type": "code",
   "execution_count": 3,
   "metadata": {},
   "outputs": [
    {
     "data": {
      "text/html": "<h1>Code for loading the data into IDataViews: training dataset and test dataset</h1>"
     },
     "metadata": {
      "transient": {
       "display_id": "6e12ad46-5c8f-4a4a-8cfc-bfd39763764a"
      }
     },
     "output_type": "display_data"
    },
    {
     "data": {
      "text/html": "<h4>Schema of training DataView:</h4>"
     },
     "metadata": {
      "transient": {
       "display_id": "ddec6e8c-7a34-499f-b4d8-b10cec1a846a"
      }
     },
     "output_type": "display_data"
    },
    {
     "data": {
      "text/html": "<table><thead><tr><th><i>index</i></th><th>Name</th><th>Index</th><th>IsHidden</th><th>Type</th><th>Annotations</th></tr></thead><tbody><tr><td>0</td><td><div class=\"dni-plaintext\">VendorId</div></td><td><div class=\"dni-plaintext\">0</div></td><td><div class=\"dni-plaintext\">False</div></td><td><div class=\"dni-plaintext\">String</div></td><td></td></tr><tr><td>1</td><td><div class=\"dni-plaintext\">RateCode</div></td><td><div class=\"dni-plaintext\">1</div></td><td><div class=\"dni-plaintext\">False</div></td><td><div class=\"dni-plaintext\">String</div></td><td></td></tr><tr><td>2</td><td><div class=\"dni-plaintext\">PassengerCount</div></td><td><div class=\"dni-plaintext\">2</div></td><td><div class=\"dni-plaintext\">False</div></td><td><div class=\"dni-plaintext\">Single</div></td><td></td></tr><tr><td>3</td><td><div class=\"dni-plaintext\">TripTime</div></td><td><div class=\"dni-plaintext\">3</div></td><td><div class=\"dni-plaintext\">False</div></td><td><div class=\"dni-plaintext\">Single</div></td><td></td></tr><tr><td>4</td><td><div class=\"dni-plaintext\">TripDistance</div></td><td><div class=\"dni-plaintext\">4</div></td><td><div class=\"dni-plaintext\">False</div></td><td><div class=\"dni-plaintext\">Single</div></td><td></td></tr><tr><td>5</td><td><div class=\"dni-plaintext\">PaymentType</div></td><td><div class=\"dni-plaintext\">5</div></td><td><div class=\"dni-plaintext\">False</div></td><td><div class=\"dni-plaintext\">String</div></td><td></td></tr><tr><td>6</td><td><div class=\"dni-plaintext\">FareAmount</div></td><td><div class=\"dni-plaintext\">6</div></td><td><div class=\"dni-plaintext\">False</div></td><td><div class=\"dni-plaintext\">Single</div></td><td></td></tr></tbody></table>"
     },
     "metadata": {
      "transient": {
       "display_id": "06267942-a2f0-4a9c-afec-c2dae5b80c1e"
      }
     },
     "output_type": "display_data"
    }
   ],
   "source": [
    "display(h1(\"Code for loading the data into IDataViews: training dataset and test dataset\"));\r\n",
    "\r\n",
    "MLContext mlContext = new MLContext(seed: 0);\r\n",
    "\r\n",
    "string TrainDataPath = \"./taxi-fare-train.csv\";\r\n",
    "string TestDataPath = \"./taxi-fare-test.csv\";\r\n",
    "\r\n",
    "IDataView trainDataView = mlContext.Data.LoadFromTextFile<TaxiTrip>(TrainDataPath, hasHeader: true, separatorChar: ',');\r\n",
    "IDataView testDataView = mlContext.Data.LoadFromTextFile<TaxiTrip>(TestDataPath, hasHeader: true, separatorChar: ',');\r\n",
    "\r\n",
    "display(h4(\"Schema of training DataView:\"));\r\n",
    "display(trainDataView.Schema);"
   ]
  },
  {
   "cell_type": "markdown",
   "metadata": {},
   "source": [
    "Show a few rows of loaded data"
   ]
  },
  {
   "cell_type": "code",
   "execution_count": 4,
   "metadata": {},
   "outputs": [
    {
     "data": {
      "text/html": "<h4>Showing a few rows from training DataView:</h4>"
     },
     "metadata": {
      "transient": {
       "display_id": "96134467-479d-4cb9-a7a2-a345c5a2c5bf"
      }
     },
     "output_type": "display_data"
    },
    {
     "data": {
      "text/plain": "DataView: Showing 5 rows with the columns"
     },
     "metadata": {
      "transient": {
       "display_id": "cf70903b-5ea7-43c0-91de-6cea0567004c"
      }
     },
     "output_type": "display_data"
    },
    {
     "data": {
      "text/html": "<table><thead><tr><th><i>index</i></th><th>VendorId</th><th>RateCode</th><th>PassengerCount</th><th>TripTime</th><th>TripDistance</th><th>PaymentType</th><th>FareAmount</th></tr></thead><tbody><tr><td>0</td><td><div class=\"dni-plaintext\">CMT</div></td><td><div class=\"dni-plaintext\">1</div></td><td><div class=\"dni-plaintext\">1</div></td><td><div class=\"dni-plaintext\">1271</div></td><td><div class=\"dni-plaintext\">3.8</div></td><td><div class=\"dni-plaintext\">CRD</div></td><td><div class=\"dni-plaintext\">17.5</div></td></tr><tr><td>1</td><td><div class=\"dni-plaintext\">CMT</div></td><td><div class=\"dni-plaintext\">1</div></td><td><div class=\"dni-plaintext\">1</div></td><td><div class=\"dni-plaintext\">474</div></td><td><div class=\"dni-plaintext\">1.5</div></td><td><div class=\"dni-plaintext\">CRD</div></td><td><div class=\"dni-plaintext\">8</div></td></tr><tr><td>2</td><td><div class=\"dni-plaintext\">CMT</div></td><td><div class=\"dni-plaintext\">1</div></td><td><div class=\"dni-plaintext\">1</div></td><td><div class=\"dni-plaintext\">637</div></td><td><div class=\"dni-plaintext\">1.4</div></td><td><div class=\"dni-plaintext\">CRD</div></td><td><div class=\"dni-plaintext\">8.5</div></td></tr><tr><td>3</td><td><div class=\"dni-plaintext\">CMT</div></td><td><div class=\"dni-plaintext\">1</div></td><td><div class=\"dni-plaintext\">1</div></td><td><div class=\"dni-plaintext\">181</div></td><td><div class=\"dni-plaintext\">0.6</div></td><td><div class=\"dni-plaintext\">CSH</div></td><td><div class=\"dni-plaintext\">4.5</div></td></tr><tr><td>4</td><td><div class=\"dni-plaintext\">CMT</div></td><td><div class=\"dni-plaintext\">1</div></td><td><div class=\"dni-plaintext\">1</div></td><td><div class=\"dni-plaintext\">661</div></td><td><div class=\"dni-plaintext\">1.1</div></td><td><div class=\"dni-plaintext\">CRD</div></td><td><div class=\"dni-plaintext\">8.5</div></td></tr></tbody></table>"
     },
     "metadata": {
      "transient": {
       "display_id": "cfe78ad4-1bb1-4003-b921-2d00e8a74d9e"
      }
     },
     "output_type": "display_data"
    }
   ],
   "source": [
    "public static List<TaxiTrip> Head(MLContext mlContext, IDataView dataView, int numberOfRows = 4)\r\n",
    "{\r\n",
    "    string msg = string.Format(\"DataView: Showing {0} rows with the columns\", numberOfRows.ToString());\r\n",
    "    display(msg);\r\n",
    "          \r\n",
    "    var rows = mlContext.Data.CreateEnumerable<TaxiTrip>(dataView, reuseRowObject: false)\r\n",
    "                    .Take(numberOfRows)\r\n",
    "                    .ToList();\r\n",
    "    \r\n",
    "    return rows;\r\n",
    "}\r\n",
    "\r\n",
    "display(h4(\"Showing a few rows from training DataView:\"));\r\n",
    "\r\n",
    "var fewRows = Head(mlContext, trainDataView, 5);\r\n",
    "display(fewRows);"
   ]
  },
  {
   "cell_type": "markdown",
   "metadata": {},
   "source": [
    "Extract important input variables as arrays to be used for plotting"
   ]
  },
  {
   "cell_type": "code",
   "execution_count": 5,
   "metadata": {},
   "outputs": [],
   "source": [
    "//Extract some data into arrays for plotting:\r\n",
    "\r\n",
    "int numberOfRows = 1000;\r\n",
    "float[] fares = trainDataView.GetColumn<float>(\"FareAmount\").Take(numberOfRows).ToArray();\r\n",
    "float[] distances = trainDataView.GetColumn<float>(\"TripDistance\").Take(numberOfRows).ToArray();\r\n",
    "float[] times = trainDataView.GetColumn<float>(\"TripTime\").Take(numberOfRows).ToArray();\r\n",
    "float[] passengerCounts = trainDataView.GetColumn<float>(\"PassengerCount\").Take(numberOfRows).ToArray();"
   ]
  },
  {
   "cell_type": "markdown",
   "metadata": {},
   "source": [
    "Show a histogram: Distribution of taxi trips per fare cost"
   ]
  },
  {
   "cell_type": "code",
   "execution_count": 6,
   "metadata": {},
   "outputs": [
    {
     "data": {
      "text/html": "<div id=\"6cb516d4-6340-422c-9f15-e424684b8482\" style=\"width: 900px; height: 500px;\"></div>\r\n<script type=\"text/javascript\">\r\n\r\nvar renderPlotly = function() {\r\n    var xplotRequire = require.config({context:'xplot-3.0.1',paths:{plotly:'https://cdn.plot.ly/plotly-1.49.2.min'}}) || require;\r\n    xplotRequire(['plotly'], function(Plotly) {\r\n\n            var data = [{\"type\":\"histogram\",\"x\":[17.5,8.0,8.5,4.5,8.5,27.5,11.5,7.5,7.5,5.0,6.0,7.0,7.0,5.5,7.0,19.0,6.0,6.5,9.0,4.5,52.0,6.5,3.5,4.5,8.5,5.5,32.0,8.5,8.5,9.0,4.0,7.0,16.0,7.5,11.5,8.0,5.5,5.0,7.0,19.5,52.0,10.0,7.0,5.0,24.5,9.5,12.5,4.0,7.0,5.5,17.5,7.0,33.5,5.5,7.0,23.0,11.5,6.5,6.5,11.5,13.0,9.0,10.5,18.5,11.0,5.5,6.5,7.0,4.5,7.5,13.0,8.0,6.5,52.0,8.5,12.0,10.0,4.0,20.0,7.0,16.0,4.5,10.0,17.5,4.5,4.5,5.5,5.0,8.0,15.0,6.0,13.0,23.5,7.0,4.5,4.0,6.5,8.0,6.5,7.5,10.5,7.0,11.5,5.5,8.5,6.0,21.0,5.5,19.0,3.5,5.5,31.0,12.0,11.0,17.0,7.0,5.0,8.5,12.0,5.0,11.5,7.0,11.5,15.0,4.0,12.5,15.5,28.5,6.5,31.5,13.5,6.0,8.0,5.5,6.5,7.5,5.5,9.0,20.5,12.0,8.0,7.5,16.0,9.5,15.0,7.0,3.5,8.0,7.0,12.5,13.5,14.0,4.5,7.5,5.0,6.0,9.0,8.5,4.0,22.0,5.0,9.5,7.0,4.5,8.5,7.5,5.0,4.0,5.5,10.5,7.0,8.0,4.0,8.5,14.5,5.0,3.0,29.5,11.5,10.0,6.0,7.0,10.0,16.0,9.5,6.5,7.5,11.5,5.0,11.0,9.0,11.0,11.0,4.5,6.5,16.5,2.5,5.5,6.5,15.0,9.0,10.5,10.0,52.0,11.0,11.5,6.0,8.5,9.0,7.0,4.5,13.0,5.0,5.5,5.5,7.0,17.0,8.5,71.0,5.0,6.5,9.5,8.5,11.5,13.5,6.5,34.0,4.0,8.5,8.0,9.5,9.0,5.0,8.0,7.5,52.0,22.0,8.5,7.0,15.5,10.0,8.5,9.0,17.0,5.5,20.5,8.5,10.0,10.0,4.0,7.5,3.0,20.5,8.5,6.5,14.5,8.0,11.0,7.5,11.0,12.0,7.5,13.0,6.5,9.0,5.0,10.5,11.5,6.5,7.0,6.5,12.0,62.0,5.0,11.5,16.0,6.5,12.0,11.0,7.5,5.0,8.5,10.5,6.0,6.0,9.5,13.0,3.5,11.5,12.5,13.0,6.0,17.0,9.0,52.0,14.5,6.5,6.0,5.0,29.5,3.5,19.5,5.5,5.0,13.5,11.0,5.0,8.5,8.5,11.0,10.0,6.5,6.5,16.5,8.0,10.0,13.5,20.0,15.5,4.5,10.5,8.5,8.0,3.0,8.5,14.5,8.5,4.5,9.0,5.5,7.5,8.0,6.5,4.0,9.5,9.0,15.5,19.5,18.0,6.0,14.0,6.0,9.5,4.0,5.0,4.0,5.5,3.5,6.5,52.0,20.5,17.0,8.0,7.5,8.0,13.0,7.0,10.0,23.5,4.5,8.5,14.0,4.5,8.5,13.5,9.5,4.0,11.0,5.5,6.5,6.5,5.5,7.0,12.5,25.5,9.0,6.0,5.5,7.0,7.0,6.5,8.5,11.5,4.5,13.0,13.5,5.5,8.5,7.5,7.5,12.0,6.5,11.0,2.5,9.0,5.0,11.0,7.0,5.0,18.0,5.0,6.0,10.5,5.5,10.0,17.0,8.0,4.5,9.5,11.0,31.5,6.5,8.0,7.0,7.5,11.0,11.0,27.0,8.0,12.5,7.0,11.5,7.0,7.0,11.5,3.5,18.5,6.0,8.0,5.0,7.5,8.0,12.5,13.5,10.0,6.5,9.0,6.0,6.0,4.0,8.0,7.5,9.0,5.0,7.0,7.0,7.0,4.0,4.0,5.5,22.0,8.5,11.5,7.0,10.0,5.5,10.5,8.0,13.0,9.0,9.0,15.5,6.5,7.0,4.0,6.0,6.0,9.0,9.0,9.5,6.5,12.5,11.5,8.0,5.5,8.5,9.5,5.0,5.0,8.0,7.0,7.0,9.5,7.0,8.5,7.5,17.5,12.0,4.0,8.0,8.0,10.5,7.5,16.0,8.5,8.5,23.0,5.5,10.0,8.0,9.0,4.0,8.0,7.0,8.5,9.0,19.5,9.0,9.5,9.0,52.0,7.0,7.5,11.5,8.5,6.0,4.5,8.0,8.0,24.0,7.5,6.0,9.0,6.0,7.5,7.0,18.0,32.5,3.5,8.5,6.5,7.0,3.5,7.0,7.0,10.5,4.5,19.5,7.5,9.5,12.5,7.5,6.0,6.0,11.0,6.5,4.5,6.5,6.5,8.5,9.5,10.0,8.0,9.5,12.5,10.5,12.5,10.5,13.0,13.5,15.5,5.5,7.5,7.0,9.5,3.0,8.5,17.5,8.0,5.5,12.0,12.5,4.0,9.5,7.0,13.0,5.0,10.0,4.0,5.0,12.0,10.0,9.5,4.5,7.0,4.0,10.5,9.5,4.0,14.0,7.5,4.0,11.5,4.5,24.0,29.5,9.5,17.5,13.5,10.5,6.0,8.0,13.0,6.0,7.5,5.0,3.5,10.0,6.0,6.5,11.5,35.0,5.5,11.5,12.0,8.0,17.5,5.0,6.5,6.5,5.0,13.0,11.0,32.5,12.0,11.0,7.5,8.0,11.5,6.0,11.0,15.0,13.0,9.5,25.0,9.5,7.0,4.5,6.5,10.0,7.0,7.0,26.5,7.5,10.0,7.0,10.0,11.5,4.0,8.0,12.0,4.0,5.5,9.5,15.5,7.0,15.5,3.5,2.5,9.0,5.0,6.0,5.5,30.5,3.0,16.0,7.0,5.5,39.5,35.0,5.5,3.5,8.5,12.0,8.0,7.0,7.5,7.5,14.5,7.0,20.5,21.5,6.0,6.5,6.5,8.0,13.5,5.5,39.0,6.0,17.0,12.5,24.5,11.0,10.0,7.0,15.5,9.5,22.0,17.0,8.0,22.0,7.0,8.0,15.5,12.0,3.0,9.0,14.5,16.5,6.5,13.5,7.5,25.5,13.0,14.0,15.5,5.5,5.0,14.5,9.0,5.0,6.5,4.5,8.5,14.0,40.0,5.0,10.5,6.0,8.0,34.0,11.0,6.5,6.0,9.0,7.0,10.5,15.0,8.0,4.5,11.0,6.0,10.5,12.0,17.0,5.0,5.0,11.5,24.5,52.0,4.5,4.0,6.0,14.0,5.0,8.0,12.0,5.0,14.0,7.0,14.0,7.0,9.5,9.5,12.0,20.0,6.0,12.5,7.5,4.5,25.5,4.5,14.0,10.0,12.5,7.5,9.0,6.5,8.5,4.0,8.5,4.0,7.0,37.5,20.0,15.5,5.0,8.5,7.5,15.5,13.5,6.5,8.5,3.5,8.5,7.5,6.5,5.5,18.0,7.0,16.0,28.0,9.5,15.0,6.5,31.5,5.0,30.5,5.5,11.0,14.5,10.5,7.0,34.0,10.0,9.0,11.5,5.0,2.5,5.0,8.5,4.5,11.0,6.0,23.5,11.5,2.5,9.5,11.5,24.5,25.0,14.0,11.5,9.0,10.5,15.5,26.5,15.0,6.0,11.5,9.5,25.0,9.5,6.0,6.5,6.5,4.0,6.5,13.5,10.5,9.0,9.0,4.0,4.5,8.5,13.5,5.0,19.0,15.5,9.0,4.5,17.5,7.0,34.5,10.0,21.0,11.0,10.0,19.5,15.5,7.5,5.0,7.5,5.5,13.5,8.5,15.0,5.5,5.0,11.0,6.5,4.0,4.0,8.5,8.0,6.0,8.5,17.0,9.5,26.5,4.0,5.0,6.5,7.0,8.5,28.5,5.0,7.0,7.0,4.5,10.5,13.5,8.0,4.5,15.0,7.5,11.0,5.5,6.5,19.5,5.0,6.5,4.5,8.0,14.0,9.0,24.0,6.5,13.0,5.0,12.0,4.5,8.0,32.5,21.5,6.5,5.0,2.5,16.5,9.5,8.5,8.5,10.5,7.0,13.0,15.0,6.5,13.0,5.5,13.0,8.0,24.5,12.0,7.5,8.0,7.5,11.0,11.0,9.5,7.0,4.0,6.5,14.5,10.0,8.5,7.0,6.5,5.5,14.0,3.5,11.0,8.0,7.0,12.0,5.0,6.5,8.5,14.0,6.0,10.0,14.0,11.0,12.0,4.5,6.0,16.0,19.0,16.0,8.0,6.0,7.0,22.5,3.5,7.5,7.0,5.5,11.5,4.0,8.5,14.5,11.5,5.5,11.5,6.0,11.0,9.5,19.5,9.5,8.5],\"autobinx\":false,\"nbinsx\":20}];\n            var layout = {\"title\":\"Distribution of taxi trips per cost\",\"xaxis\":{\"title\":\"Fare ranges\",\"_isSubplotObj\":true},\"yaxis\":{\"title\":\"Number of trips\",\"_isSubplotObj\":true}};\n            Plotly.newPlot('6cb516d4-6340-422c-9f15-e424684b8482', data, layout);\n        \r\n});\r\n};\r\n// ensure `require` is available globally\r\nif ((typeof(require) !==  typeof(Function)) || (typeof(require.config) !== typeof(Function))) {\r\n    let require_script = document.createElement('script');\r\n    require_script.setAttribute('src', 'https://cdnjs.cloudflare.com/ajax/libs/require.js/2.3.6/require.min.js');\r\n    require_script.setAttribute('type', 'text/javascript');\r\n    \r\n    \r\n    require_script.onload = function() {\r\n        renderPlotly();\r\n    };\r\n\r\n    document.getElementsByTagName('head')[0].appendChild(require_script);\r\n}\r\nelse {\r\n    renderPlotly();\r\n}\r\n\r\n</script>\r\n"
     },
     "metadata": {
      "transient": {
       "display_id": "8101e300-40ab-4821-9f66-1458cbd86127"
      }
     },
     "output_type": "display_data"
    }
   ],
   "source": [
    "// Distribution of taxi trips per cost\r\n",
    "//XPlot Histogram reference: http://tpetricek.github.io/XPlot/reference/xplot-plotly-graph-histogram.html\r\n",
    "\r\n",
    "var faresHistogram = Chart.Plot(new Graph.Histogram(){x = fares, autobinx = false, nbinsx = 20});\r\n",
    "var layout = new Layout.Layout(){title=\"Distribution of taxi trips per cost\"};\r\n",
    "faresHistogram.WithLayout(layout);\r\n",
    "faresHistogram.WithXTitle(\"Fare ranges\");\r\n",
    "faresHistogram.WithYTitle(\"Number of trips\");\r\n",
    "display(faresHistogram);"
   ]
  },
  {
   "cell_type": "markdown",
   "metadata": {},
   "source": [
    "Plot Time vs. Distance with different color on Fares cost-frame"
   ]
  },
  {
   "cell_type": "code",
   "execution_count": 7,
   "metadata": {},
   "outputs": [
    {
     "data": {
      "text/html": "<div id=\"f012c657-fdd7-454f-a5a4-1b3c3d075636\" style=\"width: 500px; height: 500px;\"></div>\r\n<script type=\"text/javascript\">\r\n\r\nvar renderPlotly = function() {\r\n    var xplotRequire = require.config({context:'xplot-3.0.1',paths:{plotly:'https://cdn.plot.ly/plotly-1.49.2.min'}}) || require;\r\n    xplotRequire(['plotly'], function(Plotly) {\r\n\n            var data = [{\"type\":\"scatter\",\"x\":[1271.0,474.0,637.0,181.0,661.0,935.0,869.0,454.0,366.0,252.0,314.0,480.0,386.0,351.0,407.0,970.0,371.0,367.0,621.0,243.0,3.0,485.0,88.0,160.0,596.0,270.0,1728.0,493.0,655.0,571.0,144.0,453.0,1074.0,470.0,821.0,539.0,397.0,223.0,457.0,1527.0,1785.0,612.0,467.0,262.0,1603.0,659.0,1069.0,139.0,411.0,340.0,1439.0,425.0,2561.0,308.0,385.0,1267.0,829.0,319.0,390.0,820.0,702.0,771.0,850.0,846.0,697.0,244.0,299.0,338.0,177.0,356.0,778.0,514.0,372.0,2104.0,489.0,1000.0,840.0,123.0,1070.0,427.0,1120.0,241.0,677.0,1151.0,176.0,133.0,302.0,284.0,543.0,668.0,402.0,887.0,1906.0,357.0,143.0,135.0,332.0,460.0,421.0,482.0,765.0,543.0,879.0,384.0,633.0,348.0,736.0,257.0,1600.0,74.0,275.0,1531.0,902.0,813.0,1357.0,433.0,194.0,453.0,979.0,233.0,715.0,433.0,934.0,1047.0,186.0,1086.0,910.0,1220.0,462.0,1931.0,731.0,381.0,542.0,254.0,408.0,569.0,325.0,629.0,1603.0,572.0,485.0,415.0,1445.0,721.0,1149.0,386.0,65.0,525.0,355.0,775.0,1029.0,972.0,214.0,552.0,235.0,341.0,574.0,549.0,205.0,1605.0,210.0,696.0,397.0,224.0,632.0,529.0,208.0,177.0,377.0,859.0,361.0,320.0,162.0,386.0,1461.0,289.0,95.0,2129.0,893.0,876.0,371.0,430.0,491.0,981.0,591.0,377.0,554.0,865.0,374.0,945.0,615.0,758.0,668.0,128.0,429.0,1023.0,1789.0,214.0,370.0,1055.0,593.0,681.0,665.0,2638.0,562.0,1005.0,373.0,587.0,682.0,380.0,248.0,878.0,271.0,307.0,303.0,397.0,1393.0,671.0,2528.0,249.0,378.0,666.0,553.0,966.0,850.0,369.0,1775.0,173.0,539.0,483.0,720.0,674.0,208.0,263.0,417.0,1218.0,1315.0,448.0,497.0,1151.0,815.0,599.0,516.0,1273.0,332.0,1524.0,670.0,816.0,822.0,180.0,462.0,65.0,1338.0,621.0,387.0,1029.0,537.0,764.0,510.0,805.0,1006.0,403.0,890.0,499.0,741.0,263.0,731.0,879.0,396.0,361.0,289.0,701.0,1369.0,272.0,886.0,1033.0,345.0,893.0,876.0,581.0,299.0,655.0,883.0,363.0,363.0,724.0,999.0,90.0,813.0,934.0,1006.0,368.0,1431.0,691.0,3633.0,867.0,446.0,304.0,217.0,1535.0,107.0,1102.0,395.0,229.0,1101.0,759.0,250.0,599.0,523.0,596.0,594.0,397.0,443.0,1164.0,511.0,638.0,1093.0,1504.0,1309.0,183.0,749.0,661.0,537.0,84.0,688.0,1054.0,549.0,193.0,689.0,369.0,495.0,581.0,329.0,147.0,686.0,493.0,1018.0,918.0,1667.0,396.0,801.0,362.0,733.0,153.0,188.0,167.0,198.0,137.0,443.0,2962.0,874.0,1147.0,577.0,566.0,648.0,1016.0,502.0,822.0,886.0,196.0,476.0,971.0,241.0,605.0,1034.0,794.0,198.0,959.0,331.0,374.0,390.0,333.0,443.0,991.0,1263.0,598.0,313.0,285.0,487.0,464.0,340.0,457.0,612.0,155.0,869.0,1117.0,234.0,471.0,483.0,570.0,826.0,670.0,852.0,2.0,646.0,180.0,655.0,404.0,264.0,1492.0,261.0,343.0,812.0,271.0,680.0,1645.0,497.0,169.0,689.0,828.0,1788.0,274.0,553.0,469.0,385.0,745.0,825.0,1815.0,524.0,1037.0,358.0,837.0,490.0,479.0,863.0,117.0,863.0,294.0,505.0,282.0,494.0,453.0,992.0,1124.0,598.0,375.0,740.0,400.0,321.0,95.0,513.0,477.0,725.0,296.0,542.0,392.0,451.0,116.0,122.0,233.0,1231.0,594.0,827.0,461.0,883.0,290.0,695.0,643.0,1015.0,656.0,734.0,1187.0,332.0,435.0,202.0,302.0,252.0,597.0,566.0,553.0,350.0,955.0,961.0,592.0,301.0,376.0,670.0,220.0,273.0,651.0,397.0,397.0,564.0,515.0,535.0,491.0,1448.0,838.0,156.0,368.0,610.0,742.0,352.0,1090.0,530.0,621.0,1249.0,349.0,592.0,511.0,656.0,186.0,472.0,461.0,547.0,553.0,1467.0,564.0,720.0,673.0,3847.0,458.0,375.0,960.0,608.0,368.0,188.0,560.0,463.0,931.0,487.0,439.0,724.0,321.0,587.0,420.0,1108.0,1740.0,113.0,618.0,331.0,489.0,99.0,419.0,367.0,686.0,234.0,985.0,418.0,775.0,1161.0,491.0,340.0,315.0,756.0,353.0,223.0,320.0,437.0,609.0,726.0,758.0,586.0,608.0,728.0,592.0,965.0,794.0,1034.0,1086.0,1277.0,261.0,544.0,413.0,628.0,55.0,496.0,1279.0,516.0,339.0,609.0,922.0,131.0,681.0,478.0,959.0,169.0,845.0,197.0,187.0,988.0,831.0,732.0,145.0,457.0,89.0,731.0,413.0,143.0,1128.0,529.0,134.0,1024.0,219.0,1141.0,1512.0,738.0,1396.0,1102.0,649.0,349.0,673.0,911.0,310.0,533.0,232.0,89.0,707.0,354.0,477.0,745.0,1799.0,267.0,836.0,871.0,545.0,1430.0,230.0,346.0,426.0,257.0,1167.0,681.0,1412.0,689.0,644.0,526.0,550.0,782.0,219.0,633.0,1282.0,1020.0,541.0,1106.0,566.0,443.0,172.0,300.0,604.0,339.0,487.0,1510.0,449.0,805.0,299.0,594.0,668.0,194.0,411.0,931.0,157.0,283.0,664.0,1340.0,435.0,1435.0,114.0,33.0,473.0,215.0,272.0,302.0,1471.0,68.0,905.0,467.0,290.0,2471.0,1511.0,237.0,116.0,581.0,759.0,536.0,336.0,302.0,510.0,1052.0,463.0,1212.0,1095.0,330.0,442.0,383.0,537.0,644.0,287.0,2087.0,271.0,1312.0,816.0,900.0,673.0,439.0,380.0,1045.0,784.0,1396.0,861.0,330.0,694.0,397.0,527.0,1447.0,1150.0,54.0,526.0,1043.0,952.0,396.0,828.0,317.0,817.0,999.0,875.0,1156.0,276.0,197.0,1225.0,443.0,283.0,374.0,267.0,539.0,916.0,1848.0,230.0,600.0,301.0,569.0,2245.0,723.0,447.0,437.0,769.0,413.0,906.0,1203.0,646.0,221.0,857.0,211.0,537.0,766.0,1210.0,203.0,149.0,708.0,771.0,526.0,203.0,125.0,326.0,1014.0,266.0,654.0,992.0,289.0,1023.0,290.0,872.0,430.0,501.0,375.0,774.0,1256.0,337.0,847.0,415.0,171.0,1790.0,185.0,1183.0,679.0,621.0,405.0,607.0,313.0,525.0,165.0,592.0,158.0,395.0,1858.0,1208.0,1344.0,266.0,422.0,515.0,1310.0,1223.0,409.0,651.0,99.0,650.0,405.0,381.0,324.0,1404.0,377.0,744.0,1180.0,579.0,1224.0,251.0,1364.0,334.0,1594.0,302.0,749.0,1126.0,856.0,413.0,1958.0,815.0,760.0,789.0,373.0,11.0,209.0,473.0,185.0,663.0,276.0,1133.0,580.0,7.0,768.0,888.0,858.0,1190.0,752.0,725.0,713.0,767.0,1345.0,1894.0,1122.0,228.0,731.0,641.0,2300.0,709.0,390.0,320.0,356.0,180.0,384.0,1133.0,670.0,507.0,532.0,152.0,214.0,542.0,994.0,252.0,1280.0,921.0,566.0,220.0,920.0,408.0,2323.0,487.0,1142.0,665.0,669.0,1066.0,1036.0,496.0,265.0,498.0,306.0,757.0,417.0,747.0,186.0,229.0,489.0,417.0,170.0,142.0,615.0,431.0,276.0,464.0,1055.0,553.0,1314.0,158.0,194.0,212.0,414.0,549.0,1628.0,216.0,469.0,421.0,167.0,765.0,860.0,461.0,172.0,852.0,409.0,641.0,243.0,315.0,1213.0,208.0,392.0,206.0,517.0,854.0,380.0,1349.0,387.0,689.0,203.0,834.0,219.0,575.0,1680.0,1386.0,390.0,204.0,9.0,1249.0,545.0,637.0,591.0,696.0,369.0,916.0,1166.0,405.0,750.0,293.0,912.0,596.0,1165.0,821.0,414.0,472.0,470.0,646.0,510.0,540.0,285.0,197.0,353.0,762.0,562.0,617.0,341.0,390.0,318.0,999.0,103.0,669.0,503.0,470.0,826.0,233.0,529.0,512.0,698.0,292.0,534.0,1002.0,727.0,796.0,167.0,283.0,1346.0,1224.0,1403.0,592.0,359.0,336.0,1178.0,120.0,500.0,304.0,227.0,697.0,97.0,413.0,872.0,652.0,292.0,516.0,301.0,586.0,571.0,717.0,426.0,313.0],\"y\":[3.8,1.5,1.4,0.6,1.1,9.6,2.3,1.4,1.5,0.6,1.2,0.7,1.3,0.8,1.1,5.6,0.6,1.3,1.7,0.6,0.0,0.8,0.4,0.6,1.4,0.8,9.8,1.4,1.4,2.0,0.5,1.3,3.8,1.4,2.5,1.4,0.4,0.8,1.0,4.7,16.4,2.1,1.3,0.6,6.5,1.7,2.4,0.4,1.1,0.5,3.6,1.1,9.3,0.9,1.3,6.9,2.6,1.1,0.9,2.6,3.7,0.9,2.0,6.3,2.4,1.1,1.4,1.6,0.8,1.5,3.4,1.6,1.1,18.8,1.6,1.8,1.0,0.7,5.9,1.2,3.7,0.4,1.8,4.5,0.6,0.8,0.8,0.6,1.3,4.2,0.8,3.3,5.2,1.6,0.9,0.4,1.3,1.7,1.0,1.5,1.9,0.8,2.1,0.6,1.2,1.0,7.2,1.0,3.6,0.4,0.9,10.8,2.4,2.4,3.8,1.2,0.9,2.1,2.0,0.7,2.8,1.3,1.9,3.2,0.3,2.0,4.0,9.2,0.6,10.2,3.6,0.8,1.4,0.9,1.1,1.0,0.8,1.8,5.0,3.0,1.8,1.5,2.5,1.3,3.6,1.3,0.3,1.5,1.3,3.2,2.8,3.5,0.6,1.1,0.7,0.8,1.8,1.5,0.3,5.7,0.9,1.7,1.3,0.6,1.1,1.0,0.8,0.5,0.4,1.5,1.3,2.1,0.6,2.2,1.4,0.5,0.3,8.7,2.3,1.0,0.8,1.1,2.4,4.3,2.0,1.2,1.1,2.4,0.5,1.6,1.6,2.3,2.7,0.9,1.0,4.5,0.0,0.9,1.2,3.8,1.9,2.0,2.4,17.7,3.2,1.6,0.9,1.6,1.5,1.2,0.6,3.4,0.5,0.7,0.9,1.4,3.6,1.1,18.1,0.8,1.2,1.6,1.5,1.8,3.6,1.1,10.4,0.6,1.7,1.5,1.5,1.1,0.8,2.2,1.5,17.3,6.1,1.9,0.9,3.8,1.6,1.6,2.1,4.3,0.5,5.2,1.2,1.4,1.1,0.3,1.5,0.2,5.5,1.2,1.0,3.1,1.5,2.3,1.3,2.2,2.0,1.5,3.2,0.7,0.8,0.6,2.0,2.1,1.1,1.3,1.4,3.2,16.6,0.7,2.3,4.2,1.5,2.7,1.6,0.8,0.7,1.4,1.2,0.8,1.0,1.8,2.4,0.4,2.4,2.5,2.8,0.8,3.2,1.2,18.7,4.0,0.8,1.1,0.8,9.2,0.5,5.2,0.5,0.7,2.7,2.5,0.6,1.6,1.7,3.0,2.5,1.0,1.0,3.8,1.4,2.0,2.7,5.3,3.2,0.7,2.1,1.0,1.5,0.3,1.1,3.5,1.7,0.5,1.5,0.7,1.3,1.1,1.3,0.5,1.5,2.0,3.8,5.8,2.7,0.5,4.0,1.0,1.5,0.7,0.9,0.3,1.2,0.3,0.9,17.0,6.6,4.4,1.5,0.8,0.8,2.7,1.2,1.6,7.9,0.7,1.8,3.2,0.5,1.2,3.2,1.5,0.5,1.4,1.0,1.2,1.1,0.6,1.2,2.4,8.6,2.0,1.0,0.9,0.9,1.2,1.4,1.9,3.2,0.7,3.1,2.2,0.8,2.0,1.2,1.1,2.6,0.5,1.9,0.0,1.6,0.9,2.6,1.3,0.5,3.7,0.7,1.2,2.0,0.9,2.0,1.7,1.4,0.8,1.7,2.1,10.3,1.3,1.2,0.9,1.4,2.1,2.1,7.2,1.5,2.2,1.4,2.0,0.9,0.9,2.4,0.1,5.7,1.0,1.6,0.7,1.2,1.7,2.4,2.4,2.1,0.9,1.1,0.6,1.1,0.6,1.5,1.4,1.3,0.6,0.8,1.3,1.0,0.4,0.6,1.1,6.5,1.7,2.4,1.2,1.5,0.8,2.3,0.9,2.7,1.7,1.2,3.9,1.2,1.3,0.3,1.2,1.2,2.0,1.9,2.2,1.2,2.5,2.0,1.3,0.7,2.2,1.6,0.9,0.7,0.9,1.1,1.2,2.0,0.9,1.7,1.2,4.0,2.8,0.4,2.1,1.1,2.1,1.7,4.4,1.8,1.6,6.5,0.7,2.3,1.4,1.5,0.3,1.6,1.1,1.8,2.0,4.8,1.8,1.3,1.4,22.9,1.3,1.6,1.7,1.5,0.9,0.7,1.3,1.5,8.3,1.2,0.6,1.4,1.0,0.8,1.5,4.6,9.8,0.4,1.3,1.2,1.0,0.4,1.1,1.5,2.5,0.5,5.8,1.4,1.4,1.4,1.1,0.9,1.0,2.4,1.3,0.3,1.1,1.0,1.5,1.8,1.8,1.0,2.1,3.5,2.6,2.4,2.3,2.7,2.8,3.3,1.1,1.1,1.5,1.8,0.2,1.7,4.3,1.6,0.8,3.4,2.9,0.6,1.4,0.7,2.9,1.1,1.9,0.7,1.1,1.8,1.3,1.7,0.9,1.3,0.6,2.2,2.6,0.5,2.6,1.3,0.6,1.0,0.6,7.5,9.3,1.5,3.9,2.3,2.8,0.9,0.8,2.8,1.1,1.1,0.7,0.5,1.9,0.7,0.8,2.9,11.1,0.9,2.3,2.5,1.4,3.8,0.6,1.1,0.9,0.7,1.6,2.7,10.6,3.1,2.6,1.1,1.1,2.8,1.3,2.6,2.5,2.7,2.2,8.4,2.1,1.3,0.6,1.3,2.5,1.4,0.8,7.8,1.6,1.5,1.9,2.4,2.7,0.5,1.9,2.3,0.5,1.0,1.5,2.7,1.2,2.2,0.4,0.0,2.3,0.7,1.2,0.9,9.8,0.1,4.4,1.1,1.0,11.7,11.8,0.9,0.3,1.7,3.0,1.1,1.7,1.9,1.2,3.4,1.2,5.6,6.8,0.9,0.6,1.0,1.6,3.6,0.8,13.2,1.3,4.1,3.0,8.4,2.8,2.7,1.5,3.7,1.4,6.0,4.7,2.0,7.3,1.5,1.5,2.3,1.3,1.0,1.9,3.3,4.4,1.0,3.4,2.1,8.9,2.6,3.4,3.4,1.0,0.9,2.7,2.2,0.7,1.1,0.5,1.9,3.5,14.2,0.8,2.6,1.1,1.2,9.4,2.3,1.0,0.5,0.9,1.3,1.2,3.0,1.1,0.5,1.9,1.3,2.7,2.5,3.8,0.8,1.0,2.3,8.5,7.4,0.7,0.4,1.0,3.1,0.8,1.0,2.0,0.7,3.0,1.6,3.2,1.2,2.7,2.5,3.0,6.0,1.2,3.0,1.5,0.7,6.7,0.7,2.2,2.0,3.1,1.5,1.8,1.4,1.8,0.7,1.4,0.5,1.3,12.2,5.3,2.8,0.7,1.7,1.3,3.1,1.9,1.0,1.0,0.4,1.3,1.8,1.1,0.7,4.0,1.3,5.3,9.5,2.2,3.0,1.4,10.9,0.1,9.9,0.9,2.2,2.8,1.5,1.1,10.2,1.5,1.2,2.1,0.8,0.0,0.9,2.0,0.5,2.7,1.2,7.3,3.0,0.0,1.2,2.1,8.5,7.8,4.0,2.5,1.1,1.9,2.8,6.7,3.4,1.4,2.7,2.1,4.2,2.0,0.7,1.1,1.3,0.3,1.0,2.7,2.3,2.2,1.9,0.6,0.6,1.8,3.3,0.8,5.3,4.2,1.8,0.5,5.2,1.3,10.0,2.6,6.0,2.6,2.4,5.4,4.0,1.3,0.8,1.1,0.8,3.8,2.2,4.6,1.1,0.8,3.1,0.8,0.5,0.6,1.5,1.7,1.3,2.0,4.2,2.0,8.8,0.4,0.9,1.7,1.2,1.7,9.0,0.8,1.2,1.3,0.5,2.2,3.4,1.7,0.7,3.9,1.6,2.8,0.8,1.3,5.3,0.8,1.4,0.6,1.6,3.5,2.5,7.5,1.1,3.4,0.8,2.5,0.5,1.4,10.6,6.1,1.0,0.9,0.0,3.7,2.0,1.3,1.3,2.1,1.3,3.0,3.1,0.8,3.4,0.9,3.0,1.3,7.9,2.4,1.6,1.7,1.4,2.8,2.7,2.3,1.7,0.3,1.3,4.1,2.3,1.4,1.5,1.3,0.7,2.9,0.2,2.5,1.5,1.1,2.8,0.6,0.5,1.6,4.1,1.3,2.5,3.4,2.5,3.0,0.8,1.2,3.3,5.5,3.2,1.2,0.9,1.5,6.9,0.3,1.3,1.7,1.3,3.0,0.5,2.1,3.6,3.0,0.6,3.1,1.2,3.0,2.4,6.5,2.7,2.3],\"mode\":\"markers\",\"marker\":{\"color\":[17.5,8.0,8.5,4.5,8.5,27.5,11.5,7.5,7.5,5.0,6.0,7.0,7.0,5.5,7.0,19.0,6.0,6.5,9.0,4.5,52.0,6.5,3.5,4.5,8.5,5.5,32.0,8.5,8.5,9.0,4.0,7.0,16.0,7.5,11.5,8.0,5.5,5.0,7.0,19.5,52.0,10.0,7.0,5.0,24.5,9.5,12.5,4.0,7.0,5.5,17.5,7.0,33.5,5.5,7.0,23.0,11.5,6.5,6.5,11.5,13.0,9.0,10.5,18.5,11.0,5.5,6.5,7.0,4.5,7.5,13.0,8.0,6.5,52.0,8.5,12.0,10.0,4.0,20.0,7.0,16.0,4.5,10.0,17.5,4.5,4.5,5.5,5.0,8.0,15.0,6.0,13.0,23.5,7.0,4.5,4.0,6.5,8.0,6.5,7.5,10.5,7.0,11.5,5.5,8.5,6.0,21.0,5.5,19.0,3.5,5.5,31.0,12.0,11.0,17.0,7.0,5.0,8.5,12.0,5.0,11.5,7.0,11.5,15.0,4.0,12.5,15.5,28.5,6.5,31.5,13.5,6.0,8.0,5.5,6.5,7.5,5.5,9.0,20.5,12.0,8.0,7.5,16.0,9.5,15.0,7.0,3.5,8.0,7.0,12.5,13.5,14.0,4.5,7.5,5.0,6.0,9.0,8.5,4.0,22.0,5.0,9.5,7.0,4.5,8.5,7.5,5.0,4.0,5.5,10.5,7.0,8.0,4.0,8.5,14.5,5.0,3.0,29.5,11.5,10.0,6.0,7.0,10.0,16.0,9.5,6.5,7.5,11.5,5.0,11.0,9.0,11.0,11.0,4.5,6.5,16.5,2.5,5.5,6.5,15.0,9.0,10.5,10.0,52.0,11.0,11.5,6.0,8.5,9.0,7.0,4.5,13.0,5.0,5.5,5.5,7.0,17.0,8.5,71.0,5.0,6.5,9.5,8.5,11.5,13.5,6.5,34.0,4.0,8.5,8.0,9.5,9.0,5.0,8.0,7.5,52.0,22.0,8.5,7.0,15.5,10.0,8.5,9.0,17.0,5.5,20.5,8.5,10.0,10.0,4.0,7.5,3.0,20.5,8.5,6.5,14.5,8.0,11.0,7.5,11.0,12.0,7.5,13.0,6.5,9.0,5.0,10.5,11.5,6.5,7.0,6.5,12.0,62.0,5.0,11.5,16.0,6.5,12.0,11.0,7.5,5.0,8.5,10.5,6.0,6.0,9.5,13.0,3.5,11.5,12.5,13.0,6.0,17.0,9.0,52.0,14.5,6.5,6.0,5.0,29.5,3.5,19.5,5.5,5.0,13.5,11.0,5.0,8.5,8.5,11.0,10.0,6.5,6.5,16.5,8.0,10.0,13.5,20.0,15.5,4.5,10.5,8.5,8.0,3.0,8.5,14.5,8.5,4.5,9.0,5.5,7.5,8.0,6.5,4.0,9.5,9.0,15.5,19.5,18.0,6.0,14.0,6.0,9.5,4.0,5.0,4.0,5.5,3.5,6.5,52.0,20.5,17.0,8.0,7.5,8.0,13.0,7.0,10.0,23.5,4.5,8.5,14.0,4.5,8.5,13.5,9.5,4.0,11.0,5.5,6.5,6.5,5.5,7.0,12.5,25.5,9.0,6.0,5.5,7.0,7.0,6.5,8.5,11.5,4.5,13.0,13.5,5.5,8.5,7.5,7.5,12.0,6.5,11.0,2.5,9.0,5.0,11.0,7.0,5.0,18.0,5.0,6.0,10.5,5.5,10.0,17.0,8.0,4.5,9.5,11.0,31.5,6.5,8.0,7.0,7.5,11.0,11.0,27.0,8.0,12.5,7.0,11.5,7.0,7.0,11.5,3.5,18.5,6.0,8.0,5.0,7.5,8.0,12.5,13.5,10.0,6.5,9.0,6.0,6.0,4.0,8.0,7.5,9.0,5.0,7.0,7.0,7.0,4.0,4.0,5.5,22.0,8.5,11.5,7.0,10.0,5.5,10.5,8.0,13.0,9.0,9.0,15.5,6.5,7.0,4.0,6.0,6.0,9.0,9.0,9.5,6.5,12.5,11.5,8.0,5.5,8.5,9.5,5.0,5.0,8.0,7.0,7.0,9.5,7.0,8.5,7.5,17.5,12.0,4.0,8.0,8.0,10.5,7.5,16.0,8.5,8.5,23.0,5.5,10.0,8.0,9.0,4.0,8.0,7.0,8.5,9.0,19.5,9.0,9.5,9.0,52.0,7.0,7.5,11.5,8.5,6.0,4.5,8.0,8.0,24.0,7.5,6.0,9.0,6.0,7.5,7.0,18.0,32.5,3.5,8.5,6.5,7.0,3.5,7.0,7.0,10.5,4.5,19.5,7.5,9.5,12.5,7.5,6.0,6.0,11.0,6.5,4.5,6.5,6.5,8.5,9.5,10.0,8.0,9.5,12.5,10.5,12.5,10.5,13.0,13.5,15.5,5.5,7.5,7.0,9.5,3.0,8.5,17.5,8.0,5.5,12.0,12.5,4.0,9.5,7.0,13.0,5.0,10.0,4.0,5.0,12.0,10.0,9.5,4.5,7.0,4.0,10.5,9.5,4.0,14.0,7.5,4.0,11.5,4.5,24.0,29.5,9.5,17.5,13.5,10.5,6.0,8.0,13.0,6.0,7.5,5.0,3.5,10.0,6.0,6.5,11.5,35.0,5.5,11.5,12.0,8.0,17.5,5.0,6.5,6.5,5.0,13.0,11.0,32.5,12.0,11.0,7.5,8.0,11.5,6.0,11.0,15.0,13.0,9.5,25.0,9.5,7.0,4.5,6.5,10.0,7.0,7.0,26.5,7.5,10.0,7.0,10.0,11.5,4.0,8.0,12.0,4.0,5.5,9.5,15.5,7.0,15.5,3.5,2.5,9.0,5.0,6.0,5.5,30.5,3.0,16.0,7.0,5.5,39.5,35.0,5.5,3.5,8.5,12.0,8.0,7.0,7.5,7.5,14.5,7.0,20.5,21.5,6.0,6.5,6.5,8.0,13.5,5.5,39.0,6.0,17.0,12.5,24.5,11.0,10.0,7.0,15.5,9.5,22.0,17.0,8.0,22.0,7.0,8.0,15.5,12.0,3.0,9.0,14.5,16.5,6.5,13.5,7.5,25.5,13.0,14.0,15.5,5.5,5.0,14.5,9.0,5.0,6.5,4.5,8.5,14.0,40.0,5.0,10.5,6.0,8.0,34.0,11.0,6.5,6.0,9.0,7.0,10.5,15.0,8.0,4.5,11.0,6.0,10.5,12.0,17.0,5.0,5.0,11.5,24.5,52.0,4.5,4.0,6.0,14.0,5.0,8.0,12.0,5.0,14.0,7.0,14.0,7.0,9.5,9.5,12.0,20.0,6.0,12.5,7.5,4.5,25.5,4.5,14.0,10.0,12.5,7.5,9.0,6.5,8.5,4.0,8.5,4.0,7.0,37.5,20.0,15.5,5.0,8.5,7.5,15.5,13.5,6.5,8.5,3.5,8.5,7.5,6.5,5.5,18.0,7.0,16.0,28.0,9.5,15.0,6.5,31.5,5.0,30.5,5.5,11.0,14.5,10.5,7.0,34.0,10.0,9.0,11.5,5.0,2.5,5.0,8.5,4.5,11.0,6.0,23.5,11.5,2.5,9.5,11.5,24.5,25.0,14.0,11.5,9.0,10.5,15.5,26.5,15.0,6.0,11.5,9.5,25.0,9.5,6.0,6.5,6.5,4.0,6.5,13.5,10.5,9.0,9.0,4.0,4.5,8.5,13.5,5.0,19.0,15.5,9.0,4.5,17.5,7.0,34.5,10.0,21.0,11.0,10.0,19.5,15.5,7.5,5.0,7.5,5.5,13.5,8.5,15.0,5.5,5.0,11.0,6.5,4.0,4.0,8.5,8.0,6.0,8.5,17.0,9.5,26.5,4.0,5.0,6.5,7.0,8.5,28.5,5.0,7.0,7.0,4.5,10.5,13.5,8.0,4.5,15.0,7.5,11.0,5.5,6.5,19.5,5.0,6.5,4.5,8.0,14.0,9.0,24.0,6.5,13.0,5.0,12.0,4.5,8.0,32.5,21.5,6.5,5.0,2.5,16.5,9.5,8.5,8.5,10.5,7.0,13.0,15.0,6.5,13.0,5.5,13.0,8.0,24.5,12.0,7.5,8.0,7.5,11.0,11.0,9.5,7.0,4.0,6.5,14.5,10.0,8.5,7.0,6.5,5.5,14.0,3.5,11.0,8.0,7.0,12.0,5.0,6.5,8.5,14.0,6.0,10.0,14.0,11.0,12.0,4.5,6.0,16.0,19.0,16.0,8.0,6.0,7.0,22.5,3.5,7.5,7.0,5.5,11.5,4.0,8.5,14.5,11.5,5.5,11.5,6.0,11.0,9.5,19.5,9.5,8.5],\"colorscale\":\"Jet\"}}];\n            var layout = {\"title\":\"Plot Time vs. Distance & color scale on Fares\",\"showlegend\":false,\"xaxis\":{\"title\":\"Time\",\"_isSubplotObj\":true},\"yaxis\":{\"title\":\"Distance\",\"_isSubplotObj\":true}};\n            Plotly.newPlot('f012c657-fdd7-454f-a5a4-1b3c3d075636', data, layout);\n        \r\n});\r\n};\r\n// ensure `require` is available globally\r\nif ((typeof(require) !==  typeof(Function)) || (typeof(require.config) !== typeof(Function))) {\r\n    let require_script = document.createElement('script');\r\n    require_script.setAttribute('src', 'https://cdnjs.cloudflare.com/ajax/libs/require.js/2.3.6/require.min.js');\r\n    require_script.setAttribute('type', 'text/javascript');\r\n    \r\n    \r\n    require_script.onload = function() {\r\n        renderPlotly();\r\n    };\r\n\r\n    document.getElementsByTagName('head')[0].appendChild(require_script);\r\n}\r\nelse {\r\n    renderPlotly();\r\n}\r\n\r\n</script>\r\n"
     },
     "metadata": {
      "transient": {
       "display_id": "ae802630-38af-48f7-8563-145d49f2c23a"
      }
     },
     "output_type": "display_data"
    }
   ],
   "source": [
    "// Plot Time vs. Distance with different color on Fares cost-frame\r\n",
    "\r\n",
    "var chart = Chart.Plot(\r\n",
    "    new Graph.Scatter()\r\n",
    "    {\r\n",
    "        x = times,\r\n",
    "        y = distances,\r\n",
    "        mode = \"markers\",\r\n",
    "        marker = new Graph.Marker()\r\n",
    "        {\r\n",
    "            color = fares,\r\n",
    "            colorscale = \"Jet\"\r\n",
    "        }\r\n",
    "    }\r\n",
    ");\r\n",
    "\r\n",
    "var layout = new Layout.Layout(){title=\"Plot Time vs. Distance & color scale on Fares\"};\r\n",
    "chart.WithLayout(layout);\r\n",
    "chart.Width = 500;\r\n",
    "chart.Height = 500;\r\n",
    "chart.WithXTitle(\"Time\");\r\n",
    "chart.WithYTitle(\"Distance\");\r\n",
    "chart.WithLegend(false);\r\n",
    "\r\n",
    "display(chart);"
   ]
  },
  {
   "cell_type": "markdown",
   "metadata": {},
   "source": [
    "Plot Fares depending on trip's Time"
   ]
  },
  {
   "cell_type": "code",
   "execution_count": 8,
   "metadata": {},
   "outputs": [
    {
     "data": {
      "text/html": "<div id=\"e07bd45e-89c4-478a-97c5-b5c145ca026f\" style=\"width: 500px; height: 500px;\"></div>\r\n<script type=\"text/javascript\">\r\n\r\nvar renderPlotly = function() {\r\n    var xplotRequire = require.config({context:'xplot-3.0.1',paths:{plotly:'https://cdn.plot.ly/plotly-1.49.2.min'}}) || require;\r\n    xplotRequire(['plotly'], function(Plotly) {\r\n\n            var data = [{\"type\":\"scatter\",\"x\":[1271.0,474.0,637.0,181.0,661.0,935.0,869.0,454.0,366.0,252.0,314.0,480.0,386.0,351.0,407.0,970.0,371.0,367.0,621.0,243.0,3.0,485.0,88.0,160.0,596.0,270.0,1728.0,493.0,655.0,571.0,144.0,453.0,1074.0,470.0,821.0,539.0,397.0,223.0,457.0,1527.0,1785.0,612.0,467.0,262.0,1603.0,659.0,1069.0,139.0,411.0,340.0,1439.0,425.0,2561.0,308.0,385.0,1267.0,829.0,319.0,390.0,820.0,702.0,771.0,850.0,846.0,697.0,244.0,299.0,338.0,177.0,356.0,778.0,514.0,372.0,2104.0,489.0,1000.0,840.0,123.0,1070.0,427.0,1120.0,241.0,677.0,1151.0,176.0,133.0,302.0,284.0,543.0,668.0,402.0,887.0,1906.0,357.0,143.0,135.0,332.0,460.0,421.0,482.0,765.0,543.0,879.0,384.0,633.0,348.0,736.0,257.0,1600.0,74.0,275.0,1531.0,902.0,813.0,1357.0,433.0,194.0,453.0,979.0,233.0,715.0,433.0,934.0,1047.0,186.0,1086.0,910.0,1220.0,462.0,1931.0,731.0,381.0,542.0,254.0,408.0,569.0,325.0,629.0,1603.0,572.0,485.0,415.0,1445.0,721.0,1149.0,386.0,65.0,525.0,355.0,775.0,1029.0,972.0,214.0,552.0,235.0,341.0,574.0,549.0,205.0,1605.0,210.0,696.0,397.0,224.0,632.0,529.0,208.0,177.0,377.0,859.0,361.0,320.0,162.0,386.0,1461.0,289.0,95.0,2129.0,893.0,876.0,371.0,430.0,491.0,981.0,591.0,377.0,554.0,865.0,374.0,945.0,615.0,758.0,668.0,128.0,429.0,1023.0,1789.0,214.0,370.0,1055.0,593.0,681.0,665.0,2638.0,562.0,1005.0,373.0,587.0,682.0,380.0,248.0,878.0,271.0,307.0,303.0,397.0,1393.0,671.0,2528.0,249.0,378.0,666.0,553.0,966.0,850.0,369.0,1775.0,173.0,539.0,483.0,720.0,674.0,208.0,263.0,417.0,1218.0,1315.0,448.0,497.0,1151.0,815.0,599.0,516.0,1273.0,332.0,1524.0,670.0,816.0,822.0,180.0,462.0,65.0,1338.0,621.0,387.0,1029.0,537.0,764.0,510.0,805.0,1006.0,403.0,890.0,499.0,741.0,263.0,731.0,879.0,396.0,361.0,289.0,701.0,1369.0,272.0,886.0,1033.0,345.0,893.0,876.0,581.0,299.0,655.0,883.0,363.0,363.0,724.0,999.0,90.0,813.0,934.0,1006.0,368.0,1431.0,691.0,3633.0,867.0,446.0,304.0,217.0,1535.0,107.0,1102.0,395.0,229.0,1101.0,759.0,250.0,599.0,523.0,596.0,594.0,397.0,443.0,1164.0,511.0,638.0,1093.0,1504.0,1309.0,183.0,749.0,661.0,537.0,84.0,688.0,1054.0,549.0,193.0,689.0,369.0,495.0,581.0,329.0,147.0,686.0,493.0,1018.0,918.0,1667.0,396.0,801.0,362.0,733.0,153.0,188.0,167.0,198.0,137.0,443.0,2962.0,874.0,1147.0,577.0,566.0,648.0,1016.0,502.0,822.0,886.0,196.0,476.0,971.0,241.0,605.0,1034.0,794.0,198.0,959.0,331.0,374.0,390.0,333.0,443.0,991.0,1263.0,598.0,313.0,285.0,487.0,464.0,340.0,457.0,612.0,155.0,869.0,1117.0,234.0,471.0,483.0,570.0,826.0,670.0,852.0,2.0,646.0,180.0,655.0,404.0,264.0,1492.0,261.0,343.0,812.0,271.0,680.0,1645.0,497.0,169.0,689.0,828.0,1788.0,274.0,553.0,469.0,385.0,745.0,825.0,1815.0,524.0,1037.0,358.0,837.0,490.0,479.0,863.0,117.0,863.0,294.0,505.0,282.0,494.0,453.0,992.0,1124.0,598.0,375.0,740.0,400.0,321.0,95.0,513.0,477.0,725.0,296.0,542.0,392.0,451.0,116.0,122.0,233.0,1231.0,594.0,827.0,461.0,883.0,290.0,695.0,643.0,1015.0,656.0,734.0,1187.0,332.0,435.0,202.0,302.0,252.0,597.0,566.0,553.0,350.0,955.0,961.0,592.0,301.0,376.0,670.0,220.0,273.0,651.0,397.0,397.0,564.0,515.0,535.0,491.0,1448.0,838.0,156.0,368.0,610.0,742.0,352.0,1090.0,530.0,621.0,1249.0,349.0,592.0,511.0,656.0,186.0,472.0,461.0,547.0,553.0,1467.0,564.0,720.0,673.0,3847.0,458.0,375.0,960.0,608.0,368.0,188.0,560.0,463.0,931.0,487.0,439.0,724.0,321.0,587.0,420.0,1108.0,1740.0,113.0,618.0,331.0,489.0,99.0,419.0,367.0,686.0,234.0,985.0,418.0,775.0,1161.0,491.0,340.0,315.0,756.0,353.0,223.0,320.0,437.0,609.0,726.0,758.0,586.0,608.0,728.0,592.0,965.0,794.0,1034.0,1086.0,1277.0,261.0,544.0,413.0,628.0,55.0,496.0,1279.0,516.0,339.0,609.0,922.0,131.0,681.0,478.0,959.0,169.0,845.0,197.0,187.0,988.0,831.0,732.0,145.0,457.0,89.0,731.0,413.0,143.0,1128.0,529.0,134.0,1024.0,219.0,1141.0,1512.0,738.0,1396.0,1102.0,649.0,349.0,673.0,911.0,310.0,533.0,232.0,89.0,707.0,354.0,477.0,745.0,1799.0,267.0,836.0,871.0,545.0,1430.0,230.0,346.0,426.0,257.0,1167.0,681.0,1412.0,689.0,644.0,526.0,550.0,782.0,219.0,633.0,1282.0,1020.0,541.0,1106.0,566.0,443.0,172.0,300.0,604.0,339.0,487.0,1510.0,449.0,805.0,299.0,594.0,668.0,194.0,411.0,931.0,157.0,283.0,664.0,1340.0,435.0,1435.0,114.0,33.0,473.0,215.0,272.0,302.0,1471.0,68.0,905.0,467.0,290.0,2471.0,1511.0,237.0,116.0,581.0,759.0,536.0,336.0,302.0,510.0,1052.0,463.0,1212.0,1095.0,330.0,442.0,383.0,537.0,644.0,287.0,2087.0,271.0,1312.0,816.0,900.0,673.0,439.0,380.0,1045.0,784.0,1396.0,861.0,330.0,694.0,397.0,527.0,1447.0,1150.0,54.0,526.0,1043.0,952.0,396.0,828.0,317.0,817.0,999.0,875.0,1156.0,276.0,197.0,1225.0,443.0,283.0,374.0,267.0,539.0,916.0,1848.0,230.0,600.0,301.0,569.0,2245.0,723.0,447.0,437.0,769.0,413.0,906.0,1203.0,646.0,221.0,857.0,211.0,537.0,766.0,1210.0,203.0,149.0,708.0,771.0,526.0,203.0,125.0,326.0,1014.0,266.0,654.0,992.0,289.0,1023.0,290.0,872.0,430.0,501.0,375.0,774.0,1256.0,337.0,847.0,415.0,171.0,1790.0,185.0,1183.0,679.0,621.0,405.0,607.0,313.0,525.0,165.0,592.0,158.0,395.0,1858.0,1208.0,1344.0,266.0,422.0,515.0,1310.0,1223.0,409.0,651.0,99.0,650.0,405.0,381.0,324.0,1404.0,377.0,744.0,1180.0,579.0,1224.0,251.0,1364.0,334.0,1594.0,302.0,749.0,1126.0,856.0,413.0,1958.0,815.0,760.0,789.0,373.0,11.0,209.0,473.0,185.0,663.0,276.0,1133.0,580.0,7.0,768.0,888.0,858.0,1190.0,752.0,725.0,713.0,767.0,1345.0,1894.0,1122.0,228.0,731.0,641.0,2300.0,709.0,390.0,320.0,356.0,180.0,384.0,1133.0,670.0,507.0,532.0,152.0,214.0,542.0,994.0,252.0,1280.0,921.0,566.0,220.0,920.0,408.0,2323.0,487.0,1142.0,665.0,669.0,1066.0,1036.0,496.0,265.0,498.0,306.0,757.0,417.0,747.0,186.0,229.0,489.0,417.0,170.0,142.0,615.0,431.0,276.0,464.0,1055.0,553.0,1314.0,158.0,194.0,212.0,414.0,549.0,1628.0,216.0,469.0,421.0,167.0,765.0,860.0,461.0,172.0,852.0,409.0,641.0,243.0,315.0,1213.0,208.0,392.0,206.0,517.0,854.0,380.0,1349.0,387.0,689.0,203.0,834.0,219.0,575.0,1680.0,1386.0,390.0,204.0,9.0,1249.0,545.0,637.0,591.0,696.0,369.0,916.0,1166.0,405.0,750.0,293.0,912.0,596.0,1165.0,821.0,414.0,472.0,470.0,646.0,510.0,540.0,285.0,197.0,353.0,762.0,562.0,617.0,341.0,390.0,318.0,999.0,103.0,669.0,503.0,470.0,826.0,233.0,529.0,512.0,698.0,292.0,534.0,1002.0,727.0,796.0,167.0,283.0,1346.0,1224.0,1403.0,592.0,359.0,336.0,1178.0,120.0,500.0,304.0,227.0,697.0,97.0,413.0,872.0,652.0,292.0,516.0,301.0,586.0,571.0,717.0,426.0,313.0],\"y\":[17.5,8.0,8.5,4.5,8.5,27.5,11.5,7.5,7.5,5.0,6.0,7.0,7.0,5.5,7.0,19.0,6.0,6.5,9.0,4.5,52.0,6.5,3.5,4.5,8.5,5.5,32.0,8.5,8.5,9.0,4.0,7.0,16.0,7.5,11.5,8.0,5.5,5.0,7.0,19.5,52.0,10.0,7.0,5.0,24.5,9.5,12.5,4.0,7.0,5.5,17.5,7.0,33.5,5.5,7.0,23.0,11.5,6.5,6.5,11.5,13.0,9.0,10.5,18.5,11.0,5.5,6.5,7.0,4.5,7.5,13.0,8.0,6.5,52.0,8.5,12.0,10.0,4.0,20.0,7.0,16.0,4.5,10.0,17.5,4.5,4.5,5.5,5.0,8.0,15.0,6.0,13.0,23.5,7.0,4.5,4.0,6.5,8.0,6.5,7.5,10.5,7.0,11.5,5.5,8.5,6.0,21.0,5.5,19.0,3.5,5.5,31.0,12.0,11.0,17.0,7.0,5.0,8.5,12.0,5.0,11.5,7.0,11.5,15.0,4.0,12.5,15.5,28.5,6.5,31.5,13.5,6.0,8.0,5.5,6.5,7.5,5.5,9.0,20.5,12.0,8.0,7.5,16.0,9.5,15.0,7.0,3.5,8.0,7.0,12.5,13.5,14.0,4.5,7.5,5.0,6.0,9.0,8.5,4.0,22.0,5.0,9.5,7.0,4.5,8.5,7.5,5.0,4.0,5.5,10.5,7.0,8.0,4.0,8.5,14.5,5.0,3.0,29.5,11.5,10.0,6.0,7.0,10.0,16.0,9.5,6.5,7.5,11.5,5.0,11.0,9.0,11.0,11.0,4.5,6.5,16.5,2.5,5.5,6.5,15.0,9.0,10.5,10.0,52.0,11.0,11.5,6.0,8.5,9.0,7.0,4.5,13.0,5.0,5.5,5.5,7.0,17.0,8.5,71.0,5.0,6.5,9.5,8.5,11.5,13.5,6.5,34.0,4.0,8.5,8.0,9.5,9.0,5.0,8.0,7.5,52.0,22.0,8.5,7.0,15.5,10.0,8.5,9.0,17.0,5.5,20.5,8.5,10.0,10.0,4.0,7.5,3.0,20.5,8.5,6.5,14.5,8.0,11.0,7.5,11.0,12.0,7.5,13.0,6.5,9.0,5.0,10.5,11.5,6.5,7.0,6.5,12.0,62.0,5.0,11.5,16.0,6.5,12.0,11.0,7.5,5.0,8.5,10.5,6.0,6.0,9.5,13.0,3.5,11.5,12.5,13.0,6.0,17.0,9.0,52.0,14.5,6.5,6.0,5.0,29.5,3.5,19.5,5.5,5.0,13.5,11.0,5.0,8.5,8.5,11.0,10.0,6.5,6.5,16.5,8.0,10.0,13.5,20.0,15.5,4.5,10.5,8.5,8.0,3.0,8.5,14.5,8.5,4.5,9.0,5.5,7.5,8.0,6.5,4.0,9.5,9.0,15.5,19.5,18.0,6.0,14.0,6.0,9.5,4.0,5.0,4.0,5.5,3.5,6.5,52.0,20.5,17.0,8.0,7.5,8.0,13.0,7.0,10.0,23.5,4.5,8.5,14.0,4.5,8.5,13.5,9.5,4.0,11.0,5.5,6.5,6.5,5.5,7.0,12.5,25.5,9.0,6.0,5.5,7.0,7.0,6.5,8.5,11.5,4.5,13.0,13.5,5.5,8.5,7.5,7.5,12.0,6.5,11.0,2.5,9.0,5.0,11.0,7.0,5.0,18.0,5.0,6.0,10.5,5.5,10.0,17.0,8.0,4.5,9.5,11.0,31.5,6.5,8.0,7.0,7.5,11.0,11.0,27.0,8.0,12.5,7.0,11.5,7.0,7.0,11.5,3.5,18.5,6.0,8.0,5.0,7.5,8.0,12.5,13.5,10.0,6.5,9.0,6.0,6.0,4.0,8.0,7.5,9.0,5.0,7.0,7.0,7.0,4.0,4.0,5.5,22.0,8.5,11.5,7.0,10.0,5.5,10.5,8.0,13.0,9.0,9.0,15.5,6.5,7.0,4.0,6.0,6.0,9.0,9.0,9.5,6.5,12.5,11.5,8.0,5.5,8.5,9.5,5.0,5.0,8.0,7.0,7.0,9.5,7.0,8.5,7.5,17.5,12.0,4.0,8.0,8.0,10.5,7.5,16.0,8.5,8.5,23.0,5.5,10.0,8.0,9.0,4.0,8.0,7.0,8.5,9.0,19.5,9.0,9.5,9.0,52.0,7.0,7.5,11.5,8.5,6.0,4.5,8.0,8.0,24.0,7.5,6.0,9.0,6.0,7.5,7.0,18.0,32.5,3.5,8.5,6.5,7.0,3.5,7.0,7.0,10.5,4.5,19.5,7.5,9.5,12.5,7.5,6.0,6.0,11.0,6.5,4.5,6.5,6.5,8.5,9.5,10.0,8.0,9.5,12.5,10.5,12.5,10.5,13.0,13.5,15.5,5.5,7.5,7.0,9.5,3.0,8.5,17.5,8.0,5.5,12.0,12.5,4.0,9.5,7.0,13.0,5.0,10.0,4.0,5.0,12.0,10.0,9.5,4.5,7.0,4.0,10.5,9.5,4.0,14.0,7.5,4.0,11.5,4.5,24.0,29.5,9.5,17.5,13.5,10.5,6.0,8.0,13.0,6.0,7.5,5.0,3.5,10.0,6.0,6.5,11.5,35.0,5.5,11.5,12.0,8.0,17.5,5.0,6.5,6.5,5.0,13.0,11.0,32.5,12.0,11.0,7.5,8.0,11.5,6.0,11.0,15.0,13.0,9.5,25.0,9.5,7.0,4.5,6.5,10.0,7.0,7.0,26.5,7.5,10.0,7.0,10.0,11.5,4.0,8.0,12.0,4.0,5.5,9.5,15.5,7.0,15.5,3.5,2.5,9.0,5.0,6.0,5.5,30.5,3.0,16.0,7.0,5.5,39.5,35.0,5.5,3.5,8.5,12.0,8.0,7.0,7.5,7.5,14.5,7.0,20.5,21.5,6.0,6.5,6.5,8.0,13.5,5.5,39.0,6.0,17.0,12.5,24.5,11.0,10.0,7.0,15.5,9.5,22.0,17.0,8.0,22.0,7.0,8.0,15.5,12.0,3.0,9.0,14.5,16.5,6.5,13.5,7.5,25.5,13.0,14.0,15.5,5.5,5.0,14.5,9.0,5.0,6.5,4.5,8.5,14.0,40.0,5.0,10.5,6.0,8.0,34.0,11.0,6.5,6.0,9.0,7.0,10.5,15.0,8.0,4.5,11.0,6.0,10.5,12.0,17.0,5.0,5.0,11.5,24.5,52.0,4.5,4.0,6.0,14.0,5.0,8.0,12.0,5.0,14.0,7.0,14.0,7.0,9.5,9.5,12.0,20.0,6.0,12.5,7.5,4.5,25.5,4.5,14.0,10.0,12.5,7.5,9.0,6.5,8.5,4.0,8.5,4.0,7.0,37.5,20.0,15.5,5.0,8.5,7.5,15.5,13.5,6.5,8.5,3.5,8.5,7.5,6.5,5.5,18.0,7.0,16.0,28.0,9.5,15.0,6.5,31.5,5.0,30.5,5.5,11.0,14.5,10.5,7.0,34.0,10.0,9.0,11.5,5.0,2.5,5.0,8.5,4.5,11.0,6.0,23.5,11.5,2.5,9.5,11.5,24.5,25.0,14.0,11.5,9.0,10.5,15.5,26.5,15.0,6.0,11.5,9.5,25.0,9.5,6.0,6.5,6.5,4.0,6.5,13.5,10.5,9.0,9.0,4.0,4.5,8.5,13.5,5.0,19.0,15.5,9.0,4.5,17.5,7.0,34.5,10.0,21.0,11.0,10.0,19.5,15.5,7.5,5.0,7.5,5.5,13.5,8.5,15.0,5.5,5.0,11.0,6.5,4.0,4.0,8.5,8.0,6.0,8.5,17.0,9.5,26.5,4.0,5.0,6.5,7.0,8.5,28.5,5.0,7.0,7.0,4.5,10.5,13.5,8.0,4.5,15.0,7.5,11.0,5.5,6.5,19.5,5.0,6.5,4.5,8.0,14.0,9.0,24.0,6.5,13.0,5.0,12.0,4.5,8.0,32.5,21.5,6.5,5.0,2.5,16.5,9.5,8.5,8.5,10.5,7.0,13.0,15.0,6.5,13.0,5.5,13.0,8.0,24.5,12.0,7.5,8.0,7.5,11.0,11.0,9.5,7.0,4.0,6.5,14.5,10.0,8.5,7.0,6.5,5.5,14.0,3.5,11.0,8.0,7.0,12.0,5.0,6.5,8.5,14.0,6.0,10.0,14.0,11.0,12.0,4.5,6.0,16.0,19.0,16.0,8.0,6.0,7.0,22.5,3.5,7.5,7.0,5.5,11.5,4.0,8.5,14.5,11.5,5.5,11.5,6.0,11.0,9.5,19.5,9.5,8.5],\"mode\":\"markers\",\"marker\":{\"color\":[3.8,1.5,1.4,0.6,1.1,9.6,2.3,1.4,1.5,0.6,1.2,0.7,1.3,0.8,1.1,5.6,0.6,1.3,1.7,0.6,0.0,0.8,0.4,0.6,1.4,0.8,9.8,1.4,1.4,2.0,0.5,1.3,3.8,1.4,2.5,1.4,0.4,0.8,1.0,4.7,16.4,2.1,1.3,0.6,6.5,1.7,2.4,0.4,1.1,0.5,3.6,1.1,9.3,0.9,1.3,6.9,2.6,1.1,0.9,2.6,3.7,0.9,2.0,6.3,2.4,1.1,1.4,1.6,0.8,1.5,3.4,1.6,1.1,18.8,1.6,1.8,1.0,0.7,5.9,1.2,3.7,0.4,1.8,4.5,0.6,0.8,0.8,0.6,1.3,4.2,0.8,3.3,5.2,1.6,0.9,0.4,1.3,1.7,1.0,1.5,1.9,0.8,2.1,0.6,1.2,1.0,7.2,1.0,3.6,0.4,0.9,10.8,2.4,2.4,3.8,1.2,0.9,2.1,2.0,0.7,2.8,1.3,1.9,3.2,0.3,2.0,4.0,9.2,0.6,10.2,3.6,0.8,1.4,0.9,1.1,1.0,0.8,1.8,5.0,3.0,1.8,1.5,2.5,1.3,3.6,1.3,0.3,1.5,1.3,3.2,2.8,3.5,0.6,1.1,0.7,0.8,1.8,1.5,0.3,5.7,0.9,1.7,1.3,0.6,1.1,1.0,0.8,0.5,0.4,1.5,1.3,2.1,0.6,2.2,1.4,0.5,0.3,8.7,2.3,1.0,0.8,1.1,2.4,4.3,2.0,1.2,1.1,2.4,0.5,1.6,1.6,2.3,2.7,0.9,1.0,4.5,0.0,0.9,1.2,3.8,1.9,2.0,2.4,17.7,3.2,1.6,0.9,1.6,1.5,1.2,0.6,3.4,0.5,0.7,0.9,1.4,3.6,1.1,18.1,0.8,1.2,1.6,1.5,1.8,3.6,1.1,10.4,0.6,1.7,1.5,1.5,1.1,0.8,2.2,1.5,17.3,6.1,1.9,0.9,3.8,1.6,1.6,2.1,4.3,0.5,5.2,1.2,1.4,1.1,0.3,1.5,0.2,5.5,1.2,1.0,3.1,1.5,2.3,1.3,2.2,2.0,1.5,3.2,0.7,0.8,0.6,2.0,2.1,1.1,1.3,1.4,3.2,16.6,0.7,2.3,4.2,1.5,2.7,1.6,0.8,0.7,1.4,1.2,0.8,1.0,1.8,2.4,0.4,2.4,2.5,2.8,0.8,3.2,1.2,18.7,4.0,0.8,1.1,0.8,9.2,0.5,5.2,0.5,0.7,2.7,2.5,0.6,1.6,1.7,3.0,2.5,1.0,1.0,3.8,1.4,2.0,2.7,5.3,3.2,0.7,2.1,1.0,1.5,0.3,1.1,3.5,1.7,0.5,1.5,0.7,1.3,1.1,1.3,0.5,1.5,2.0,3.8,5.8,2.7,0.5,4.0,1.0,1.5,0.7,0.9,0.3,1.2,0.3,0.9,17.0,6.6,4.4,1.5,0.8,0.8,2.7,1.2,1.6,7.9,0.7,1.8,3.2,0.5,1.2,3.2,1.5,0.5,1.4,1.0,1.2,1.1,0.6,1.2,2.4,8.6,2.0,1.0,0.9,0.9,1.2,1.4,1.9,3.2,0.7,3.1,2.2,0.8,2.0,1.2,1.1,2.6,0.5,1.9,0.0,1.6,0.9,2.6,1.3,0.5,3.7,0.7,1.2,2.0,0.9,2.0,1.7,1.4,0.8,1.7,2.1,10.3,1.3,1.2,0.9,1.4,2.1,2.1,7.2,1.5,2.2,1.4,2.0,0.9,0.9,2.4,0.1,5.7,1.0,1.6,0.7,1.2,1.7,2.4,2.4,2.1,0.9,1.1,0.6,1.1,0.6,1.5,1.4,1.3,0.6,0.8,1.3,1.0,0.4,0.6,1.1,6.5,1.7,2.4,1.2,1.5,0.8,2.3,0.9,2.7,1.7,1.2,3.9,1.2,1.3,0.3,1.2,1.2,2.0,1.9,2.2,1.2,2.5,2.0,1.3,0.7,2.2,1.6,0.9,0.7,0.9,1.1,1.2,2.0,0.9,1.7,1.2,4.0,2.8,0.4,2.1,1.1,2.1,1.7,4.4,1.8,1.6,6.5,0.7,2.3,1.4,1.5,0.3,1.6,1.1,1.8,2.0,4.8,1.8,1.3,1.4,22.9,1.3,1.6,1.7,1.5,0.9,0.7,1.3,1.5,8.3,1.2,0.6,1.4,1.0,0.8,1.5,4.6,9.8,0.4,1.3,1.2,1.0,0.4,1.1,1.5,2.5,0.5,5.8,1.4,1.4,1.4,1.1,0.9,1.0,2.4,1.3,0.3,1.1,1.0,1.5,1.8,1.8,1.0,2.1,3.5,2.6,2.4,2.3,2.7,2.8,3.3,1.1,1.1,1.5,1.8,0.2,1.7,4.3,1.6,0.8,3.4,2.9,0.6,1.4,0.7,2.9,1.1,1.9,0.7,1.1,1.8,1.3,1.7,0.9,1.3,0.6,2.2,2.6,0.5,2.6,1.3,0.6,1.0,0.6,7.5,9.3,1.5,3.9,2.3,2.8,0.9,0.8,2.8,1.1,1.1,0.7,0.5,1.9,0.7,0.8,2.9,11.1,0.9,2.3,2.5,1.4,3.8,0.6,1.1,0.9,0.7,1.6,2.7,10.6,3.1,2.6,1.1,1.1,2.8,1.3,2.6,2.5,2.7,2.2,8.4,2.1,1.3,0.6,1.3,2.5,1.4,0.8,7.8,1.6,1.5,1.9,2.4,2.7,0.5,1.9,2.3,0.5,1.0,1.5,2.7,1.2,2.2,0.4,0.0,2.3,0.7,1.2,0.9,9.8,0.1,4.4,1.1,1.0,11.7,11.8,0.9,0.3,1.7,3.0,1.1,1.7,1.9,1.2,3.4,1.2,5.6,6.8,0.9,0.6,1.0,1.6,3.6,0.8,13.2,1.3,4.1,3.0,8.4,2.8,2.7,1.5,3.7,1.4,6.0,4.7,2.0,7.3,1.5,1.5,2.3,1.3,1.0,1.9,3.3,4.4,1.0,3.4,2.1,8.9,2.6,3.4,3.4,1.0,0.9,2.7,2.2,0.7,1.1,0.5,1.9,3.5,14.2,0.8,2.6,1.1,1.2,9.4,2.3,1.0,0.5,0.9,1.3,1.2,3.0,1.1,0.5,1.9,1.3,2.7,2.5,3.8,0.8,1.0,2.3,8.5,7.4,0.7,0.4,1.0,3.1,0.8,1.0,2.0,0.7,3.0,1.6,3.2,1.2,2.7,2.5,3.0,6.0,1.2,3.0,1.5,0.7,6.7,0.7,2.2,2.0,3.1,1.5,1.8,1.4,1.8,0.7,1.4,0.5,1.3,12.2,5.3,2.8,0.7,1.7,1.3,3.1,1.9,1.0,1.0,0.4,1.3,1.8,1.1,0.7,4.0,1.3,5.3,9.5,2.2,3.0,1.4,10.9,0.1,9.9,0.9,2.2,2.8,1.5,1.1,10.2,1.5,1.2,2.1,0.8,0.0,0.9,2.0,0.5,2.7,1.2,7.3,3.0,0.0,1.2,2.1,8.5,7.8,4.0,2.5,1.1,1.9,2.8,6.7,3.4,1.4,2.7,2.1,4.2,2.0,0.7,1.1,1.3,0.3,1.0,2.7,2.3,2.2,1.9,0.6,0.6,1.8,3.3,0.8,5.3,4.2,1.8,0.5,5.2,1.3,10.0,2.6,6.0,2.6,2.4,5.4,4.0,1.3,0.8,1.1,0.8,3.8,2.2,4.6,1.1,0.8,3.1,0.8,0.5,0.6,1.5,1.7,1.3,2.0,4.2,2.0,8.8,0.4,0.9,1.7,1.2,1.7,9.0,0.8,1.2,1.3,0.5,2.2,3.4,1.7,0.7,3.9,1.6,2.8,0.8,1.3,5.3,0.8,1.4,0.6,1.6,3.5,2.5,7.5,1.1,3.4,0.8,2.5,0.5,1.4,10.6,6.1,1.0,0.9,0.0,3.7,2.0,1.3,1.3,2.1,1.3,3.0,3.1,0.8,3.4,0.9,3.0,1.3,7.9,2.4,1.6,1.7,1.4,2.8,2.7,2.3,1.7,0.3,1.3,4.1,2.3,1.4,1.5,1.3,0.7,2.9,0.2,2.5,1.5,1.1,2.8,0.6,0.5,1.6,4.1,1.3,2.5,3.4,2.5,3.0,0.8,1.2,3.3,5.5,3.2,1.2,0.9,1.5,6.9,0.3,1.3,1.7,1.3,3.0,0.5,2.1,3.6,3.0,0.6,3.1,1.2,3.0,2.4,6.5,2.7,2.3],\"colorscale\":\"Jet\"}}];\n            var layout = {\"title\":\"Plot Fare depending on Time\",\"showlegend\":false,\"xaxis\":{\"title\":\"Time\",\"_isSubplotObj\":true},\"yaxis\":{\"title\":\"Fares\",\"_isSubplotObj\":true}};\n            Plotly.newPlot('e07bd45e-89c4-478a-97c5-b5c145ca026f', data, layout);\n        \r\n});\r\n};\r\n// ensure `require` is available globally\r\nif ((typeof(require) !==  typeof(Function)) || (typeof(require.config) !== typeof(Function))) {\r\n    let require_script = document.createElement('script');\r\n    require_script.setAttribute('src', 'https://cdnjs.cloudflare.com/ajax/libs/require.js/2.3.6/require.min.js');\r\n    require_script.setAttribute('type', 'text/javascript');\r\n    \r\n    \r\n    require_script.onload = function() {\r\n        renderPlotly();\r\n    };\r\n\r\n    document.getElementsByTagName('head')[0].appendChild(require_script);\r\n}\r\nelse {\r\n    renderPlotly();\r\n}\r\n\r\n</script>\r\n"
     },
     "metadata": {
      "transient": {
       "display_id": "4e93d716-3612-4d37-9a0a-21f7e3aa8c36"
      }
     },
     "output_type": "display_data"
    }
   ],
   "source": [
    "// Plot Fare depending on Time\r\n",
    "\r\n",
    "var chartFareVsTime = Chart.Plot(\r\n",
    "    new Graph.Scatter()\r\n",
    "    {\r\n",
    "        x = times,\r\n",
    "        y = fares,\r\n",
    "        mode = \"markers\",\r\n",
    "        marker = new Graph.Marker()\r\n",
    "        {\r\n",
    "            color = distances,\r\n",
    "            colorscale = \"Jet\"\r\n",
    "        }\r\n",
    "    }\r\n",
    ");\r\n",
    "\r\n",
    "var layout = new Layout.Layout(){title=\"Plot Fare depending on Time\"};\r\n",
    "chartFareVsTime.WithLayout(layout);\r\n",
    "chartFareVsTime.Width = 500;\r\n",
    "chartFareVsTime.Height = 500;\r\n",
    "chartFareVsTime.WithXTitle(\"Time\");\r\n",
    "chartFareVsTime.WithYTitle(\"Fares\");\r\n",
    "chartFareVsTime.WithLegend(false);\r\n",
    "\r\n",
    "display(chartFareVsTime);"
   ]
  },
  {
   "cell_type": "code",
   "execution_count": 9,
   "metadata": {},
   "outputs": [
    {
     "data": {
      "text/html": "<div id=\"75baaef8-d847-42e1-9d2c-18d358b54042\" style=\"width: 500px; height: 500px;\"></div>\r\n<script type=\"text/javascript\">\r\n\r\nvar renderPlotly = function() {\r\n    var xplotRequire = require.config({context:'xplot-3.0.1',paths:{plotly:'https://cdn.plot.ly/plotly-1.49.2.min'}}) || require;\r\n    xplotRequire(['plotly'], function(Plotly) {\r\n\n            var data = [{\"type\":\"scatter\",\"x\":[3.8,1.5,1.4,0.6,1.1,9.6,2.3,1.4,1.5,0.6,1.2,0.7,1.3,0.8,1.1,5.6,0.6,1.3,1.7,0.6,0.0,0.8,0.4,0.6,1.4,0.8,9.8,1.4,1.4,2.0,0.5,1.3,3.8,1.4,2.5,1.4,0.4,0.8,1.0,4.7,16.4,2.1,1.3,0.6,6.5,1.7,2.4,0.4,1.1,0.5,3.6,1.1,9.3,0.9,1.3,6.9,2.6,1.1,0.9,2.6,3.7,0.9,2.0,6.3,2.4,1.1,1.4,1.6,0.8,1.5,3.4,1.6,1.1,18.8,1.6,1.8,1.0,0.7,5.9,1.2,3.7,0.4,1.8,4.5,0.6,0.8,0.8,0.6,1.3,4.2,0.8,3.3,5.2,1.6,0.9,0.4,1.3,1.7,1.0,1.5,1.9,0.8,2.1,0.6,1.2,1.0,7.2,1.0,3.6,0.4,0.9,10.8,2.4,2.4,3.8,1.2,0.9,2.1,2.0,0.7,2.8,1.3,1.9,3.2,0.3,2.0,4.0,9.2,0.6,10.2,3.6,0.8,1.4,0.9,1.1,1.0,0.8,1.8,5.0,3.0,1.8,1.5,2.5,1.3,3.6,1.3,0.3,1.5,1.3,3.2,2.8,3.5,0.6,1.1,0.7,0.8,1.8,1.5,0.3,5.7,0.9,1.7,1.3,0.6,1.1,1.0,0.8,0.5,0.4,1.5,1.3,2.1,0.6,2.2,1.4,0.5,0.3,8.7,2.3,1.0,0.8,1.1,2.4,4.3,2.0,1.2,1.1,2.4,0.5,1.6,1.6,2.3,2.7,0.9,1.0,4.5,0.0,0.9,1.2,3.8,1.9,2.0,2.4,17.7,3.2,1.6,0.9,1.6,1.5,1.2,0.6,3.4,0.5,0.7,0.9,1.4,3.6,1.1,18.1,0.8,1.2,1.6,1.5,1.8,3.6,1.1,10.4,0.6,1.7,1.5,1.5,1.1,0.8,2.2,1.5,17.3,6.1,1.9,0.9,3.8,1.6,1.6,2.1,4.3,0.5,5.2,1.2,1.4,1.1,0.3,1.5,0.2,5.5,1.2,1.0,3.1,1.5,2.3,1.3,2.2,2.0,1.5,3.2,0.7,0.8,0.6,2.0,2.1,1.1,1.3,1.4,3.2,16.6,0.7,2.3,4.2,1.5,2.7,1.6,0.8,0.7,1.4,1.2,0.8,1.0,1.8,2.4,0.4,2.4,2.5,2.8,0.8,3.2,1.2,18.7,4.0,0.8,1.1,0.8,9.2,0.5,5.2,0.5,0.7,2.7,2.5,0.6,1.6,1.7,3.0,2.5,1.0,1.0,3.8,1.4,2.0,2.7,5.3,3.2,0.7,2.1,1.0,1.5,0.3,1.1,3.5,1.7,0.5,1.5,0.7,1.3,1.1,1.3,0.5,1.5,2.0,3.8,5.8,2.7,0.5,4.0,1.0,1.5,0.7,0.9,0.3,1.2,0.3,0.9,17.0,6.6,4.4,1.5,0.8,0.8,2.7,1.2,1.6,7.9,0.7,1.8,3.2,0.5,1.2,3.2,1.5,0.5,1.4,1.0,1.2,1.1,0.6,1.2,2.4,8.6,2.0,1.0,0.9,0.9,1.2,1.4,1.9,3.2,0.7,3.1,2.2,0.8,2.0,1.2,1.1,2.6,0.5,1.9,0.0,1.6,0.9,2.6,1.3,0.5,3.7,0.7,1.2,2.0,0.9,2.0,1.7,1.4,0.8,1.7,2.1,10.3,1.3,1.2,0.9,1.4,2.1,2.1,7.2,1.5,2.2,1.4,2.0,0.9,0.9,2.4,0.1,5.7,1.0,1.6,0.7,1.2,1.7,2.4,2.4,2.1,0.9,1.1,0.6,1.1,0.6,1.5,1.4,1.3,0.6,0.8,1.3,1.0,0.4,0.6,1.1,6.5,1.7,2.4,1.2,1.5,0.8,2.3,0.9,2.7,1.7,1.2,3.9,1.2,1.3,0.3,1.2,1.2,2.0,1.9,2.2,1.2,2.5,2.0,1.3,0.7,2.2,1.6,0.9,0.7,0.9,1.1,1.2,2.0,0.9,1.7,1.2,4.0,2.8,0.4,2.1,1.1,2.1,1.7,4.4,1.8,1.6,6.5,0.7,2.3,1.4,1.5,0.3,1.6,1.1,1.8,2.0,4.8,1.8,1.3,1.4,22.9,1.3,1.6,1.7,1.5,0.9,0.7,1.3,1.5,8.3,1.2,0.6,1.4,1.0,0.8,1.5,4.6,9.8,0.4,1.3,1.2,1.0,0.4,1.1,1.5,2.5,0.5,5.8,1.4,1.4,1.4,1.1,0.9,1.0,2.4,1.3,0.3,1.1,1.0,1.5,1.8,1.8,1.0,2.1,3.5,2.6,2.4,2.3,2.7,2.8,3.3,1.1,1.1,1.5,1.8,0.2,1.7,4.3,1.6,0.8,3.4,2.9,0.6,1.4,0.7,2.9,1.1,1.9,0.7,1.1,1.8,1.3,1.7,0.9,1.3,0.6,2.2,2.6,0.5,2.6,1.3,0.6,1.0,0.6,7.5,9.3,1.5,3.9,2.3,2.8,0.9,0.8,2.8,1.1,1.1,0.7,0.5,1.9,0.7,0.8,2.9,11.1,0.9,2.3,2.5,1.4,3.8,0.6,1.1,0.9,0.7,1.6,2.7,10.6,3.1,2.6,1.1,1.1,2.8,1.3,2.6,2.5,2.7,2.2,8.4,2.1,1.3,0.6,1.3,2.5,1.4,0.8,7.8,1.6,1.5,1.9,2.4,2.7,0.5,1.9,2.3,0.5,1.0,1.5,2.7,1.2,2.2,0.4,0.0,2.3,0.7,1.2,0.9,9.8,0.1,4.4,1.1,1.0,11.7,11.8,0.9,0.3,1.7,3.0,1.1,1.7,1.9,1.2,3.4,1.2,5.6,6.8,0.9,0.6,1.0,1.6,3.6,0.8,13.2,1.3,4.1,3.0,8.4,2.8,2.7,1.5,3.7,1.4,6.0,4.7,2.0,7.3,1.5,1.5,2.3,1.3,1.0,1.9,3.3,4.4,1.0,3.4,2.1,8.9,2.6,3.4,3.4,1.0,0.9,2.7,2.2,0.7,1.1,0.5,1.9,3.5,14.2,0.8,2.6,1.1,1.2,9.4,2.3,1.0,0.5,0.9,1.3,1.2,3.0,1.1,0.5,1.9,1.3,2.7,2.5,3.8,0.8,1.0,2.3,8.5,7.4,0.7,0.4,1.0,3.1,0.8,1.0,2.0,0.7,3.0,1.6,3.2,1.2,2.7,2.5,3.0,6.0,1.2,3.0,1.5,0.7,6.7,0.7,2.2,2.0,3.1,1.5,1.8,1.4,1.8,0.7,1.4,0.5,1.3,12.2,5.3,2.8,0.7,1.7,1.3,3.1,1.9,1.0,1.0,0.4,1.3,1.8,1.1,0.7,4.0,1.3,5.3,9.5,2.2,3.0,1.4,10.9,0.1,9.9,0.9,2.2,2.8,1.5,1.1,10.2,1.5,1.2,2.1,0.8,0.0,0.9,2.0,0.5,2.7,1.2,7.3,3.0,0.0,1.2,2.1,8.5,7.8,4.0,2.5,1.1,1.9,2.8,6.7,3.4,1.4,2.7,2.1,4.2,2.0,0.7,1.1,1.3,0.3,1.0,2.7,2.3,2.2,1.9,0.6,0.6,1.8,3.3,0.8,5.3,4.2,1.8,0.5,5.2,1.3,10.0,2.6,6.0,2.6,2.4,5.4,4.0,1.3,0.8,1.1,0.8,3.8,2.2,4.6,1.1,0.8,3.1,0.8,0.5,0.6,1.5,1.7,1.3,2.0,4.2,2.0,8.8,0.4,0.9,1.7,1.2,1.7,9.0,0.8,1.2,1.3,0.5,2.2,3.4,1.7,0.7,3.9,1.6,2.8,0.8,1.3,5.3,0.8,1.4,0.6,1.6,3.5,2.5,7.5,1.1,3.4,0.8,2.5,0.5,1.4,10.6,6.1,1.0,0.9,0.0,3.7,2.0,1.3,1.3,2.1,1.3,3.0,3.1,0.8,3.4,0.9,3.0,1.3,7.9,2.4,1.6,1.7,1.4,2.8,2.7,2.3,1.7,0.3,1.3,4.1,2.3,1.4,1.5,1.3,0.7,2.9,0.2,2.5,1.5,1.1,2.8,0.6,0.5,1.6,4.1,1.3,2.5,3.4,2.5,3.0,0.8,1.2,3.3,5.5,3.2,1.2,0.9,1.5,6.9,0.3,1.3,1.7,1.3,3.0,0.5,2.1,3.6,3.0,0.6,3.1,1.2,3.0,2.4,6.5,2.7,2.3],\"y\":[17.5,8.0,8.5,4.5,8.5,27.5,11.5,7.5,7.5,5.0,6.0,7.0,7.0,5.5,7.0,19.0,6.0,6.5,9.0,4.5,52.0,6.5,3.5,4.5,8.5,5.5,32.0,8.5,8.5,9.0,4.0,7.0,16.0,7.5,11.5,8.0,5.5,5.0,7.0,19.5,52.0,10.0,7.0,5.0,24.5,9.5,12.5,4.0,7.0,5.5,17.5,7.0,33.5,5.5,7.0,23.0,11.5,6.5,6.5,11.5,13.0,9.0,10.5,18.5,11.0,5.5,6.5,7.0,4.5,7.5,13.0,8.0,6.5,52.0,8.5,12.0,10.0,4.0,20.0,7.0,16.0,4.5,10.0,17.5,4.5,4.5,5.5,5.0,8.0,15.0,6.0,13.0,23.5,7.0,4.5,4.0,6.5,8.0,6.5,7.5,10.5,7.0,11.5,5.5,8.5,6.0,21.0,5.5,19.0,3.5,5.5,31.0,12.0,11.0,17.0,7.0,5.0,8.5,12.0,5.0,11.5,7.0,11.5,15.0,4.0,12.5,15.5,28.5,6.5,31.5,13.5,6.0,8.0,5.5,6.5,7.5,5.5,9.0,20.5,12.0,8.0,7.5,16.0,9.5,15.0,7.0,3.5,8.0,7.0,12.5,13.5,14.0,4.5,7.5,5.0,6.0,9.0,8.5,4.0,22.0,5.0,9.5,7.0,4.5,8.5,7.5,5.0,4.0,5.5,10.5,7.0,8.0,4.0,8.5,14.5,5.0,3.0,29.5,11.5,10.0,6.0,7.0,10.0,16.0,9.5,6.5,7.5,11.5,5.0,11.0,9.0,11.0,11.0,4.5,6.5,16.5,2.5,5.5,6.5,15.0,9.0,10.5,10.0,52.0,11.0,11.5,6.0,8.5,9.0,7.0,4.5,13.0,5.0,5.5,5.5,7.0,17.0,8.5,71.0,5.0,6.5,9.5,8.5,11.5,13.5,6.5,34.0,4.0,8.5,8.0,9.5,9.0,5.0,8.0,7.5,52.0,22.0,8.5,7.0,15.5,10.0,8.5,9.0,17.0,5.5,20.5,8.5,10.0,10.0,4.0,7.5,3.0,20.5,8.5,6.5,14.5,8.0,11.0,7.5,11.0,12.0,7.5,13.0,6.5,9.0,5.0,10.5,11.5,6.5,7.0,6.5,12.0,62.0,5.0,11.5,16.0,6.5,12.0,11.0,7.5,5.0,8.5,10.5,6.0,6.0,9.5,13.0,3.5,11.5,12.5,13.0,6.0,17.0,9.0,52.0,14.5,6.5,6.0,5.0,29.5,3.5,19.5,5.5,5.0,13.5,11.0,5.0,8.5,8.5,11.0,10.0,6.5,6.5,16.5,8.0,10.0,13.5,20.0,15.5,4.5,10.5,8.5,8.0,3.0,8.5,14.5,8.5,4.5,9.0,5.5,7.5,8.0,6.5,4.0,9.5,9.0,15.5,19.5,18.0,6.0,14.0,6.0,9.5,4.0,5.0,4.0,5.5,3.5,6.5,52.0,20.5,17.0,8.0,7.5,8.0,13.0,7.0,10.0,23.5,4.5,8.5,14.0,4.5,8.5,13.5,9.5,4.0,11.0,5.5,6.5,6.5,5.5,7.0,12.5,25.5,9.0,6.0,5.5,7.0,7.0,6.5,8.5,11.5,4.5,13.0,13.5,5.5,8.5,7.5,7.5,12.0,6.5,11.0,2.5,9.0,5.0,11.0,7.0,5.0,18.0,5.0,6.0,10.5,5.5,10.0,17.0,8.0,4.5,9.5,11.0,31.5,6.5,8.0,7.0,7.5,11.0,11.0,27.0,8.0,12.5,7.0,11.5,7.0,7.0,11.5,3.5,18.5,6.0,8.0,5.0,7.5,8.0,12.5,13.5,10.0,6.5,9.0,6.0,6.0,4.0,8.0,7.5,9.0,5.0,7.0,7.0,7.0,4.0,4.0,5.5,22.0,8.5,11.5,7.0,10.0,5.5,10.5,8.0,13.0,9.0,9.0,15.5,6.5,7.0,4.0,6.0,6.0,9.0,9.0,9.5,6.5,12.5,11.5,8.0,5.5,8.5,9.5,5.0,5.0,8.0,7.0,7.0,9.5,7.0,8.5,7.5,17.5,12.0,4.0,8.0,8.0,10.5,7.5,16.0,8.5,8.5,23.0,5.5,10.0,8.0,9.0,4.0,8.0,7.0,8.5,9.0,19.5,9.0,9.5,9.0,52.0,7.0,7.5,11.5,8.5,6.0,4.5,8.0,8.0,24.0,7.5,6.0,9.0,6.0,7.5,7.0,18.0,32.5,3.5,8.5,6.5,7.0,3.5,7.0,7.0,10.5,4.5,19.5,7.5,9.5,12.5,7.5,6.0,6.0,11.0,6.5,4.5,6.5,6.5,8.5,9.5,10.0,8.0,9.5,12.5,10.5,12.5,10.5,13.0,13.5,15.5,5.5,7.5,7.0,9.5,3.0,8.5,17.5,8.0,5.5,12.0,12.5,4.0,9.5,7.0,13.0,5.0,10.0,4.0,5.0,12.0,10.0,9.5,4.5,7.0,4.0,10.5,9.5,4.0,14.0,7.5,4.0,11.5,4.5,24.0,29.5,9.5,17.5,13.5,10.5,6.0,8.0,13.0,6.0,7.5,5.0,3.5,10.0,6.0,6.5,11.5,35.0,5.5,11.5,12.0,8.0,17.5,5.0,6.5,6.5,5.0,13.0,11.0,32.5,12.0,11.0,7.5,8.0,11.5,6.0,11.0,15.0,13.0,9.5,25.0,9.5,7.0,4.5,6.5,10.0,7.0,7.0,26.5,7.5,10.0,7.0,10.0,11.5,4.0,8.0,12.0,4.0,5.5,9.5,15.5,7.0,15.5,3.5,2.5,9.0,5.0,6.0,5.5,30.5,3.0,16.0,7.0,5.5,39.5,35.0,5.5,3.5,8.5,12.0,8.0,7.0,7.5,7.5,14.5,7.0,20.5,21.5,6.0,6.5,6.5,8.0,13.5,5.5,39.0,6.0,17.0,12.5,24.5,11.0,10.0,7.0,15.5,9.5,22.0,17.0,8.0,22.0,7.0,8.0,15.5,12.0,3.0,9.0,14.5,16.5,6.5,13.5,7.5,25.5,13.0,14.0,15.5,5.5,5.0,14.5,9.0,5.0,6.5,4.5,8.5,14.0,40.0,5.0,10.5,6.0,8.0,34.0,11.0,6.5,6.0,9.0,7.0,10.5,15.0,8.0,4.5,11.0,6.0,10.5,12.0,17.0,5.0,5.0,11.5,24.5,52.0,4.5,4.0,6.0,14.0,5.0,8.0,12.0,5.0,14.0,7.0,14.0,7.0,9.5,9.5,12.0,20.0,6.0,12.5,7.5,4.5,25.5,4.5,14.0,10.0,12.5,7.5,9.0,6.5,8.5,4.0,8.5,4.0,7.0,37.5,20.0,15.5,5.0,8.5,7.5,15.5,13.5,6.5,8.5,3.5,8.5,7.5,6.5,5.5,18.0,7.0,16.0,28.0,9.5,15.0,6.5,31.5,5.0,30.5,5.5,11.0,14.5,10.5,7.0,34.0,10.0,9.0,11.5,5.0,2.5,5.0,8.5,4.5,11.0,6.0,23.5,11.5,2.5,9.5,11.5,24.5,25.0,14.0,11.5,9.0,10.5,15.5,26.5,15.0,6.0,11.5,9.5,25.0,9.5,6.0,6.5,6.5,4.0,6.5,13.5,10.5,9.0,9.0,4.0,4.5,8.5,13.5,5.0,19.0,15.5,9.0,4.5,17.5,7.0,34.5,10.0,21.0,11.0,10.0,19.5,15.5,7.5,5.0,7.5,5.5,13.5,8.5,15.0,5.5,5.0,11.0,6.5,4.0,4.0,8.5,8.0,6.0,8.5,17.0,9.5,26.5,4.0,5.0,6.5,7.0,8.5,28.5,5.0,7.0,7.0,4.5,10.5,13.5,8.0,4.5,15.0,7.5,11.0,5.5,6.5,19.5,5.0,6.5,4.5,8.0,14.0,9.0,24.0,6.5,13.0,5.0,12.0,4.5,8.0,32.5,21.5,6.5,5.0,2.5,16.5,9.5,8.5,8.5,10.5,7.0,13.0,15.0,6.5,13.0,5.5,13.0,8.0,24.5,12.0,7.5,8.0,7.5,11.0,11.0,9.5,7.0,4.0,6.5,14.5,10.0,8.5,7.0,6.5,5.5,14.0,3.5,11.0,8.0,7.0,12.0,5.0,6.5,8.5,14.0,6.0,10.0,14.0,11.0,12.0,4.5,6.0,16.0,19.0,16.0,8.0,6.0,7.0,22.5,3.5,7.5,7.0,5.5,11.5,4.0,8.5,14.5,11.5,5.5,11.5,6.0,11.0,9.5,19.5,9.5,8.5],\"mode\":\"markers\",\"marker\":{\"color\":[1271.0,474.0,637.0,181.0,661.0,935.0,869.0,454.0,366.0,252.0,314.0,480.0,386.0,351.0,407.0,970.0,371.0,367.0,621.0,243.0,3.0,485.0,88.0,160.0,596.0,270.0,1728.0,493.0,655.0,571.0,144.0,453.0,1074.0,470.0,821.0,539.0,397.0,223.0,457.0,1527.0,1785.0,612.0,467.0,262.0,1603.0,659.0,1069.0,139.0,411.0,340.0,1439.0,425.0,2561.0,308.0,385.0,1267.0,829.0,319.0,390.0,820.0,702.0,771.0,850.0,846.0,697.0,244.0,299.0,338.0,177.0,356.0,778.0,514.0,372.0,2104.0,489.0,1000.0,840.0,123.0,1070.0,427.0,1120.0,241.0,677.0,1151.0,176.0,133.0,302.0,284.0,543.0,668.0,402.0,887.0,1906.0,357.0,143.0,135.0,332.0,460.0,421.0,482.0,765.0,543.0,879.0,384.0,633.0,348.0,736.0,257.0,1600.0,74.0,275.0,1531.0,902.0,813.0,1357.0,433.0,194.0,453.0,979.0,233.0,715.0,433.0,934.0,1047.0,186.0,1086.0,910.0,1220.0,462.0,1931.0,731.0,381.0,542.0,254.0,408.0,569.0,325.0,629.0,1603.0,572.0,485.0,415.0,1445.0,721.0,1149.0,386.0,65.0,525.0,355.0,775.0,1029.0,972.0,214.0,552.0,235.0,341.0,574.0,549.0,205.0,1605.0,210.0,696.0,397.0,224.0,632.0,529.0,208.0,177.0,377.0,859.0,361.0,320.0,162.0,386.0,1461.0,289.0,95.0,2129.0,893.0,876.0,371.0,430.0,491.0,981.0,591.0,377.0,554.0,865.0,374.0,945.0,615.0,758.0,668.0,128.0,429.0,1023.0,1789.0,214.0,370.0,1055.0,593.0,681.0,665.0,2638.0,562.0,1005.0,373.0,587.0,682.0,380.0,248.0,878.0,271.0,307.0,303.0,397.0,1393.0,671.0,2528.0,249.0,378.0,666.0,553.0,966.0,850.0,369.0,1775.0,173.0,539.0,483.0,720.0,674.0,208.0,263.0,417.0,1218.0,1315.0,448.0,497.0,1151.0,815.0,599.0,516.0,1273.0,332.0,1524.0,670.0,816.0,822.0,180.0,462.0,65.0,1338.0,621.0,387.0,1029.0,537.0,764.0,510.0,805.0,1006.0,403.0,890.0,499.0,741.0,263.0,731.0,879.0,396.0,361.0,289.0,701.0,1369.0,272.0,886.0,1033.0,345.0,893.0,876.0,581.0,299.0,655.0,883.0,363.0,363.0,724.0,999.0,90.0,813.0,934.0,1006.0,368.0,1431.0,691.0,3633.0,867.0,446.0,304.0,217.0,1535.0,107.0,1102.0,395.0,229.0,1101.0,759.0,250.0,599.0,523.0,596.0,594.0,397.0,443.0,1164.0,511.0,638.0,1093.0,1504.0,1309.0,183.0,749.0,661.0,537.0,84.0,688.0,1054.0,549.0,193.0,689.0,369.0,495.0,581.0,329.0,147.0,686.0,493.0,1018.0,918.0,1667.0,396.0,801.0,362.0,733.0,153.0,188.0,167.0,198.0,137.0,443.0,2962.0,874.0,1147.0,577.0,566.0,648.0,1016.0,502.0,822.0,886.0,196.0,476.0,971.0,241.0,605.0,1034.0,794.0,198.0,959.0,331.0,374.0,390.0,333.0,443.0,991.0,1263.0,598.0,313.0,285.0,487.0,464.0,340.0,457.0,612.0,155.0,869.0,1117.0,234.0,471.0,483.0,570.0,826.0,670.0,852.0,2.0,646.0,180.0,655.0,404.0,264.0,1492.0,261.0,343.0,812.0,271.0,680.0,1645.0,497.0,169.0,689.0,828.0,1788.0,274.0,553.0,469.0,385.0,745.0,825.0,1815.0,524.0,1037.0,358.0,837.0,490.0,479.0,863.0,117.0,863.0,294.0,505.0,282.0,494.0,453.0,992.0,1124.0,598.0,375.0,740.0,400.0,321.0,95.0,513.0,477.0,725.0,296.0,542.0,392.0,451.0,116.0,122.0,233.0,1231.0,594.0,827.0,461.0,883.0,290.0,695.0,643.0,1015.0,656.0,734.0,1187.0,332.0,435.0,202.0,302.0,252.0,597.0,566.0,553.0,350.0,955.0,961.0,592.0,301.0,376.0,670.0,220.0,273.0,651.0,397.0,397.0,564.0,515.0,535.0,491.0,1448.0,838.0,156.0,368.0,610.0,742.0,352.0,1090.0,530.0,621.0,1249.0,349.0,592.0,511.0,656.0,186.0,472.0,461.0,547.0,553.0,1467.0,564.0,720.0,673.0,3847.0,458.0,375.0,960.0,608.0,368.0,188.0,560.0,463.0,931.0,487.0,439.0,724.0,321.0,587.0,420.0,1108.0,1740.0,113.0,618.0,331.0,489.0,99.0,419.0,367.0,686.0,234.0,985.0,418.0,775.0,1161.0,491.0,340.0,315.0,756.0,353.0,223.0,320.0,437.0,609.0,726.0,758.0,586.0,608.0,728.0,592.0,965.0,794.0,1034.0,1086.0,1277.0,261.0,544.0,413.0,628.0,55.0,496.0,1279.0,516.0,339.0,609.0,922.0,131.0,681.0,478.0,959.0,169.0,845.0,197.0,187.0,988.0,831.0,732.0,145.0,457.0,89.0,731.0,413.0,143.0,1128.0,529.0,134.0,1024.0,219.0,1141.0,1512.0,738.0,1396.0,1102.0,649.0,349.0,673.0,911.0,310.0,533.0,232.0,89.0,707.0,354.0,477.0,745.0,1799.0,267.0,836.0,871.0,545.0,1430.0,230.0,346.0,426.0,257.0,1167.0,681.0,1412.0,689.0,644.0,526.0,550.0,782.0,219.0,633.0,1282.0,1020.0,541.0,1106.0,566.0,443.0,172.0,300.0,604.0,339.0,487.0,1510.0,449.0,805.0,299.0,594.0,668.0,194.0,411.0,931.0,157.0,283.0,664.0,1340.0,435.0,1435.0,114.0,33.0,473.0,215.0,272.0,302.0,1471.0,68.0,905.0,467.0,290.0,2471.0,1511.0,237.0,116.0,581.0,759.0,536.0,336.0,302.0,510.0,1052.0,463.0,1212.0,1095.0,330.0,442.0,383.0,537.0,644.0,287.0,2087.0,271.0,1312.0,816.0,900.0,673.0,439.0,380.0,1045.0,784.0,1396.0,861.0,330.0,694.0,397.0,527.0,1447.0,1150.0,54.0,526.0,1043.0,952.0,396.0,828.0,317.0,817.0,999.0,875.0,1156.0,276.0,197.0,1225.0,443.0,283.0,374.0,267.0,539.0,916.0,1848.0,230.0,600.0,301.0,569.0,2245.0,723.0,447.0,437.0,769.0,413.0,906.0,1203.0,646.0,221.0,857.0,211.0,537.0,766.0,1210.0,203.0,149.0,708.0,771.0,526.0,203.0,125.0,326.0,1014.0,266.0,654.0,992.0,289.0,1023.0,290.0,872.0,430.0,501.0,375.0,774.0,1256.0,337.0,847.0,415.0,171.0,1790.0,185.0,1183.0,679.0,621.0,405.0,607.0,313.0,525.0,165.0,592.0,158.0,395.0,1858.0,1208.0,1344.0,266.0,422.0,515.0,1310.0,1223.0,409.0,651.0,99.0,650.0,405.0,381.0,324.0,1404.0,377.0,744.0,1180.0,579.0,1224.0,251.0,1364.0,334.0,1594.0,302.0,749.0,1126.0,856.0,413.0,1958.0,815.0,760.0,789.0,373.0,11.0,209.0,473.0,185.0,663.0,276.0,1133.0,580.0,7.0,768.0,888.0,858.0,1190.0,752.0,725.0,713.0,767.0,1345.0,1894.0,1122.0,228.0,731.0,641.0,2300.0,709.0,390.0,320.0,356.0,180.0,384.0,1133.0,670.0,507.0,532.0,152.0,214.0,542.0,994.0,252.0,1280.0,921.0,566.0,220.0,920.0,408.0,2323.0,487.0,1142.0,665.0,669.0,1066.0,1036.0,496.0,265.0,498.0,306.0,757.0,417.0,747.0,186.0,229.0,489.0,417.0,170.0,142.0,615.0,431.0,276.0,464.0,1055.0,553.0,1314.0,158.0,194.0,212.0,414.0,549.0,1628.0,216.0,469.0,421.0,167.0,765.0,860.0,461.0,172.0,852.0,409.0,641.0,243.0,315.0,1213.0,208.0,392.0,206.0,517.0,854.0,380.0,1349.0,387.0,689.0,203.0,834.0,219.0,575.0,1680.0,1386.0,390.0,204.0,9.0,1249.0,545.0,637.0,591.0,696.0,369.0,916.0,1166.0,405.0,750.0,293.0,912.0,596.0,1165.0,821.0,414.0,472.0,470.0,646.0,510.0,540.0,285.0,197.0,353.0,762.0,562.0,617.0,341.0,390.0,318.0,999.0,103.0,669.0,503.0,470.0,826.0,233.0,529.0,512.0,698.0,292.0,534.0,1002.0,727.0,796.0,167.0,283.0,1346.0,1224.0,1403.0,592.0,359.0,336.0,1178.0,120.0,500.0,304.0,227.0,697.0,97.0,413.0,872.0,652.0,292.0,516.0,301.0,586.0,571.0,717.0,426.0,313.0],\"colorscale\":\"Jet\"}}];\n            var layout = {\"title\":\"Plot Fare depending on Distance\",\"showlegend\":false,\"xaxis\":{\"title\":\"Distance\",\"_isSubplotObj\":true},\"yaxis\":{\"title\":\"Fares\",\"_isSubplotObj\":true}};\n            Plotly.newPlot('75baaef8-d847-42e1-9d2c-18d358b54042', data, layout);\n        \r\n});\r\n};\r\n// ensure `require` is available globally\r\nif ((typeof(require) !==  typeof(Function)) || (typeof(require.config) !== typeof(Function))) {\r\n    let require_script = document.createElement('script');\r\n    require_script.setAttribute('src', 'https://cdnjs.cloudflare.com/ajax/libs/require.js/2.3.6/require.min.js');\r\n    require_script.setAttribute('type', 'text/javascript');\r\n    \r\n    \r\n    require_script.onload = function() {\r\n        renderPlotly();\r\n    };\r\n\r\n    document.getElementsByTagName('head')[0].appendChild(require_script);\r\n}\r\nelse {\r\n    renderPlotly();\r\n}\r\n\r\n</script>\r\n"
     },
     "metadata": {
      "transient": {
       "display_id": "e3d76b88-0798-42cf-b461-9f378d887f1e"
      }
     },
     "output_type": "display_data"
    }
   ],
   "source": [
    "// Plot Fare depending on Distance \r\n",
    "var chartFareVsDist = Chart.Plot(\r\n",
    "    new Graph.Scatter()\r\n",
    "    {\r\n",
    "        x = distances,\r\n",
    "        y = fares,\r\n",
    "        mode = \"markers\",\r\n",
    "        marker = new Graph.Marker()\r\n",
    "        {\r\n",
    "            color = times,\r\n",
    "            colorscale = \"Jet\"\r\n",
    "        }\r\n",
    "    }\r\n",
    ");\r\n",
    "var layout = new Layout.Layout(){title=\"Plot Fare depending on Distance\"};\r\n",
    "chartFareVsDist.WithLayout(layout);\r\n",
    "chartFareVsDist.Width = 500;\r\n",
    "chartFareVsDist.Height = 500;\r\n",
    "chartFareVsDist.WithXTitle(\"Distance\");\r\n",
    "chartFareVsDist.WithYTitle(\"Fares\");\r\n",
    "chartFareVsDist.WithLegend(false);\r\n",
    "display(chartFareVsDist);\r\n"
   ]
  },
  {
   "cell_type": "code",
   "execution_count": 10,
   "metadata": {},
   "outputs": [
    {
     "data": {
      "text/html": "<div id=\"353c55ae-0018-4710-8bcf-e4903b9aa3b7\" style=\"width: 500px; height: 500px;\"></div>\r\n<script type=\"text/javascript\">\r\n\r\nvar renderPlotly = function() {\r\n    var xplotRequire = require.config({context:'xplot-3.0.1',paths:{plotly:'https://cdn.plot.ly/plotly-1.49.2.min'}}) || require;\r\n    xplotRequire(['plotly'], function(Plotly) {\r\n\n            var data = [{\"type\":\"scatter\",\"x\":[1.0,1.0,1.0,1.0,1.0,1.0,1.0,1.0,1.0,1.0,1.0,1.0,1.0,2.0,1.0,2.0,3.0,2.0,1.0,1.0,1.0,3.0,1.0,2.0,2.0,1.0,1.0,1.0,1.0,1.0,2.0,1.0,2.0,1.0,1.0,2.0,1.0,1.0,1.0,1.0,1.0,2.0,2.0,2.0,1.0,1.0,4.0,1.0,1.0,1.0,1.0,2.0,1.0,1.0,2.0,1.0,1.0,1.0,1.0,3.0,1.0,1.0,1.0,1.0,1.0,1.0,1.0,2.0,1.0,1.0,1.0,1.0,1.0,2.0,1.0,1.0,1.0,1.0,2.0,1.0,1.0,1.0,1.0,1.0,1.0,1.0,2.0,2.0,1.0,1.0,1.0,2.0,1.0,1.0,1.0,1.0,1.0,1.0,1.0,2.0,1.0,1.0,1.0,2.0,1.0,1.0,1.0,3.0,2.0,1.0,1.0,1.0,1.0,1.0,1.0,2.0,1.0,2.0,1.0,2.0,1.0,1.0,1.0,1.0,1.0,2.0,2.0,1.0,1.0,1.0,1.0,2.0,1.0,1.0,1.0,4.0,2.0,3.0,1.0,1.0,1.0,1.0,1.0,1.0,1.0,2.0,1.0,2.0,2.0,1.0,1.0,1.0,1.0,1.0,1.0,1.0,1.0,1.0,1.0,1.0,2.0,1.0,1.0,1.0,1.0,2.0,1.0,1.0,1.0,2.0,2.0,2.0,1.0,1.0,1.0,1.0,1.0,1.0,1.0,1.0,2.0,2.0,1.0,1.0,2.0,1.0,1.0,1.0,1.0,2.0,2.0,3.0,1.0,1.0,1.0,1.0,1.0,1.0,3.0,1.0,2.0,2.0,1.0,2.0,1.0,1.0,1.0,1.0,1.0,1.0,1.0,1.0,1.0,1.0,1.0,1.0,1.0,2.0,1.0,1.0,1.0,1.0,2.0,1.0,1.0,1.0,2.0,2.0,1.0,2.0,1.0,2.0,1.0,2.0,1.0,1.0,1.0,1.0,1.0,1.0,1.0,1.0,1.0,1.0,1.0,1.0,1.0,1.0,3.0,1.0,2.0,1.0,1.0,1.0,1.0,1.0,3.0,1.0,2.0,2.0,1.0,1.0,1.0,1.0,2.0,1.0,1.0,1.0,1.0,1.0,1.0,1.0,2.0,1.0,1.0,1.0,1.0,1.0,1.0,1.0,2.0,1.0,1.0,1.0,1.0,1.0,1.0,1.0,1.0,2.0,1.0,1.0,1.0,1.0,1.0,1.0,2.0,2.0,1.0,2.0,1.0,1.0,1.0,1.0,1.0,2.0,1.0,3.0,1.0,1.0,1.0,1.0,1.0,1.0,1.0,2.0,2.0,1.0,2.0,1.0,1.0,1.0,1.0,1.0,2.0,1.0,2.0,1.0,1.0,1.0,1.0,1.0,1.0,1.0,3.0,1.0,1.0,1.0,1.0,1.0,1.0,3.0,1.0,1.0,2.0,1.0,2.0,2.0,1.0,1.0,2.0,1.0,2.0,1.0,1.0,1.0,4.0,2.0,1.0,1.0,2.0,1.0,1.0,4.0,2.0,1.0,2.0,1.0,1.0,2.0,1.0,1.0,1.0,1.0,1.0,1.0,1.0,2.0,1.0,3.0,2.0,2.0,2.0,2.0,1.0,2.0,1.0,1.0,1.0,1.0,1.0,1.0,1.0,1.0,2.0,1.0,1.0,2.0,1.0,1.0,2.0,2.0,1.0,1.0,1.0,1.0,1.0,1.0,1.0,1.0,1.0,1.0,1.0,1.0,1.0,1.0,1.0,1.0,2.0,2.0,1.0,1.0,1.0,1.0,1.0,1.0,1.0,1.0,1.0,1.0,1.0,3.0,1.0,1.0,2.0,1.0,1.0,1.0,1.0,1.0,1.0,1.0,1.0,1.0,1.0,2.0,2.0,2.0,1.0,1.0,1.0,1.0,1.0,2.0,2.0,1.0,1.0,1.0,1.0,2.0,2.0,1.0,2.0,2.0,2.0,1.0,1.0,2.0,1.0,1.0,1.0,1.0,1.0,1.0,1.0,1.0,1.0,1.0,1.0,2.0,2.0,1.0,1.0,1.0,1.0,2.0,2.0,1.0,1.0,1.0,1.0,1.0,1.0,1.0,1.0,2.0,1.0,1.0,1.0,1.0,1.0,1.0,1.0,2.0,2.0,1.0,1.0,1.0,1.0,1.0,1.0,2.0,1.0,1.0,2.0,1.0,1.0,1.0,1.0,1.0,1.0,1.0,1.0,1.0,1.0,1.0,1.0,1.0,1.0,2.0,1.0,1.0,1.0,1.0,2.0,1.0,1.0,1.0,1.0,1.0,1.0,2.0,1.0,1.0,1.0,2.0,3.0,1.0,1.0,1.0,1.0,1.0,1.0,1.0,1.0,1.0,1.0,4.0,4.0,2.0,2.0,1.0,2.0,1.0,1.0,1.0,1.0,2.0,2.0,2.0,2.0,1.0,1.0,1.0,1.0,1.0,1.0,1.0,1.0,1.0,1.0,1.0,2.0,1.0,1.0,2.0,1.0,1.0,3.0,3.0,1.0,1.0,1.0,2.0,1.0,1.0,2.0,1.0,1.0,4.0,1.0,1.0,1.0,1.0,1.0,1.0,1.0,2.0,3.0,2.0,3.0,2.0,1.0,2.0,2.0,2.0,1.0,1.0,1.0,1.0,1.0,1.0,1.0,1.0,1.0,1.0,1.0,1.0,2.0,1.0,1.0,1.0,2.0,1.0,1.0,1.0,2.0,1.0,1.0,1.0,1.0,1.0,1.0,1.0,1.0,1.0,4.0,2.0,1.0,2.0,1.0,1.0,1.0,1.0,1.0,1.0,1.0,1.0,1.0,1.0,1.0,1.0,1.0,1.0,1.0,1.0,1.0,1.0,1.0,1.0,2.0,1.0,1.0,2.0,1.0,1.0,1.0,1.0,1.0,1.0,1.0,1.0,1.0,1.0,1.0,3.0,1.0,2.0,1.0,1.0,1.0,1.0,1.0,1.0,1.0,2.0,1.0,1.0,1.0,1.0,2.0,2.0,2.0,1.0,1.0,1.0,1.0,1.0,1.0,1.0,2.0,2.0,2.0,1.0,1.0,1.0,1.0,1.0,1.0,1.0,1.0,1.0,2.0,1.0,1.0,1.0,1.0,1.0,2.0,1.0,1.0,1.0,1.0,1.0,1.0,2.0,1.0,1.0,1.0,1.0,1.0,1.0,1.0,1.0,1.0,1.0,2.0,1.0,1.0,2.0,1.0,1.0,1.0,1.0,1.0,1.0,1.0,1.0,1.0,1.0,1.0,1.0,1.0,1.0,1.0,2.0,2.0,1.0,1.0,2.0,2.0,1.0,1.0,2.0,2.0,2.0,2.0,1.0,2.0,1.0,1.0,1.0,1.0,1.0,1.0,1.0,1.0,2.0,1.0,1.0,1.0,2.0,1.0,1.0,1.0,1.0,1.0,1.0,2.0,3.0,2.0,1.0,1.0,2.0,1.0,1.0,1.0,2.0,3.0,1.0,1.0,1.0,1.0,1.0,2.0,1.0,1.0,2.0,1.0,2.0,1.0,1.0,4.0,2.0,1.0,2.0,1.0,1.0,1.0,1.0,1.0,1.0,1.0,1.0,1.0,1.0,1.0,2.0,2.0,1.0,1.0,2.0,1.0,2.0,1.0,1.0,2.0,1.0,1.0,3.0,2.0,1.0,1.0,1.0,2.0,1.0,2.0,2.0,3.0,1.0,1.0,1.0,1.0,1.0,2.0,1.0,2.0,4.0,4.0,2.0,1.0,1.0,1.0,1.0,2.0,1.0,1.0,2.0,1.0,1.0,2.0,2.0,1.0,2.0,1.0,1.0,1.0,1.0,1.0,1.0,1.0,1.0,2.0,1.0,1.0,1.0,1.0,1.0,1.0,3.0,2.0,3.0,2.0,1.0,2.0,2.0,1.0,1.0,2.0,1.0,1.0,1.0,1.0,1.0,3.0,2.0,1.0,1.0,1.0,2.0,2.0,1.0,1.0,1.0,2.0,2.0,1.0,1.0,1.0,2.0,1.0,1.0,3.0,3.0,1.0,4.0,1.0,1.0,4.0,1.0,2.0,1.0,1.0,4.0,1.0,2.0,2.0,2.0,2.0,2.0,2.0,1.0,1.0,2.0,2.0,1.0,1.0,2.0,3.0,1.0,1.0,2.0,1.0,1.0,2.0,1.0,2.0,3.0,2.0,1.0,2.0,2.0,1.0,1.0,1.0,3.0,2.0,1.0,1.0,1.0,1.0,2.0,1.0,1.0,1.0,1.0,1.0,1.0,1.0,2.0,1.0,2.0,2.0,2.0,3.0,3.0,1.0,1.0,1.0,1.0,1.0,1.0,1.0,1.0,2.0,2.0,1.0,1.0,1.0,1.0,3.0,1.0,1.0,1.0,1.0,2.0,3.0,2.0,1.0,1.0,1.0,2.0,1.0,1.0,1.0,1.0,2.0,1.0,1.0,1.0,2.0,2.0,1.0,1.0,2.0,1.0,1.0,1.0,2.0,1.0,1.0,1.0,1.0,1.0,1.0,1.0,1.0,1.0,1.0,2.0,2.0,2.0,1.0,2.0,1.0,2.0,3.0,2.0,3.0,1.0,2.0,1.0,1.0,1.0,2.0,1.0,1.0,2.0,1.0,1.0,1.0,1.0,3.0,1.0,1.0,1.0,1.0,1.0,2.0,3.0,1.0,1.0,1.0,1.0,2.0,3.0,1.0,2.0,2.0,1.0,3.0,1.0,2.0,1.0,1.0,1.0,1.0,1.0,3.0,1.0,3.0,1.0,2.0,1.0,4.0,2.0,1.0,2.0,3.0,1.0,2.0,2.0,3.0,2.0,1.0,2.0,1.0,1.0,1.0,2.0,1.0,2.0,1.0,1.0,1.0,2.0,1.0,1.0,1.0,1.0,1.0,1.0,1.0,1.0,1.0,1.0,1.0,1.0,1.0,2.0,2.0,1.0,1.0,1.0,1.0,1.0,1.0,1.0,1.0,1.0,1.0,1.0,2.0,1.0,2.0,1.0,2.0,4.0,2.0,2.0,3.0,1.0,2.0,1.0,1.0,1.0,2.0,1.0,3.0,1.0,1.0,2.0,1.0,1.0,1.0,1.0,1.0,2.0,2.0,1.0,1.0,2.0,3.0,1.0,2.0,1.0,1.0,1.0,1.0,1.0,1.0,2.0,1.0,1.0,2.0,1.0,2.0,1.0,3.0,1.0,1.0,1.0,1.0,2.0,1.0,1.0,4.0,2.0,1.0,2.0,1.0,1.0,1.0,1.0,1.0,3.0,1.0,2.0,1.0,1.0,1.0,1.0,1.0,1.0,1.0,2.0,2.0,1.0,1.0,3.0,2.0,1.0,1.0,1.0,1.0,1.0,2.0,2.0,2.0,1.0,1.0,2.0,1.0,1.0,2.0,1.0,2.0,2.0,2.0,1.0,3.0,1.0,1.0,1.0,2.0,2.0,1.0,1.0,1.0,1.0,1.0,1.0,1.0,1.0,1.0,1.0,3.0,1.0,1.0,1.0,1.0,1.0,2.0,3.0,2.0,1.0,1.0,1.0,3.0,1.0,1.0,1.0,1.0,1.0,2.0,1.0,4.0,2.0,1.0,1.0,1.0,1.0,1.0,2.0,1.0,1.0,1.0,1.0,1.0,1.0,1.0,2.0,1.0,1.0,1.0,1.0,1.0,1.0,1.0,1.0,1.0,1.0,1.0,1.0,1.0,2.0,1.0,1.0,1.0,1.0,1.0,6.0,6.0,6.0,6.0,6.0,6.0,1.0,1.0,2.0,1.0,1.0,1.0,2.0,2.0,2.0,1.0,1.0,1.0,2.0,1.0,2.0,1.0,1.0,1.0,1.0,1.0,2.0,2.0,1.0,1.0,1.0,1.0,6.0,1.0,1.0,1.0,1.0,2.0,1.0,2.0,2.0,1.0,1.0,1.0,1.0,1.0,1.0,2.0,2.0,1.0,1.0,1.0,2.0,1.0,1.0,3.0,2.0,1.0,2.0,1.0,1.0,1.0,1.0,2.0,1.0,1.0,2.0,1.0,1.0,1.0,1.0,1.0,2.0,1.0,1.0,2.0,1.0,1.0,1.0,1.0,1.0,2.0,1.0,6.0,6.0,2.0,2.0,1.0,1.0,3.0,4.0,2.0,2.0,1.0,1.0,2.0,1.0,2.0,1.0,1.0,2.0,1.0,1.0,2.0,2.0,1.0,1.0,1.0,1.0,1.0,1.0,2.0,1.0,1.0,1.0,2.0,1.0,1.0,1.0,1.0,1.0,1.0,1.0,2.0,2.0,1.0,1.0,2.0,1.0,2.0,1.0,1.0,1.0,1.0,1.0,1.0,1.0,1.0,1.0,1.0,1.0,1.0,1.0,4.0,1.0,1.0,1.0,1.0,3.0,1.0,1.0,2.0,1.0,1.0,2.0,2.0,2.0,2.0,1.0,2.0,3.0,1.0,2.0,1.0,1.0,1.0,1.0,1.0,1.0,1.0,1.0,2.0,1.0,1.0,1.0,1.0,1.0,2.0,1.0,1.0,3.0,1.0,1.0,1.0,1.0,1.0,1.0,4.0,1.0,1.0,1.0,1.0,1.0,1.0,1.0,3.0,1.0,1.0,1.0,6.0,6.0,6.0,6.0,6.0,6.0,6.0,6.0,6.0,6.0,6.0,6.0,6.0,6.0,6.0,6.0,5.0,6.0,1.0,1.0,3.0,2.0,2.0,6.0,6.0,6.0,6.0,6.0,6.0,6.0,6.0,6.0,6.0,6.0,6.0,6.0,6.0,6.0,6.0,6.0,6.0,6.0,6.0,6.0,6.0,3.0,2.0,1.0,1.0,1.0,6.0,6.0,6.0,6.0,6.0,6.0,6.0,6.0,6.0,6.0,6.0,6.0,6.0,6.0,6.0,6.0,6.0,6.0,6.0,6.0,6.0,6.0,6.0,6.0,6.0,6.0,6.0,6.0,6.0,6.0,6.0,6.0,6.0,6.0,6.0,6.0,6.0,6.0,6.0,6.0,6.0,6.0,6.0,6.0,6.0,6.0,6.0,6.0,6.0,6.0,6.0,6.0,6.0,6.0,6.0,6.0,6.0,6.0,6.0,6.0,6.0,6.0,6.0,6.0,6.0,6.0,6.0,6.0,6.0,6.0,6.0,6.0,6.0,6.0,6.0,6.0,6.0,6.0,1.0,1.0,6.0,6.0,6.0,6.0,6.0,6.0,6.0,6.0,6.0,6.0,6.0,6.0,6.0,6.0,6.0,6.0,6.0,6.0,6.0,6.0,6.0,6.0,6.0,6.0,6.0,6.0,6.0,6.0,6.0,6.0,6.0,6.0,6.0,6.0,6.0,6.0,6.0,6.0,6.0,6.0,6.0,6.0,6.0,6.0,6.0,6.0,6.0,5.0,6.0,6.0,6.0,6.0,6.0,1.0,6.0,6.0,6.0,6.0,6.0,6.0,6.0,6.0,6.0,6.0,6.0,6.0,6.0,6.0,6.0,6.0,6.0,6.0,6.0,6.0,6.0,6.0,6.0,6.0,6.0,6.0,6.0,6.0,6.0,6.0,6.0,6.0,6.0,6.0,6.0,6.0,6.0,6.0,6.0,6.0,6.0,6.0,6.0,6.0,6.0,6.0,6.0,6.0,6.0,6.0,6.0,6.0,1.0,1.0,6.0,6.0,6.0,6.0,6.0,6.0,6.0,6.0,6.0,6.0,6.0,6.0,6.0,6.0,6.0,6.0,6.0,6.0,6.0,6.0,6.0,6.0,6.0,6.0,6.0,6.0,6.0,6.0,6.0,6.0,6.0,6.0,6.0,6.0,6.0,6.0,6.0,6.0,6.0,6.0,6.0,6.0,6.0,6.0,6.0,6.0,6.0,6.0,6.0,6.0,6.0,6.0,1.0,1.0,1.0,1.0,6.0,6.0,6.0,6.0,6.0,6.0,6.0,6.0,6.0,6.0,6.0,6.0,6.0,6.0,6.0,6.0,6.0,6.0,1.0,1.0,1.0,1.0,1.0,1.0,2.0,1.0,1.0,1.0,2.0,1.0,2.0,2.0,1.0,1.0,3.0,2.0,1.0,2.0,1.0,1.0,1.0,1.0,1.0,2.0,1.0,1.0,1.0,1.0,2.0,1.0,1.0,1.0,1.0,1.0,6.0,6.0,6.0,6.0,6.0,6.0,6.0,6.0,6.0,6.0,1.0,1.0,1.0,1.0,1.0,1.0,1.0,1.0,1.0,1.0,1.0,1.0,1.0,1.0,1.0,1.0,1.0,5.0,6.0,6.0,6.0,6.0,6.0,6.0,6.0,6.0,6.0,6.0,6.0,6.0,6.0,6.0,6.0,6.0,6.0,6.0,6.0,6.0,1.0,1.0,1.0,1.0,1.0,1.0,1.0,1.0,1.0,2.0,2.0,5.0,5.0,5.0,5.0,5.0,5.0,5.0,5.0,1.0,1.0,1.0,1.0,1.0,1.0,1.0,1.0,5.0,5.0,5.0,5.0,5.0,6.0,6.0,6.0,6.0,1.0,2.0,1.0,1.0,1.0,1.0,1.0,2.0,2.0,2.0,1.0,5.0,5.0,5.0,5.0,5.0,5.0,5.0,5.0,5.0,5.0,1.0,1.0,1.0,1.0,1.0,1.0,1.0,1.0,1.0,1.0,1.0,3.0,1.0,1.0,1.0,1.0,6.0,6.0,6.0,6.0,6.0,6.0,6.0,6.0,6.0,6.0,6.0],\"y\":[17.5,8.0,8.5,4.5,8.5,27.5,11.5,7.5,7.5,5.0,6.0,7.0,7.0,5.5,7.0,19.0,6.0,6.5,9.0,4.5,52.0,6.5,3.5,4.5,8.5,5.5,32.0,8.5,8.5,9.0,4.0,7.0,16.0,7.5,11.5,8.0,5.5,5.0,7.0,19.5,52.0,10.0,7.0,5.0,24.5,9.5,12.5,4.0,7.0,5.5,17.5,7.0,33.5,5.5,7.0,23.0,11.5,6.5,6.5,11.5,13.0,9.0,10.5,18.5,11.0,5.5,6.5,7.0,4.5,7.5,13.0,8.0,6.5,52.0,8.5,12.0,10.0,4.0,20.0,7.0,16.0,4.5,10.0,17.5,4.5,4.5,5.5,5.0,8.0,15.0,6.0,13.0,23.5,7.0,4.5,4.0,6.5,8.0,6.5,7.5,10.5,7.0,11.5,5.5,8.5,6.0,21.0,5.5,19.0,3.5,5.5,31.0,12.0,11.0,17.0,7.0,5.0,8.5,12.0,5.0,11.5,7.0,11.5,15.0,4.0,12.5,15.5,28.5,6.5,31.5,13.5,6.0,8.0,5.5,6.5,7.5,5.5,9.0,20.5,12.0,8.0,7.5,16.0,9.5,15.0,7.0,3.5,8.0,7.0,12.5,13.5,14.0,4.5,7.5,5.0,6.0,9.0,8.5,4.0,22.0,5.0,9.5,7.0,4.5,8.5,7.5,5.0,4.0,5.5,10.5,7.0,8.0,4.0,8.5,14.5,5.0,3.0,29.5,11.5,10.0,6.0,7.0,10.0,16.0,9.5,6.5,7.5,11.5,5.0,11.0,9.0,11.0,11.0,4.5,6.5,16.5,2.5,5.5,6.5,15.0,9.0,10.5,10.0,52.0,11.0,11.5,6.0,8.5,9.0,7.0,4.5,13.0,5.0,5.5,5.5,7.0,17.0,8.5,71.0,5.0,6.5,9.5,8.5,11.5,13.5,6.5,34.0,4.0,8.5,8.0,9.5,9.0,5.0,8.0,7.5,52.0,22.0,8.5,7.0,15.5,10.0,8.5,9.0,17.0,5.5,20.5,8.5,10.0,10.0,4.0,7.5,3.0,20.5,8.5,6.5,14.5,8.0,11.0,7.5,11.0,12.0,7.5,13.0,6.5,9.0,5.0,10.5,11.5,6.5,7.0,6.5,12.0,62.0,5.0,11.5,16.0,6.5,12.0,11.0,7.5,5.0,8.5,10.5,6.0,6.0,9.5,13.0,3.5,11.5,12.5,13.0,6.0,17.0,9.0,52.0,14.5,6.5,6.0,5.0,29.5,3.5,19.5,5.5,5.0,13.5,11.0,5.0,8.5,8.5,11.0,10.0,6.5,6.5,16.5,8.0,10.0,13.5,20.0,15.5,4.5,10.5,8.5,8.0,3.0,8.5,14.5,8.5,4.5,9.0,5.5,7.5,8.0,6.5,4.0,9.5,9.0,15.5,19.5,18.0,6.0,14.0,6.0,9.5,4.0,5.0,4.0,5.5,3.5,6.5,52.0,20.5,17.0,8.0,7.5,8.0,13.0,7.0,10.0,23.5,4.5,8.5,14.0,4.5,8.5,13.5,9.5,4.0,11.0,5.5,6.5,6.5,5.5,7.0,12.5,25.5,9.0,6.0,5.5,7.0,7.0,6.5,8.5,11.5,4.5,13.0,13.5,5.5,8.5,7.5,7.5,12.0,6.5,11.0,2.5,9.0,5.0,11.0,7.0,5.0,18.0,5.0,6.0,10.5,5.5,10.0,17.0,8.0,4.5,9.5,11.0,31.5,6.5,8.0,7.0,7.5,11.0,11.0,27.0,8.0,12.5,7.0,11.5,7.0,7.0,11.5,3.5,18.5,6.0,8.0,5.0,7.5,8.0,12.5,13.5,10.0,6.5,9.0,6.0,6.0,4.0,8.0,7.5,9.0,5.0,7.0,7.0,7.0,4.0,4.0,5.5,22.0,8.5,11.5,7.0,10.0,5.5,10.5,8.0,13.0,9.0,9.0,15.5,6.5,7.0,4.0,6.0,6.0,9.0,9.0,9.5,6.5,12.5,11.5,8.0,5.5,8.5,9.5,5.0,5.0,8.0,7.0,7.0,9.5,7.0,8.5,7.5,17.5,12.0,4.0,8.0,8.0,10.5,7.5,16.0,8.5,8.5,23.0,5.5,10.0,8.0,9.0,4.0,8.0,7.0,8.5,9.0,19.5,9.0,9.5,9.0,52.0,7.0,7.5,11.5,8.5,6.0,4.5,8.0,8.0,24.0,7.5,6.0,9.0,6.0,7.5,7.0,18.0,32.5,3.5,8.5,6.5,7.0,3.5,7.0,7.0,10.5,4.5,19.5,7.5,9.5,12.5,7.5,6.0,6.0,11.0,6.5,4.5,6.5,6.5,8.5,9.5,10.0,8.0,9.5,12.5,10.5,12.5,10.5,13.0,13.5,15.5,5.5,7.5,7.0,9.5,3.0,8.5,17.5,8.0,5.5,12.0,12.5,4.0,9.5,7.0,13.0,5.0,10.0,4.0,5.0,12.0,10.0,9.5,4.5,7.0,4.0,10.5,9.5,4.0,14.0,7.5,4.0,11.5,4.5,24.0,29.5,9.5,17.5,13.5,10.5,6.0,8.0,13.0,6.0,7.5,5.0,3.5,10.0,6.0,6.5,11.5,35.0,5.5,11.5,12.0,8.0,17.5,5.0,6.5,6.5,5.0,13.0,11.0,32.5,12.0,11.0,7.5,8.0,11.5,6.0,11.0,15.0,13.0,9.5,25.0,9.5,7.0,4.5,6.5,10.0,7.0,7.0,26.5,7.5,10.0,7.0,10.0,11.5,4.0,8.0,12.0,4.0,5.5,9.5,15.5,7.0,15.5,3.5,2.5,9.0,5.0,6.0,5.5,30.5,3.0,16.0,7.0,5.5,39.5,35.0,5.5,3.5,8.5,12.0,8.0,7.0,7.5,7.5,14.5,7.0,20.5,21.5,6.0,6.5,6.5,8.0,13.5,5.5,39.0,6.0,17.0,12.5,24.5,11.0,10.0,7.0,15.5,9.5,22.0,17.0,8.0,22.0,7.0,8.0,15.5,12.0,3.0,9.0,14.5,16.5,6.5,13.5,7.5,25.5,13.0,14.0,15.5,5.5,5.0,14.5,9.0,5.0,6.5,4.5,8.5,14.0,40.0,5.0,10.5,6.0,8.0,34.0,11.0,6.5,6.0,9.0,7.0,10.5,15.0,8.0,4.5,11.0,6.0,10.5,12.0,17.0,5.0,5.0,11.5,24.5,52.0,4.5,4.0,6.0,14.0,5.0,8.0,12.0,5.0,14.0,7.0,14.0,7.0,9.5,9.5,12.0,20.0,6.0,12.5,7.5,4.5,25.5,4.5,14.0,10.0,12.5,7.5,9.0,6.5,8.5,4.0,8.5,4.0,7.0,37.5,20.0,15.5,5.0,8.5,7.5,15.5,13.5,6.5,8.5,3.5,8.5,7.5,6.5,5.5,18.0,7.0,16.0,28.0,9.5,15.0,6.5,31.5,5.0,30.5,5.5,11.0,14.5,10.5,7.0,34.0,10.0,9.0,11.5,5.0,2.5,5.0,8.5,4.5,11.0,6.0,23.5,11.5,2.5,9.5,11.5,24.5,25.0,14.0,11.5,9.0,10.5,15.5,26.5,15.0,6.0,11.5,9.5,25.0,9.5,6.0,6.5,6.5,4.0,6.5,13.5,10.5,9.0,9.0,4.0,4.5,8.5,13.5,5.0,19.0,15.5,9.0,4.5,17.5,7.0,34.5,10.0,21.0,11.0,10.0,19.5,15.5,7.5,5.0,7.5,5.5,13.5,8.5,15.0,5.5,5.0,11.0,6.5,4.0,4.0,8.5,8.0,6.0,8.5,17.0,9.5,26.5,4.0,5.0,6.5,7.0,8.5,28.5,5.0,7.0,7.0,4.5,10.5,13.5,8.0,4.5,15.0,7.5,11.0,5.5,6.5,19.5,5.0,6.5,4.5,8.0,14.0,9.0,24.0,6.5,13.0,5.0,12.0,4.5,8.0,32.5,21.5,6.5,5.0,2.5,16.5,9.5,8.5,8.5,10.5,7.0,13.0,15.0,6.5,13.0,5.5,13.0,8.0,24.5,12.0,7.5,8.0,7.5,11.0,11.0,9.5,7.0,4.0,6.5,14.5,10.0,8.5,7.0,6.5,5.5,14.0,3.5,11.0,8.0,7.0,12.0,5.0,6.5,8.5,14.0,6.0,10.0,14.0,11.0,12.0,4.5,6.0,16.0,19.0,16.0,8.0,6.0,7.0,22.5,3.5,7.5,7.0,5.5,11.5,4.0,8.5,14.5,11.5,5.5,11.5,6.0,11.0,9.5,19.5,9.5,8.5,8.0,6.5,9.5,10.5,6.5,22.0,14.5,13.0,10.0,11.0,7.5,10.0,32.0,11.0,14.0,10.5,22.5,10.5,23.0,5.0,20.5,6.5,5.5,13.5,11.5,4.5,12.0,8.5,5.5,7.5,12.5,17.5,3.5,5.5,11.0,6.0,5.0,17.5,8.5,19.5,5.0,6.0,4.0,9.5,7.0,23.0,8.5,8.5,9.5,9.5,5.0,8.5,7.5,9.0,4.5,21.5,6.0,6.5,13.0,6.0,20.5,9.0,12.0,10.0,7.5,4.5,18.0,8.0,6.0,7.5,9.0,15.5,5.5,10.5,7.5,8.5,7.0,14.5,8.5,6.5,11.0,14.5,10.5,5.0,5.5,7.0,12.5,6.5,5.5,4.0,22.0,4.5,8.0,11.5,8.5,4.0,10.5,26.5,31.5,6.5,3.5,7.0,10.0,4.5,10.0,7.5,9.5,15.0,8.5,11.5,10.0,21.0,11.5,10.0,3.5,17.0,13.0,6.0,31.0,18.0,6.0,9.0,5.0,5.0,8.0,6.0,13.5,7.0,9.0,8.0,6.0,7.5,7.0,3.5,8.5,5.0,7.0,10.0,5.5,7.0,5.0,7.5,9.0,6.0,13.5,13.0,5.0,5.5,5.0,9.5,4.0,5.5,8.5,6.0,8.0,23.5,13.0,27.0,9.5,13.0,7.5,10.0,5.5,6.5,19.5,8.0,22.0,9.0,6.0,13.0,3.0,9.5,4.0,6.0,7.5,19.5,6.0,9.5,19.5,5.0,13.0,12.0,9.5,9.0,6.5,4.0,13.0,12.0,9.0,6.0,19.5,20.5,6.0,14.5,10.5,7.5,4.5,6.5,9.5,27.5,9.0,5.5,5.5,6.5,2.5,21.0,11.5,18.0,11.5,17.5,3.5,13.5,8.0,31.0,10.0,5.0,12.5,7.5,29.5,13.5,5.5,7.5,8.5,8.5,18.0,17.5,15.0,8.0,12.0,6.5,12.5,4.0,9.5,15.5,9.0,7.5,6.5,3.5,5.5,7.5,10.5,15.0,23.5,5.0,11.5,5.5,8.5,5.5,14.0,7.5,10.5,8.0,10.5,12.0,13.0,7.5,5.0,7.5,6.5,8.5,8.5,10.5,5.5,9.5,7.5,4.5,11.5,7.0,7.0,12.0,10.0,7.5,13.0,9.0,17.5,5.0,4.0,7.0,7.0,6.0,6.0,5.5,16.5,5.5,17.5,3.0,6.5,8.0,13.5,7.0,6.5,9.5,6.0,8.0,6.5,12.0,8.0,7.0,7.5,5.0,4.0,9.0,52.5,4.0,49.0,13.0,5.0,8.5,6.5,8.5,9.0,10.0,5.5,13.5,4.5,7.5,14.5,7.5,4.5,5.0,13.5,13.0,16.0,11.5,7.0,19.5,52.0,4.5,7.5,6.5,3.5,5.5,12.0,8.0,6.0,23.0,12.0,10.5,17.5,12.5,52.0,38.0,6.5,7.5,14.5,6.5,8.5,8.0,17.5,10.5,3.5,68.0,5.0,16.0,8.5,8.0,15.0,8.5,5.5,11.0,20.0,8.5,12.5,8.0,6.0,6.5,4.0,17.5,6.5,8.0,12.5,10.5,30.0,10.0,4.0,19.0,4.5,52.0,7.5,19.0,5.5,6.0,8.5,11.5,13.0,21.0,3.5,8.0,8.5,12.5,6.5,7.5,11.0,53.0,5.5,11.0,5.0,7.0,9.5,31.0,11.0,15.5,4.5,12.0,7.0,4.0,9.5,5.5,10.0,13.5,6.0,22.5,5.5,13.0,20.5,6.0,7.0,15.0,8.5,27.5,7.0,12.0,10.5,6.0,8.0,15.5,22.0,10.5,7.0,7.0,6.5,6.5,11.5,16.0,13.5,6.0,12.0,7.0,8.0,17.5,31.0,8.5,8.0,7.5,4.0,10.0,7.0,6.5,6.5,8.5,6.0,9.5,11.5,3.5,14.0,5.0,10.5,14.0,11.5,5.5,3.5,52.0,7.5,9.5,11.5,17.5,8.0,14.0,6.0,16.5,4.0,10.5,5.5,4.0,18.5,10.0,5.0,7.0,10.5,13.0,21.5,8.5,10.0,7.5,23.0,16.0,7.0,9.0,19.0,8.5,6.0,7.5,6.5,8.0,5.5,13.0,6.0,8.0,8.0,15.5,10.0,24.0,5.5,10.0,4.0,9.5,9.5,6.0,6.0,5.0,32.0,8.5,17.5,5.0,7.5,7.0,9.0,10.5,21.0,8.5,10.0,5.5,10.0,5.0,6.0,25.0,41.5,28.5,20.0,7.5,6.0,13.5,14.0,13.5,8.5,3.5,10.0,15.0,5.0,14.0,5.0,7.0,12.5,12.0,18.5,12.5,10.5,23.0,5.0,12.5,5.5,9.5,19.0,20.0,16.5,4.0,16.0,3.5,15.5,5.0,12.5,14.5,10.5,5.5,12.5,11.0,10.0,7.0,9.0,4.5,9.5,13.5,6.0,6.0,5.0,19.0,24.0,5.0,10.0,8.5,7.5,17.5,14.0,8.5,19.0,20.0,4.5,7.0,6.0,7.5,4.5,25.0,10.5,10.5,25.0,11.5,4.0,12.0,23.5,6.5,3.5,11.5,11.5,31.5,10.5,6.0,4.5,9.0,19.5,10.5,7.0,36.5,12.5,6.5,7.0,6.0,9.0,13.0,10.0,5.5,8.0,13.5,29.0,11.5,29.5,5.0,22.0,13.0,37.5,7.5,8.5,11.5,26.5,18.5,19.0,6.5,9.0,7.5,7.0,26.5,8.5,6.0,9.0,20.0,4.0,21.0,7.0,10.0,15.0,14.0,13.5,16.0,13.0,14.5,13.0,8.5,6.0,28.0,13.5,8.0,11.5,8.5,8.0,5.0,6.5,8.0,6.0,8.0,12.0,6.5,6.5,13.5,14.0,8.0,10.0,11.0,11.5,4.5,8.0,6.0,8.5,17.0,13.5,11.5,4.0,17.0,13.0,11.5,16.0,16.5,19.5,15.0,4.0,15.0,12.5,7.5,18.0,8.0,5.0,8.0,8.5,9.5,12.5,2.5,9.0,27.0,9.0,3.0,9.0,17.0,6.5,8.0,51.5,50.5,12.0,12.0,11.0,9.5,3.0,8.0,4.5,5.5,30.0,7.5,15.0,4.0,4.5,5.0,5.5,18.0,7.0,10.5,7.5,22.5,6.0,3.5,8.0,9.0,14.0,12.0,12.0,4.5,6.0,9.0,6.0,22.0,38.0,20.5,5.5,13.5,5.0,12.5,5.5,7.5,5.0,4.5,28.0,17.0,7.5,9.0,10.0,10.0,9.5,8.0,10.5,8.5,7.0,22.0,7.5,11.5,6.0,9.5,5.0,6.0,18.5,5.0,5.5,7.5,5.5,17.0,11.5,11.5,10.0,5.5,11.5,12.0,4.5,23.0,10.5,5.5,6.5,6.5,10.0,8.5,13.5,6.5,7.0,7.0,5.0,6.0,4.0,11.0,30.5,11.5,6.5,9.5,17.0,22.0,6.5,10.0,4.5,7.0,13.0,5.5,7.0,9.0,8.5,22.0,7.0,13.5,7.0,9.5,19.5,6.5,6.0,10.5,6.5,6.0,23.5,22.0,17.5,18.0,12.0,10.5,14.0,7.0,7.0,8.0,4.5,10.5,10.0,13.5,18.0,10.5,7.5,5.0,9.0,3.5,7.5,10.0,13.0,5.0,6.0,8.5,6.5,52.0,13.5,15.5,10.5,15.5,7.5,4.5,7.5,12.0,9.0,13.0,15.5,20.0,4.5,5.5,13.5,31.5,6.0,4.5,19.5,4.5,16.5,5.0,19.5,5.5,40.0,18.0,10.5,6.5,7.0,18.0,8.5,17.0,11.0,9.5,13.0,7.5,3.0,22.0,4.0,9.5,7.5,10.5,9.5,5.0,24.5,4.0,15.0,6.5,4.0,16.0,16.0,3.5,11.0,12.5,13.0,9.0,4.0,4.0,8.5,5.5,6.5,8.0,8.5,8.5,72.5,4.0,10.5,14.0,12.5,14.5,8.5,12.0,10.5,8.0,11.5,3.0,36.5,7.5,17.5,6.5,5.5,18.0,7.5,4.5,5.0,4.0,6.5,7.5,30.5,7.0,13.0,32.5,15.0,19.0,19.0,7.5,11.5,52.0,52.0,10.0,5.5,13.0,11.5,8.0,9.0,5.0,3.0,11.0,5.0,8.0,10.5,16.5,14.5,6.5,7.5,8.5,5.0,11.5,10.5,6.5,7.0,7.5,6.5,19.5,6.0,6.0,6.5,6.5,16.0,4.0,20.5,5.0,18.0,11.5,10.5,11.5,6.0,4.5,21.5,11.0,11.0,4.5,29.0,6.5],\"mode\":\"markers\"}];\n            var layout = {\"title\":\"Plot Fare depending on Passengers\",\"showlegend\":false,\"xaxis\":{\"title\":\"Passengers\",\"_isSubplotObj\":true},\"yaxis\":{\"title\":\"Fares\",\"_isSubplotObj\":true}};\n            Plotly.newPlot('353c55ae-0018-4710-8bcf-e4903b9aa3b7', data, layout);\n        \r\n});\r\n};\r\n// ensure `require` is available globally\r\nif ((typeof(require) !==  typeof(Function)) || (typeof(require.config) !== typeof(Function))) {\r\n    let require_script = document.createElement('script');\r\n    require_script.setAttribute('src', 'https://cdnjs.cloudflare.com/ajax/libs/require.js/2.3.6/require.min.js');\r\n    require_script.setAttribute('type', 'text/javascript');\r\n    \r\n    \r\n    require_script.onload = function() {\r\n        renderPlotly();\r\n    };\r\n\r\n    document.getElementsByTagName('head')[0].appendChild(require_script);\r\n}\r\nelse {\r\n    renderPlotly();\r\n}\r\n\r\n</script>\r\n"
     },
     "metadata": {
      "transient": {
       "display_id": "fb6e689e-ec4e-4482-8ede-f5e5b60d14b3"
      }
     },
     "output_type": "display_data"
    }
   ],
   "source": [
    "// Plot Fare depending on Passengers\r\n",
    "\r\n",
    "int numberOfRows = 2000;\r\n",
    "float[] fares = trainDataView.GetColumn<float>(\"FareAmount\").Take(numberOfRows).ToArray();\r\n",
    "float[] passengerCounts = trainDataView.GetColumn<float>(\"PassengerCount\").Take(numberOfRows).ToArray();\r\n",
    "\r\n",
    "float[] distances = trainDataView.GetColumn<float>(\"TripDistance\").Take(numberOfRows).ToArray();\r\n",
    "float[] times = trainDataView.GetColumn<float>(\"TripTime\").Take(numberOfRows).ToArray();\r\n",
    "\r\n",
    "var chartFareVsPassengers = Chart.Plot(\r\n",
    "    new Graph.Scatter()\r\n",
    "    {\r\n",
    "        x = passengerCounts,\r\n",
    "        y = fares,\r\n",
    "        mode = \"markers\",\r\n",
    "    }\r\n",
    ");\r\n",
    "\r\n",
    "var layout = new Layout.Layout(){title=\"Plot Fare depending on Passengers\"};\r\n",
    "chartFareVsPassengers.WithLayout(layout);\r\n",
    "chartFareVsPassengers.Width = 500;\r\n",
    "chartFareVsPassengers.Height = 500;\r\n",
    "chartFareVsPassengers.WithXTitle(\"Passengers\");\r\n",
    "chartFareVsPassengers.WithYTitle(\"Fares\");\r\n",
    "chartFareVsPassengers.WithLegend(false);\r\n",
    "\r\n",
    "display(chartFareVsPassengers);"
   ]
  },
  {
   "cell_type": "markdown",
   "metadata": {},
   "source": [
    "Implementation of PeekTransformedData() function"
   ]
  },
  {
   "cell_type": "code",
   "execution_count": 11,
   "metadata": {},
   "outputs": [
    {
     "name": "stderr",
     "output_type": "stream",
     "text": [
      "\n",
      "warning CS1701: Przyjęto, że odwołanie do zestawu „System.Collections.Immutable, Version=1.2.3.0, Culture=neutral, PublicKeyToken=b03f5f7f11d50a3a” używane przez element „Microsoft.ML.Data” jest zgodne z tożsamością „System.Collections.Immutable, Version=5.0.0.0, Culture=neutral, PublicKeyToken=b03f5f7f11d50a3a” elementu „System.Collections.Immutable” — może być konieczne określenie zasad wykonywania\n",
      "\n"
     ]
    }
   ],
   "source": [
    "// Util method to show transformed data in IDataView\r\n",
    "public static void PeekTransformedData(MLContext mlContext, IDataView dataView, IEstimator<ITransformer> pipeline, int numberOfRows = 4)\r\n",
    "{\r\n",
    "    string msg = string.Format(\"Peek data in DataView: Showing {0} rows with the columns\", numberOfRows.ToString());\r\n",
    "    display(msg);\r\n",
    "    \r\n",
    "    var transformer = pipeline.Fit(dataView);\r\n",
    "    var transformedData = transformer.Transform(dataView);\r\n",
    "    \r\n",
    "    // 'transformedData' is a 'promise' of data, lazy-loading. call Preview  \r\n",
    "    //and iterate through the returned collection from preview.\r\n",
    "    var preViewTransformedData = transformedData.Preview(maxRows: numberOfRows);\r\n",
    "    \r\n",
    "    //display(preViewTransformedData.RowView);\r\n",
    "                \r\n",
    "    foreach (var row in preViewTransformedData.RowView)\r\n",
    "    {\r\n",
    "        var ColumnCollection = row.Values;\r\n",
    "        string lineToPrint = \"Row--> \";\r\n",
    "        foreach (KeyValuePair<string, object> column in ColumnCollection)\r\n",
    "        {\r\n",
    "            lineToPrint += $\"| {column.Key}:{column.Value}\";\r\n",
    "        }\r\n",
    "        display(lineToPrint + \"\\n\");\r\n",
    "    }   \r\n",
    "}"
   ]
  },
  {
   "cell_type": "markdown",
   "metadata": {},
   "source": [
    "Data transformations pipeline for ML.NET model"
   ]
  },
  {
   "cell_type": "code",
   "execution_count": 12,
   "metadata": {},
   "outputs": [
    {
     "data": {
      "text/html": "<h1>Apply Data Transformations pipeline</h1>"
     },
     "metadata": {
      "transient": {
       "display_id": "966bc122-1516-4445-bd1b-f4605eff7ebb"
      }
     },
     "output_type": "display_data"
    },
    {
     "data": {
      "text/html": "<h3>Show transformed data...</h3>"
     },
     "metadata": {
      "transient": {
       "display_id": "4852ce2a-d447-443e-ad75-5e00c625de32"
      }
     },
     "output_type": "display_data"
    },
    {
     "data": {
      "text/plain": "Peek data in DataView: Showing 5 rows with the columns"
     },
     "metadata": {
      "transient": {
       "display_id": "19fc281a-7a01-4b9c-bd6a-c42843dbd81c"
      }
     },
     "output_type": "display_data"
    },
    {
     "data": {
      "text/plain": "Row--> | VendorId:CMT| RateCode:1| PassengerCount:1| PassengerCount:0,42661828| TripTime:1271| TripTime:1,514717| TripDistance:3,8| TripDistance:0,87563246| PaymentType:CRD| FareAmount:17,5| VendorIdEncoded:1| VendorIdEncoded:Sparse vector of size 2, 1 explicit values| RateCodeEncoded:1| RateCodeEncoded:Sparse vector of size 6, 1 explicit values| PaymentTypeEncoded:1| PaymentTypeEncoded:Sparse vector of size 5, 1 explicit values| Features:Sparse vector of size 16, 6 explicit values\n"
     },
     "metadata": {
      "transient": {
       "display_id": "0eaa86d0-1047-4da0-8a5c-1996e65d9178"
      }
     },
     "output_type": "display_data"
    },
    {
     "data": {
      "text/plain": "Row--> | VendorId:CMT| RateCode:1| PassengerCount:1| PassengerCount:0,42661828| TripTime:474| TripTime:0,5648905| TripDistance:1,5| TripDistance:0,3456444| PaymentType:CRD| FareAmount:8| VendorIdEncoded:1| VendorIdEncoded:Sparse vector of size 2, 1 explicit values| RateCodeEncoded:1| RateCodeEncoded:Sparse vector of size 6, 1 explicit values| PaymentTypeEncoded:1| PaymentTypeEncoded:Sparse vector of size 5, 1 explicit values| Features:Sparse vector of size 16, 6 explicit values\n"
     },
     "metadata": {
      "transient": {
       "display_id": "03832c0c-6bea-41bb-8f11-9407ca82c02e"
      }
     },
     "output_type": "display_data"
    },
    {
     "data": {
      "text/plain": "Row--> | VendorId:CMT| RateCode:1| PassengerCount:1| PassengerCount:0,42661828| TripTime:637| TripTime:0,7591461| TripDistance:1,4| TripDistance:0,32260144| PaymentType:CRD| FareAmount:8,5| VendorIdEncoded:1| VendorIdEncoded:Sparse vector of size 2, 1 explicit values| RateCodeEncoded:1| RateCodeEncoded:Sparse vector of size 6, 1 explicit values| PaymentTypeEncoded:1| PaymentTypeEncoded:Sparse vector of size 5, 1 explicit values| Features:Sparse vector of size 16, 6 explicit values\n"
     },
     "metadata": {
      "transient": {
       "display_id": "502d95df-ec78-4d62-8379-2d3b6b554347"
      }
     },
     "output_type": "display_data"
    },
    {
     "data": {
      "text/plain": "Row--> | VendorId:CMT| RateCode:1| PassengerCount:1| PassengerCount:0,42661828| TripTime:181| TripTime:0,21570714| TripDistance:0,6| TripDistance:0,13825777| PaymentType:CSH| FareAmount:4,5| VendorIdEncoded:1| VendorIdEncoded:Sparse vector of size 2, 1 explicit values| RateCodeEncoded:1| RateCodeEncoded:Sparse vector of size 6, 1 explicit values| PaymentTypeEncoded:2| PaymentTypeEncoded:Sparse vector of size 5, 1 explicit values| Features:Sparse vector of size 16, 6 explicit values\n"
     },
     "metadata": {
      "transient": {
       "display_id": "60582e25-7bd9-42c3-90e0-531fcf07f456"
      }
     },
     "output_type": "display_data"
    },
    {
     "data": {
      "text/plain": "Row--> | VendorId:CMT| RateCode:1| PassengerCount:1| PassengerCount:0,42661828| TripTime:661| TripTime:0,78774816| TripDistance:1,1| TripDistance:0,25347257| PaymentType:CRD| FareAmount:8,5| VendorIdEncoded:1| VendorIdEncoded:Sparse vector of size 2, 1 explicit values| RateCodeEncoded:1| RateCodeEncoded:Sparse vector of size 6, 1 explicit values| PaymentTypeEncoded:1| PaymentTypeEncoded:Sparse vector of size 5, 1 explicit values| Features:Sparse vector of size 16, 6 explicit values\n"
     },
     "metadata": {
      "transient": {
       "display_id": "48782243-b417-4fa7-8139-4dd71f98a82d"
      }
     },
     "output_type": "display_data"
    },
    {
     "name": "stderr",
     "output_type": "stream",
     "text": [
      "\n",
      "(4,27): warning CS1701: Przyjęto, że odwołanie do zestawu „Microsoft.AspNetCore.Html.Abstractions, Version=2.2.0.0, Culture=neutral, PublicKeyToken=adb9793829ddae60” używane przez element „Microsoft.DotNet.Interactive.Formatting” jest zgodne z tożsamością „Microsoft.AspNetCore.Html.Abstractions, Version=3.1.10.0, Culture=neutral, PublicKeyToken=adb9793829ddae60” elementu „Microsoft.AspNetCore.Html.Abstractions” — może być konieczne określenie zasad wykonywania\n",
      "\n"
     ]
    }
   ],
   "source": [
    "display(h1(\"Apply Data Transformations pipeline\"));\r\n",
    "\r\n",
    "// STEP 2: Common data process configuration with pipeline data transformations\r\n",
    "var dataProcessPipeline = mlContext.Transforms.Categorical.OneHotEncoding(outputColumnName: \"VendorIdEncoded\", inputColumnName: nameof(TaxiTrip.VendorId))\r\n",
    "                  .Append(mlContext.Transforms.Categorical.OneHotEncoding(outputColumnName: \"RateCodeEncoded\", inputColumnName: nameof(TaxiTrip.RateCode)))\r\n",
    "                  .Append(mlContext.Transforms.Categorical.OneHotEncoding(outputColumnName: \"PaymentTypeEncoded\",inputColumnName: nameof(TaxiTrip.PaymentType)))\r\n",
    "                  .Append(mlContext.Transforms.NormalizeMeanVariance(outputColumnName: nameof(TaxiTrip.PassengerCount)))\r\n",
    "                  .Append(mlContext.Transforms.NormalizeMeanVariance(outputColumnName: nameof(TaxiTrip.TripTime)))\r\n",
    "                  .Append(mlContext.Transforms.NormalizeMeanVariance(outputColumnName: nameof(TaxiTrip.TripDistance)))\r\n",
    "                  .Append(mlContext.Transforms.Concatenate(\"Features\", \"VendorIdEncoded\", \"RateCodeEncoded\", \"PaymentTypeEncoded\", \r\n",
    "                                                           nameof(TaxiTrip.PassengerCount), nameof(TaxiTrip.TripTime), nameof(TaxiTrip.TripDistance)));\r\n",
    "\r\n",
    "display(h3(\"Show transformed data...\"));\r\n",
    "\r\n",
    "PeekTransformedData(mlContext, trainDataView, dataProcessPipeline, 5);"
   ]
  },
  {
   "cell_type": "markdown",
   "metadata": {},
   "source": [
    "Append the trainer/algorithm to pipeline and train the model"
   ]
  },
  {
   "cell_type": "code",
   "execution_count": 13,
   "metadata": {},
   "outputs": [
    {
     "data": {
      "text/html": "<h1>Build Training Pipeline and Train the model</h1>"
     },
     "metadata": {
      "transient": {
       "display_id": "bcdd0d19-e756-433c-8d1d-e09f15bea2b5"
      }
     },
     "output_type": "display_data"
    },
    {
     "data": {
      "text/html": "<h4>Creating the Training Pipeline with trainer/algorithm</h4>"
     },
     "metadata": {
      "transient": {
       "display_id": "621c7642-37f2-49e3-afd7-7c909fefd561"
      }
     },
     "output_type": "display_data"
    },
    {
     "data": {
      "text/plain": "=============== Training the model ==============="
     },
     "metadata": {
      "transient": {
       "display_id": "8dd7753a-a525-4cb9-b4e7-5b6acfc4681d"
      }
     },
     "output_type": "display_data"
    }
   ],
   "source": [
    "display(h1(\"Build Training Pipeline and Train the model\"));\r\n",
    "display(h4(\"Creating the Training Pipeline with trainer/algorithm\"));\r\n",
    "\r\n",
    "// STEP 3: Set the training algorithm - Selected Trainer (SDCA Regression algorithm)                            \r\n",
    "var trainer = mlContext.Regression.Trainers.Sdca(labelColumnName: \"FareAmount\", featureColumnName: \"Features\");\r\n",
    "var trainingPipeline = dataProcessPipeline.Append(trainer);\r\n",
    "\r\n",
    "// STEP 4: Train the model fitting to the DataSet\r\n",
    "//The pipeline is trained on the dataset that has been loaded and transformed.\r\n",
    "display(\"=============== Training the model ===============\");\r\n",
    "var trainedModel = trainingPipeline.Fit(trainDataView);"
   ]
  },
  {
   "cell_type": "markdown",
   "metadata": {},
   "source": [
    "Make predictions in bulk from the TestDataset to be used for the metrics"
   ]
  },
  {
   "cell_type": "code",
   "execution_count": 14,
   "metadata": {},
   "outputs": [
    {
     "data": {
      "text/html": "<h3>===== Making predictions in bulk for the whole Test Dataset =====</h3>"
     },
     "metadata": {
      "transient": {
       "display_id": "4101de3a-e7e5-4247-aa6e-1b4f71ad6992"
      }
     },
     "output_type": "display_data"
    }
   ],
   "source": [
    "// Make predictions to plot agaist actual values\r\n",
    "display(h3(\"===== Making predictions in bulk for the whole Test Dataset =====\"));\r\n",
    "// Make predictions in bulk (Transformed IDataView will have the predictions plus the actual/true values)\r\n",
    "IDataView predictionsDataView = trainedModel.Transform(testDataView);"
   ]
  },
  {
   "cell_type": "markdown",
   "metadata": {},
   "source": [
    "Display the metrics (Model quality evaluation)"
   ]
  },
  {
   "cell_type": "code",
   "execution_count": 15,
   "metadata": {},
   "outputs": [
    {
     "data": {
      "text/html": "<h3>===== Evaluating Model&#39;s accuracy with Test dataset =====</h3>"
     },
     "metadata": {
      "transient": {
       "display_id": "ea672331-ce70-4fc2-80a8-ab316900626f"
      }
     },
     "output_type": "display_data"
    },
    {
     "data": {
      "text/html": "<table><thead><tr><th>MeanAbsoluteError</th><th>MeanSquaredError</th><th>RootMeanSquaredError</th><th>LossFunction</th><th>RSquared</th></tr></thead><tbody><tr><td><div class=\"dni-plaintext\">0.772864920129776</div></td><td><div class=\"dni-plaintext\">35.31689813069606</div></td><td><div class=\"dni-plaintext\">5.942802211978458</div></td><td><div class=\"dni-plaintext\">35.31689873209627</div></td><td><div class=\"dni-plaintext\">0.6984242994481578</div></td></tr></tbody></table>"
     },
     "metadata": {
      "transient": {
       "display_id": "19a6ed32-094a-4b6c-b6e3-39b273d6caa9"
      }
     },
     "output_type": "display_data"
    }
   ],
   "source": [
    "display(h3(\"===== Evaluating Model's accuracy with Test dataset =====\"));\r\n",
    "\r\n",
    "var metrics = mlContext.Regression.Evaluate(predictionsDataView, labelColumnName: \"FareAmount\", scoreColumnName: \"Score\");\r\n",
    "display(metrics);"
   ]
  },
  {
   "cell_type": "markdown",
   "metadata": {},
   "source": [
    "Bar chart showing 'Actual fares vs. Predicted fares Comparison'"
   ]
  },
  {
   "cell_type": "code",
   "execution_count": 16,
   "metadata": {},
   "outputs": [
    {
     "data": {
      "text/html": "<div id=\"259b723e-f4a7-43ca-b393-62eb5bb3909e\" style=\"width: 700px; height: 400px;\"></div>\r\n<script type=\"text/javascript\">\r\n\r\nvar renderPlotly = function() {\r\n    var xplotRequire = require.config({context:'xplot-3.0.1',paths:{plotly:'https://cdn.plot.ly/plotly-1.49.2.min'}}) || require;\r\n    xplotRequire(['plotly'], function(Plotly) {\r\n\n            var data = [{\"type\":\"bar\",\"x\":[0,1,2,3,4,5,6,7,8,9,10,11,12,13,14,15,16,17,18,19],\"y\":[15.5,10.0,26.5,14.5,9.5,29.5,9.0,7.5,10.5,6.0,10.0,9.0,10.5,10.0,19.0,8.5,12.5,5.0,8.5,13.0],\"name\":\"Actual\"},{\"type\":\"bar\",\"x\":[0,1,2,3,4,5,6,7,8,9,10,11,12,13,14,15,16,17,18,19],\"y\":[15.739103,10.129275,26.037525,14.348528,9.831174,28.240784,9.418941,7.918211,10.62915,6.5670776,10.036465,8.506833,10.68891,10.225826,19.202557,8.67127,12.950281,5.2925005,8.67127,12.404927],\"name\":\"Predicted\"}];\n            var layout = {\"title\":\"Actual fares vs. Predicted fares Comparison\",\"showlegend\":true,\"xaxis\":{\"title\":\"Cases\",\"_isSubplotObj\":true},\"yaxis\":{\"title\":\"Fare\",\"_isSubplotObj\":true},\"barmode\":\"group\"};\n            Plotly.newPlot('259b723e-f4a7-43ca-b393-62eb5bb3909e', data, layout);\n        \r\n});\r\n};\r\n// ensure `require` is available globally\r\nif ((typeof(require) !==  typeof(Function)) || (typeof(require.config) !== typeof(Function))) {\r\n    let require_script = document.createElement('script');\r\n    require_script.setAttribute('src', 'https://cdnjs.cloudflare.com/ajax/libs/require.js/2.3.6/require.min.js');\r\n    require_script.setAttribute('type', 'text/javascript');\r\n    \r\n    \r\n    require_script.onload = function() {\r\n        renderPlotly();\r\n    };\r\n\r\n    document.getElementsByTagName('head')[0].appendChild(require_script);\r\n}\r\nelse {\r\n    renderPlotly();\r\n}\r\n\r\n</script>\r\n"
     },
     "metadata": {
      "transient": {
       "display_id": "f6c8df18-eac6-4f20-b9aa-761a1966c74d"
      }
     },
     "output_type": "display_data"
    }
   ],
   "source": [
    "// Number of rows to use for Bar chart\r\n",
    "int totalNumberForBarChart  = 20;\r\n",
    "\r\n",
    "float[] actualFares = predictionsDataView.GetColumn<float>(\"FareAmount\").Take(totalNumberForBarChart).ToArray();\r\n",
    "float[] predictionFares = predictionsDataView.GetColumn<float>(\"Score\").Take(totalNumberForBarChart).ToArray();\r\n",
    "int[] elements = Enumerable.Range(0, totalNumberForBarChart).ToArray();\r\n",
    "\r\n",
    "// Define group for Actual values \r\n",
    "var ActualValuesGroupBarGraph = new Graph.Bar()\r\n",
    "{\r\n",
    "    x = elements,\r\n",
    "    y = actualFares,\r\n",
    "    name = \"Actual\"\r\n",
    "};\r\n",
    "\r\n",
    "// Define group for Prediction values \r\n",
    "var PredictionValuesGroupBarGraph = new Graph.Bar()\r\n",
    "{\r\n",
    "    x = elements,\r\n",
    "    y = predictionFares,\r\n",
    "    name = \"Predicted\"\r\n",
    "};\r\n",
    "\r\n",
    "var chart = Chart.Plot(new[] {ActualValuesGroupBarGraph, PredictionValuesGroupBarGraph});\r\n",
    "\r\n",
    "var layout = new Layout.Layout(){barmode = \"group\", title=\"Actual fares vs. Predicted fares Comparison\"};\r\n",
    "chart.WithLayout(layout);\r\n",
    "chart.WithXTitle(\"Cases\");\r\n",
    "chart.WithYTitle(\"Fare\");\r\n",
    "chart.WithLegend(true);\r\n",
    "chart.Width = 700;\r\n",
    "chart.Height = 400;\r\n",
    "\r\n",
    "display(chart);"
   ]
  },
  {
   "cell_type": "markdown",
   "metadata": {},
   "source": [
    "Implementation of CalculateRegressionLine() function"
   ]
  },
  {
   "cell_type": "code",
   "execution_count": 17,
   "metadata": {},
   "outputs": [],
   "source": [
    "// Function to calculate the regression line \r\n",
    "// (This function could be substituted by a pre-built Math function from a NuGet such as Math.NET)\r\n",
    "\r\n",
    "public static (double[], double[]) CalculateRegressionLine(float[] actualFares, float[] predictionFares, int totalNumber)\r\n",
    "{   \r\n",
    "    // Regression Line calculation explanation:\r\n",
    "    // https://www.khanacademy.org/math/statistics-probability/describing-relationships-quantitative-data/more-on-regression/v/regression-line-example\r\n",
    "    // Generic function for Y for the regression line\r\n",
    "    // y = (m * x) + b;\r\n",
    "    // Similar code: https://gist.github.com/tansey/1375526 \r\n",
    "\r\n",
    "    double yTotal = 0;\r\n",
    "    double xTotal = 0;\r\n",
    "    double xyMultiTotal = 0;\r\n",
    "    double xSquareTotal = 0;\r\n",
    "\r\n",
    "    for (int i = 0; i < (actualFares.Length); i++)\r\n",
    "    {\r\n",
    "        var x = actualFares[i];\r\n",
    "        var y = predictionFares[i];\r\n",
    "\r\n",
    "        xTotal += x;\r\n",
    "        yTotal += y;\r\n",
    "\r\n",
    "        double multi = x * y;\r\n",
    "        xyMultiTotal += multi;\r\n",
    "\r\n",
    "        double xSquare = x * x;\r\n",
    "        xSquareTotal += xSquare;\r\n",
    "\r\n",
    "        double ySquare = y * y;\r\n",
    "\r\n",
    "        //display($\"-------------------------------------------------\");\r\n",
    "        //display($\"Predicted : {y}\");\r\n",
    "        //display($\"Actual:    {x}\");\r\n",
    "        //display($\"-------------------------------------------------\");\r\n",
    "    }\r\n",
    "\r\n",
    "    double minY = yTotal / totalNumber;\r\n",
    "    double minX = xTotal / totalNumber;\r\n",
    "    double minXY = xyMultiTotal / totalNumber;\r\n",
    "    double minXsquare = xSquareTotal / totalNumber;\r\n",
    "\r\n",
    "    double m = ((minX * minY) - minXY) / ((minX * minX) - minXsquare);\r\n",
    "\r\n",
    "    double b = minY - (m * minX);\r\n",
    "\r\n",
    "    //Generic function for Y for the regression line\r\n",
    "    // y = (m * x) + b;\r\n",
    "\r\n",
    "    // Start x on 0\r\n",
    "    double x1 = 0;\r\n",
    "    //Function for Y1 in the line\r\n",
    "    double y1 = (m * x1) + b;\r\n",
    "\r\n",
    "    // Get the max val of X or Y for our X in the line so the line is long enough for outliers\r\n",
    "    var maxValueForX = Math.Max(actualFares.Max(), predictionFares.Max());\r\n",
    "\r\n",
    "    double x2 = maxValueForX;\r\n",
    "    //Function for Y2 in the line\r\n",
    "    double y2 = (m * x2) + b;\r\n",
    "\r\n",
    "    // Extract/create two simple arrays for the line coordinates\r\n",
    "    var xArray = new double[2];\r\n",
    "    var yArray = new double[2];\r\n",
    "    xArray[0] = x1;\r\n",
    "    yArray[0] = y1;\r\n",
    "    xArray[1] = x2;\r\n",
    "    yArray[1] = y2;\r\n",
    "            \r\n",
    "    return(xArray, yArray);\r\n",
    "}"
   ]
  },
  {
   "cell_type": "markdown",
   "metadata": {},
   "source": [
    "Plotting Regression line and Predictions vs. Actual values"
   ]
  },
  {
   "cell_type": "code",
   "execution_count": 18,
   "metadata": {},
   "outputs": [
    {
     "data": {
      "text/html": "<div id=\"b057eb1c-adaa-4e48-8dde-bc15393f7317\" style=\"width: 700px; height: 600px;\"></div>\r\n<script type=\"text/javascript\">\r\n\r\nvar renderPlotly = function() {\r\n    var xplotRequire = require.config({context:'xplot-3.0.1',paths:{plotly:'https://cdn.plot.ly/plotly-1.49.2.min'}}) || require;\r\n    xplotRequire(['plotly'], function(Plotly) {\r\n\n            var data = [{\"type\":\"scatter\",\"x\":[15.5,10.0,26.5,14.5,9.5,29.5,9.0,7.5,10.5,6.0,10.0,9.0,10.5,10.0,19.0,8.5,12.5,5.0,8.5,13.0,6.5,11.5,10.0,7.0,12.5,3.0,8.0,16.0,13.0,6.0,10.0,7.0,7.0,12.5,7.0,11.5,7.0,14.0,4.5,8.5,7.5,15.5,11.5,6.0,14.5,5.5,5.5,4.5,16.0,3.5,4.5,12.0,11.0,8.0,9.0,7.5,12.5,10.0,8.0,8.5,5.5,11.5,5.0,4.5,8.5,7.5,11.0,22.5,8.5,15.0,4.0,8.5,7.0,6.5,11.5,4.0,10.0,10.0,5.5,8.0,13.0,5.5,7.0,9.5,4.5,4.0,6.0,5.5,7.0,10.5,10.0,9.5,7.5,9.5,5.5,57.0,9.5,12.0,5.0,9.5,18.0,8.0,5.5,11.5,24.0,19.5,9.5,6.5,6.5,6.0,11.5,7.0,13.5,6.5,5.0,8.5,20.0,8.0,13.5,6.5,25.5,6.5,5.5,4.5,12.5,8.0,15.0,19.0,6.0,9.0,5.5,14.5,10.5,5.5,9.5,3.5,7.5,7.5,8.0,4.5,5.0,12.0,7.0,51.5,3.5,9.5,9.0,5.0,9.5,12.5,11.5,8.0,9.0,9.0,10.0,19.5,9.0,7.0,6.0,8.0,10.0,10.0,13.0,5.5,12.5,7.5,5.0,15.0,31.0,18.0,6.0,4.5,32.0,6.5,19.0,14.0,23.5,5.0,13.0,7.0,4.5,11.0,23.0,5.5,5.0,4.5,6.0,6.0,11.0,34.5,6.0,8.0,16.0,9.0,6.0,4.0,9.0,8.5,7.5,4.0,5.0,5.0,5.5,7.0,5.5,8.5,7.0,7.5,8.0,7.5,8.5,7.5,9.5,5.5,7.0,15.5,5.5,8.0,13.0,5.5,12.5,9.5,7.0,5.5,6.5,5.5,19.5,7.5,33.5,19.0,25.0,7.5,9.0,3.5,7.5,11.5,11.5,12.0,17.5,7.5,11.5,8.0,20.5,11.5,9.5,8.5,15.0,3.5,6.0,4.5,6.5,9.0,12.0,5.5,4.0,6.5,7.5,7.5,14.5,9.0,4.5,5.0,7.5,5.0,7.5,5.5,6.0,16.0,8.0,8.5,6.0,15.0,40.0,8.0,15.5,8.0,3.5,13.0,43.0,13.5,11.5,8.0,9.5,9.5,4.5,4.0,6.5,8.5,13.0,6.5,7.0,10.0,6.0,4.5,15.5,4.5,5.5,9.5,11.0,6.0,9.5,3.5,8.5,10.5,52.0,10.0,6.5,9.0,4.5,4.5,9.0,8.0,11.5,3.0,17.0,8.5,11.0,10.5,6.0,7.5,15.5,9.0,8.5,13.0,10.0,7.0,8.5,14.0,4.5,21.5,5.5,8.5,11.5,7.5,5.5,11.0,5.5,18.5,5.5,4.5,8.0,5.5,21.0,6.5,21.0,5.0,13.5,4.5,4.5,8.5,15.0,6.0,20.0,4.5,7.0,9.5,11.0,7.0,12.0,5.5,7.5,9.0,7.0,15.5,8.5,6.0,8.5,7.5,5.0,5.5,5.5,17.0,10.0,6.0,5.0,7.0,11.0,13.0,13.0,7.5,18.5,9.0,9.0,11.0,4.5,6.5,7.0,7.5,11.0,11.5,4.0,7.0,9.5,8.0,4.5,6.5,54.5,10.5,21.5,26.0,6.0,6.0,10.0,23.5,17.5,16.0,11.0,9.5,4.5,6.5,12.0,21.0,25.0,14.5,7.5,5.5,5.0,9.0,8.5,12.5,28.0,14.5,4.5,8.5,10.5,12.5,20.5,8.5,14.5,6.5,8.0,6.5,3.5,22.0,10.0,4.5,20.0,5.5,19.0,29.0,34.5,6.0,8.0,29.5,5.5,4.5,12.0,4.0,5.5,5.0,9.0,21.5,16.0,13.5,13.5,10.0,4.5,7.0,19.5,3.5,8.5,16.0,13.0,17.5,7.5,11.0,13.5,4.5,5.0,5.5,8.0,11.5,34.0,33.5,13.5,11.0,6.0,18.5,7.5,8.0,14.5,20.5,8.0,6.5,8.0,7.5,29.5,9.5,14.0,19.0,8.0,7.0,17.0,11.5,10.5,8.5,19.0,15.0,2.5,15.5],\"y\":[15.739103,10.129275,26.037525,14.348528,9.831174,28.240784,9.418941,7.918211,10.62915,6.5670776,10.036465,8.506833,10.68891,10.225826,19.202557,8.67127,12.950281,5.2925005,8.67127,12.404927,6.685814,11.421976,10.268006,6.9032965,12.291903,3.6700583,8.09812,16.480843,13.054958,6.195154,10.397608,7.365054,6.8979073,12.239403,7.414817,11.691635,7.292017,13.115263,4.5862284,8.186001,7.6182394,15.237579,11.871543,6.263585,13.720139,6.1946106,5.810498,4.8077736,15.292818,3.978157,4.78965,11.808502,11.345963,8.379425,9.023743,7.64097,12.519381,9.93585,7.570346,7.6522923,5.70582,11.357609,4.934638,4.844021,8.657755,7.894699,11.685701,21.42197,8.150297,14.611385,4.2500095,8.635023,6.994458,6.8833027,11.132,4.2816486,9.623688,9.369959,5.8280773,8.284744,12.594069,5.5508366,6.7891665,9.567992,5.0568953,4.118538,6.064227,6.2267942,6.865179,10.411669,9.86742,9.251766,8.081867,9.487371,5.3977213,58.917107,9.287469,12.559691,5.1439924,8.881168,17.982353,8.353719,5.3977213,11.069502,22.71258,18.596355,9.406206,6.752919,6.9436064,6.458337,11.637264,6.8254128,12.983009,6.2173414,5.2971077,8.150297,19.321297,8.307475,13.056829,7.0791416,23.222233,6.426697,5.375535,4.85808,12.730841,8.108116,15.088852,19.265055,6.372326,9.32778,6.067746,13.727722,11.117941,5.5286493,9.335906,3.8875399,7.6726093,7.8362646,7.7737675,4.590292,5.057439,11.717885,6.94415,47.118332,3.9962807,9.694312,9.128422,5.415845,9.794927,11.941844,11.808502,7.638776,9.079984,9.196852,10.619154,18.351078,9.794927,7.6463585,5.321164,8.08593,9.930462,9.877417,13.334938,6.0636826,12.894586,8.049683,5.470215,14.690136,28.482325,17.621754,6.190547,4.481551,31.339577,6.752919,18.744081,14.1908045,22.921936,5.157509,13.085815,7.129449,4.7393436,10.760078,22.595932,5.552162,4.920578,5.020648,6.213278,6.0414963,11.095753,32.43863,6.164297,7.5200386,15.768091,9.690249,6.005249,4.5716248,8.689938,8.796808,8.136237,4.372267,5.2562532,5.5286493,5.071499,7.1107817,5.8140173,8.814933,6.952278,8.073196,7.8000174,7.197879,8.637761,7.4656687,9.903667,5.6649656,7.0510216,15.543809,5.4199085,8.439729,13.031446,5.438032,12.23534,10.097636,6.80729,5.601143,6.8611155,5.4153013,19.410044,7.2563133,30.261944,17.650196,23.552738,7.237646,8.838446,3.8285618,7.356928,11.544777,11.492277,12.1312065,17.748617,7.636363,11.3419,7.7959538,18.87127,11.703825,8.735638,7.9649982,14.998236,4.0822906,5.8240147,4.6400547,6.349596,9.567448,11.977871,5.4012413,4.585685,6.6617575,7.514106,7.72346,14.4464035,9.595568,3.8250418,5.003068,7.618783,5.338743,7.701274,5.5743484,6.0461035,16.480297,8.22631,8.947186,6.3314724,14.732316,38.956726,8.099445,15.483505,7.3528643,3.923787,13.657097,40.77511,13.304625,11.718429,8.5308895,9.500887,9.803053,5.165636,4.3360195,6.557624,8.304737,13.2589245,6.3455315,7.012582,9.843906,6.078287,4.5177975,14.667625,4.499675,5.7596474,9.623688,11.055986,6.0093117,9.990221,3.4928856,8.69752,10.494158,53.340958,10.230434,6.3999023,8.96531,4.930031,4.354143,9.128422,7.5340986,12.0178585,2.9129343,16.220856,8.738375,10.874208,10.530405,5.868932,7.7597065,15.789411,8.794071,8.657211,12.268066,10.525798,7.1616325,8.694001,13.653578,4.7171564,21.15583,5.4883385,8.40809,11.268861,7.8316574,5.8099537,10.915062,5.8326845,18.219826,5.2562532,4.676302,8.085386,5.2749205,19.519651,6.213278,19.951878,5.125325,13.432034,4.445304,4.930031,9.037804,14.600062,6.313349,18.991333,4.386326,7.1107817,8.778685,11.251282,7.0342245,12.015987,5.5648956,7.134838,9.182792,6.94767,15.441001,8.869303,6.1864843,8.59745,7.7678337,5.4199085,5.7561283,5.578412,16.486774,10.349171,6.3033514,5.1615725,6.454817,11.374083,12.882395,12.852081,7.632843,18.02892,8.924999,9.440583,10.664854,4.644663,6.766979,7.0342245,7.5865993,11.337835,11.637264,4.4588203,6.5273104,8.920936,8.08945,4.6405983,6.6980047,57.829704,10.719224,20.527443,24.527122,6.2630405,6.0461035,10.488226,23.368765,17.359898,16.079388,11.092234,9.251766,4.6038084,6.389905,11.9721575,20.056776,23.748356,14.875433,7.3609905,5.65145,5.0568953,9.148414,8.181936,12.551565,25.918243,14.461008,4.6722383,8.482452,10.449242,13.063086,19.15599,8.57659,14.953861,6.462944,8.049139,6.6582384,3.8875399,21.68328,10.117629,4.590292,19.339745,5.5245857,18.42138,26.907127,31.194912,5.9373627,8.15788,26.990265,5.7923746,5.165636,12.125272,4.245946,5.242737,5.1661797,9.102171,21.403627,16.002829,13.439615,13.302754,10.505806,4.9481544,6.8294754,18.766268,4.064167,8.284744,15.5416155,12.964886,17.01555,7.6690893,10.936706,13.1736965,4.445304,5.2018833,5.959549,8.7478285,11.903183,32.11647,30.634954,13.858326,10.915062,5.7420673,18.311314,7.687213,8.041013,14.690136,20.888042,8.21412,6.6839447,8.371298,7.7094,28.811745,9.573381,14.2048645,18.42138,8.027496,7.0932016,16.421864,11.150667,10.268006,8.345592,18.846348,15.183533,2.3732939,14.275709],\"mode\":\"markers\",\"marker\":{\"color\":\"purple\"},\"name\":\"Prediction vs. Actual\"},{\"type\":\"scatter\",\"x\":[0.0,58.91710662841797],\"y\":[0.38940308578401783,56.90677727558882],\"mode\":\"lines\",\"name\":\"Regression Line\"},{\"type\":\"scatter\",\"x\":[0.0,58.917107],\"y\":[0.0,58.917107],\"mode\":\"lines\",\"line\":{\"color\":\"grey\"},\"name\":\"Perfect Regression Line\"}];\n            var layout = {\"showlegend\":true,\"xaxis\":{\"title\":\"Actual Values\",\"_isSubplotObj\":true},\"yaxis\":{\"title\":\"Predicted Values\",\"_isSubplotObj\":true}};\n            Plotly.newPlot('b057eb1c-adaa-4e48-8dde-bc15393f7317', data, layout);\n        \r\n});\r\n};\r\n// ensure `require` is available globally\r\nif ((typeof(require) !==  typeof(Function)) || (typeof(require.config) !== typeof(Function))) {\r\n    let require_script = document.createElement('script');\r\n    require_script.setAttribute('src', 'https://cdnjs.cloudflare.com/ajax/libs/require.js/2.3.6/require.min.js');\r\n    require_script.setAttribute('type', 'text/javascript');\r\n    \r\n    \r\n    require_script.onload = function() {\r\n        renderPlotly();\r\n    };\r\n\r\n    document.getElementsByTagName('head')[0].appendChild(require_script);\r\n}\r\nelse {\r\n    renderPlotly();\r\n}\r\n\r\n</script>\r\n"
     },
     "metadata": {
      "transient": {
       "display_id": "8ceea4c9-bab2-44a4-b698-24b17d280c6c"
      }
     },
     "output_type": "display_data"
    }
   ],
   "source": [
    "using XPlot.Plotly;\r\n",
    "\r\n",
    "// Number of rows to use for Plotting the Regression chart\r\n",
    "int totalNumber  = 500;\r\n",
    "\r\n",
    "float[] actualFares = predictionsDataView.GetColumn<float>(\"FareAmount\").Take(totalNumber).ToArray();\r\n",
    "float[] predictionFares = predictionsDataView.GetColumn<float>(\"Score\").Take(totalNumber).ToArray();\r\n",
    "\r\n",
    "// Display the Best Bit Regression Line \r\n",
    "\r\n",
    "// Define scatter plot grapgh (dots) \r\n",
    "var ActualVsPredictedGraph = new Graph.Scatter()\r\n",
    "{\r\n",
    "    x = actualFares,\r\n",
    "    y = predictionFares,\r\n",
    "    mode = \"markers\",\r\n",
    "    marker = new Graph.Marker() { color = \"purple\"} //\"rgb(142, 124, 195)\"             \r\n",
    "};\r\n",
    "\r\n",
    "// Calculate Regression line\r\n",
    "// Get a touple with the two X and two Y values determining the regression line\r\n",
    "(double[] xArray, double[] yArray) = CalculateRegressionLine(actualFares, predictionFares, totalNumber);\r\n",
    "\r\n",
    "//display(\"Display values defining the regression line\");\r\n",
    "//display(xArray);\r\n",
    "//display(yArray);\r\n",
    "\r\n",
    "// Define grapgh for the line \r\n",
    "var regressionLine = new Graph.Scatter()\r\n",
    "{\r\n",
    "    x = xArray,\r\n",
    "    y = yArray,\r\n",
    "    mode = \"lines\"\r\n",
    "};\r\n",
    "\r\n",
    "\r\n",
    "// 'Perfect' line, 45 degrees (Predicted values equal to actual values)\r\n",
    "var maximumValue = Math.Max(actualFares.Max(), predictionFares.Max());\r\n",
    "\r\n",
    "var perfectLine = new Graph.Scatter()\r\n",
    "{\r\n",
    "    x = new[] {0, maximumValue},\r\n",
    "    y = new[] {0, maximumValue},\r\n",
    "    mode = \"lines\",\r\n",
    "    line = new Graph.Line(){color = \"grey\"}\r\n",
    "};\r\n",
    "//////\r\n",
    "\r\n",
    "// XPlot Charp samples: https://fslab.org/XPlot/chart/plotly-line-scatter-plots.html \r\n",
    "//Display the chart's figures\r\n",
    "var chart = Chart.Plot(new[] {ActualVsPredictedGraph, regressionLine, perfectLine });\r\n",
    "chart.WithXTitle(\"Actual Values\");\r\n",
    "chart.WithYTitle(\"Predicted Values\");\r\n",
    "chart.WithLegend(true);\r\n",
    "chart.WithLabels(new[]{\"Prediction vs. Actual\", \"Regression Line\", \"Perfect Regression Line\"});\r\n",
    "chart.Width = 700;\r\n",
    "chart.Height = 600;\r\n",
    "\r\n",
    "display(chart);"
   ]
  },
  {
   "cell_type": "markdown",
   "metadata": {},
   "source": [
    "Save the ML model as a file"
   ]
  },
  {
   "cell_type": "code",
   "execution_count": 19,
   "metadata": {},
   "outputs": [
    {
     "data": {
      "text/html": "<h1>Saving the ML.NET Model as a file...</h1>"
     },
     "metadata": {
      "transient": {
       "display_id": "63e8f058-6eaf-4590-8986-f40bf8883861"
      }
     },
     "output_type": "display_data"
    },
    {
     "data": {
      "text/html": "<h3>The model was saved to: ./MLRegressionModel.zip</h3>"
     },
     "metadata": {
      "transient": {
       "display_id": "023483e7-f860-4750-acd1-0a2f8ef55c31"
      }
     },
     "output_type": "display_data"
    }
   ],
   "source": [
    "display(h1(\"Saving the ML.NET Model as a file...\"));\r\n",
    "\r\n",
    "string modelFilePath = \"./MLRegressionModel.zip\";\r\n",
    "\r\n",
    "// GetAbsolutePath(modelRelativePath)\r\n",
    "mlContext.Model.Save(trainedModel, trainDataView.Schema, modelFilePath);\r\n",
    "\r\n",
    "display(h3($\"The model was saved to: {modelFilePath}\"));"
   ]
  }
 ],
 "metadata": {
  "kernelspec": {
   "display_name": ".NET (C#)",
   "name": ".net-csharp"
  },
  "language_info": {
   "file_extension": ".cs",
   "mimetype": "text/x-csharp",
   "name": "C#",
   "pygments_lexer": "csharp",
   "version": "8.0"
  },
  "orig_nbformat": 2
 },
 "nbformat": 4,
 "nbformat_minor": 2
}